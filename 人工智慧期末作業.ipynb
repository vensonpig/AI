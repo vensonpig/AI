{
  "cells": [
    {
      "cell_type": "markdown",
      "metadata": {
        "id": "view-in-github",
        "colab_type": "text"
      },
      "source": [
        "<a href=\"https://colab.research.google.com/github/vensonpig/AI/blob/main/%E4%BA%BA%E5%B7%A5%E6%99%BA%E6%85%A7%E6%9C%9F%E6%9C%AB%E4%BD%9C%E6%A5%AD.ipynb\" target=\"_parent\"><img src=\"https://colab.research.google.com/assets/colab-badge.svg\" alt=\"Open In Colab\"/></a>"
      ]
    },
    {
      "cell_type": "code",
      "source": [],
      "metadata": {
        "id": "h3D6r0fWTerr"
      },
      "execution_count": null,
      "outputs": []
    },
    {
      "cell_type": "markdown",
      "source": [
        "# 中文wordnet\n",
        "完整用法：https://github.com/lopentu/CwnGraph\n",
        "\n",
        "- 早期利用字詞表達文章的用法，可以透過查詢wordnet，找出查詢字跟那些字有關係。\n",
        "- wordnet是透過人工的方式，建立起字詞之間的關係\n",
        "- 本範例介紹中文的wordnet，查詢\"頭\"這個字，看有多少跟\"頭\"相關的字詞\n",
        "- 另外介紹英文的wordnet，查詢跟\"dog\"相似的字詞"
      ],
      "metadata": {
        "id": "NLZPCMu0_SMu"
      }
    },
    {
      "cell_type": "markdown",
      "source": [
        "# One-Hot Encoding 獨熱碼\n",
        "- one-hot encoding是用來向量表示字詞的方式，特點是每一個字詞之間皆為正交(orthogonal)\n",
        "- 字詞向量正交，才能排除字詞之間互相影響\n",
        "- one-hot的優點也是缺點，不同詞的向量正交，無法衡量不同詞之間的關係\n",
        "- 只能反映某個詞是否在句中出現，無法衡量詞的重要性\n",
        "- one-hot是高維稀疏矩陣，浪費計算能力與儲存空間\n",
        "- 本範例示範如何把國家表示成one-hot encoding表示法"
      ],
      "metadata": {
        "id": "U7PLMDT0n7EG"
      }
    },
    {
      "cell_type": "code",
      "execution_count": null,
      "metadata": {
        "colab": {
          "base_uri": "https://localhost:8080/",
          "height": 237
        },
        "id": "2ng1UwaCR9kI",
        "outputId": "1012508b-494e-4086-c09f-4d588222abe9"
      },
      "outputs": [
        {
          "output_type": "execute_result",
          "data": {
            "text/plain": [
              "     Country  Age  Salary\n",
              "0     Taiwan   25   20000\n",
              "1  Australia   30   32000\n",
              "2    Ireland   45   59000\n",
              "3  Australia   35   60000\n",
              "4    Ireland   22   43000\n",
              "5     Taiwan   36   52000"
            ],
            "text/html": [
              "\n",
              "  <div id=\"df-99188c3f-a88d-4164-ac2d-d81c8b477912\" class=\"colab-df-container\">\n",
              "    <div>\n",
              "<style scoped>\n",
              "    .dataframe tbody tr th:only-of-type {\n",
              "        vertical-align: middle;\n",
              "    }\n",
              "\n",
              "    .dataframe tbody tr th {\n",
              "        vertical-align: top;\n",
              "    }\n",
              "\n",
              "    .dataframe thead th {\n",
              "        text-align: right;\n",
              "    }\n",
              "</style>\n",
              "<table border=\"1\" class=\"dataframe\">\n",
              "  <thead>\n",
              "    <tr style=\"text-align: right;\">\n",
              "      <th></th>\n",
              "      <th>Country</th>\n",
              "      <th>Age</th>\n",
              "      <th>Salary</th>\n",
              "    </tr>\n",
              "  </thead>\n",
              "  <tbody>\n",
              "    <tr>\n",
              "      <th>0</th>\n",
              "      <td>Taiwan</td>\n",
              "      <td>25</td>\n",
              "      <td>20000</td>\n",
              "    </tr>\n",
              "    <tr>\n",
              "      <th>1</th>\n",
              "      <td>Australia</td>\n",
              "      <td>30</td>\n",
              "      <td>32000</td>\n",
              "    </tr>\n",
              "    <tr>\n",
              "      <th>2</th>\n",
              "      <td>Ireland</td>\n",
              "      <td>45</td>\n",
              "      <td>59000</td>\n",
              "    </tr>\n",
              "    <tr>\n",
              "      <th>3</th>\n",
              "      <td>Australia</td>\n",
              "      <td>35</td>\n",
              "      <td>60000</td>\n",
              "    </tr>\n",
              "    <tr>\n",
              "      <th>4</th>\n",
              "      <td>Ireland</td>\n",
              "      <td>22</td>\n",
              "      <td>43000</td>\n",
              "    </tr>\n",
              "    <tr>\n",
              "      <th>5</th>\n",
              "      <td>Taiwan</td>\n",
              "      <td>36</td>\n",
              "      <td>52000</td>\n",
              "    </tr>\n",
              "  </tbody>\n",
              "</table>\n",
              "</div>\n",
              "    <div class=\"colab-df-buttons\">\n",
              "\n",
              "  <div class=\"colab-df-container\">\n",
              "    <button class=\"colab-df-convert\" onclick=\"convertToInteractive('df-99188c3f-a88d-4164-ac2d-d81c8b477912')\"\n",
              "            title=\"Convert this dataframe to an interactive table.\"\n",
              "            style=\"display:none;\">\n",
              "\n",
              "  <svg xmlns=\"http://www.w3.org/2000/svg\" height=\"24px\" viewBox=\"0 -960 960 960\">\n",
              "    <path d=\"M120-120v-720h720v720H120Zm60-500h600v-160H180v160Zm220 220h160v-160H400v160Zm0 220h160v-160H400v160ZM180-400h160v-160H180v160Zm440 0h160v-160H620v160ZM180-180h160v-160H180v160Zm440 0h160v-160H620v160Z\"/>\n",
              "  </svg>\n",
              "    </button>\n",
              "\n",
              "  <style>\n",
              "    .colab-df-container {\n",
              "      display:flex;\n",
              "      gap: 12px;\n",
              "    }\n",
              "\n",
              "    .colab-df-convert {\n",
              "      background-color: #E8F0FE;\n",
              "      border: none;\n",
              "      border-radius: 50%;\n",
              "      cursor: pointer;\n",
              "      display: none;\n",
              "      fill: #1967D2;\n",
              "      height: 32px;\n",
              "      padding: 0 0 0 0;\n",
              "      width: 32px;\n",
              "    }\n",
              "\n",
              "    .colab-df-convert:hover {\n",
              "      background-color: #E2EBFA;\n",
              "      box-shadow: 0px 1px 2px rgba(60, 64, 67, 0.3), 0px 1px 3px 1px rgba(60, 64, 67, 0.15);\n",
              "      fill: #174EA6;\n",
              "    }\n",
              "\n",
              "    .colab-df-buttons div {\n",
              "      margin-bottom: 4px;\n",
              "    }\n",
              "\n",
              "    [theme=dark] .colab-df-convert {\n",
              "      background-color: #3B4455;\n",
              "      fill: #D2E3FC;\n",
              "    }\n",
              "\n",
              "    [theme=dark] .colab-df-convert:hover {\n",
              "      background-color: #434B5C;\n",
              "      box-shadow: 0px 1px 3px 1px rgba(0, 0, 0, 0.15);\n",
              "      filter: drop-shadow(0px 1px 2px rgba(0, 0, 0, 0.3));\n",
              "      fill: #FFFFFF;\n",
              "    }\n",
              "  </style>\n",
              "\n",
              "    <script>\n",
              "      const buttonEl =\n",
              "        document.querySelector('#df-99188c3f-a88d-4164-ac2d-d81c8b477912 button.colab-df-convert');\n",
              "      buttonEl.style.display =\n",
              "        google.colab.kernel.accessAllowed ? 'block' : 'none';\n",
              "\n",
              "      async function convertToInteractive(key) {\n",
              "        const element = document.querySelector('#df-99188c3f-a88d-4164-ac2d-d81c8b477912');\n",
              "        const dataTable =\n",
              "          await google.colab.kernel.invokeFunction('convertToInteractive',\n",
              "                                                    [key], {});\n",
              "        if (!dataTable) return;\n",
              "\n",
              "        const docLinkHtml = 'Like what you see? Visit the ' +\n",
              "          '<a target=\"_blank\" href=https://colab.research.google.com/notebooks/data_table.ipynb>data table notebook</a>'\n",
              "          + ' to learn more about interactive tables.';\n",
              "        element.innerHTML = '';\n",
              "        dataTable['output_type'] = 'display_data';\n",
              "        await google.colab.output.renderOutput(dataTable, element);\n",
              "        const docLink = document.createElement('div');\n",
              "        docLink.innerHTML = docLinkHtml;\n",
              "        element.appendChild(docLink);\n",
              "      }\n",
              "    </script>\n",
              "  </div>\n",
              "\n",
              "\n",
              "<div id=\"df-9145b5c2-442d-4766-b376-a8f4a745b43c\">\n",
              "  <button class=\"colab-df-quickchart\" onclick=\"quickchart('df-9145b5c2-442d-4766-b376-a8f4a745b43c')\"\n",
              "            title=\"Suggest charts\"\n",
              "            style=\"display:none;\">\n",
              "\n",
              "<svg xmlns=\"http://www.w3.org/2000/svg\" height=\"24px\"viewBox=\"0 0 24 24\"\n",
              "     width=\"24px\">\n",
              "    <g>\n",
              "        <path d=\"M19 3H5c-1.1 0-2 .9-2 2v14c0 1.1.9 2 2 2h14c1.1 0 2-.9 2-2V5c0-1.1-.9-2-2-2zM9 17H7v-7h2v7zm4 0h-2V7h2v10zm4 0h-2v-4h2v4z\"/>\n",
              "    </g>\n",
              "</svg>\n",
              "  </button>\n",
              "\n",
              "<style>\n",
              "  .colab-df-quickchart {\n",
              "      --bg-color: #E8F0FE;\n",
              "      --fill-color: #1967D2;\n",
              "      --hover-bg-color: #E2EBFA;\n",
              "      --hover-fill-color: #174EA6;\n",
              "      --disabled-fill-color: #AAA;\n",
              "      --disabled-bg-color: #DDD;\n",
              "  }\n",
              "\n",
              "  [theme=dark] .colab-df-quickchart {\n",
              "      --bg-color: #3B4455;\n",
              "      --fill-color: #D2E3FC;\n",
              "      --hover-bg-color: #434B5C;\n",
              "      --hover-fill-color: #FFFFFF;\n",
              "      --disabled-bg-color: #3B4455;\n",
              "      --disabled-fill-color: #666;\n",
              "  }\n",
              "\n",
              "  .colab-df-quickchart {\n",
              "    background-color: var(--bg-color);\n",
              "    border: none;\n",
              "    border-radius: 50%;\n",
              "    cursor: pointer;\n",
              "    display: none;\n",
              "    fill: var(--fill-color);\n",
              "    height: 32px;\n",
              "    padding: 0;\n",
              "    width: 32px;\n",
              "  }\n",
              "\n",
              "  .colab-df-quickchart:hover {\n",
              "    background-color: var(--hover-bg-color);\n",
              "    box-shadow: 0 1px 2px rgba(60, 64, 67, 0.3), 0 1px 3px 1px rgba(60, 64, 67, 0.15);\n",
              "    fill: var(--button-hover-fill-color);\n",
              "  }\n",
              "\n",
              "  .colab-df-quickchart-complete:disabled,\n",
              "  .colab-df-quickchart-complete:disabled:hover {\n",
              "    background-color: var(--disabled-bg-color);\n",
              "    fill: var(--disabled-fill-color);\n",
              "    box-shadow: none;\n",
              "  }\n",
              "\n",
              "  .colab-df-spinner {\n",
              "    border: 2px solid var(--fill-color);\n",
              "    border-color: transparent;\n",
              "    border-bottom-color: var(--fill-color);\n",
              "    animation:\n",
              "      spin 1s steps(1) infinite;\n",
              "  }\n",
              "\n",
              "  @keyframes spin {\n",
              "    0% {\n",
              "      border-color: transparent;\n",
              "      border-bottom-color: var(--fill-color);\n",
              "      border-left-color: var(--fill-color);\n",
              "    }\n",
              "    20% {\n",
              "      border-color: transparent;\n",
              "      border-left-color: var(--fill-color);\n",
              "      border-top-color: var(--fill-color);\n",
              "    }\n",
              "    30% {\n",
              "      border-color: transparent;\n",
              "      border-left-color: var(--fill-color);\n",
              "      border-top-color: var(--fill-color);\n",
              "      border-right-color: var(--fill-color);\n",
              "    }\n",
              "    40% {\n",
              "      border-color: transparent;\n",
              "      border-right-color: var(--fill-color);\n",
              "      border-top-color: var(--fill-color);\n",
              "    }\n",
              "    60% {\n",
              "      border-color: transparent;\n",
              "      border-right-color: var(--fill-color);\n",
              "    }\n",
              "    80% {\n",
              "      border-color: transparent;\n",
              "      border-right-color: var(--fill-color);\n",
              "      border-bottom-color: var(--fill-color);\n",
              "    }\n",
              "    90% {\n",
              "      border-color: transparent;\n",
              "      border-bottom-color: var(--fill-color);\n",
              "    }\n",
              "  }\n",
              "</style>\n",
              "\n",
              "  <script>\n",
              "    async function quickchart(key) {\n",
              "      const quickchartButtonEl =\n",
              "        document.querySelector('#' + key + ' button');\n",
              "      quickchartButtonEl.disabled = true;  // To prevent multiple clicks.\n",
              "      quickchartButtonEl.classList.add('colab-df-spinner');\n",
              "      try {\n",
              "        const charts = await google.colab.kernel.invokeFunction(\n",
              "            'suggestCharts', [key], {});\n",
              "      } catch (error) {\n",
              "        console.error('Error during call to suggestCharts:', error);\n",
              "      }\n",
              "      quickchartButtonEl.classList.remove('colab-df-spinner');\n",
              "      quickchartButtonEl.classList.add('colab-df-quickchart-complete');\n",
              "    }\n",
              "    (() => {\n",
              "      let quickchartButtonEl =\n",
              "        document.querySelector('#df-9145b5c2-442d-4766-b376-a8f4a745b43c button');\n",
              "      quickchartButtonEl.style.display =\n",
              "        google.colab.kernel.accessAllowed ? 'block' : 'none';\n",
              "    })();\n",
              "  </script>\n",
              "</div>\n",
              "\n",
              "  <div id=\"id_2d9d970d-6aeb-4f7b-a500-05038bf8ef17\">\n",
              "    <style>\n",
              "      .colab-df-generate {\n",
              "        background-color: #E8F0FE;\n",
              "        border: none;\n",
              "        border-radius: 50%;\n",
              "        cursor: pointer;\n",
              "        display: none;\n",
              "        fill: #1967D2;\n",
              "        height: 32px;\n",
              "        padding: 0 0 0 0;\n",
              "        width: 32px;\n",
              "      }\n",
              "\n",
              "      .colab-df-generate:hover {\n",
              "        background-color: #E2EBFA;\n",
              "        box-shadow: 0px 1px 2px rgba(60, 64, 67, 0.3), 0px 1px 3px 1px rgba(60, 64, 67, 0.15);\n",
              "        fill: #174EA6;\n",
              "      }\n",
              "\n",
              "      [theme=dark] .colab-df-generate {\n",
              "        background-color: #3B4455;\n",
              "        fill: #D2E3FC;\n",
              "      }\n",
              "\n",
              "      [theme=dark] .colab-df-generate:hover {\n",
              "        background-color: #434B5C;\n",
              "        box-shadow: 0px 1px 3px 1px rgba(0, 0, 0, 0.15);\n",
              "        filter: drop-shadow(0px 1px 2px rgba(0, 0, 0, 0.3));\n",
              "        fill: #FFFFFF;\n",
              "      }\n",
              "    </style>\n",
              "    <button class=\"colab-df-generate\" onclick=\"generateWithVariable('data')\"\n",
              "            title=\"Generate code using this dataframe.\"\n",
              "            style=\"display:none;\">\n",
              "\n",
              "  <svg xmlns=\"http://www.w3.org/2000/svg\" height=\"24px\"viewBox=\"0 0 24 24\"\n",
              "       width=\"24px\">\n",
              "    <path d=\"M7,19H8.4L18.45,9,17,7.55,7,17.6ZM5,21V16.75L18.45,3.32a2,2,0,0,1,2.83,0l1.4,1.43a1.91,1.91,0,0,1,.58,1.4,1.91,1.91,0,0,1-.58,1.4L9.25,21ZM18.45,9,17,7.55Zm-12,3A5.31,5.31,0,0,0,4.9,8.1,5.31,5.31,0,0,0,1,6.5,5.31,5.31,0,0,0,4.9,4.9,5.31,5.31,0,0,0,6.5,1,5.31,5.31,0,0,0,8.1,4.9,5.31,5.31,0,0,0,12,6.5,5.46,5.46,0,0,0,6.5,12Z\"/>\n",
              "  </svg>\n",
              "    </button>\n",
              "    <script>\n",
              "      (() => {\n",
              "      const buttonEl =\n",
              "        document.querySelector('#id_2d9d970d-6aeb-4f7b-a500-05038bf8ef17 button.colab-df-generate');\n",
              "      buttonEl.style.display =\n",
              "        google.colab.kernel.accessAllowed ? 'block' : 'none';\n",
              "\n",
              "      buttonEl.onclick = () => {\n",
              "        google.colab.notebook.generateWithVariable('data');\n",
              "      }\n",
              "      })();\n",
              "    </script>\n",
              "  </div>\n",
              "\n",
              "    </div>\n",
              "  </div>\n"
            ]
          },
          "metadata": {},
          "execution_count": 1
        }
      ],
      "source": [
        "import numpy as np\n",
        "import pandas as pd\n",
        "country=['Taiwan','Australia','Ireland','Australia','Ireland','Taiwan']\n",
        "age=[25,30,45,35,22,36]\n",
        "salary=[20000,32000,59000,60000,43000,52000]\n",
        "dic={'Country':country,'Age':age,'Salary':salary}\n",
        "data=pd.DataFrame(dic)\n",
        "data"
      ]
    },
    {
      "cell_type": "markdown",
      "metadata": {
        "id": "ufHPlpMMR9kK"
      },
      "source": [
        "## Label encoding\n",
        "利用LabelEcoder函數，將Country欄位進行Label encoding編碼<br>\n",
        "Australia：0<br>\n",
        "Ireland：1<br>\n",
        "Taiwan：2<br>"
      ]
    },
    {
      "cell_type": "code",
      "execution_count": null,
      "metadata": {
        "colab": {
          "base_uri": "https://localhost:8080/",
          "height": 237
        },
        "id": "lNPuLh_dR9kL",
        "outputId": "0fec4def-0265-412c-ee89-809aca07d154"
      },
      "outputs": [
        {
          "output_type": "execute_result",
          "data": {
            "text/plain": [
              "   Country  Age  Salary\n",
              "0        2   25   20000\n",
              "1        0   30   32000\n",
              "2        1   45   59000\n",
              "3        0   35   60000\n",
              "4        1   22   43000\n",
              "5        2   36   52000"
            ],
            "text/html": [
              "\n",
              "  <div id=\"df-e16c4629-b319-402c-9e09-aa6d96f2de8e\" class=\"colab-df-container\">\n",
              "    <div>\n",
              "<style scoped>\n",
              "    .dataframe tbody tr th:only-of-type {\n",
              "        vertical-align: middle;\n",
              "    }\n",
              "\n",
              "    .dataframe tbody tr th {\n",
              "        vertical-align: top;\n",
              "    }\n",
              "\n",
              "    .dataframe thead th {\n",
              "        text-align: right;\n",
              "    }\n",
              "</style>\n",
              "<table border=\"1\" class=\"dataframe\">\n",
              "  <thead>\n",
              "    <tr style=\"text-align: right;\">\n",
              "      <th></th>\n",
              "      <th>Country</th>\n",
              "      <th>Age</th>\n",
              "      <th>Salary</th>\n",
              "    </tr>\n",
              "  </thead>\n",
              "  <tbody>\n",
              "    <tr>\n",
              "      <th>0</th>\n",
              "      <td>2</td>\n",
              "      <td>25</td>\n",
              "      <td>20000</td>\n",
              "    </tr>\n",
              "    <tr>\n",
              "      <th>1</th>\n",
              "      <td>0</td>\n",
              "      <td>30</td>\n",
              "      <td>32000</td>\n",
              "    </tr>\n",
              "    <tr>\n",
              "      <th>2</th>\n",
              "      <td>1</td>\n",
              "      <td>45</td>\n",
              "      <td>59000</td>\n",
              "    </tr>\n",
              "    <tr>\n",
              "      <th>3</th>\n",
              "      <td>0</td>\n",
              "      <td>35</td>\n",
              "      <td>60000</td>\n",
              "    </tr>\n",
              "    <tr>\n",
              "      <th>4</th>\n",
              "      <td>1</td>\n",
              "      <td>22</td>\n",
              "      <td>43000</td>\n",
              "    </tr>\n",
              "    <tr>\n",
              "      <th>5</th>\n",
              "      <td>2</td>\n",
              "      <td>36</td>\n",
              "      <td>52000</td>\n",
              "    </tr>\n",
              "  </tbody>\n",
              "</table>\n",
              "</div>\n",
              "    <div class=\"colab-df-buttons\">\n",
              "\n",
              "  <div class=\"colab-df-container\">\n",
              "    <button class=\"colab-df-convert\" onclick=\"convertToInteractive('df-e16c4629-b319-402c-9e09-aa6d96f2de8e')\"\n",
              "            title=\"Convert this dataframe to an interactive table.\"\n",
              "            style=\"display:none;\">\n",
              "\n",
              "  <svg xmlns=\"http://www.w3.org/2000/svg\" height=\"24px\" viewBox=\"0 -960 960 960\">\n",
              "    <path d=\"M120-120v-720h720v720H120Zm60-500h600v-160H180v160Zm220 220h160v-160H400v160Zm0 220h160v-160H400v160ZM180-400h160v-160H180v160Zm440 0h160v-160H620v160ZM180-180h160v-160H180v160Zm440 0h160v-160H620v160Z\"/>\n",
              "  </svg>\n",
              "    </button>\n",
              "\n",
              "  <style>\n",
              "    .colab-df-container {\n",
              "      display:flex;\n",
              "      gap: 12px;\n",
              "    }\n",
              "\n",
              "    .colab-df-convert {\n",
              "      background-color: #E8F0FE;\n",
              "      border: none;\n",
              "      border-radius: 50%;\n",
              "      cursor: pointer;\n",
              "      display: none;\n",
              "      fill: #1967D2;\n",
              "      height: 32px;\n",
              "      padding: 0 0 0 0;\n",
              "      width: 32px;\n",
              "    }\n",
              "\n",
              "    .colab-df-convert:hover {\n",
              "      background-color: #E2EBFA;\n",
              "      box-shadow: 0px 1px 2px rgba(60, 64, 67, 0.3), 0px 1px 3px 1px rgba(60, 64, 67, 0.15);\n",
              "      fill: #174EA6;\n",
              "    }\n",
              "\n",
              "    .colab-df-buttons div {\n",
              "      margin-bottom: 4px;\n",
              "    }\n",
              "\n",
              "    [theme=dark] .colab-df-convert {\n",
              "      background-color: #3B4455;\n",
              "      fill: #D2E3FC;\n",
              "    }\n",
              "\n",
              "    [theme=dark] .colab-df-convert:hover {\n",
              "      background-color: #434B5C;\n",
              "      box-shadow: 0px 1px 3px 1px rgba(0, 0, 0, 0.15);\n",
              "      filter: drop-shadow(0px 1px 2px rgba(0, 0, 0, 0.3));\n",
              "      fill: #FFFFFF;\n",
              "    }\n",
              "  </style>\n",
              "\n",
              "    <script>\n",
              "      const buttonEl =\n",
              "        document.querySelector('#df-e16c4629-b319-402c-9e09-aa6d96f2de8e button.colab-df-convert');\n",
              "      buttonEl.style.display =\n",
              "        google.colab.kernel.accessAllowed ? 'block' : 'none';\n",
              "\n",
              "      async function convertToInteractive(key) {\n",
              "        const element = document.querySelector('#df-e16c4629-b319-402c-9e09-aa6d96f2de8e');\n",
              "        const dataTable =\n",
              "          await google.colab.kernel.invokeFunction('convertToInteractive',\n",
              "                                                    [key], {});\n",
              "        if (!dataTable) return;\n",
              "\n",
              "        const docLinkHtml = 'Like what you see? Visit the ' +\n",
              "          '<a target=\"_blank\" href=https://colab.research.google.com/notebooks/data_table.ipynb>data table notebook</a>'\n",
              "          + ' to learn more about interactive tables.';\n",
              "        element.innerHTML = '';\n",
              "        dataTable['output_type'] = 'display_data';\n",
              "        await google.colab.output.renderOutput(dataTable, element);\n",
              "        const docLink = document.createElement('div');\n",
              "        docLink.innerHTML = docLinkHtml;\n",
              "        element.appendChild(docLink);\n",
              "      }\n",
              "    </script>\n",
              "  </div>\n",
              "\n",
              "\n",
              "<div id=\"df-63b5d372-c1f2-41b1-bf1d-2bf87ca5fe46\">\n",
              "  <button class=\"colab-df-quickchart\" onclick=\"quickchart('df-63b5d372-c1f2-41b1-bf1d-2bf87ca5fe46')\"\n",
              "            title=\"Suggest charts\"\n",
              "            style=\"display:none;\">\n",
              "\n",
              "<svg xmlns=\"http://www.w3.org/2000/svg\" height=\"24px\"viewBox=\"0 0 24 24\"\n",
              "     width=\"24px\">\n",
              "    <g>\n",
              "        <path d=\"M19 3H5c-1.1 0-2 .9-2 2v14c0 1.1.9 2 2 2h14c1.1 0 2-.9 2-2V5c0-1.1-.9-2-2-2zM9 17H7v-7h2v7zm4 0h-2V7h2v10zm4 0h-2v-4h2v4z\"/>\n",
              "    </g>\n",
              "</svg>\n",
              "  </button>\n",
              "\n",
              "<style>\n",
              "  .colab-df-quickchart {\n",
              "      --bg-color: #E8F0FE;\n",
              "      --fill-color: #1967D2;\n",
              "      --hover-bg-color: #E2EBFA;\n",
              "      --hover-fill-color: #174EA6;\n",
              "      --disabled-fill-color: #AAA;\n",
              "      --disabled-bg-color: #DDD;\n",
              "  }\n",
              "\n",
              "  [theme=dark] .colab-df-quickchart {\n",
              "      --bg-color: #3B4455;\n",
              "      --fill-color: #D2E3FC;\n",
              "      --hover-bg-color: #434B5C;\n",
              "      --hover-fill-color: #FFFFFF;\n",
              "      --disabled-bg-color: #3B4455;\n",
              "      --disabled-fill-color: #666;\n",
              "  }\n",
              "\n",
              "  .colab-df-quickchart {\n",
              "    background-color: var(--bg-color);\n",
              "    border: none;\n",
              "    border-radius: 50%;\n",
              "    cursor: pointer;\n",
              "    display: none;\n",
              "    fill: var(--fill-color);\n",
              "    height: 32px;\n",
              "    padding: 0;\n",
              "    width: 32px;\n",
              "  }\n",
              "\n",
              "  .colab-df-quickchart:hover {\n",
              "    background-color: var(--hover-bg-color);\n",
              "    box-shadow: 0 1px 2px rgba(60, 64, 67, 0.3), 0 1px 3px 1px rgba(60, 64, 67, 0.15);\n",
              "    fill: var(--button-hover-fill-color);\n",
              "  }\n",
              "\n",
              "  .colab-df-quickchart-complete:disabled,\n",
              "  .colab-df-quickchart-complete:disabled:hover {\n",
              "    background-color: var(--disabled-bg-color);\n",
              "    fill: var(--disabled-fill-color);\n",
              "    box-shadow: none;\n",
              "  }\n",
              "\n",
              "  .colab-df-spinner {\n",
              "    border: 2px solid var(--fill-color);\n",
              "    border-color: transparent;\n",
              "    border-bottom-color: var(--fill-color);\n",
              "    animation:\n",
              "      spin 1s steps(1) infinite;\n",
              "  }\n",
              "\n",
              "  @keyframes spin {\n",
              "    0% {\n",
              "      border-color: transparent;\n",
              "      border-bottom-color: var(--fill-color);\n",
              "      border-left-color: var(--fill-color);\n",
              "    }\n",
              "    20% {\n",
              "      border-color: transparent;\n",
              "      border-left-color: var(--fill-color);\n",
              "      border-top-color: var(--fill-color);\n",
              "    }\n",
              "    30% {\n",
              "      border-color: transparent;\n",
              "      border-left-color: var(--fill-color);\n",
              "      border-top-color: var(--fill-color);\n",
              "      border-right-color: var(--fill-color);\n",
              "    }\n",
              "    40% {\n",
              "      border-color: transparent;\n",
              "      border-right-color: var(--fill-color);\n",
              "      border-top-color: var(--fill-color);\n",
              "    }\n",
              "    60% {\n",
              "      border-color: transparent;\n",
              "      border-right-color: var(--fill-color);\n",
              "    }\n",
              "    80% {\n",
              "      border-color: transparent;\n",
              "      border-right-color: var(--fill-color);\n",
              "      border-bottom-color: var(--fill-color);\n",
              "    }\n",
              "    90% {\n",
              "      border-color: transparent;\n",
              "      border-bottom-color: var(--fill-color);\n",
              "    }\n",
              "  }\n",
              "</style>\n",
              "\n",
              "  <script>\n",
              "    async function quickchart(key) {\n",
              "      const quickchartButtonEl =\n",
              "        document.querySelector('#' + key + ' button');\n",
              "      quickchartButtonEl.disabled = true;  // To prevent multiple clicks.\n",
              "      quickchartButtonEl.classList.add('colab-df-spinner');\n",
              "      try {\n",
              "        const charts = await google.colab.kernel.invokeFunction(\n",
              "            'suggestCharts', [key], {});\n",
              "      } catch (error) {\n",
              "        console.error('Error during call to suggestCharts:', error);\n",
              "      }\n",
              "      quickchartButtonEl.classList.remove('colab-df-spinner');\n",
              "      quickchartButtonEl.classList.add('colab-df-quickchart-complete');\n",
              "    }\n",
              "    (() => {\n",
              "      let quickchartButtonEl =\n",
              "        document.querySelector('#df-63b5d372-c1f2-41b1-bf1d-2bf87ca5fe46 button');\n",
              "      quickchartButtonEl.style.display =\n",
              "        google.colab.kernel.accessAllowed ? 'block' : 'none';\n",
              "    })();\n",
              "  </script>\n",
              "</div>\n",
              "\n",
              "  <div id=\"id_361a03d0-514c-415b-baf2-bc0b12e48b88\">\n",
              "    <style>\n",
              "      .colab-df-generate {\n",
              "        background-color: #E8F0FE;\n",
              "        border: none;\n",
              "        border-radius: 50%;\n",
              "        cursor: pointer;\n",
              "        display: none;\n",
              "        fill: #1967D2;\n",
              "        height: 32px;\n",
              "        padding: 0 0 0 0;\n",
              "        width: 32px;\n",
              "      }\n",
              "\n",
              "      .colab-df-generate:hover {\n",
              "        background-color: #E2EBFA;\n",
              "        box-shadow: 0px 1px 2px rgba(60, 64, 67, 0.3), 0px 1px 3px 1px rgba(60, 64, 67, 0.15);\n",
              "        fill: #174EA6;\n",
              "      }\n",
              "\n",
              "      [theme=dark] .colab-df-generate {\n",
              "        background-color: #3B4455;\n",
              "        fill: #D2E3FC;\n",
              "      }\n",
              "\n",
              "      [theme=dark] .colab-df-generate:hover {\n",
              "        background-color: #434B5C;\n",
              "        box-shadow: 0px 1px 3px 1px rgba(0, 0, 0, 0.15);\n",
              "        filter: drop-shadow(0px 1px 2px rgba(0, 0, 0, 0.3));\n",
              "        fill: #FFFFFF;\n",
              "      }\n",
              "    </style>\n",
              "    <button class=\"colab-df-generate\" onclick=\"generateWithVariable('data_le')\"\n",
              "            title=\"Generate code using this dataframe.\"\n",
              "            style=\"display:none;\">\n",
              "\n",
              "  <svg xmlns=\"http://www.w3.org/2000/svg\" height=\"24px\"viewBox=\"0 0 24 24\"\n",
              "       width=\"24px\">\n",
              "    <path d=\"M7,19H8.4L18.45,9,17,7.55,7,17.6ZM5,21V16.75L18.45,3.32a2,2,0,0,1,2.83,0l1.4,1.43a1.91,1.91,0,0,1,.58,1.4,1.91,1.91,0,0,1-.58,1.4L9.25,21ZM18.45,9,17,7.55Zm-12,3A5.31,5.31,0,0,0,4.9,8.1,5.31,5.31,0,0,0,1,6.5,5.31,5.31,0,0,0,4.9,4.9,5.31,5.31,0,0,0,6.5,1,5.31,5.31,0,0,0,8.1,4.9,5.31,5.31,0,0,0,12,6.5,5.46,5.46,0,0,0,6.5,12Z\"/>\n",
              "  </svg>\n",
              "    </button>\n",
              "    <script>\n",
              "      (() => {\n",
              "      const buttonEl =\n",
              "        document.querySelector('#id_361a03d0-514c-415b-baf2-bc0b12e48b88 button.colab-df-generate');\n",
              "      buttonEl.style.display =\n",
              "        google.colab.kernel.accessAllowed ? 'block' : 'none';\n",
              "\n",
              "      buttonEl.onclick = () => {\n",
              "        google.colab.notebook.generateWithVariable('data_le');\n",
              "      }\n",
              "      })();\n",
              "    </script>\n",
              "  </div>\n",
              "\n",
              "    </div>\n",
              "  </div>\n"
            ]
          },
          "metadata": {},
          "execution_count": 2
        }
      ],
      "source": [
        "from sklearn.preprocessing import LabelEncoder\n",
        "labelencoder = LabelEncoder()\n",
        "data_le=pd.DataFrame(dic)\n",
        "data_le['Country'] = labelencoder.fit_transform(data['Country'])\n",
        "data_le"
      ]
    },
    {
      "cell_type": "markdown",
      "metadata": {
        "id": "2xBLFsXGR9kL"
      },
      "source": [
        "## One hot encoding\n",
        "利用OneHotEcoder函數，將Country欄位進行Ont-Hot encoding編碼\n",
        "<table><tr><td>Australia(0)</td><td>Ireland(1)</td><td>Taiwan(2)</td></tr></table>"
      ]
    },
    {
      "cell_type": "code",
      "execution_count": null,
      "metadata": {
        "colab": {
          "base_uri": "https://localhost:8080/",
          "height": 238
        },
        "id": "avj_m-NyR9kM",
        "outputId": "a281653c-fc27-40bf-e5b1-b9f99533676a"
      },
      "outputs": [
        {
          "output_type": "execute_result",
          "data": {
            "text/plain": [
              "     0    1    2     3        4\n",
              "0  0.0  0.0  1.0  25.0  20000.0\n",
              "1  1.0  0.0  0.0  30.0  32000.0\n",
              "2  0.0  1.0  0.0  45.0  59000.0\n",
              "3  1.0  0.0  0.0  35.0  60000.0\n",
              "4  0.0  1.0  0.0  22.0  43000.0\n",
              "5  0.0  0.0  1.0  36.0  52000.0"
            ],
            "text/html": [
              "\n",
              "  <div id=\"df-8808b2e4-18c1-4e23-879d-ff624852108e\">\n",
              "    <div class=\"colab-df-container\">\n",
              "      <div>\n",
              "<style scoped>\n",
              "    .dataframe tbody tr th:only-of-type {\n",
              "        vertical-align: middle;\n",
              "    }\n",
              "\n",
              "    .dataframe tbody tr th {\n",
              "        vertical-align: top;\n",
              "    }\n",
              "\n",
              "    .dataframe thead th {\n",
              "        text-align: right;\n",
              "    }\n",
              "</style>\n",
              "<table border=\"1\" class=\"dataframe\">\n",
              "  <thead>\n",
              "    <tr style=\"text-align: right;\">\n",
              "      <th></th>\n",
              "      <th>0</th>\n",
              "      <th>1</th>\n",
              "      <th>2</th>\n",
              "      <th>3</th>\n",
              "      <th>4</th>\n",
              "    </tr>\n",
              "  </thead>\n",
              "  <tbody>\n",
              "    <tr>\n",
              "      <th>0</th>\n",
              "      <td>0.0</td>\n",
              "      <td>0.0</td>\n",
              "      <td>1.0</td>\n",
              "      <td>25.0</td>\n",
              "      <td>20000.0</td>\n",
              "    </tr>\n",
              "    <tr>\n",
              "      <th>1</th>\n",
              "      <td>1.0</td>\n",
              "      <td>0.0</td>\n",
              "      <td>0.0</td>\n",
              "      <td>30.0</td>\n",
              "      <td>32000.0</td>\n",
              "    </tr>\n",
              "    <tr>\n",
              "      <th>2</th>\n",
              "      <td>0.0</td>\n",
              "      <td>1.0</td>\n",
              "      <td>0.0</td>\n",
              "      <td>45.0</td>\n",
              "      <td>59000.0</td>\n",
              "    </tr>\n",
              "    <tr>\n",
              "      <th>3</th>\n",
              "      <td>1.0</td>\n",
              "      <td>0.0</td>\n",
              "      <td>0.0</td>\n",
              "      <td>35.0</td>\n",
              "      <td>60000.0</td>\n",
              "    </tr>\n",
              "    <tr>\n",
              "      <th>4</th>\n",
              "      <td>0.0</td>\n",
              "      <td>1.0</td>\n",
              "      <td>0.0</td>\n",
              "      <td>22.0</td>\n",
              "      <td>43000.0</td>\n",
              "    </tr>\n",
              "    <tr>\n",
              "      <th>5</th>\n",
              "      <td>0.0</td>\n",
              "      <td>0.0</td>\n",
              "      <td>1.0</td>\n",
              "      <td>36.0</td>\n",
              "      <td>52000.0</td>\n",
              "    </tr>\n",
              "  </tbody>\n",
              "</table>\n",
              "</div>\n",
              "      <button class=\"colab-df-convert\" onclick=\"convertToInteractive('df-8808b2e4-18c1-4e23-879d-ff624852108e')\"\n",
              "              title=\"Convert this dataframe to an interactive table.\"\n",
              "              style=\"display:none;\">\n",
              "        \n",
              "  <svg xmlns=\"http://www.w3.org/2000/svg\" height=\"24px\"viewBox=\"0 0 24 24\"\n",
              "       width=\"24px\">\n",
              "    <path d=\"M0 0h24v24H0V0z\" fill=\"none\"/>\n",
              "    <path d=\"M18.56 5.44l.94 2.06.94-2.06 2.06-.94-2.06-.94-.94-2.06-.94 2.06-2.06.94zm-11 1L8.5 8.5l.94-2.06 2.06-.94-2.06-.94L8.5 2.5l-.94 2.06-2.06.94zm10 10l.94 2.06.94-2.06 2.06-.94-2.06-.94-.94-2.06-.94 2.06-2.06.94z\"/><path d=\"M17.41 7.96l-1.37-1.37c-.4-.4-.92-.59-1.43-.59-.52 0-1.04.2-1.43.59L10.3 9.45l-7.72 7.72c-.78.78-.78 2.05 0 2.83L4 21.41c.39.39.9.59 1.41.59.51 0 1.02-.2 1.41-.59l7.78-7.78 2.81-2.81c.8-.78.8-2.07 0-2.86zM5.41 20L4 18.59l7.72-7.72 1.47 1.35L5.41 20z\"/>\n",
              "  </svg>\n",
              "      </button>\n",
              "      \n",
              "  <style>\n",
              "    .colab-df-container {\n",
              "      display:flex;\n",
              "      flex-wrap:wrap;\n",
              "      gap: 12px;\n",
              "    }\n",
              "\n",
              "    .colab-df-convert {\n",
              "      background-color: #E8F0FE;\n",
              "      border: none;\n",
              "      border-radius: 50%;\n",
              "      cursor: pointer;\n",
              "      display: none;\n",
              "      fill: #1967D2;\n",
              "      height: 32px;\n",
              "      padding: 0 0 0 0;\n",
              "      width: 32px;\n",
              "    }\n",
              "\n",
              "    .colab-df-convert:hover {\n",
              "      background-color: #E2EBFA;\n",
              "      box-shadow: 0px 1px 2px rgba(60, 64, 67, 0.3), 0px 1px 3px 1px rgba(60, 64, 67, 0.15);\n",
              "      fill: #174EA6;\n",
              "    }\n",
              "\n",
              "    [theme=dark] .colab-df-convert {\n",
              "      background-color: #3B4455;\n",
              "      fill: #D2E3FC;\n",
              "    }\n",
              "\n",
              "    [theme=dark] .colab-df-convert:hover {\n",
              "      background-color: #434B5C;\n",
              "      box-shadow: 0px 1px 3px 1px rgba(0, 0, 0, 0.15);\n",
              "      filter: drop-shadow(0px 1px 2px rgba(0, 0, 0, 0.3));\n",
              "      fill: #FFFFFF;\n",
              "    }\n",
              "  </style>\n",
              "\n",
              "      <script>\n",
              "        const buttonEl =\n",
              "          document.querySelector('#df-8808b2e4-18c1-4e23-879d-ff624852108e button.colab-df-convert');\n",
              "        buttonEl.style.display =\n",
              "          google.colab.kernel.accessAllowed ? 'block' : 'none';\n",
              "\n",
              "        async function convertToInteractive(key) {\n",
              "          const element = document.querySelector('#df-8808b2e4-18c1-4e23-879d-ff624852108e');\n",
              "          const dataTable =\n",
              "            await google.colab.kernel.invokeFunction('convertToInteractive',\n",
              "                                                     [key], {});\n",
              "          if (!dataTable) return;\n",
              "\n",
              "          const docLinkHtml = 'Like what you see? Visit the ' +\n",
              "            '<a target=\"_blank\" href=https://colab.research.google.com/notebooks/data_table.ipynb>data table notebook</a>'\n",
              "            + ' to learn more about interactive tables.';\n",
              "          element.innerHTML = '';\n",
              "          dataTable['output_type'] = 'display_data';\n",
              "          await google.colab.output.renderOutput(dataTable, element);\n",
              "          const docLink = document.createElement('div');\n",
              "          docLink.innerHTML = docLinkHtml;\n",
              "          element.appendChild(docLink);\n",
              "        }\n",
              "      </script>\n",
              "    </div>\n",
              "  </div>\n",
              "  "
            ]
          },
          "metadata": {},
          "execution_count": 3
        }
      ],
      "source": [
        "from sklearn.preprocessing import OneHotEncoder\n",
        "from sklearn.compose import ColumnTransformer\n",
        "ct = ColumnTransformer([(\"Country\", OneHotEncoder(), [0])], remainder = 'passthrough')\n",
        "data_str_ohe=ct.fit_transform(data_le)\n",
        "pd.DataFrame(data_str_ohe)"
      ]
    },
    {
      "cell_type": "markdown",
      "metadata": {
        "id": "PpRIYvp6R9kM"
      },
      "source": [
        "## Pandas.get_dummies"
      ]
    },
    {
      "cell_type": "code",
      "execution_count": null,
      "metadata": {
        "colab": {
          "base_uri": "https://localhost:8080/",
          "height": 238
        },
        "id": "Z1zdxcUAR9kM",
        "outputId": "51dc2216-332e-4722-ce3e-2a7d885e87cf"
      },
      "outputs": [
        {
          "output_type": "execute_result",
          "data": {
            "text/plain": [
              "   Age  Salary  Country_Australia  Country_Ireland  Country_Taiwan\n",
              "0   25   20000                  0                0               1\n",
              "1   30   32000                  1                0               0\n",
              "2   45   59000                  0                1               0\n",
              "3   35   60000                  1                0               0\n",
              "4   22   43000                  0                1               0\n",
              "5   36   52000                  0                0               1"
            ],
            "text/html": [
              "\n",
              "  <div id=\"df-f5ae2aee-8c57-426e-9662-e86ceb17d9f0\">\n",
              "    <div class=\"colab-df-container\">\n",
              "      <div>\n",
              "<style scoped>\n",
              "    .dataframe tbody tr th:only-of-type {\n",
              "        vertical-align: middle;\n",
              "    }\n",
              "\n",
              "    .dataframe tbody tr th {\n",
              "        vertical-align: top;\n",
              "    }\n",
              "\n",
              "    .dataframe thead th {\n",
              "        text-align: right;\n",
              "    }\n",
              "</style>\n",
              "<table border=\"1\" class=\"dataframe\">\n",
              "  <thead>\n",
              "    <tr style=\"text-align: right;\">\n",
              "      <th></th>\n",
              "      <th>Age</th>\n",
              "      <th>Salary</th>\n",
              "      <th>Country_Australia</th>\n",
              "      <th>Country_Ireland</th>\n",
              "      <th>Country_Taiwan</th>\n",
              "    </tr>\n",
              "  </thead>\n",
              "  <tbody>\n",
              "    <tr>\n",
              "      <th>0</th>\n",
              "      <td>25</td>\n",
              "      <td>20000</td>\n",
              "      <td>0</td>\n",
              "      <td>0</td>\n",
              "      <td>1</td>\n",
              "    </tr>\n",
              "    <tr>\n",
              "      <th>1</th>\n",
              "      <td>30</td>\n",
              "      <td>32000</td>\n",
              "      <td>1</td>\n",
              "      <td>0</td>\n",
              "      <td>0</td>\n",
              "    </tr>\n",
              "    <tr>\n",
              "      <th>2</th>\n",
              "      <td>45</td>\n",
              "      <td>59000</td>\n",
              "      <td>0</td>\n",
              "      <td>1</td>\n",
              "      <td>0</td>\n",
              "    </tr>\n",
              "    <tr>\n",
              "      <th>3</th>\n",
              "      <td>35</td>\n",
              "      <td>60000</td>\n",
              "      <td>1</td>\n",
              "      <td>0</td>\n",
              "      <td>0</td>\n",
              "    </tr>\n",
              "    <tr>\n",
              "      <th>4</th>\n",
              "      <td>22</td>\n",
              "      <td>43000</td>\n",
              "      <td>0</td>\n",
              "      <td>1</td>\n",
              "      <td>0</td>\n",
              "    </tr>\n",
              "    <tr>\n",
              "      <th>5</th>\n",
              "      <td>36</td>\n",
              "      <td>52000</td>\n",
              "      <td>0</td>\n",
              "      <td>0</td>\n",
              "      <td>1</td>\n",
              "    </tr>\n",
              "  </tbody>\n",
              "</table>\n",
              "</div>\n",
              "      <button class=\"colab-df-convert\" onclick=\"convertToInteractive('df-f5ae2aee-8c57-426e-9662-e86ceb17d9f0')\"\n",
              "              title=\"Convert this dataframe to an interactive table.\"\n",
              "              style=\"display:none;\">\n",
              "        \n",
              "  <svg xmlns=\"http://www.w3.org/2000/svg\" height=\"24px\"viewBox=\"0 0 24 24\"\n",
              "       width=\"24px\">\n",
              "    <path d=\"M0 0h24v24H0V0z\" fill=\"none\"/>\n",
              "    <path d=\"M18.56 5.44l.94 2.06.94-2.06 2.06-.94-2.06-.94-.94-2.06-.94 2.06-2.06.94zm-11 1L8.5 8.5l.94-2.06 2.06-.94-2.06-.94L8.5 2.5l-.94 2.06-2.06.94zm10 10l.94 2.06.94-2.06 2.06-.94-2.06-.94-.94-2.06-.94 2.06-2.06.94z\"/><path d=\"M17.41 7.96l-1.37-1.37c-.4-.4-.92-.59-1.43-.59-.52 0-1.04.2-1.43.59L10.3 9.45l-7.72 7.72c-.78.78-.78 2.05 0 2.83L4 21.41c.39.39.9.59 1.41.59.51 0 1.02-.2 1.41-.59l7.78-7.78 2.81-2.81c.8-.78.8-2.07 0-2.86zM5.41 20L4 18.59l7.72-7.72 1.47 1.35L5.41 20z\"/>\n",
              "  </svg>\n",
              "      </button>\n",
              "      \n",
              "  <style>\n",
              "    .colab-df-container {\n",
              "      display:flex;\n",
              "      flex-wrap:wrap;\n",
              "      gap: 12px;\n",
              "    }\n",
              "\n",
              "    .colab-df-convert {\n",
              "      background-color: #E8F0FE;\n",
              "      border: none;\n",
              "      border-radius: 50%;\n",
              "      cursor: pointer;\n",
              "      display: none;\n",
              "      fill: #1967D2;\n",
              "      height: 32px;\n",
              "      padding: 0 0 0 0;\n",
              "      width: 32px;\n",
              "    }\n",
              "\n",
              "    .colab-df-convert:hover {\n",
              "      background-color: #E2EBFA;\n",
              "      box-shadow: 0px 1px 2px rgba(60, 64, 67, 0.3), 0px 1px 3px 1px rgba(60, 64, 67, 0.15);\n",
              "      fill: #174EA6;\n",
              "    }\n",
              "\n",
              "    [theme=dark] .colab-df-convert {\n",
              "      background-color: #3B4455;\n",
              "      fill: #D2E3FC;\n",
              "    }\n",
              "\n",
              "    [theme=dark] .colab-df-convert:hover {\n",
              "      background-color: #434B5C;\n",
              "      box-shadow: 0px 1px 3px 1px rgba(0, 0, 0, 0.15);\n",
              "      filter: drop-shadow(0px 1px 2px rgba(0, 0, 0, 0.3));\n",
              "      fill: #FFFFFF;\n",
              "    }\n",
              "  </style>\n",
              "\n",
              "      <script>\n",
              "        const buttonEl =\n",
              "          document.querySelector('#df-f5ae2aee-8c57-426e-9662-e86ceb17d9f0 button.colab-df-convert');\n",
              "        buttonEl.style.display =\n",
              "          google.colab.kernel.accessAllowed ? 'block' : 'none';\n",
              "\n",
              "        async function convertToInteractive(key) {\n",
              "          const element = document.querySelector('#df-f5ae2aee-8c57-426e-9662-e86ceb17d9f0');\n",
              "          const dataTable =\n",
              "            await google.colab.kernel.invokeFunction('convertToInteractive',\n",
              "                                                     [key], {});\n",
              "          if (!dataTable) return;\n",
              "\n",
              "          const docLinkHtml = 'Like what you see? Visit the ' +\n",
              "            '<a target=\"_blank\" href=https://colab.research.google.com/notebooks/data_table.ipynb>data table notebook</a>'\n",
              "            + ' to learn more about interactive tables.';\n",
              "          element.innerHTML = '';\n",
              "          dataTable['output_type'] = 'display_data';\n",
              "          await google.colab.output.renderOutput(dataTable, element);\n",
              "          const docLink = document.createElement('div');\n",
              "          docLink.innerHTML = docLinkHtml;\n",
              "          element.appendChild(docLink);\n",
              "        }\n",
              "      </script>\n",
              "    </div>\n",
              "  </div>\n",
              "  "
            ]
          },
          "metadata": {},
          "execution_count": 4
        }
      ],
      "source": [
        "data_dum = pd.get_dummies(data)\n",
        "pd.DataFrame(data_dum)"
      ]
    },
    {
      "cell_type": "code",
      "source": [
        "!pip install CwnGraph"
      ],
      "metadata": {
        "id": "2E02jlhZ8rr7",
        "outputId": "f5138d1c-facf-4714-f64b-dce8395ee182",
        "colab": {
          "base_uri": "https://localhost:8080/"
        }
      },
      "execution_count": null,
      "outputs": [
        {
          "output_type": "stream",
          "name": "stdout",
          "text": [
            "Requirement already satisfied: CwnGraph in /usr/local/lib/python3.10/dist-packages (0.4.0)\n",
            "Requirement already satisfied: gdown>=4.4.0 in /usr/local/lib/python3.10/dist-packages (from CwnGraph) (4.6.6)\n",
            "Requirement already satisfied: requests in /usr/local/lib/python3.10/dist-packages (from CwnGraph) (2.31.0)\n",
            "Requirement already satisfied: nltk in /usr/local/lib/python3.10/dist-packages (from CwnGraph) (3.8.1)\n",
            "Requirement already satisfied: filelock in /usr/local/lib/python3.10/dist-packages (from gdown>=4.4.0->CwnGraph) (3.13.1)\n",
            "Requirement already satisfied: six in /usr/local/lib/python3.10/dist-packages (from gdown>=4.4.0->CwnGraph) (1.16.0)\n",
            "Requirement already satisfied: tqdm in /usr/local/lib/python3.10/dist-packages (from gdown>=4.4.0->CwnGraph) (4.66.1)\n",
            "Requirement already satisfied: beautifulsoup4 in /usr/local/lib/python3.10/dist-packages (from gdown>=4.4.0->CwnGraph) (4.11.2)\n",
            "Requirement already satisfied: click in /usr/local/lib/python3.10/dist-packages (from nltk->CwnGraph) (8.1.7)\n",
            "Requirement already satisfied: joblib in /usr/local/lib/python3.10/dist-packages (from nltk->CwnGraph) (1.3.2)\n",
            "Requirement already satisfied: regex>=2021.8.3 in /usr/local/lib/python3.10/dist-packages (from nltk->CwnGraph) (2023.6.3)\n",
            "Requirement already satisfied: charset-normalizer<4,>=2 in /usr/local/lib/python3.10/dist-packages (from requests->CwnGraph) (3.3.2)\n",
            "Requirement already satisfied: idna<4,>=2.5 in /usr/local/lib/python3.10/dist-packages (from requests->CwnGraph) (3.6)\n",
            "Requirement already satisfied: urllib3<3,>=1.21.1 in /usr/local/lib/python3.10/dist-packages (from requests->CwnGraph) (2.0.7)\n",
            "Requirement already satisfied: certifi>=2017.4.17 in /usr/local/lib/python3.10/dist-packages (from requests->CwnGraph) (2023.11.17)\n",
            "Requirement already satisfied: soupsieve>1.2 in /usr/local/lib/python3.10/dist-packages (from beautifulsoup4->gdown>=4.4.0->CwnGraph) (2.5)\n",
            "Requirement already satisfied: PySocks!=1.5.7,>=1.5.6 in /usr/local/lib/python3.10/dist-packages (from requests->CwnGraph) (1.7.1)\n"
          ]
        }
      ]
    },
    {
      "cell_type": "code",
      "execution_count": null,
      "metadata": {
        "colab": {
          "base_uri": "https://localhost:8080/"
        },
        "id": "Kuuu-WmF8M5u",
        "outputId": "a0e64bc8-ac1d-4c7d-ac2a-efe26d23f1dd"
      },
      "outputs": [
        {
          "output_type": "execute_result",
          "data": {
            "text/plain": [
              "[<CwnLemma: 罐頭_1>,\n",
              " <CwnLemma: 年頭_1>,\n",
              " <CwnLemma: 山頭_1>,\n",
              " <CwnLemma: 頭_1>,\n",
              " <CwnLemma: 頭疼_1>,\n",
              " <CwnLemma: 從頭_1>,\n",
              " <CwnLemma: 龍頭_1>,\n",
              " <CwnLemma: 口頭_1>,\n",
              " <CwnLemma: 出頭_1>,\n",
              " <CwnLemma: 斷頭_1>,\n",
              " <CwnLemma: 分頭_1>,\n",
              " <CwnLemma: 回頭_1>,\n",
              " <CwnLemma: 磕頭_1>,\n",
              " <CwnLemma: 頭號_1>,\n",
              " <CwnLemma: 頭部_1>,\n",
              " <CwnLemma: 點頭_1>,\n",
              " <CwnLemma: 抬頭_1>,\n",
              " <CwnLemma: 街頭_1>,\n",
              " <CwnLemma: 裡頭_1>,\n",
              " <CwnLemma: 源頭_1>,\n",
              " <CwnLemma: 頭家_1>,\n",
              " <CwnLemma: 工頭_1>,\n",
              " <CwnLemma: 大舌頭_1>,\n",
              " <CwnLemma: 老頭_1>,\n",
              " <CwnLemma: 老頭子_1>,\n",
              " <CwnLemma: 花頭_1>,\n",
              " <CwnLemma: 白頭翁_1>,\n",
              " <CwnLemma: 頭彩_1>,\n",
              " <CwnLemma: 人頭稅_1>,\n",
              " <CwnLemma: 戶頭_1>,\n",
              " <CwnLemma: 頭癬_1>,\n",
              " <CwnLemma: 木頭_1>,\n",
              " <CwnLemma: 領頭_1>,\n",
              " <CwnLemma: 頭錘_1>,\n",
              " <CwnLemma: 零頭_1>,\n",
              " <CwnLemma: 接頭_1>,\n",
              " <CwnLemma: 頭狀_1>,\n",
              " <CwnLemma: 白頭鷹_1>,\n",
              " <CwnLemma: 貓頭鷹_1>,\n",
              " <CwnLemma: 頭蝨_1>,\n",
              " <CwnLemma: 奶頭_1>,\n",
              " <CwnLemma: 頭髮_1>,\n",
              " <CwnLemma: 平頭_1>,\n",
              " <CwnLemma: 舌頭_1>,\n",
              " <CwnLemma: 龜頭_1>,\n",
              " <CwnLemma: 人頭_1>,\n",
              " <CwnLemma: 頭頂_1>,\n",
              " <CwnLemma: 頭皮_1>,\n",
              " <CwnLemma: 頭蓋_1>,\n",
              " <CwnLemma: 拳頭_1>,\n",
              " <CwnLemma: 雙頭肌_1>,\n",
              " <CwnLemma: 額頭_1>,\n",
              " <CwnLemma: 念頭_1>,\n",
              " <CwnLemma: 頭條_1>,\n",
              " <CwnLemma: 開頭_1>,\n",
              " <CwnLemma: 叩頭_1>,\n",
              " <CwnLemma: 芋頭_1>,\n",
              " <CwnLemma: 橋頭堡_1>,\n",
              " <CwnLemma: 盡頭_1>,\n",
              " <CwnLemma: 石頭_1>,\n",
              " <CwnLemma: 露頭_1>,\n",
              " <CwnLemma: 頭皮屑_1>,\n",
              " <CwnLemma: 兩頭蛇_1>,\n",
              " <CwnLemma: 空頭_1>,\n",
              " <CwnLemma: 頭重腳輕_1>,\n",
              " <CwnLemma: 箭頭_1>,\n",
              " <CwnLemma: 斧頭_1>,\n",
              " <CwnLemma: 鑽頭_1>,\n",
              " <CwnLemma: 船頭_1>,\n",
              " <CwnLemma: 頭巾_1>,\n",
              " <CwnLemma: 虎頭蛇尾_1>,\n",
              " <CwnLemma: 鏡頭_1>,\n",
              " <CwnLemma: 柱頭_1>,\n",
              " <CwnLemma: 頭暈目眩_1>,\n",
              " <CwnLemma: 煙頭_1>,\n",
              " <CwnLemma: 滑頭_1>,\n",
              " <CwnLemma: 寡頭政治_1>,\n",
              " <CwnLemma: 頭銜_1>,\n",
              " <CwnLemma: 頭蓋骨_1>,\n",
              " <CwnLemma: 乳頭狀_1>,\n",
              " <CwnLemma: 喉頭_1>,\n",
              " <CwnLemma: 水龍頭_1>,\n",
              " <CwnLemma: 大頭_1>,\n",
              " <CwnLemma: 頭等艙_1>,\n",
              " <CwnLemma: 斷頭台_1>,\n",
              " <CwnLemma: 行頭_1>,\n",
              " <CwnLemma: 頭盔_1>,\n",
              " <CwnLemma: 頭像_1>,\n",
              " <CwnLemma: 鋤頭_1>,\n",
              " <CwnLemma: 頭罩_1>,\n",
              " <CwnLemma: 火車頭_1>,\n",
              " <CwnLemma: 磁頭_1>,\n",
              " <CwnLemma: 碼頭_1>,\n",
              " <CwnLemma: 尖頭_1>,\n",
              " <CwnLemma: 枕頭_1>,\n",
              " <CwnLemma: 針頭_1>,\n",
              " <CwnLemma: 插頭_1>,\n",
              " <CwnLemma: 店頭_1>,\n",
              " <CwnLemma: 噴頭_1>,\n",
              " <CwnLemma: 蓮蓬頭_1>,\n",
              " <CwnLemma: 矛頭_1>,\n",
              " <CwnLemma: 大頭釘_1>,\n",
              " <CwnLemma: 頭飾_1>,\n",
              " <CwnLemma: 三頭馬車_1>,\n",
              " <CwnLemma: 彈頭_1>,\n",
              " <CwnLemma: 皺眉頭_1>,\n",
              " <CwnLemma: 從頭到尾_1>,\n",
              " <CwnLemma: 頭昏眼花_1>,\n",
              " <CwnLemma: 賊頭賊腦_1>,\n",
              " <CwnLemma: 砍頭_1>,\n",
              " <CwnLemma: 起頭_1>,\n",
              " <CwnLemma: 梳頭_1>,\n",
              " <CwnLemma: 禿頭_1>,\n",
              " <CwnLemma: 搖頭_1>,\n",
              " <CwnLemma: 掉頭_1>,\n",
              " <CwnLemma: 垂頭喪氣_1>,\n",
              " <CwnLemma: 頭等_1>,\n",
              " <CwnLemma: 噱頭_1>,\n",
              " <CwnLemma: 鐘頭_1>,\n",
              " <CwnLemma: 骨頭_1>,\n",
              " <CwnLemma: 後頭_1>,\n",
              " <CwnLemma: 裏頭_1>,\n",
              " <CwnLemma: 饅頭_1>,\n",
              " <CwnLemma: 前頭_1>,\n",
              " <CwnLemma: 上頭_1>,\n",
              " <CwnLemma: 手指頭_1>,\n",
              " <CwnLemma: 頭痛_1>,\n",
              " <CwnLemma: 外頭_1>,\n",
              " <CwnLemma: 到頭來_1>,\n",
              " <CwnLemma: 關頭_1>,\n",
              " <CwnLemma: 老頭兒_1>,\n",
              " <CwnLemma: 眉頭_1>,\n",
              " <CwnLemma: 派頭_1>,\n",
              " <CwnLemma: 頭腦_1>,\n",
              " <CwnLemma: 指頭_1>,\n",
              " <CwnLemma: 開頭兒_1>,\n",
              " <CwnLemma: 心頭_1>]"
            ]
          },
          "metadata": {},
          "execution_count": 4
        }
      ],
      "source": [
        "from CwnGraph import CwnImage\n",
        "cwn = CwnImage.latest()\n",
        "lemmas = cwn.find_lemma(\"頭\")\n",
        "lemmas"
      ]
    },
    {
      "cell_type": "markdown",
      "source": [
        "#英文wordnet\n",
        "完整用法：https://www.nltk.org/howto/wordnet.html"
      ],
      "metadata": {
        "id": "13NyCY9p_Hpi"
      }
    },
    {
      "cell_type": "code",
      "source": [
        "import nltk\n",
        "nltk.download('wordnet')\n",
        "from nltk.corpus import wordnet as wn\n",
        "wn.synsets('dog')"
      ],
      "metadata": {
        "colab": {
          "base_uri": "https://localhost:8080/"
        },
        "id": "aDX0UHsY-dR5",
        "outputId": "960b7885-e263-4805-c624-4311c3b2d1b7"
      },
      "execution_count": null,
      "outputs": [
        {
          "output_type": "stream",
          "name": "stdout",
          "text": [
            "[nltk_data] Downloading package wordnet to /root/nltk_data...\n",
            "[nltk_data]   Package wordnet is already up-to-date!\n"
          ]
        },
        {
          "output_type": "execute_result",
          "data": {
            "text/plain": [
              "[Synset('dog.n.01'),\n",
              " Synset('frump.n.01'),\n",
              " Synset('dog.n.03'),\n",
              " Synset('cad.n.01'),\n",
              " Synset('frank.n.02'),\n",
              " Synset('pawl.n.01'),\n",
              " Synset('andiron.n.01'),\n",
              " Synset('chase.v.01')]"
            ]
          },
          "metadata": {},
          "execution_count": 5
        }
      ]
    },
    {
      "cell_type": "code",
      "source": [],
      "metadata": {
        "id": "A-G49ysYO3Vp"
      },
      "execution_count": null,
      "outputs": []
    },
    {
      "cell_type": "code",
      "source": [],
      "metadata": {
        "id": "Gy4MkmtTO3-J"
      },
      "execution_count": null,
      "outputs": []
    },
    {
      "cell_type": "markdown",
      "metadata": {
        "id": "Ssk5BSNbelCF"
      },
      "source": [
        "# Word2Vec實作\n",
        "- 字詞所代表的意義非常多元，在不同狀況下，會代表不同意思。要把多元意思用單一向量表示，則必須要進行word embedding的動作，也就是把高維向量降為低維向量的過程\n",
        "- 之前介紹過，利用分散式表示法來表達字詞向量，例如PMI、SVD..統計法..等\n",
        "- 2013年神經網路盛行後，Tomas Mikolov利用神經網路訓練方式，來獲得字詞的表達向量，獲得很棒的成果。一般認為是利用神經網路模擬人類的理解能力，獲得不錯的分布空間所得到的成果。\n",
        "- 本範例以維基百科wiki部分資料作範例\n",
        "- 資料來源：https://dumps.wikimedia.org/zhwiki/20231201/zhwiki-20231201-pages-articles-multistream1.xml-p1p187712.bz2\n",
        "- 利用結巴分詞(jieba)進行斷詞，gensim套件進行word2vec計算\n",
        "- 本範例約需1小時長時間執行\n"
      ]
    },
    {
      "cell_type": "code",
      "source": [
        "!wget https://dumps.wikimedia.org/zhwiki/20240501/zhwiki-20240501-pages-articles-multistream1.xml-p1p187712.bz2"
      ],
      "metadata": {
        "id": "ylVzFulsmgzB"
      },
      "execution_count": null,
      "outputs": []
    },
    {
      "cell_type": "markdown",
      "source": [
        "### opencc是繁簡轉換工具"
      ],
      "metadata": {
        "id": "eMIti7ru3701"
      }
    },
    {
      "cell_type": "code",
      "metadata": {
        "id": "0Ta_qze2iHJi"
      },
      "source": [
        "!pip install opencc-python-reimplemented"
      ],
      "execution_count": null,
      "outputs": []
    },
    {
      "cell_type": "markdown",
      "source": [
        "### gensim是訓練word2vec的函式庫"
      ],
      "metadata": {
        "id": "SQCWrmFJ4Mps"
      }
    },
    {
      "cell_type": "code",
      "metadata": {
        "id": "1BIoy7K5eqIS"
      },
      "source": [
        "from gensim.corpora import WikiCorpus\n",
        "\n",
        "wiki_corpus = WikiCorpus('zhwiki-20240501-pages-articles-multistream1.xml-p1p187712.bz2', dictionary={})"
      ],
      "execution_count": null,
      "outputs": []
    },
    {
      "cell_type": "code",
      "metadata": {
        "id": "0T7ZZpDr3Sg8"
      },
      "source": [
        "wiki_corpus"
      ],
      "execution_count": null,
      "outputs": []
    },
    {
      "cell_type": "code",
      "metadata": {
        "id": "KqX5g3Idsp-V"
      },
      "source": [
        "next(iter(wiki_corpus.get_texts()))[:10]"
      ],
      "execution_count": null,
      "outputs": []
    },
    {
      "cell_type": "markdown",
      "source": [
        "## 把wiki的資料檔案，轉換成連續文字的txt檔案"
      ],
      "metadata": {
        "id": "AjOTHZGR5nCE"
      }
    },
    {
      "cell_type": "code",
      "metadata": {
        "id": "AL99YGiSfhGu"
      },
      "source": [
        "text_num = 0\n",
        "\n",
        "with open('wiki_text.txt', 'w', encoding='utf-8') as f:\n",
        "    for text in wiki_corpus.get_texts():\n",
        "        f.write(' '.join(text)+'\\n')\n",
        "        text_num += 1\n",
        "        if text_num % 10000 == 0:\n",
        "            print('{} articles processed.'.format(text_num))\n",
        "\n",
        "    print('{} articles processed.'.format(text_num))"
      ],
      "execution_count": null,
      "outputs": []
    },
    {
      "cell_type": "code",
      "metadata": {
        "id": "FQ01OEi6szXr"
      },
      "source": [
        "import jieba\n",
        "from opencc import OpenCC\n",
        "\n",
        "\n",
        "# Initial\n",
        "cc = OpenCC('s2t')\n",
        "train_data = open('wiki_text.txt', 'r', encoding='utf-8').read()\n",
        "train_data = cc.convert(train_data)\n",
        "train_data = jieba.lcut(train_data)\n",
        "train_data = [word for word in train_data if word != '']\n",
        "train_data = ' '.join(train_data)\n",
        "open('seg.txt', 'w', encoding='utf-8').write(train_data)"
      ],
      "execution_count": null,
      "outputs": []
    },
    {
      "cell_type": "code",
      "metadata": {
        "id": "FXxRBbays3k0"
      },
      "source": [
        "from gensim.models import word2vec\n",
        "\n",
        "\n",
        "# Settings\n",
        "seed = 666\n",
        "sg = 0\n",
        "window_size = 10\n",
        "#vector_size = 100\n",
        "min_count = 1\n",
        "workers = 8\n",
        "#epochs = 5\n",
        "batch_words = 10000\n",
        "\n",
        "train_data = word2vec.LineSentence('seg.txt')\n",
        "model = word2vec.Word2Vec(\n",
        "    train_data,\n",
        "    min_count=min_count,\n",
        "    #size=vector_size,\n",
        "    workers=workers,\n",
        "    #iter=epochs,\n",
        "    window=window_size,\n",
        "    sg=sg,\n",
        "    seed=seed,\n",
        "    batch_words=batch_words\n",
        ")\n",
        "\n",
        "model.save('word2vec.model')"
      ],
      "execution_count": null,
      "outputs": []
    },
    {
      "cell_type": "code",
      "metadata": {
        "id": "1PovTacQs-R_"
      },
      "source": [
        "from gensim.models import word2vec\n",
        "\n",
        "string = '電腦'\n",
        "model = word2vec.Word2Vec.load('word2vec.model')\n",
        "print(string)\n",
        "\n",
        "for item in model.wv.most_similar(string):\n",
        "    print(item)"
      ],
      "execution_count": null,
      "outputs": []
    },
    {
      "cell_type": "code",
      "metadata": {
        "id": "E235am9EVIuG"
      },
      "source": [],
      "execution_count": null,
      "outputs": []
    },
    {
      "cell_type": "code",
      "execution_count": null,
      "metadata": {
        "colab": {
          "base_uri": "https://localhost:8080/"
        },
        "id": "QHOrGQAVkblE",
        "outputId": "4808ebb1-ba4e-467e-cdf9-37a460759f67"
      },
      "outputs": [
        {
          "output_type": "stream",
          "name": "stdout",
          "text": [
            "Requirement already satisfied: transformers in /usr/local/lib/python3.10/dist-packages (4.40.1)\n",
            "Requirement already satisfied: filelock in /usr/local/lib/python3.10/dist-packages (from transformers) (3.14.0)\n",
            "Requirement already satisfied: huggingface-hub<1.0,>=0.19.3 in /usr/local/lib/python3.10/dist-packages (from transformers) (0.20.3)\n",
            "Requirement already satisfied: numpy>=1.17 in /usr/local/lib/python3.10/dist-packages (from transformers) (1.25.2)\n",
            "Requirement already satisfied: packaging>=20.0 in /usr/local/lib/python3.10/dist-packages (from transformers) (24.0)\n",
            "Requirement already satisfied: pyyaml>=5.1 in /usr/local/lib/python3.10/dist-packages (from transformers) (6.0.1)\n",
            "Requirement already satisfied: regex!=2019.12.17 in /usr/local/lib/python3.10/dist-packages (from transformers) (2023.12.25)\n",
            "Requirement already satisfied: requests in /usr/local/lib/python3.10/dist-packages (from transformers) (2.31.0)\n",
            "Requirement already satisfied: tokenizers<0.20,>=0.19 in /usr/local/lib/python3.10/dist-packages (from transformers) (0.19.1)\n",
            "Requirement already satisfied: safetensors>=0.4.1 in /usr/local/lib/python3.10/dist-packages (from transformers) (0.4.3)\n",
            "Requirement already satisfied: tqdm>=4.27 in /usr/local/lib/python3.10/dist-packages (from transformers) (4.66.2)\n",
            "Requirement already satisfied: fsspec>=2023.5.0 in /usr/local/lib/python3.10/dist-packages (from huggingface-hub<1.0,>=0.19.3->transformers) (2023.6.0)\n",
            "Requirement already satisfied: typing-extensions>=3.7.4.3 in /usr/local/lib/python3.10/dist-packages (from huggingface-hub<1.0,>=0.19.3->transformers) (4.11.0)\n",
            "Requirement already satisfied: charset-normalizer<4,>=2 in /usr/local/lib/python3.10/dist-packages (from requests->transformers) (3.3.2)\n",
            "Requirement already satisfied: idna<4,>=2.5 in /usr/local/lib/python3.10/dist-packages (from requests->transformers) (3.7)\n",
            "Requirement already satisfied: urllib3<3,>=1.21.1 in /usr/local/lib/python3.10/dist-packages (from requests->transformers) (2.0.7)\n",
            "Requirement already satisfied: certifi>=2017.4.17 in /usr/local/lib/python3.10/dist-packages (from requests->transformers) (2024.2.2)\n"
          ]
        }
      ],
      "source": [
        "!pip install transformers"
      ]
    },
    {
      "cell_type": "code",
      "source": [
        "from transformers import AutoTokenizer, AutoModel\n",
        "model=AutoModel.from_pretrained(\"bert-base-uncased\");\n",
        "print(model)"
      ],
      "metadata": {
        "colab": {
          "base_uri": "https://localhost:8080/",
          "height": 830,
          "referenced_widgets": [
            "073a4bde0df7489f9cb2bcfb7b13b3f7",
            "ec33e71a475747bd90567448990e3ecc",
            "5317bc30688e4663bd2b2c80553b4ae3",
            "5c79f8cbaeda4c82954d2e9222f5ebb9",
            "85018018dd2f479980442622af3f4587",
            "277c251067f944fb9d352365f1f9c741",
            "f964a3016fd84d929e699cfb4581ef12",
            "7c598d9cd62f410187f30aba257d2a67",
            "7df8a67b83474f7ebba1d82ea29fe42e",
            "205cd5d8e96c429697f5c2a6ee54da36",
            "b77c997dbd79492c8f47f98fd07690f6",
            "8ec0f975de6b4e949df67c647309b5d5",
            "5f52539f6558476e9cd01600d80cb82d",
            "5713f127e5004f9d850b125c8c257794",
            "e91bf3c8354946a5b3e38032e45e85e3",
            "1001bf5e46a24c93b5874fc35ea35b4f",
            "a2e31db6dff1470fa2067caf8fea61c3",
            "bfe0d3fd1afa48049b474702ab559eb2",
            "9dc389a6d48f413f9daafbc4249595ab",
            "81344d195400431d971b0277249681ec",
            "2ddfbf7fb69b4f4f9138e9c1f3c025e2",
            "019d54b820db4fada72c96896ec05c11"
          ]
        },
        "id": "K_kwVtOckuWO",
        "outputId": "e807f2bb-fa11-4acd-c285-c5214c07e3b0"
      },
      "execution_count": null,
      "outputs": [
        {
          "output_type": "display_data",
          "data": {
            "text/plain": [
              "config.json:   0%|          | 0.00/570 [00:00<?, ?B/s]"
            ],
            "application/vnd.jupyter.widget-view+json": {
              "version_major": 2,
              "version_minor": 0,
              "model_id": "073a4bde0df7489f9cb2bcfb7b13b3f7"
            }
          },
          "metadata": {}
        },
        {
          "output_type": "display_data",
          "data": {
            "text/plain": [
              "model.safetensors:   0%|          | 0.00/440M [00:00<?, ?B/s]"
            ],
            "application/vnd.jupyter.widget-view+json": {
              "version_major": 2,
              "version_minor": 0,
              "model_id": "8ec0f975de6b4e949df67c647309b5d5"
            }
          },
          "metadata": {}
        },
        {
          "output_type": "stream",
          "name": "stdout",
          "text": [
            "BertModel(\n",
            "  (embeddings): BertEmbeddings(\n",
            "    (word_embeddings): Embedding(30522, 768, padding_idx=0)\n",
            "    (position_embeddings): Embedding(512, 768)\n",
            "    (token_type_embeddings): Embedding(2, 768)\n",
            "    (LayerNorm): LayerNorm((768,), eps=1e-12, elementwise_affine=True)\n",
            "    (dropout): Dropout(p=0.1, inplace=False)\n",
            "  )\n",
            "  (encoder): BertEncoder(\n",
            "    (layer): ModuleList(\n",
            "      (0-11): 12 x BertLayer(\n",
            "        (attention): BertAttention(\n",
            "          (self): BertSelfAttention(\n",
            "            (query): Linear(in_features=768, out_features=768, bias=True)\n",
            "            (key): Linear(in_features=768, out_features=768, bias=True)\n",
            "            (value): Linear(in_features=768, out_features=768, bias=True)\n",
            "            (dropout): Dropout(p=0.1, inplace=False)\n",
            "          )\n",
            "          (output): BertSelfOutput(\n",
            "            (dense): Linear(in_features=768, out_features=768, bias=True)\n",
            "            (LayerNorm): LayerNorm((768,), eps=1e-12, elementwise_affine=True)\n",
            "            (dropout): Dropout(p=0.1, inplace=False)\n",
            "          )\n",
            "        )\n",
            "        (intermediate): BertIntermediate(\n",
            "          (dense): Linear(in_features=768, out_features=3072, bias=True)\n",
            "          (intermediate_act_fn): GELUActivation()\n",
            "        )\n",
            "        (output): BertOutput(\n",
            "          (dense): Linear(in_features=3072, out_features=768, bias=True)\n",
            "          (LayerNorm): LayerNorm((768,), eps=1e-12, elementwise_affine=True)\n",
            "          (dropout): Dropout(p=0.1, inplace=False)\n",
            "        )\n",
            "      )\n",
            "    )\n",
            "  )\n",
            "  (pooler): BertPooler(\n",
            "    (dense): Linear(in_features=768, out_features=768, bias=True)\n",
            "    (activation): Tanh()\n",
            "  )\n",
            ")\n"
          ]
        }
      ]
    },
    {
      "cell_type": "code",
      "source": [
        "print(model.num_parameters())"
      ],
      "metadata": {
        "colab": {
          "base_uri": "https://localhost:8080/"
        },
        "id": "Je0PkkY26tuF",
        "outputId": "7e156ba1-fa2d-4c4a-a6e9-53be4808f631"
      },
      "execution_count": null,
      "outputs": [
        {
          "output_type": "stream",
          "name": "stdout",
          "text": [
            "109482240\n"
          ]
        }
      ]
    },
    {
      "cell_type": "code",
      "source": [
        "from transformers import AutoTokenizer\n",
        "tokenizer=AutoTokenizer.from_pretrained(\"bert-base-uncased\")\n",
        "raw_inputs = [\n",
        "    \"I've been waiting for a HuggingFace course my whole life.\",\n",
        "    \"I hate this so much!\",\n",
        "]\n",
        "inputs = tokenizer(raw_inputs, padding=True, truncation=True, return_tensors=\"pt\")\n",
        "print(inputs)"
      ],
      "metadata": {
        "colab": {
          "base_uri": "https://localhost:8080/",
          "height": 223,
          "referenced_widgets": [
            "b15466ea311a40a68830548568eaa4a4",
            "506593fa243f4603865f89d6aa96d83d",
            "05ce8e3a9a00450ba7c399d703715484",
            "86f6dabd017c4d04870a0f1667060186",
            "64ea26529ba34647b3c77f0f6077a2ab",
            "6dac50b56a3e467482361f2d0fa5be7d",
            "9fa582039b9f40ad8d33c3f50b9b56f7",
            "437d8e670f794a4ba97174dba7cd0a36",
            "1086256989074ab6bb22b6588b35d2db",
            "bd61fed61f67418899492db52c208782",
            "2964ab4209584445b5c46ed664d0a5c5",
            "95d679c228c648989beb33f25b088d44",
            "4d0417e90dda4af4b6436bad45b91f50",
            "b2d516bda1704c61bb17319f5cf5f7ab",
            "f806522486524eaf82746ed22503c03e",
            "1911bc63c94946d5a51d7bd39c4eb9ed",
            "a6747a6e7f6b417b83506e0ed7ba55c3",
            "e19838f63e634702a2df0b39e89a2103",
            "4c7e4e232aa948c58a166f29208e1fc4",
            "0b664693b0e34230aed101dda598de30",
            "a8eeee1f06884d62b208518a1ef1b115",
            "f19a4b90b48a438889c6b03dc87432f8",
            "1f05bbd78e3747a6afa7797940db8afc",
            "5be23e3ded3a40138f5f5cf6e4ff6ebd",
            "a01537bf59a04e6dacc0d789edbc6e42",
            "17f9231ad66f46bb8da2b43eb824df6b",
            "38915f1e208b4d4e9ab4f6dc973a1160",
            "382dca96afd04ce8af8ba0e2593087b1",
            "1f68dafab07146d9a729d5ae00a68a27",
            "b1dec7ac043e42b7bba3884c461205fe",
            "083a7eb69e4a4515a2ad23a1df665542",
            "53a0d0d5c33f40e799f9d3a1aaf71981",
            "82e2ac7a9abe4492826619ff86b0a979"
          ]
        },
        "id": "QShJoYESlWh0",
        "outputId": "23e6baaf-5b1e-4738-9bc8-9e0b2e33fd0f"
      },
      "execution_count": null,
      "outputs": [
        {
          "output_type": "display_data",
          "data": {
            "text/plain": [
              "tokenizer_config.json:   0%|          | 0.00/48.0 [00:00<?, ?B/s]"
            ],
            "application/vnd.jupyter.widget-view+json": {
              "version_major": 2,
              "version_minor": 0,
              "model_id": "b15466ea311a40a68830548568eaa4a4"
            }
          },
          "metadata": {}
        },
        {
          "output_type": "display_data",
          "data": {
            "text/plain": [
              "vocab.txt:   0%|          | 0.00/232k [00:00<?, ?B/s]"
            ],
            "application/vnd.jupyter.widget-view+json": {
              "version_major": 2,
              "version_minor": 0,
              "model_id": "95d679c228c648989beb33f25b088d44"
            }
          },
          "metadata": {}
        },
        {
          "output_type": "display_data",
          "data": {
            "text/plain": [
              "tokenizer.json:   0%|          | 0.00/466k [00:00<?, ?B/s]"
            ],
            "application/vnd.jupyter.widget-view+json": {
              "version_major": 2,
              "version_minor": 0,
              "model_id": "1f05bbd78e3747a6afa7797940db8afc"
            }
          },
          "metadata": {}
        },
        {
          "output_type": "stream",
          "name": "stdout",
          "text": [
            "{'input_ids': tensor([[  101,  1045,  1005,  2310,  2042,  3403,  2005,  1037, 17662, 12172,\n",
            "          2607,  2026,  2878,  2166,  1012,   102],\n",
            "        [  101,  1045,  5223,  2023,  2061,  2172,   999,   102,     0,     0,\n",
            "             0,     0,     0,     0,     0,     0]]), 'token_type_ids': tensor([[0, 0, 0, 0, 0, 0, 0, 0, 0, 0, 0, 0, 0, 0, 0, 0],\n",
            "        [0, 0, 0, 0, 0, 0, 0, 0, 0, 0, 0, 0, 0, 0, 0, 0]]), 'attention_mask': tensor([[1, 1, 1, 1, 1, 1, 1, 1, 1, 1, 1, 1, 1, 1, 1, 1],\n",
            "        [1, 1, 1, 1, 1, 1, 1, 1, 0, 0, 0, 0, 0, 0, 0, 0]])}\n"
          ]
        }
      ]
    },
    {
      "cell_type": "code",
      "source": [],
      "metadata": {
        "id": "sLUJW_SUR8Hf"
      },
      "execution_count": null,
      "outputs": []
    },
    {
      "cell_type": "markdown",
      "metadata": {
        "id": "MorOfXJU01TD"
      },
      "source": []
    },
    {
      "cell_type": "markdown",
      "metadata": {
        "id": "ADEGhJu501TF"
      },
      "source": [
        "## Pipeline介紹\n",
        "Transformers 庫中最基本的對象是`pipeline()`函數。它將模型與其必要的預處理和後處理步驟連接起來，使我們能夠通過直接輸入任何文字並獲得最終的答案：\n",
        "\n",
        "目前可用的一些pipeline是：\n",
        "\n",
        "* 特徵提取（獲取文字的向量表示）\n",
        "* 填充空缺\n",
        "* ner（命名實體識別）\n",
        "* 問答\n",
        "* 情感分析\n",
        "* 文字摘要\n",
        "* 文字生成\n",
        "* 翻譯\n",
        "* 零樣本分類"
      ]
    },
    {
      "cell_type": "markdown",
      "source": [
        "## 執行程式前，請先去Huggingface註冊帳號\n",
        "![Huggingface_token.jpg](data:image/jpeg;base64,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)"
      ],
      "metadata": {
        "id": "9HfYu4x7Hs_p"
      }
    },
    {
      "cell_type": "code",
      "execution_count": null,
      "metadata": {
        "id": "VwPopDfU01TG",
        "colab": {
          "base_uri": "https://localhost:8080/"
        },
        "outputId": "1c26efdd-0b2e-4454-dd97-a1e123def2f9"
      },
      "outputs": [
        {
          "output_type": "stream",
          "name": "stdout",
          "text": [
            "Requirement already satisfied: transformers in /usr/local/lib/python3.10/dist-packages (4.40.1)\n",
            "Collecting transformers\n",
            "  Downloading transformers-4.40.2-py3-none-any.whl (9.0 MB)\n",
            "\u001b[2K     \u001b[90m━━━━━━━━━━━━━━━━━━━━━━━━━━━━━━━━━━━━━━━━\u001b[0m \u001b[32m9.0/9.0 MB\u001b[0m \u001b[31m28.6 MB/s\u001b[0m eta \u001b[36m0:00:00\u001b[0m\n",
            "\u001b[?25hRequirement already satisfied: filelock in /usr/local/lib/python3.10/dist-packages (from transformers) (3.14.0)\n",
            "Requirement already satisfied: huggingface-hub<1.0,>=0.19.3 in /usr/local/lib/python3.10/dist-packages (from transformers) (0.20.3)\n",
            "Requirement already satisfied: numpy>=1.17 in /usr/local/lib/python3.10/dist-packages (from transformers) (1.25.2)\n",
            "Requirement already satisfied: packaging>=20.0 in /usr/local/lib/python3.10/dist-packages (from transformers) (24.0)\n",
            "Requirement already satisfied: pyyaml>=5.1 in /usr/local/lib/python3.10/dist-packages (from transformers) (6.0.1)\n",
            "Requirement already satisfied: regex!=2019.12.17 in /usr/local/lib/python3.10/dist-packages (from transformers) (2023.12.25)\n",
            "Requirement already satisfied: requests in /usr/local/lib/python3.10/dist-packages (from transformers) (2.31.0)\n",
            "Requirement already satisfied: tokenizers<0.20,>=0.19 in /usr/local/lib/python3.10/dist-packages (from transformers) (0.19.1)\n",
            "Requirement already satisfied: safetensors>=0.4.1 in /usr/local/lib/python3.10/dist-packages (from transformers) (0.4.3)\n",
            "Requirement already satisfied: tqdm>=4.27 in /usr/local/lib/python3.10/dist-packages (from transformers) (4.66.4)\n",
            "Requirement already satisfied: fsspec>=2023.5.0 in /usr/local/lib/python3.10/dist-packages (from huggingface-hub<1.0,>=0.19.3->transformers) (2023.6.0)\n",
            "Requirement already satisfied: typing-extensions>=3.7.4.3 in /usr/local/lib/python3.10/dist-packages (from huggingface-hub<1.0,>=0.19.3->transformers) (4.11.0)\n",
            "Requirement already satisfied: charset-normalizer<4,>=2 in /usr/local/lib/python3.10/dist-packages (from requests->transformers) (3.3.2)\n",
            "Requirement already satisfied: idna<4,>=2.5 in /usr/local/lib/python3.10/dist-packages (from requests->transformers) (3.7)\n",
            "Requirement already satisfied: urllib3<3,>=1.21.1 in /usr/local/lib/python3.10/dist-packages (from requests->transformers) (2.0.7)\n",
            "Requirement already satisfied: certifi>=2017.4.17 in /usr/local/lib/python3.10/dist-packages (from requests->transformers) (2024.2.2)\n",
            "Installing collected packages: transformers\n",
            "  Attempting uninstall: transformers\n",
            "    Found existing installation: transformers 4.40.1\n",
            "    Uninstalling transformers-4.40.1:\n",
            "      Successfully uninstalled transformers-4.40.1\n",
            "Successfully installed transformers-4.40.2\n",
            "Requirement already satisfied: sentencepiece in /usr/local/lib/python3.10/dist-packages (0.1.99)\n",
            "Collecting sacremoses\n",
            "  Downloading sacremoses-0.1.1-py3-none-any.whl (897 kB)\n",
            "\u001b[2K     \u001b[90m━━━━━━━━━━━━━━━━━━━━━━━━━━━━━━━━━━━━━━━━\u001b[0m \u001b[32m897.5/897.5 kB\u001b[0m \u001b[31m7.7 MB/s\u001b[0m eta \u001b[36m0:00:00\u001b[0m\n",
            "\u001b[?25hRequirement already satisfied: regex in /usr/local/lib/python3.10/dist-packages (from sacremoses) (2023.12.25)\n",
            "Requirement already satisfied: click in /usr/local/lib/python3.10/dist-packages (from sacremoses) (8.1.7)\n",
            "Requirement already satisfied: joblib in /usr/local/lib/python3.10/dist-packages (from sacremoses) (1.4.2)\n",
            "Requirement already satisfied: tqdm in /usr/local/lib/python3.10/dist-packages (from sacremoses) (4.66.4)\n",
            "Installing collected packages: sacremoses\n",
            "Successfully installed sacremoses-0.1.1\n"
          ]
        }
      ],
      "source": [
        "!pip install transformers -U\n",
        "!pip install sentencepiece # unsupervised text tokenizer and detokenizer\n",
        "!pip install sacremoses # Tokenizer and Detokenizer"
      ]
    },
    {
      "cell_type": "markdown",
      "source": [
        "## 新增Haggingface Access Token至左方存取金鑰中\n",
        "![Colab_token.jpg](data:image/jpeg;base64,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)"
      ],
      "metadata": {
        "id": "wDJC4x3lJW_R"
      }
    },
    {
      "cell_type": "markdown",
      "metadata": {
        "id": "MOnh0eZ201TH"
      },
      "source": [
        "### 情感分析"
      ]
    },
    {
      "cell_type": "code",
      "execution_count": null,
      "metadata": {
        "id": "FHEgrTgf01TI",
        "colab": {
          "base_uri": "https://localhost:8080/",
          "height": 217,
          "referenced_widgets": [
            "7a19a3304b3549eb9134a07b69c2f558",
            "3d1463480e0c4334877693996a172a18",
            "0caa7cd5b5f341ea8ef28f1c6dd40cc3",
            "3d581111889d4bd5a4b85e0680a28834",
            "eec5da7dd42b4e0e8fb66b69c1710e11",
            "b01536b67f5b4f509184138d925bab28",
            "2d439451798b4413b482da6fa410b9c9",
            "bb983cceb0234f1c8cb29a6ea8fc65d8",
            "20f7bb6f8c614c42aaf53e8ad006af89",
            "781b984f018349dd910fb029c5da7597",
            "5430b1cc8ac341a585820368967506b7",
            "85328fc1d1f54073bd1de1d95b622c5d",
            "8bcdc8c8a0884e40883e746cf877c51e",
            "5e64acb2fd374a009cceb07468745a1b",
            "6311f3747e274bfc8654249cb2a3295b",
            "ec697ad5ab3c44b8b3a2343f6d63b93d",
            "28357ff741ba4f73897412ba378305b1",
            "6f1c092061a040bfac1dbb0861ab734b",
            "82ffd3beb7eb4ed5a97c61e1e0190fa6",
            "9ee2a96458bb48f1822c1d54073318c1",
            "0db5ce4618744ca288cca2764adbb47d",
            "38b013b190be4026ab717bc3e1507f85",
            "46bad000c8db42a4a7e6cb957b9445a0",
            "8ea2b6752acd47d79bbf3961d9c79362",
            "fe06c23cc67947e2876267b3a6f80e38",
            "e7a5b26af7d04bfa821d83974ddb5993",
            "49ceb0a1ecba450c9d2a541473e0944f",
            "d89a5e1c4b4244c180920746350568c9",
            "1a70a43c5860445594add398fa53127e",
            "622152155f164e3aa0ed3a7b3aadb768",
            "4f7c2b34ad6b4750a7d99d7d1326953f",
            "3c46361ae9334dbf931b81a84f9869b2",
            "f8ca3f518cf3495397ae7b626effbf46",
            "7b0249e895b1410fa4a86fb9910f8a54",
            "f3121cc2ce28429ea30ea40cc1a62a32",
            "450a4579e0ab4b579ed486f5724db01f",
            "b2559d7169334639b1f4e00c96ea8ab2",
            "4acabffec8c945d2ab8009d8d6d92681",
            "b7ebe232e659472b8b80ff0f8fe9adce",
            "12c1a0b2d2f544449da2c53414029d49",
            "ace2fced1ffd405889fc24a21bc3bbab",
            "1c62c9e8972b4d1aafea99a2e0360c8e",
            "da411060c8c647d284f673f2f9b678eb",
            "21312b4a68ea4b6b9f98645c77eb6483"
          ]
        },
        "outputId": "c7216477-ac1c-48a0-d6db-59baf638a035"
      },
      "outputs": [
        {
          "output_type": "stream",
          "name": "stderr",
          "text": [
            "No model was supplied, defaulted to distilbert/distilbert-base-uncased-finetuned-sst-2-english and revision af0f99b (https://huggingface.co/distilbert/distilbert-base-uncased-finetuned-sst-2-english).\n",
            "Using a pipeline without specifying a model name and revision in production is not recommended.\n"
          ]
        },
        {
          "output_type": "display_data",
          "data": {
            "text/plain": [
              "config.json:   0%|          | 0.00/629 [00:00<?, ?B/s]"
            ],
            "application/vnd.jupyter.widget-view+json": {
              "version_major": 2,
              "version_minor": 0,
              "model_id": "7a19a3304b3549eb9134a07b69c2f558"
            }
          },
          "metadata": {}
        },
        {
          "output_type": "display_data",
          "data": {
            "text/plain": [
              "model.safetensors:   0%|          | 0.00/268M [00:00<?, ?B/s]"
            ],
            "application/vnd.jupyter.widget-view+json": {
              "version_major": 2,
              "version_minor": 0,
              "model_id": "85328fc1d1f54073bd1de1d95b622c5d"
            }
          },
          "metadata": {}
        },
        {
          "output_type": "display_data",
          "data": {
            "text/plain": [
              "tokenizer_config.json:   0%|          | 0.00/48.0 [00:00<?, ?B/s]"
            ],
            "application/vnd.jupyter.widget-view+json": {
              "version_major": 2,
              "version_minor": 0,
              "model_id": "46bad000c8db42a4a7e6cb957b9445a0"
            }
          },
          "metadata": {}
        },
        {
          "output_type": "display_data",
          "data": {
            "text/plain": [
              "vocab.txt:   0%|          | 0.00/232k [00:00<?, ?B/s]"
            ],
            "application/vnd.jupyter.widget-view+json": {
              "version_major": 2,
              "version_minor": 0,
              "model_id": "7b0249e895b1410fa4a86fb9910f8a54"
            }
          },
          "metadata": {}
        },
        {
          "output_type": "execute_result",
          "data": {
            "text/plain": [
              "[{'label': 'NEGATIVE', 'score': 0.8599110841751099}]"
            ]
          },
          "metadata": {},
          "execution_count": 2
        }
      ],
      "source": [
        "from transformers import pipeline\n",
        "\n",
        "classifier = pipeline(\"sentiment-analysis\")\n",
        "classifier(\"你敢出去玩試看看\")"
      ]
    },
    {
      "cell_type": "code",
      "execution_count": null,
      "metadata": {
        "id": "CqEK1UZ101TI",
        "colab": {
          "base_uri": "https://localhost:8080/"
        },
        "outputId": "2abbb355-b0df-4680-9fe7-5acbd0d1284e"
      },
      "outputs": [
        {
          "output_type": "execute_result",
          "data": {
            "text/plain": [
              "[{'label': 'NEGATIVE', 'score': 0.8526798486709595},\n",
              " {'label': 'POSITIVE', 'score': 0.9998714923858643}]"
            ]
          },
          "metadata": {},
          "execution_count": 10
        }
      ],
      "source": [
        "# 使用批次\n",
        "\n",
        "classifier(\n",
        "    [\"我覺得東西不好吃\", \"I love this cake\"]\n",
        ")"
      ]
    },
    {
      "cell_type": "markdown",
      "metadata": {
        "id": "w3cae7BB01TI"
      },
      "source": [
        "預設情況下，此pipeline選擇一個特定的預訓練模型，該模型已針對英語情感分析進行了微調。建立分類器物件時，將下載並快取模型。如果您重新執行該命令，則將使用快取的模型，無需再次下載模型。\n",
        "\n",
        "將一些文字傳遞到pipeline時涉及三個主要步驟：\n",
        "\n",
        "* 文字被預處理為模型可以理解的格式。\n",
        "* 預處理的輸入被傳遞給模型。\n",
        "* 模型處理後輸出最終人類可以理解的結果"
      ]
    },
    {
      "cell_type": "markdown",
      "metadata": {
        "id": "QjPfOGCd01TJ"
      },
      "source": [
        "### 零樣本分類\n",
        "\n",
        "對尚未標記的文字進行分類。這是實際專案中的常見場景，因為注釋文字通常很耗時並且需要領域專業知識。對於這項任務`zero-shot-classificationpipeline`非常強大：它允許直接指定用於分類的標籤，因此您不必依賴預訓練模型的標籤。下面的模型展示瞭如何使用這兩個標籤將句子分類為正面或負面——但也可以使用任何其他標籤集對文字進行分類。\n"
      ]
    },
    {
      "cell_type": "code",
      "execution_count": null,
      "metadata": {
        "id": "_amqzqUZ01TJ",
        "colab": {
          "base_uri": "https://localhost:8080/",
          "height": 296,
          "referenced_widgets": [
            "fa4269c78ab14d56a332212d1f4a4879",
            "bba0d7eb7e5541d2a27ab86c82c86160",
            "c5d5a01320394437ad12ea8956c36452",
            "508df276746744159dffab4db53f43c6",
            "d717e5954e264be5b638a038781d8db6",
            "9817e42e2a8044aaa99ba689fdaf9d2f",
            "c8311c406f354e10a1aa034ff24d25ed",
            "455806559acc4abc80597cbb9bfb8721",
            "13300271633a4a66a55688a5a8ed858c",
            "ee1c082332c44f81870ebd1130cd0a65",
            "ff91985cbf514cd2a4e958e6b108a759",
            "d1ef6ab608ec428a81094b3a65081239",
            "4ce4ce503a1744b08a1d2512095bfc74",
            "1ddb6475bd65400c9e2317d8f00f4b9a",
            "23b4af4398614102ad71db5af71210ed",
            "6812187b830c4629a11645b62c07d355",
            "8c888a9f84994f5ea35def704e1eaa73",
            "8d169dfc414b48db8c8f7e9f2ccd3428",
            "394cdeb0ab2e43238ccbb4ffe2800ebf",
            "77ba4f897177431ea0ceffaa99481738",
            "1bfb2ad4dbb04c0d88dd645accf04be2",
            "bc2910687cf94a43ab78df3c90c2166d",
            "67468e243e0847b49ee629aaf1a1bb83",
            "791416a030684c00a71c5beb72af23a9",
            "1d761faec655499f8326260a2c8389bc",
            "c0ca10c6595942648eb9446d45239b17",
            "1220d34e68cd43faa862d4b96904f93f",
            "d8da4e16115a4c9697f65f7b1e356885",
            "b90cbbe594264e759c07208f5570cc2c",
            "a32e9d299ba24aacbd73ca393f549afc",
            "feecef94e94547b9b936146ab52ffb75",
            "ae849ecd3c4c43f1b70238b1d1af1416",
            "aea7b576036144ec8a3f280b18cf2818",
            "94cd0546d73c4a94959e1c40916af669",
            "45bffc8ccc8d47a0984ad1a627814c3a",
            "a0c58c5973fc40faaff6490deeb89fd3",
            "6d7dfffc51d14d94b1cd719f62f51d5c",
            "26863d97b8e54a37bc02751374ece575",
            "876855a0a00d4afba919128b8eb869a1",
            "d06b08f09c544d2e93be2e524845a9e3",
            "7bd9188af48c41ae8190aee566ee3db9",
            "aa73c106daa44cc2b3c169d0f79b0121",
            "7970248805244a0293647dadfa114609",
            "5de59263eff94bbebbcb67f988bb94d2",
            "84926fd807fc440f93d04ac480d56265",
            "fab56f46821c4017851e4b38322f2722",
            "573859ee75ed41dd91eb1a2a6acb866a",
            "35ebea9055e2484a8be0efd1306646de",
            "fc8e7a978242412a94abead7cf493b76",
            "6b7d15b89a1640318ffe78a619cd8717",
            "36b166dde3a04cc2af06c0d1fc3660c6",
            "cc36e1d1ef50484eabc38b2f381aaae4",
            "d5285b6433d843bebdbac8694eed0586",
            "c722ac72979f4b62ac13ca878449c5b0",
            "304441b20ecc4e44b4625d7a1f9731f4",
            "8c3936d7c6694c1ba6106dfd1178bd65",
            "ebcb0b39ea8343ccba3be994af4db740",
            "1bebfcead6a340efb387d066bf898f6b",
            "6118ea5d39294322a6d6abdcab6c01d0",
            "22c787287c6b4683be715b16ba757d02",
            "768bf091e2724b25807957214fe6f00a",
            "7770599ec09348738dffb06e07690690",
            "14c8421b38fa444eacd038bd5c614e49",
            "26badf49751842a3b792f22e91360271",
            "c89da3759bad4daeb64558b7a3222249",
            "48aee123756c4b51bda9ab7dd01551d8"
          ]
        },
        "outputId": "472c7305-bed0-4cce-8f9d-17908163f86e"
      },
      "outputs": [
        {
          "output_type": "stream",
          "name": "stderr",
          "text": [
            "No model was supplied, defaulted to facebook/bart-large-mnli and revision c626438 (https://huggingface.co/facebook/bart-large-mnli).\n",
            "Using a pipeline without specifying a model name and revision in production is not recommended.\n"
          ]
        },
        {
          "output_type": "display_data",
          "data": {
            "text/plain": [
              "config.json:   0%|          | 0.00/1.15k [00:00<?, ?B/s]"
            ],
            "application/vnd.jupyter.widget-view+json": {
              "version_major": 2,
              "version_minor": 0,
              "model_id": "fa4269c78ab14d56a332212d1f4a4879"
            }
          },
          "metadata": {}
        },
        {
          "output_type": "display_data",
          "data": {
            "text/plain": [
              "model.safetensors:   0%|          | 0.00/1.63G [00:00<?, ?B/s]"
            ],
            "application/vnd.jupyter.widget-view+json": {
              "version_major": 2,
              "version_minor": 0,
              "model_id": "d1ef6ab608ec428a81094b3a65081239"
            }
          },
          "metadata": {}
        },
        {
          "output_type": "display_data",
          "data": {
            "text/plain": [
              "tokenizer_config.json:   0%|          | 0.00/26.0 [00:00<?, ?B/s]"
            ],
            "application/vnd.jupyter.widget-view+json": {
              "version_major": 2,
              "version_minor": 0,
              "model_id": "67468e243e0847b49ee629aaf1a1bb83"
            }
          },
          "metadata": {}
        },
        {
          "output_type": "display_data",
          "data": {
            "text/plain": [
              "vocab.json:   0%|          | 0.00/899k [00:00<?, ?B/s]"
            ],
            "application/vnd.jupyter.widget-view+json": {
              "version_major": 2,
              "version_minor": 0,
              "model_id": "94cd0546d73c4a94959e1c40916af669"
            }
          },
          "metadata": {}
        },
        {
          "output_type": "display_data",
          "data": {
            "text/plain": [
              "merges.txt:   0%|          | 0.00/456k [00:00<?, ?B/s]"
            ],
            "application/vnd.jupyter.widget-view+json": {
              "version_major": 2,
              "version_minor": 0,
              "model_id": "84926fd807fc440f93d04ac480d56265"
            }
          },
          "metadata": {}
        },
        {
          "output_type": "display_data",
          "data": {
            "text/plain": [
              "tokenizer.json:   0%|          | 0.00/1.36M [00:00<?, ?B/s]"
            ],
            "application/vnd.jupyter.widget-view+json": {
              "version_major": 2,
              "version_minor": 0,
              "model_id": "8c3936d7c6694c1ba6106dfd1178bd65"
            }
          },
          "metadata": {}
        },
        {
          "output_type": "execute_result",
          "data": {
            "text/plain": [
              "{'sequence': '你敢出去玩試看看',\n",
              " 'labels': ['出門', '再問一次', '留在家'],\n",
              " 'scores': [0.3558250367641449, 0.34951236844062805, 0.29466259479522705]}"
            ]
          },
          "metadata": {},
          "execution_count": 11
        }
      ],
      "source": [
        "from transformers import pipeline\n",
        "\n",
        "classifier = pipeline(\"zero-shot-classification\")\n",
        "classifier(\n",
        "    \"你敢出去玩試看看\",\n",
        "    candidate_labels=[\"出門\", \"留在家\", \"再問一次\"],\n",
        ")"
      ]
    },
    {
      "cell_type": "markdown",
      "metadata": {
        "id": "MwTEGD-R01TK"
      },
      "source": [
        "### 文字生成\n",
        "\n",
        "提供一個提示，模型將通過生成剩餘的文字來自動完成整段話。"
      ]
    },
    {
      "cell_type": "code",
      "execution_count": null,
      "metadata": {
        "id": "GtFC1VdG01TK",
        "colab": {
          "base_uri": "https://localhost:8080/",
          "height": 365,
          "referenced_widgets": [
            "baf03d8454d64d51ba6988fe0e9621d3",
            "dd1e1a9a83194339a5597dacd9871e96",
            "a429b9544c0d4ecf9c0b7d4d17a1b1f8",
            "b95e7ad95de7484ab417c9caf24c734c",
            "97438533ab214a4991d111a1f09e05a5",
            "420fde3e31b5451c9ab6dab64487652c",
            "2d830dd7c9e041939f619d79268b5293",
            "5687be55074240dabae6b1f33560c7ce",
            "1d73da6d963742b8b0fb484bb13f6a96",
            "003a1cb049604237ac5fd9d3b482f7ae",
            "243d0492b02a4f66bb6a4c4c70d9123a",
            "c2b2e8e9f346484c99b1fb7469935bf4",
            "4e1071f13a7b43afb0ee1ea94fec6be4",
            "88cc460cf9ac49aab6fc755b68fe780e",
            "5ec8ed4696e34821b4cf5685a21240fa",
            "b65bae3a2eb84c7e85b65cf26ca32f9f",
            "ae6c4848bf8244c2b5be7e2262580f16",
            "503a8e760e594d618c0ed419a26f6046",
            "05f25230f8134ac8945855f5aaf61229",
            "98fc3190ab214b7a8c2f995445a7c9ff",
            "b65fed529a7b447999127097d5382871",
            "9a788b5774a2457fa97e000da03c4f91",
            "8096b2427b4048c190039c4aeb283e24",
            "7744a43142af4938adbb574964693dad",
            "619b2325b13b430d9450f9b742c26578",
            "6af8362653d2405eb086e4f25d4949b3",
            "84bea10365d0447285c73209cbd34d7d",
            "19b9a55aa5864ee5a5772e411d1f8f30",
            "b2bf885eb62746c0bb26d0e6977e93c8",
            "dd3789a87827429384946b50b6a94197",
            "bbbf397dc1e34b05915fea81f9084130",
            "f469f4287f1344c0bd6da44e7c9d478c",
            "83452eb3bde84aab80af94291352e06b",
            "f1d352281c6842af926e7c9b703611fd",
            "21cbef70de3f48c08eb53cf3f9fcd228",
            "42a8a2a52d6e427f9ddaafff424f50dd",
            "988879918fa24590b7792a12ba348e34",
            "ede126b18c504d24a5e9cbe15f465aca",
            "4f95aab580f34297b74a3d890fc65d02",
            "60911943838c456c9c3d0d2ddb00231e",
            "aae185dc6544450c83afd7c8c621177e",
            "5ecc301011764a43b0c66f0587de8d37",
            "a368cd529bce47d485e73ae262a75cdf",
            "ac5156a22c9a4095a9086849161c172f",
            "7c7f46d8913e4b9aa0dbb9963e8fd985",
            "0c159021e8994e1ba25e6a6f89359266",
            "576b619c4623420e87a41b857ab8918d",
            "8e65fd7321254a55bf097f95edc91f5c",
            "a1bff7cf1965440b9a5621d820ff1e1c",
            "0494bb678b7a4de387afa1f75a2935bd",
            "394d632c6ded4d4aa9f932503b53645f",
            "d339619e542f4881b46a54003c011a0c",
            "b65e2c112ee442e58d47b53ef708ce50",
            "9d5b123ce56645a6bf7f9445c7135a34",
            "97587097d4ea4eea8296e28ff255732a",
            "219f5fd6f4714c959b1b94cc6ea0c441",
            "a1f465abe4d5427db127bfb2d7cdfe49",
            "f090bc2f23484dc4b53ad0976b5b2f18",
            "c6962aeada1b41d2891ac8d6e4cb802c",
            "7c19352fa5c24a1585d1775b12897260",
            "f0ba68869d5d4c0cbb23ef81a2c2d950",
            "3b5e3e643e1a4955aad8e6cf395f5875",
            "b59e9f1adfe249258fcbbee4615a350b",
            "d6f07dd5d55a40f18fc0d2707623ec6d",
            "e1133ab947624a1da22b3778a6bc1a82",
            "9e7dd8d1e89a41cbb185ec211c3f7a91",
            "d73da7504e7b47dc8bd68229776d39e7",
            "19462880b4fd46dbb481f2bdbc77bdfb",
            "f449761262dc471395bc994f9e3a2014",
            "cb647bf105794e35a7472b5690366f08",
            "ab4248374a7749399b1d201c563b7bf0",
            "75f1fb26f8ef4dc8bc5fcd02b60d4758",
            "5f6fcfb6c52e42f4aa20599e13811f57",
            "bc52ea8691364f3ca9bed46fd19f4dfc",
            "07b6921e4d0b4e508f89aa52711002df",
            "997cbf92c6f7430581bf139d732afbc0",
            "e15a0c9f06bd439fa1d98ba101874607"
          ]
        },
        "outputId": "331f88f5-d40c-497b-eb50-197f1e569392"
      },
      "outputs": [
        {
          "output_type": "stream",
          "name": "stderr",
          "text": [
            "No model was supplied, defaulted to openai-community/gpt2 and revision 6c0e608 (https://huggingface.co/openai-community/gpt2).\n",
            "Using a pipeline without specifying a model name and revision in production is not recommended.\n"
          ]
        },
        {
          "output_type": "display_data",
          "data": {
            "text/plain": [
              "config.json:   0%|          | 0.00/665 [00:00<?, ?B/s]"
            ],
            "application/vnd.jupyter.widget-view+json": {
              "version_major": 2,
              "version_minor": 0,
              "model_id": "baf03d8454d64d51ba6988fe0e9621d3"
            }
          },
          "metadata": {}
        },
        {
          "output_type": "display_data",
          "data": {
            "text/plain": [
              "model.safetensors:   0%|          | 0.00/548M [00:00<?, ?B/s]"
            ],
            "application/vnd.jupyter.widget-view+json": {
              "version_major": 2,
              "version_minor": 0,
              "model_id": "c2b2e8e9f346484c99b1fb7469935bf4"
            }
          },
          "metadata": {}
        },
        {
          "output_type": "display_data",
          "data": {
            "text/plain": [
              "generation_config.json:   0%|          | 0.00/124 [00:00<?, ?B/s]"
            ],
            "application/vnd.jupyter.widget-view+json": {
              "version_major": 2,
              "version_minor": 0,
              "model_id": "8096b2427b4048c190039c4aeb283e24"
            }
          },
          "metadata": {}
        },
        {
          "output_type": "display_data",
          "data": {
            "text/plain": [
              "tokenizer_config.json:   0%|          | 0.00/26.0 [00:00<?, ?B/s]"
            ],
            "application/vnd.jupyter.widget-view+json": {
              "version_major": 2,
              "version_minor": 0,
              "model_id": "f1d352281c6842af926e7c9b703611fd"
            }
          },
          "metadata": {}
        },
        {
          "output_type": "display_data",
          "data": {
            "text/plain": [
              "vocab.json:   0%|          | 0.00/1.04M [00:00<?, ?B/s]"
            ],
            "application/vnd.jupyter.widget-view+json": {
              "version_major": 2,
              "version_minor": 0,
              "model_id": "7c7f46d8913e4b9aa0dbb9963e8fd985"
            }
          },
          "metadata": {}
        },
        {
          "output_type": "display_data",
          "data": {
            "text/plain": [
              "merges.txt:   0%|          | 0.00/456k [00:00<?, ?B/s]"
            ],
            "application/vnd.jupyter.widget-view+json": {
              "version_major": 2,
              "version_minor": 0,
              "model_id": "219f5fd6f4714c959b1b94cc6ea0c441"
            }
          },
          "metadata": {}
        },
        {
          "output_type": "display_data",
          "data": {
            "text/plain": [
              "tokenizer.json:   0%|          | 0.00/1.36M [00:00<?, ?B/s]"
            ],
            "application/vnd.jupyter.widget-view+json": {
              "version_major": 2,
              "version_minor": 0,
              "model_id": "d73da7504e7b47dc8bd68229776d39e7"
            }
          },
          "metadata": {}
        },
        {
          "output_type": "stream",
          "name": "stderr",
          "text": [
            "Truncation was not explicitly activated but `max_length` is provided a specific value, please use `truncation=True` to explicitly truncate examples to max length. Defaulting to 'longest_first' truncation strategy. If you encode pairs of sequences (GLUE-style) with the tokenizer you can select this strategy more precisely by providing a specific strategy to `truncation`.\n",
            "Setting `pad_token_id` to `eos_token_id`:50256 for open-end generation.\n"
          ]
        },
        {
          "output_type": "execute_result",
          "data": {
            "text/plain": [
              "[{'generated_text': '我等一下要去的想力報化国。 The emperor was looking out'},\n",
              " {'generated_text': '我等一下要去的術名而这沉里认。'}]"
            ]
          },
          "metadata": {},
          "execution_count": 12
        }
      ],
      "source": [
        "from transformers import pipeline\n",
        "\n",
        "generator = pipeline(\"text-generation\")\n",
        "generator(\"我等一下要去\", num_return_sequences = 2, max_length = 30)"
      ]
    },
    {
      "cell_type": "markdown",
      "metadata": {
        "id": "Dvl0-mAN01TK"
      },
      "source": [
        "使用參數`num_return_sequences`控制生成多少個不同的序列，並使用參數`max_length`控制輸出文字的總長度"
      ]
    },
    {
      "cell_type": "code",
      "execution_count": null,
      "metadata": {
        "id": "rH1gxrgw01TL",
        "colab": {
          "base_uri": "https://localhost:8080/"
        },
        "outputId": "58b66a98-a57b-485e-8cc2-e93497dedd7f"
      },
      "outputs": [
        {
          "output_type": "stream",
          "name": "stderr",
          "text": [
            "Setting `pad_token_id` to `eos_token_id`:50256 for open-end generation.\n"
          ]
        },
        {
          "output_type": "execute_result",
          "data": {
            "text/plain": [
              "[{'generated_text': '我等一下想吃,就过重房问题的时�'},\n",
              " {'generated_text': '我等一下想吃!\\n\\n建不是見就不发等'}]"
            ]
          },
          "metadata": {},
          "execution_count": 13
        }
      ],
      "source": [
        "generator(\"我等一下想吃\", num_return_sequences = 2, max_length = 30)"
      ]
    },
    {
      "cell_type": "markdown",
      "metadata": {
        "id": "GG8wHk8001TL"
      },
      "source": [
        "### 在pipeline中使用 Hub 中的其他模型\n",
        "可以從 Hub 中選擇特定模型以在特定任務的pipeline中使用"
      ]
    },
    {
      "cell_type": "code",
      "execution_count": null,
      "metadata": {
        "id": "pjA-yJ0401TL",
        "colab": {
          "base_uri": "https://localhost:8080/",
          "height": 249,
          "referenced_widgets": [
            "4e3c86352a23417ab9b5d65517c53d45",
            "dfc454dbb83c488ab895012e71adaf2c",
            "62389e43acfd4b5880e725043bd69f56",
            "8e2212a8a1804866bff72834581c77e7",
            "d11edbc2811c4434bc6eb34e8d5c55c5",
            "70c1ad1a86ef496f8f251be0603323be",
            "5123b101d993426e944f555e5a88258b",
            "02b64e2260644ed0ace6915aa285e651",
            "c0554b5ebe404f59b2a1cd5ed4b928a1",
            "0f6bb64196bd4f74a5459607d22b2652",
            "aacf5c24476c4202b60a5eb048ecf905",
            "896118b99f6c42bba9ec8ee4e3028a1d",
            "4ede63de6bfa4aab8f481e67d02577a4",
            "19a7873551d34562bc9874b548962c90",
            "2a249dce5e774d259f4f02ab687d15ac",
            "d7c7e918918a4a91b092117b9eef89d7",
            "cdb405d117d64f62a66eed3ea8ec5fbd",
            "07c1cbf333284b83958dd7db5aa49ae5",
            "89ea4a258e374aa2b15d0da17dda92f9",
            "cded0f67bd314685a79606f50ffdc6f4",
            "f08dc618e81e4451954dcc47183f8fa7",
            "a8e8977dd5ae49659408dc8444702de9",
            "5197486500c34dd29a2ccdb3d0d701a2",
            "fe246b7393bc493a80018a494b2b8182",
            "e82eac5751e34d4aa4d78ab778eaa57c",
            "4605250e219c44999d2a69e06e474f2c",
            "aa45be1d459246b7a66bc8cb8c588070",
            "1afa5b39ad4946e2a2cc67eed90bff12",
            "f77a6d20207841c4b4c6edf0386f28b4",
            "5677680284114d08818a7d5de47a1083",
            "30d99a2ef16c47df91ec061ce5a8f479",
            "dd5ea58f35dc4616abcde206088d967d",
            "8c17a2223a4e473fa4df60536a36e754",
            "6a86b3dca9404bf6af54ac80b37d1235",
            "5bc8a21c5bb34f31bbf68964f7b6c07f",
            "abe231a46b364456bbf5e96d5f1e6ae8",
            "9a678668ef0b4000a40fa121589ba6fa",
            "09757c33bde94b2a88517e31af6fabd2",
            "9a0aef3bef3d44c8ba6896a647640f4c",
            "bbddfe2a48634b4e8b48daeb9e61d126",
            "2590153d252742e695bfa513fadd84a2",
            "7c2928f0d02e4252b46fb0798d0a9bf3",
            "3455aa2130fb457fbc877afc6461dde2",
            "9913c33e290d4cdd87e3134bb9728e24",
            "86ee5008325445809a145014276b9bd2",
            "8f778babe1454835babaf2bc134a5e94",
            "fb73704cc67246549743044af06acf91",
            "a6409ea3c783458490390c9bf6cf7f36",
            "2704f0f2ab194923b8045d54a74c61a4",
            "0f94c8bcb58842c0838314d2f02093cb",
            "e5024f96d88647c8b20d7764b09aa1de",
            "884746abc4944f2da7474900472c26f8",
            "f56ae9def3094cbfaee5c20592adbdef",
            "eba514d0f2f94d17a6c0d0388b54cca8",
            "07a0ccf665654eeab1b6d8893979b850"
          ]
        },
        "outputId": "ed1dc9c1-bce0-40b1-cac1-eb184b63f7b5"
      },
      "outputs": [
        {
          "output_type": "display_data",
          "data": {
            "text/plain": [
              "config.json:   0%|          | 0.00/758 [00:00<?, ?B/s]"
            ],
            "application/vnd.jupyter.widget-view+json": {
              "version_major": 2,
              "version_minor": 0,
              "model_id": "4e3c86352a23417ab9b5d65517c53d45"
            }
          },
          "metadata": {}
        },
        {
          "output_type": "display_data",
          "data": {
            "text/plain": [
              "pytorch_model.bin:   0%|          | 0.00/421M [00:00<?, ?B/s]"
            ],
            "application/vnd.jupyter.widget-view+json": {
              "version_major": 2,
              "version_minor": 0,
              "model_id": "896118b99f6c42bba9ec8ee4e3028a1d"
            }
          },
          "metadata": {}
        },
        {
          "output_type": "display_data",
          "data": {
            "text/plain": [
              "tokenizer_config.json:   0%|          | 0.00/174 [00:00<?, ?B/s]"
            ],
            "application/vnd.jupyter.widget-view+json": {
              "version_major": 2,
              "version_minor": 0,
              "model_id": "5197486500c34dd29a2ccdb3d0d701a2"
            }
          },
          "metadata": {}
        },
        {
          "output_type": "display_data",
          "data": {
            "text/plain": [
              "vocab.txt:   0%|          | 0.00/110k [00:00<?, ?B/s]"
            ],
            "application/vnd.jupyter.widget-view+json": {
              "version_major": 2,
              "version_minor": 0,
              "model_id": "6a86b3dca9404bf6af54ac80b37d1235"
            }
          },
          "metadata": {}
        },
        {
          "output_type": "display_data",
          "data": {
            "text/plain": [
              "special_tokens_map.json:   0%|          | 0.00/112 [00:00<?, ?B/s]"
            ],
            "application/vnd.jupyter.widget-view+json": {
              "version_major": 2,
              "version_minor": 0,
              "model_id": "86ee5008325445809a145014276b9bd2"
            }
          },
          "metadata": {}
        },
        {
          "output_type": "stream",
          "name": "stderr",
          "text": [
            "Truncation was not explicitly activated but `max_length` is provided a specific value, please use `truncation=True` to explicitly truncate examples to max length. Defaulting to 'longest_first' truncation strategy. If you encode pairs of sequences (GLUE-style) with the tokenizer you can select this strategy more precisely by providing a specific strategy to `truncation`.\n"
          ]
        },
        {
          "output_type": "execute_result",
          "data": {
            "text/plain": [
              "[{'generated_text': '今天天氣真好， 不 能 進 食 。 」 他 說 ： 「 當 你 帶 了 孩 子 ， 就 算 他 就 是'},\n",
              " {'generated_text': '今天天氣真好， 可 以 在 室 外 溫 度 上 下 三 度 的 氣 溫 是 不 好 的 。 大 多 數 的'}]"
            ]
          },
          "metadata": {},
          "execution_count": 14
        }
      ],
      "source": [
        "from transformers import pipeline\n",
        "\n",
        "generator = pipeline(\"text-generation\", model=\"ckiplab/gpt2-base-chinese\")\n",
        "generator(\n",
        "    \"今天天氣真好，\",\n",
        "    max_length=30,\n",
        "    num_return_sequences=2,\n",
        ")"
      ]
    },
    {
      "cell_type": "markdown",
      "metadata": {
        "id": "fd6iGyzq01TL"
      },
      "source": [
        "### Mask filling\n",
        "填充給定文字中的空白，`top_k`參數控制要顯示的結果有多少種。請注意，這裡模型填充了特殊的`<mask>`詞，它通常被稱為掩碼標記。"
      ]
    },
    {
      "cell_type": "code",
      "execution_count": null,
      "metadata": {
        "id": "1UsZxJpt01TM",
        "colab": {
          "base_uri": "https://localhost:8080/"
        },
        "outputId": "5d082a09-bf1f-4812-bbd1-be1a356401a8"
      },
      "outputs": [
        {
          "output_type": "stream",
          "name": "stderr",
          "text": [
            "No model was supplied, defaulted to distilbert/distilroberta-base and revision ec58a5b (https://huggingface.co/distilbert/distilroberta-base).\n",
            "Using a pipeline without specifying a model name and revision in production is not recommended.\n",
            "Some weights of the model checkpoint at distilbert/distilroberta-base were not used when initializing RobertaForMaskedLM: ['roberta.pooler.dense.bias', 'roberta.pooler.dense.weight']\n",
            "- This IS expected if you are initializing RobertaForMaskedLM from the checkpoint of a model trained on another task or with another architecture (e.g. initializing a BertForSequenceClassification model from a BertForPreTraining model).\n",
            "- This IS NOT expected if you are initializing RobertaForMaskedLM from the checkpoint of a model that you expect to be exactly identical (initializing a BertForSequenceClassification model from a BertForSequenceClassification model).\n"
          ]
        },
        {
          "output_type": "execute_result",
          "data": {
            "text/plain": [
              "[[{'score': 0.25238004326820374,\n",
              "   'token': 49233,\n",
              "   'token_str': '作',\n",
              "   'sequence': '<s>這堂課正在教人工作慧有關於大型語<mask>模型.</s>'}],\n",
              " [{'score': 0.23459240794181824,\n",
              "   'token': 49559,\n",
              "   'token_str': '版',\n",
              "   'sequence': '<s>這堂課正在教人工<mask>慧有關於大型語版模型.</s>'}]]"
            ]
          },
          "metadata": {},
          "execution_count": 16
        }
      ],
      "source": [
        "from transformers import pipeline\n",
        "\n",
        "unmasker = pipeline(\"fill-mask\")\n",
        "unmasker(\"這堂課正在教人工<mask>慧有關於大型語<mask>模型.\", top_k=1)"
      ]
    },
    {
      "cell_type": "markdown",
      "metadata": {
        "id": "GQ1QJLBZ01TM"
      },
      "source": [
        "### 命名實體識別\n",
        "命名實體識別 (NER) 是一項任務，其中模型必須找到輸入文字的哪些部分對應於諸如人員、位置或組織之類的實體。"
      ]
    },
    {
      "cell_type": "code",
      "execution_count": null,
      "metadata": {
        "id": "8sSYEpHw01TM",
        "colab": {
          "base_uri": "https://localhost:8080/"
        },
        "outputId": "a8ea5a37-d3ed-47bf-83b6-8d78a0adde3f"
      },
      "outputs": [
        {
          "output_type": "stream",
          "name": "stderr",
          "text": [
            "Asking to truncate to max_length but no maximum length is provided and the model has no predefined maximum length. Default to no truncation.\n"
          ]
        },
        {
          "output_type": "execute_result",
          "data": {
            "text/plain": [
              "[{'entity_group': 'name',\n",
              "  'score': 0.9998381,\n",
              "  'word': '小 明',\n",
              "  'start': 0,\n",
              "  'end': 2},\n",
              " {'entity_group': 'address',\n",
              "  'score': 0.9999092,\n",
              "  'word': '苗 栗',\n",
              "  'start': 5,\n",
              "  'end': 7},\n",
              " {'entity_group': 'scene',\n",
              "  'score': 0.94925946,\n",
              "  'word': '白 沙 屯',\n",
              "  'start': 8,\n",
              "  'end': 11},\n",
              " {'entity_group': 'scene',\n",
              "  'score': 0.59884006,\n",
              "  'word': '祖',\n",
              "  'start': 12,\n",
              "  'end': 13},\n",
              " {'entity_group': 'scene',\n",
              "  'score': 0.78913534,\n",
              "  'word': '境',\n",
              "  'start': 14,\n",
              "  'end': 15}]"
            ]
          },
          "metadata": {},
          "execution_count": 18
        }
      ],
      "source": [
        "from transformers import pipeline\n",
        "\n",
        "ner = pipeline(\"ner\", grouped_entities=True, model=\"gyr66/RoBERTa-ext-large-chinese-finetuned-ner\")\n",
        "ner(\"小明去參加苗栗的白沙屯媽祖繞境\")"
      ]
    },
    {
      "cell_type": "code",
      "execution_count": null,
      "metadata": {
        "id": "utA7X7Su01TM",
        "colab": {
          "base_uri": "https://localhost:8080/",
          "height": 524,
          "referenced_widgets": [
            "160a2cb79a8f472b88d00bc7a00d6996",
            "6569218112774d049d7bd6e3ddfea199",
            "bce186b74f954a73bfb7e6535a7c8769",
            "f3a41f88141a467696d90aa532fa144f",
            "ca2b5aa64dc64255a4b97758215d976e",
            "f0c55a9a992647d283722566ce4c1c5f",
            "0cf360b2de434affb47031f766775203",
            "0ab0c5afe0f04f26884b9c0850ddef04",
            "3160bba1d899411fa3387c9dac208ac9",
            "2e6c694356e84b0398bb88332a7c2190",
            "108c1e73fc304c4c9599b63d3d2900df",
            "0558589742a749a08f25baf888025ecb",
            "ec447b64865643b0b6c4e4b0c5b8e5d5",
            "4cf9ea2be1f64d3c974c1cfd3cfabded",
            "d0264f1eeacf49458e8cf7c0d91a2721",
            "a2d371f48c1d4478a17fcb1740d9d6e1",
            "41da5338f1af4981b52d06fc20001e85",
            "aa8034a069a84760aabca4d6b8b348d7",
            "871870a456cb44048998891af3537893",
            "1de13152138c47908f2fca4dc912ede0",
            "8ba2da61c6b64d968f2c1277a03d5e63",
            "f2198bd4f3274c0692cacc3e86be514a",
            "795ba525d45241069f44d7b40724ccc0",
            "b3b45ef020654d788a5b1dee7da9fd7e",
            "8aa0d5edaeec4598baf1b375a728c741",
            "109f4c510cb14b84ad25c54c2ed7e78d",
            "cad667fb97b74566b7a0fd6ed8397e23",
            "3d0b6ba1b2b240079ab16c2fecaa5ed5",
            "4ec59a59444d486cbc009bda0cbe0bdf",
            "b1dbe1a273e140b78730dfd25aa881d6",
            "be5247b5e37843c1a0a5f74caca527dd",
            "351e48812f014a09aa70b8ac1bed40c8",
            "f1c9a77c93fa4edaab573ae6eabe00b0",
            "03c3f6a726d44292835792c222e10abd",
            "7adab3894006402699b5e5e83e4fa12a",
            "c131e1465fe24ea7b1ca1441289c2da5",
            "188485123888410ab1211408294175e2",
            "d2e218b9fb3047438bb3d11b53c10702",
            "f1500e1cc54d428db54c14301f11eca9",
            "a0ee462b2a4e42e9a47d214da5248b13",
            "4d84be46a097401093fe375e4f2ba0b4",
            "3f0da5fb80bc47dfa2f5de56569ba623",
            "c23e71d1db07417baefb27578fcb1062",
            "f4953fda1f134264a7802a28b06ef2a0",
            "c498b702217c49cd9fabec1caeba4fee",
            "ce67d06d6d714badaccaef12c2c99ffd",
            "840ce43b6e714255a853def8fd90b852",
            "f5bacdd0b64941508a992757e773c4fe",
            "e22c569d84524142abdba279848be3fe",
            "1b15af2965b249cfa68e2938887ee93f",
            "61f25898fd874469ac12550965f3e60d",
            "a32ee7f4dece4fcc8a433a79088c868e",
            "a28276ee41924817b9a1e96c40652d5d",
            "0629de0d20734ba89839e9efc1bf506d",
            "2bf5ae6711da452fbabde841b9a2783d"
          ]
        },
        "outputId": "6d13102f-69a0-46b2-9430-b920b25e8b7c"
      },
      "outputs": [
        {
          "output_type": "display_data",
          "data": {
            "text/plain": [
              "config.json:   0%|          | 0.00/3.71k [00:00<?, ?B/s]"
            ],
            "application/vnd.jupyter.widget-view+json": {
              "version_major": 2,
              "version_minor": 0,
              "model_id": "160a2cb79a8f472b88d00bc7a00d6996"
            }
          },
          "metadata": {}
        },
        {
          "output_type": "display_data",
          "data": {
            "text/plain": [
              "pytorch_model.bin:   0%|          | 0.00/407M [00:00<?, ?B/s]"
            ],
            "application/vnd.jupyter.widget-view+json": {
              "version_major": 2,
              "version_minor": 0,
              "model_id": "0558589742a749a08f25baf888025ecb"
            }
          },
          "metadata": {}
        },
        {
          "output_type": "display_data",
          "data": {
            "text/plain": [
              "tokenizer_config.json:   0%|          | 0.00/301 [00:00<?, ?B/s]"
            ],
            "application/vnd.jupyter.widget-view+json": {
              "version_major": 2,
              "version_minor": 0,
              "model_id": "795ba525d45241069f44d7b40724ccc0"
            }
          },
          "metadata": {}
        },
        {
          "output_type": "display_data",
          "data": {
            "text/plain": [
              "vocab.txt:   0%|          | 0.00/110k [00:00<?, ?B/s]"
            ],
            "application/vnd.jupyter.widget-view+json": {
              "version_major": 2,
              "version_minor": 0,
              "model_id": "03c3f6a726d44292835792c222e10abd"
            }
          },
          "metadata": {}
        },
        {
          "output_type": "display_data",
          "data": {
            "text/plain": [
              "special_tokens_map.json:   0%|          | 0.00/112 [00:00<?, ?B/s]"
            ],
            "application/vnd.jupyter.widget-view+json": {
              "version_major": 2,
              "version_minor": 0,
              "model_id": "c498b702217c49cd9fabec1caeba4fee"
            }
          },
          "metadata": {}
        },
        {
          "output_type": "execute_result",
          "data": {
            "text/plain": [
              "[{'entity_group': 'PERSON',\n",
              "  'score': 0.9999994,\n",
              "  'word': '陳 小',\n",
              "  'start': 5,\n",
              "  'end': 7},\n",
              " {'entity_group': 'PERSON',\n",
              "  'score': 0.9999994,\n",
              "  'word': '明',\n",
              "  'start': 7,\n",
              "  'end': 8},\n",
              " {'entity_group': 'ORG',\n",
              "  'score': 0.9993473,\n",
              "  'word': '新 竹 明 新 科',\n",
              "  'start': 11,\n",
              "  'end': 16},\n",
              " {'entity_group': 'ORG',\n",
              "  'score': 0.99999833,\n",
              "  'word': '大',\n",
              "  'start': 16,\n",
              "  'end': 17}]"
            ]
          },
          "metadata": {},
          "execution_count": 19
        }
      ],
      "source": [
        "from transformers import pipeline\n",
        "\n",
        "ner = pipeline(\"ner\", model = \"ckiplab/bert-base-chinese-ner\", grouped_entities=True)\n",
        "ner(\"我的名字叫陳小明，我在新竹明新科大上課。\")"
      ]
    },
    {
      "cell_type": "markdown",
      "metadata": {
        "id": "JzfNkkeZ01TM"
      },
      "source": [
        "### 問答系統\n",
        "問答pipeline使用來自給定上下文回答問題："
      ]
    },
    {
      "cell_type": "code",
      "execution_count": null,
      "metadata": {
        "id": "xfoivsfk01TN",
        "colab": {
          "base_uri": "https://localhost:8080/"
        },
        "outputId": "1cafe325-3050-423d-c586-9124ef0a6e47"
      },
      "outputs": [
        {
          "output_type": "execute_result",
          "data": {
            "text/plain": [
              "{'score': 0.00012489392247516662, 'start': 5, 'end': 10, 'answer': '大甲鎮瀾宮'}"
            ]
          },
          "metadata": {},
          "execution_count": 21
        }
      ],
      "source": [
        "from transformers import pipeline\n",
        "\n",
        "question_answerer = pipeline(\"question-answering\", model=\"ckiplab/bert-base-chinese-qa\")\n",
        "question_answerer(\n",
        "    context=\"黃小明參加大甲鎮瀾宮繞境\",\n",
        "    question=\"黃小明參加甚麼活動?\",\n",
        ")"
      ]
    },
    {
      "cell_type": "markdown",
      "metadata": {
        "id": "g2EWSU8x01TN"
      },
      "source": [
        "### 文字摘要\n",
        "文字摘要是將文字縮減為較短文字的任務，同時保留文字中的主要（重要）信息。下面是一個例子："
      ]
    },
    {
      "cell_type": "code",
      "execution_count": null,
      "metadata": {
        "id": "j-QVqBY001TN",
        "colab": {
          "base_uri": "https://localhost:8080/"
        },
        "outputId": "426ef467-82c1-4c02-f16e-14d6443931f5"
      },
      "outputs": [
        {
          "output_type": "stream",
          "name": "stderr",
          "text": [
            "No model was supplied, defaulted to sshleifer/distilbart-cnn-12-6 and revision a4f8f3e (https://huggingface.co/sshleifer/distilbart-cnn-12-6).\n",
            "Using a pipeline without specifying a model name and revision in production is not recommended.\n"
          ]
        },
        {
          "output_type": "execute_result",
          "data": {
            "text/plain": [
              "[{'summary_text': '    知名連鎖韓式炸雞店日前遭導盲犬使用者\\xa0maintained\\xa0“帶導’s\\u2009”’�文道歉，北市社會局也說’ \\xa0-  \\xa0\\u2009://://://www.com/gououre-goure.org/\\xa0-\\xa0\\xa0- Gourere.com .'}]"
            ]
          },
          "metadata": {},
          "execution_count": 23
        }
      ],
      "source": [
        "from transformers import pipeline\n",
        "\n",
        "summarizer = pipeline(\"summarization\")\n",
        "summarizer(\n",
        "    \"\"\"\n",
        "    台北市知名連鎖韓式炸雞店日前遭導盲犬使用者投訴，攜帶導盲犬前往用餐時，卻遭服務人員拒絕入內，事後將過程放上臉書，\n",
        "    店家事後也發文道歉，北市社會局也說，以要求業者限期改善，對員工教育訓練，若未改善或再犯最高將開罰5萬元，\n",
        "    並接受4小時講習\n",
        "\"\"\"\n",
        ")"
      ]
    },
    {
      "cell_type": "markdown",
      "metadata": {
        "id": "yzPpjPg201TN"
      },
      "source": [
        "### 翻譯\n",
        "提供語言對（例如「translation_Chinese_to_English」），則可以使用預設模型，但最簡單的方法是在模型中心（hub）選擇要使用的模型"
      ]
    },
    {
      "cell_type": "code",
      "execution_count": null,
      "metadata": {
        "id": "HpIRqrof01TN",
        "colab": {
          "base_uri": "https://localhost:8080/",
          "height": 290,
          "referenced_widgets": [
            "8c63a980dd3840ffacf2bd028478166c",
            "2ddb16e532a74de9b129559796bc4d20",
            "8f38f46471294b6aaae7213e8bbc089b",
            "0ccb456c0a88417b9f7c2071c0cc1060",
            "536cfc16fe5e4bb69ffdf42a8952ae0a",
            "56ae0148c72d4b7891818fadd8e2be08",
            "926e1890c9d04b9bb205b2765511da9f",
            "2068ecca83224fc1806beeed514f3e3b",
            "b3814d0749a94372b97387b5a680163d",
            "461cd773a9314ed6997c2e7aa733d478",
            "6b0822f8587c46f2a751459c7fe0968d",
            "817168157c7e446cb3e180e8078cbcc0",
            "3d0d3204121645e3a1c7b4cf066e4dbb",
            "09cde415c9a049c897c14bc9df92cfc1",
            "78186eec8435400cace365244cff0c5e",
            "49a4e1bf8fc442e29b512466e243bf17",
            "8725ba39b1f140ad8707fff31a2301d5",
            "74165013e5db4e2eaf5788178f2b9780",
            "79412366ad0c4119a633b45832b5219d",
            "527ad27ed20c493db312326d0cc47089",
            "c38a06a28b264e5caa1bdb24ecd6d9c6",
            "652bb8151ea349d981744ec24703c82a",
            "783b7a844abd49edbc500a674ca94590",
            "35a81d72e971481b81b081a29939cdac",
            "9b03a8f22f1547a49c46fa91b5ec02f2",
            "07b1296e969445c6b8b13cbd6a6b0b42",
            "9bcd3d02267d46799a452aafd0265660",
            "7da3c9cacfe0453d9ac3250c784f5dbc",
            "2aedc5aa8f3c4739adff71bb2fd999ec",
            "db151591d3c343c1b9c5220eab8e3f58",
            "ca44cb1302bc457198e1d3a5b2fa365a",
            "de87284222714de0a8d6275aeb36f13c",
            "c5b3f9b0802a4c14a96ca4e377a96b13",
            "d2a4968927794062a8f51fe2c753b3bc",
            "8eb83d7c02844b94a919709ea830d672",
            "1c1a05c3df804661ad02036f9f257715",
            "66f20747b2a447a6a4b848c710940f8d",
            "f88004b86800499c9d9d3aed59550b63",
            "8150d7daed82425aa4e58827eeb85142",
            "27e070823f6f4ced984f172788a40073",
            "4ad5a13d94bb494ba6b49f935c142e46",
            "5b26bdaa4934431bbaf2402787f59fb7",
            "bda824fec29d4f4e80e8d46c6cf22ba5",
            "ac01f95f4a0c434b9389e25a012b6d53",
            "b1f5762f593b4852932ac6aacd30661f",
            "ddb4746ef28a4d46893226d458aff293",
            "e600bd786b05414089d17a433017c383",
            "f9870797686b4e079980ad83f0399e6b",
            "ba5466b4347b4a7993308f82babf9079",
            "808cb28077884555954cf877baee6c4d",
            "751f757eb2ec494f986bfaebf5b70f63",
            "2427d297eb7d42b7bd4c25abf4c17dec",
            "44ba970ce1544e0aa9249f555cabc3ae",
            "21ebfdfa79004527a9b2afb20b238e71",
            "12e50a15c64b4af4a7e4c1804deb4559",
            "446a2268dcfd463db772e2f46c4f8958",
            "0a11567ce09b4020842870c0121d632b",
            "dd1f21fd3df94c818dcb6892b1c73bb1",
            "b7b99a22d36b48949c26ff6114da0e4f",
            "b80dd40e22ab47bfb5d83330e6540e6b",
            "a0c6df679e8c4d77b3e648da53901698",
            "4ab347a670d749fd9e8f8341af1392ef",
            "bc84e21c43cd4ec4b322742b563818e4",
            "6cc13aee655d4726bf9282f2f1b237d0",
            "eb329ef5e684438f82702a223e57c1f5",
            "855b2a92012c4cfea12ee1d42b0aceda",
            "7faa6039257d4f3283df26b3688bb479",
            "37bbe52091d247c8af40e4dc4b9c4612",
            "49aa5364813642ff997c83d4fd1d8998",
            "efde5bbdfbbe4034b9dee93c40c3b75e",
            "3776f10d095b410a883d530c65a4c0b5",
            "03b6a7621a874375805269f1bbb9986f",
            "9419ed9cfa61453ea6286a90164c71f1",
            "e25bb68915b54047832b5df14d497f9e",
            "3d6e9fd19028495ca6c76fcb537fef40",
            "aecdb04a3c9e45879b94ad42ddb8fc3f",
            "83898e1e3ce843b4bfc62ad56785e400",
            "f357a13256254fea8ba5f9c5c5d2391b",
            "4491c793166548ff9afa78035330a7cb",
            "87e3c4df54284b4d9d70dc2da54b94ae",
            "d86667ee0d1c4c43aaf4e1b43890cc20",
            "8862d0dff1b544b5bc6870dd5bf78197",
            "f82b0863fed045b58d00eaec91b89032",
            "63b919ac05e24008a95c8f2a9b736213",
            "025a74106f374595b4fdaefc66515c13",
            "7c7bb0250ef94e37bb380dede1d77d63",
            "f305775377db4a9fae3333f94ff3b853",
            "3ee25cbce2cb4d0f9f8b32960a1f12fa"
          ]
        },
        "outputId": "39171624-e79f-443e-ecc3-a177f936abb2"
      },
      "outputs": [
        {
          "output_type": "display_data",
          "data": {
            "text/plain": [
              "config.json:   0%|          | 0.00/1.41k [00:00<?, ?B/s]"
            ],
            "application/vnd.jupyter.widget-view+json": {
              "version_major": 2,
              "version_minor": 0,
              "model_id": "8c63a980dd3840ffacf2bd028478166c"
            }
          },
          "metadata": {}
        },
        {
          "output_type": "display_data",
          "data": {
            "text/plain": [
              "pytorch_model.bin:   0%|          | 0.00/310M [00:00<?, ?B/s]"
            ],
            "application/vnd.jupyter.widget-view+json": {
              "version_major": 2,
              "version_minor": 0,
              "model_id": "817168157c7e446cb3e180e8078cbcc0"
            }
          },
          "metadata": {}
        },
        {
          "output_type": "display_data",
          "data": {
            "text/plain": [
              "generation_config.json:   0%|          | 0.00/288 [00:00<?, ?B/s]"
            ],
            "application/vnd.jupyter.widget-view+json": {
              "version_major": 2,
              "version_minor": 0,
              "model_id": "783b7a844abd49edbc500a674ca94590"
            }
          },
          "metadata": {}
        },
        {
          "output_type": "display_data",
          "data": {
            "text/plain": [
              "tokenizer_config.json:   0%|          | 0.00/282 [00:00<?, ?B/s]"
            ],
            "application/vnd.jupyter.widget-view+json": {
              "version_major": 2,
              "version_minor": 0,
              "model_id": "d2a4968927794062a8f51fe2c753b3bc"
            }
          },
          "metadata": {}
        },
        {
          "output_type": "display_data",
          "data": {
            "text/plain": [
              "source.spm:   0%|          | 0.00/805k [00:00<?, ?B/s]"
            ],
            "application/vnd.jupyter.widget-view+json": {
              "version_major": 2,
              "version_minor": 0,
              "model_id": "b1f5762f593b4852932ac6aacd30661f"
            }
          },
          "metadata": {}
        },
        {
          "output_type": "display_data",
          "data": {
            "text/plain": [
              "target.spm:   0%|          | 0.00/807k [00:00<?, ?B/s]"
            ],
            "application/vnd.jupyter.widget-view+json": {
              "version_major": 2,
              "version_minor": 0,
              "model_id": "446a2268dcfd463db772e2f46c4f8958"
            }
          },
          "metadata": {}
        },
        {
          "output_type": "display_data",
          "data": {
            "text/plain": [
              "vocab.json:   0%|          | 0.00/1.75M [00:00<?, ?B/s]"
            ],
            "application/vnd.jupyter.widget-view+json": {
              "version_major": 2,
              "version_minor": 0,
              "model_id": "7faa6039257d4f3283df26b3688bb479"
            }
          },
          "metadata": {}
        },
        {
          "output_type": "display_data",
          "data": {
            "text/plain": [
              "special_tokens_map.json:   0%|          | 0.00/74.0 [00:00<?, ?B/s]"
            ],
            "application/vnd.jupyter.widget-view+json": {
              "version_major": 2,
              "version_minor": 0,
              "model_id": "f357a13256254fea8ba5f9c5c5d2391b"
            }
          },
          "metadata": {}
        },
        {
          "output_type": "execute_result",
          "data": {
            "text/plain": [
              "[{'translation_text': '\"I\\'m in the Pilgrimage of Da Hara.\", \\'zh\\': \\'pilgrimage.\\'}'}]"
            ]
          },
          "metadata": {},
          "execution_count": 24
        }
      ],
      "source": [
        "from transformers import pipeline\n",
        "\n",
        "translator = pipeline(\"translation\", model=\"DunnBC22/opus-mt-zh-en-Chinese_to_English\")\n",
        "translator(\"我參加大甲鎮瀾宮pilgrimage.\")"
      ]
    },
    {
      "cell_type": "code",
      "source": [],
      "metadata": {
        "id": "cwEzoOcmS6dy"
      },
      "execution_count": null,
      "outputs": []
    },
    {
      "cell_type": "markdown",
      "metadata": {
        "id": "UoEhbahwO5Cp"
      },
      "source": [
        "## 編碼器模型範例\n",
        "這是一個編碼器模型的範例，用於將輸入的序列進行編碼，並將編碼後的結果輸出。"
      ]
    },
    {
      "cell_type": "code",
      "execution_count": null,
      "metadata": {
        "id": "IAFm4PcZO5Cq",
        "outputId": "12e4dd84-6e7c-4b76-f0bb-ad32a424c87e",
        "colab": {
          "base_uri": "https://localhost:8080/"
        }
      },
      "outputs": [
        {
          "output_type": "stream",
          "name": "stdout",
          "text": [
            "torch.Size([1, 5, 768])\n",
            "BaseModelOutputWithPoolingAndCrossAttentions(last_hidden_state=tensor([[[-0.5190,  0.2387, -0.3949,  ..., -0.0035,  0.0796,  0.2924],\n",
            "         [ 0.5795,  0.4453,  0.0075,  ...,  0.0364,  0.0774,  0.4440],\n",
            "         [ 1.2324, -0.3925,  0.2721,  ..., -0.7919, -0.1087, -0.3817],\n",
            "         [-0.4921, -0.9572, -0.7413,  ..., -0.0015, -0.3351,  0.4957],\n",
            "         [ 0.8211,  0.1658, -0.1855,  ...,  0.0710, -0.6693, -0.3189]]],\n",
            "       grad_fn=<NativeLayerNormBackward0>), pooler_output=tensor([[-8.2991e-01, -3.3579e-01, -5.3743e-01,  6.9344e-01,  4.6962e-01,\n",
            "         -1.6712e-01,  7.5686e-01,  1.5057e-01, -5.3369e-01, -9.9988e-01,\n",
            "         -4.2301e-01,  9.3534e-01,  9.8397e-01,  2.3557e-01,  9.1207e-01,\n",
            "         -6.9858e-01, -5.6143e-01, -6.1538e-01,  2.7067e-01, -3.8682e-01,\n",
            "          6.2639e-01,  9.9945e-01,  9.4961e-02,  2.6180e-01,  3.8694e-01,\n",
            "          9.8186e-01, -6.8193e-01,  9.0472e-01,  9.5478e-01,  6.7263e-01,\n",
            "         -4.1708e-01,  1.2815e-01, -9.9297e-01,  4.7209e-02, -5.9190e-01,\n",
            "         -9.9011e-01,  4.1752e-01, -6.8841e-01,  2.7822e-01,  8.2669e-02,\n",
            "         -9.2436e-01,  1.6388e-01,  9.9968e-01,  1.1050e-03,  5.2164e-01,\n",
            "         -1.5485e-01, -1.0000e+00,  9.2234e-02, -8.8989e-01,  6.7286e-01,\n",
            "          6.7240e-01,  6.4727e-01,  1.6199e-01,  4.7518e-01,  4.7403e-01,\n",
            "         -2.6987e-01, -1.7680e-01,  1.5724e-01, -1.9684e-01, -4.6707e-01,\n",
            "         -6.1293e-01,  3.8658e-01, -7.7401e-01, -8.6267e-01,  8.0041e-01,\n",
            "          2.3009e-01, -9.3604e-02, -3.0093e-01,  4.6857e-02, -1.3195e-01,\n",
            "          7.2922e-01,  1.7589e-01,  3.4818e-01, -7.6980e-01,  4.8630e-02,\n",
            "          9.6422e-02, -5.7094e-01,  1.0000e+00, -6.5411e-01, -9.8673e-01,\n",
            "          5.0265e-01,  1.4860e-01,  3.9712e-01,  2.6428e-01, -2.6819e-01,\n",
            "         -1.0000e+00,  4.2684e-01, -1.7428e-01, -9.9267e-01,  8.4882e-02,\n",
            "          6.8844e-01, -1.7366e-01, -3.8331e-01,  4.7171e-01, -2.5852e-01,\n",
            "         -4.0630e-01, -2.7552e-01, -5.7236e-01, -5.9062e-02, -4.3016e-01,\n",
            "          5.5806e-02, -1.3494e-01, -7.2397e-02, -1.5252e-01,  2.1429e-01,\n",
            "         -4.7366e-01, -4.7630e-01,  1.1098e-01, -1.3635e-01,  5.5558e-01,\n",
            "          1.8160e-01, -3.6638e-01,  3.7076e-01, -9.5932e-01,  6.6278e-01,\n",
            "         -2.1324e-01, -9.8998e-01, -4.3778e-01, -9.9342e-01,  7.1310e-01,\n",
            "         -3.8270e-01, -2.5402e-01,  9.4890e-01,  2.1804e-01,  2.4033e-01,\n",
            "          2.0836e-01, -7.0539e-01, -1.0000e+00, -7.6656e-01, -4.5798e-01,\n",
            "          2.2248e-01, -1.6171e-01, -9.8393e-01, -9.7151e-01,  4.5784e-01,\n",
            "          9.1563e-01, -3.6186e-02,  9.9871e-01, -2.1618e-01,  9.3308e-01,\n",
            "         -5.2225e-03, -5.1523e-01,  3.5614e-01, -2.8115e-01,  6.1946e-01,\n",
            "          1.7747e-01, -5.5381e-01,  2.1746e-01, -4.2021e-01,  1.1727e-01,\n",
            "         -5.6034e-01, -1.3381e-01, -3.9526e-01, -9.2893e-01, -1.7769e-01,\n",
            "          9.3609e-01, -3.4180e-01, -5.7533e-01,  3.2268e-01, -1.5201e-01,\n",
            "         -4.5933e-01,  7.0986e-01,  7.8679e-01,  3.7117e-01, -3.1500e-01,\n",
            "          3.3283e-01, -2.9172e-01,  4.8964e-01, -7.1257e-01,  5.8177e-02,\n",
            "          3.0516e-01, -2.4693e-01, -2.6390e-01, -9.8467e-01, -3.8638e-01,\n",
            "          1.9015e-01,  9.9238e-01,  5.5645e-01,  3.1976e-01,  6.4088e-01,\n",
            "         -2.0997e-01,  8.0361e-01, -9.5851e-01,  9.8452e-01, -2.3549e-01,\n",
            "          1.8095e-01, -2.7705e-01, -1.1566e-01, -8.7112e-01, -3.2674e-01,\n",
            "          7.3544e-01, -6.9583e-01, -8.0340e-01,  5.3328e-02, -3.9273e-01,\n",
            "         -3.0369e-01, -6.1604e-01,  3.5239e-01, -4.2756e-01, -1.8013e-01,\n",
            "          3.4946e-04,  9.2388e-01,  9.3883e-01,  7.9017e-01, -2.2637e-01,\n",
            "          5.3688e-01, -8.9521e-01, -5.7085e-01,  1.5069e-01,  2.5699e-01,\n",
            "          1.8250e-01,  9.9509e-01, -3.3463e-01, -8.3670e-02, -8.8582e-01,\n",
            "         -9.8924e-01, -1.6716e-01, -9.2542e-01, -2.0433e-01, -6.5980e-01,\n",
            "          5.2316e-01, -7.9788e-02, -1.7294e-01,  2.8374e-01, -9.3789e-01,\n",
            "         -7.1240e-01,  5.0908e-01, -3.4298e-01,  1.8769e-01, -2.8457e-01,\n",
            "          8.8235e-01,  6.9506e-01, -5.4880e-01,  6.2520e-01,  9.3235e-01,\n",
            "         -5.2749e-01, -7.7616e-01,  7.5609e-01, -2.6175e-01,  7.0452e-01,\n",
            "         -5.2518e-01,  9.6926e-01,  8.1159e-01,  7.5992e-01, -8.8196e-01,\n",
            "         -2.4538e-01, -8.0059e-01, -6.5694e-02, -1.0189e-01, -6.0738e-01,\n",
            "          5.6021e-01,  3.0969e-01,  4.1090e-01,  8.0866e-01, -5.9343e-01,\n",
            "          9.8452e-01, -8.7141e-01, -9.7110e-01, -6.1845e-01, -1.8488e-01,\n",
            "         -9.9225e-01,  6.5710e-01,  2.2200e-01,  2.8729e-01, -4.5093e-01,\n",
            "         -4.0115e-01, -9.7024e-01,  7.5808e-01,  5.8085e-02,  9.4815e-01,\n",
            "         -9.8198e-02, -9.0649e-01, -4.9630e-01, -9.4962e-01, -9.3922e-02,\n",
            "         -1.3317e-01, -1.4791e-01, -1.9711e-01, -9.4643e-01,  4.7608e-01,\n",
            "          5.6679e-01,  4.5847e-01,  3.1559e-02,  9.9424e-01,  1.0000e+00,\n",
            "          9.7713e-01,  8.9511e-01,  6.9574e-01, -9.9694e-01, -6.2601e-01,\n",
            "          9.9994e-01, -9.7634e-01, -1.0000e+00, -9.2631e-01, -7.2638e-01,\n",
            "          2.8418e-01, -1.0000e+00, -1.1722e-02,  1.7800e-01, -9.1199e-01,\n",
            "          2.3219e-01,  9.8003e-01,  9.8021e-01, -1.0000e+00,  8.1057e-01,\n",
            "          9.0818e-01, -5.3967e-01,  9.4512e-01, -3.4232e-01,  9.6973e-01,\n",
            "          1.4685e-01,  4.6159e-01,  5.0390e-02,  3.3880e-01, -6.6106e-01,\n",
            "         -7.9230e-01, -2.5929e-02, -3.2581e-01,  9.8274e-01,  1.7834e-01,\n",
            "         -7.2009e-01, -8.7900e-01,  5.9275e-01, -2.9467e-01,  2.8737e-02,\n",
            "         -9.5928e-01, -1.3171e-02,  3.1511e-01,  7.9837e-01,  9.3939e-02,\n",
            "          1.3706e-01, -6.0004e-01,  1.4585e-01, -3.7070e-01,  3.6446e-02,\n",
            "          5.5450e-01, -8.8880e-01, -3.6851e-01, -5.8430e-01, -3.8209e-01,\n",
            "          1.3595e-01, -9.6890e-01,  9.6236e-01, -2.5246e-01,  7.1690e-01,\n",
            "          1.0000e+00,  3.9173e-01, -8.2090e-01,  5.7621e-01,  3.2610e-01,\n",
            "         -4.6879e-01,  1.0000e+00,  7.8817e-01, -9.8603e-01, -4.3871e-01,\n",
            "          2.6131e-01, -4.7459e-01, -5.4100e-01,  9.9768e-01, -3.1617e-01,\n",
            "         -3.1422e-01, -2.0026e-01,  9.8946e-01, -9.9456e-01,  9.4721e-01,\n",
            "         -8.5670e-01, -9.7603e-01,  9.6797e-01,  9.3063e-01, -5.8567e-01,\n",
            "         -6.4624e-01,  5.1217e-02,  9.7176e-02,  2.3103e-01, -9.1057e-01,\n",
            "          6.5711e-01,  4.8043e-01, -4.6504e-02,  9.2250e-01, -7.0457e-01,\n",
            "         -4.5829e-01,  3.6204e-01, -4.6299e-01,  2.3373e-01,  6.8349e-01,\n",
            "          4.5333e-01, -1.1528e-01, -6.8627e-02, -2.1775e-01, -6.1347e-01,\n",
            "         -9.6198e-01,  5.4808e-01,  1.0000e+00, -8.1975e-03,  6.3313e-01,\n",
            "         -6.4011e-02,  1.8633e-01, -2.0412e-01,  4.0093e-01,  3.1402e-01,\n",
            "         -3.3602e-01, -6.3257e-01,  5.9399e-01, -9.0497e-01, -9.9342e-01,\n",
            "          6.1852e-01,  1.7318e-01, -2.8446e-01,  9.9994e-01,  3.7038e-01,\n",
            "          1.9779e-01, -1.0545e-02,  9.5516e-01, -3.5020e-02,  4.2860e-01,\n",
            "          4.4639e-01,  9.8371e-01, -2.0979e-01,  5.2891e-01,  7.6202e-01,\n",
            "         -6.4803e-01, -1.8325e-01, -5.9507e-01,  7.9268e-02, -9.5702e-01,\n",
            "          1.7548e-01, -9.6181e-01,  9.6991e-01,  8.2865e-01,  2.8925e-01,\n",
            "          1.2761e-01,  6.7752e-01,  1.0000e+00, -6.4824e-01,  5.9938e-01,\n",
            "         -1.8585e-01,  7.9963e-01, -9.9695e-01, -7.1458e-01, -4.3104e-01,\n",
            "          2.8406e-02, -4.9230e-01, -2.9466e-01,  1.1641e-01, -9.7134e-01,\n",
            "          2.7032e-01,  3.5505e-01, -9.7272e-01, -9.9392e-01,  6.0958e-02,\n",
            "          7.2388e-01,  1.1136e-02, -9.5512e-01, -7.5393e-01, -6.4209e-01,\n",
            "          4.5185e-01, -1.4345e-01, -9.5379e-01,  2.2030e-01, -1.9854e-01,\n",
            "          3.2439e-01,  6.7556e-02,  5.4345e-01,  3.8866e-01,  8.8184e-01,\n",
            "         -5.4938e-01, -3.1143e-01, -3.1322e-02, -8.6462e-01,  8.6971e-01,\n",
            "         -6.8762e-01, -6.7779e-01, -2.7539e-02,  1.0000e+00, -4.5779e-01,\n",
            "          5.6148e-01,  6.5452e-01,  7.0243e-01, -2.0946e-01,  2.1809e-01,\n",
            "          5.1742e-01,  3.0972e-01, -4.6944e-03, -4.8245e-01, -3.8483e-01,\n",
            "         -2.3828e-01,  6.9829e-01,  4.6608e-01, -3.3550e-01,  8.5306e-01,\n",
            "          7.3023e-01,  3.9191e-01, -3.9568e-03, -7.9153e-02,  9.9722e-01,\n",
            "         -2.1456e-01, -2.8317e-02, -3.8632e-01, -1.0000e-01, -3.0165e-01,\n",
            "         -4.9219e-01,  1.0000e+00,  2.9574e-01,  2.2594e-01, -9.9472e-01,\n",
            "         -7.1287e-01, -7.5024e-01,  9.9999e-01,  8.0786e-01, -6.4895e-01,\n",
            "          6.8074e-01,  6.3742e-01, -1.0956e-01,  8.1029e-01, -1.0756e-01,\n",
            "          4.6588e-03,  1.1928e-01, -1.1600e-02,  9.5941e-01, -5.2946e-01,\n",
            "         -9.8258e-01, -5.2490e-01,  3.7663e-01, -9.6511e-01,  9.9846e-01,\n",
            "         -5.0331e-01, -4.5435e-04, -3.3077e-01, -2.1201e-01,  3.2646e-01,\n",
            "         -6.7326e-03, -9.8287e-01, -1.3347e-01,  2.9234e-01,  9.7308e-01,\n",
            "          1.5679e-01, -5.4844e-01, -8.9320e-01,  4.0990e-01,  6.1854e-01,\n",
            "         -6.4802e-01, -9.1470e-01,  9.7121e-01, -9.6928e-01,  7.0413e-01,\n",
            "          1.0000e+00,  3.6329e-01, -3.2063e-01,  2.4563e-01, -3.2744e-01,\n",
            "          1.9246e-01, -5.3137e-01,  7.0296e-01, -9.5095e-01, -2.5944e-01,\n",
            "         -1.4629e-02,  2.8195e-01, -4.7291e-02, -5.4025e-01,  6.7914e-01,\n",
            "          5.6630e-02, -4.4338e-01, -4.6720e-01,  1.1194e-02,  4.0404e-01,\n",
            "          7.9111e-01, -2.0941e-01, -1.2972e-01,  2.2183e-01, -8.1318e-02,\n",
            "         -8.8287e-01, -3.4020e-01, -1.7775e-01, -9.9986e-01,  5.5822e-01,\n",
            "         -1.0000e+00,  2.5730e-01, -3.4208e-01, -1.6139e-01,  8.7999e-01,\n",
            "          6.7218e-01,  4.5507e-01, -7.4115e-01, -4.8669e-01,  7.7846e-01,\n",
            "          7.0886e-01, -3.6005e-01, -4.3285e-01, -5.8041e-01,  4.8101e-02,\n",
            "          1.1436e-02,  6.0889e-02, -4.3615e-01,  7.1845e-01, -1.7781e-01,\n",
            "          1.0000e+00,  2.2958e-01, -7.3329e-01, -9.1891e-01,  1.6980e-01,\n",
            "         -1.5178e-01,  1.0000e+00, -8.1373e-01, -9.5524e-01,  1.5849e-01,\n",
            "         -6.8791e-01, -7.9452e-01,  3.2056e-01,  8.7094e-02, -7.9839e-01,\n",
            "         -8.5531e-01,  8.9102e-01,  8.5118e-01, -4.9507e-01,  5.6945e-01,\n",
            "         -2.7282e-01, -5.4464e-01,  8.1535e-02,  5.5067e-01,  9.8805e-01,\n",
            "          2.7194e-01,  8.7715e-01,  1.9208e-01, -2.5301e-01,  9.6342e-01,\n",
            "          2.9161e-01,  1.8237e-01,  1.7345e-01,  1.0000e+00,  3.8467e-01,\n",
            "         -8.9893e-01, -4.5107e-02, -9.7000e-01, -3.1367e-01, -9.4303e-01,\n",
            "          2.3204e-01,  3.1699e-01,  9.0780e-01, -2.1993e-01,  9.5996e-01,\n",
            "         -2.7767e-01,  7.1469e-03, -6.2855e-01, -1.1477e-01,  3.8994e-01,\n",
            "         -9.2133e-01, -9.8821e-01, -9.8876e-01,  6.0513e-01, -4.0432e-01,\n",
            "          6.9527e-02,  2.4421e-01,  7.0361e-02,  2.8076e-01,  3.6318e-01,\n",
            "         -1.0000e+00,  9.3712e-01,  3.0607e-01,  4.4377e-01,  9.8062e-01,\n",
            "          7.1619e-01,  5.4201e-01,  1.3643e-01, -9.8727e-01, -9.5953e-01,\n",
            "         -3.0969e-01, -2.7543e-01,  6.2360e-01,  6.5789e-01,  8.3749e-01,\n",
            "          4.8929e-01, -4.9271e-01, -3.4968e-01, -1.9067e-01, -8.2789e-01,\n",
            "         -9.9385e-01,  4.5040e-01, -2.5467e-02, -9.3152e-01,  9.5587e-01,\n",
            "         -5.5569e-01, -1.1410e-01,  3.2617e-01, -3.4228e-01,  7.2952e-01,\n",
            "          6.4483e-01,  3.0586e-01,  4.2899e-02,  4.3886e-01,  8.9439e-01,\n",
            "          8.9915e-01,  9.8621e-01, -4.4492e-01,  6.2795e-01, -4.6241e-01,\n",
            "          2.8836e-01,  8.6839e-01, -9.0711e-01,  1.0986e-01,  4.3687e-01,\n",
            "         -8.1681e-02,  2.1128e-01, -2.2497e-01, -9.0208e-01,  6.7804e-01,\n",
            "         -3.7552e-01,  5.2533e-01, -2.9778e-01,  1.6568e-01, -3.1417e-01,\n",
            "         -1.5696e-01, -6.9725e-01, -6.4799e-01,  5.7321e-01,  5.0902e-01,\n",
            "          9.2017e-01,  6.1650e-01, -2.3582e-02, -8.2932e-01, -2.6056e-01,\n",
            "         -2.2805e-02, -9.1504e-01,  7.6246e-01, -9.1200e-02,  4.6674e-01,\n",
            "          5.3029e-01, -1.3624e-02,  8.3729e-01, -3.4542e-01, -2.9016e-01,\n",
            "         -2.1708e-01, -6.8797e-01,  6.5919e-01, -6.8324e-01, -5.5278e-01,\n",
            "         -6.2174e-01,  7.0175e-01,  2.9782e-01,  9.9970e-01, -3.6822e-01,\n",
            "         -6.3923e-01, -3.5090e-01, -4.2436e-01,  2.5821e-01, -3.8964e-01,\n",
            "         -1.0000e+00,  3.0590e-01, -1.6680e-01,  3.5127e-01, -7.3396e-01,\n",
            "          6.0493e-01, -5.6071e-01, -9.5905e-01, -2.5871e-01,  6.3327e-01,\n",
            "          4.6768e-01, -4.5612e-01, -7.4110e-01,  4.2802e-01, -1.3017e-01,\n",
            "          9.2795e-01,  7.3573e-01, -4.1562e-01,  5.8716e-01,  5.7983e-01,\n",
            "         -3.1500e-01, -6.4213e-01,  9.0545e-01]], grad_fn=<TanhBackward0>), hidden_states=None, past_key_values=None, attentions=None, cross_attentions=None)\n"
          ]
        }
      ],
      "source": [
        "from transformers import BertTokenizer,BertModel\n",
        "tokenizer = BertTokenizer.from_pretrained('bert-base-uncased')\n",
        "model = BertModel.from_pretrained(\"bert-base-uncased\")\n",
        "text=\"my bank account\"\n",
        "encoded_input = tokenizer(text, max_length=100,\n",
        "         add_special_tokens=True, truncation=True,\n",
        "         padding=True, return_tensors=\"pt\")\n",
        "output = model(**encoded_input)\n",
        "print(output[0].shape)\n",
        "print(output)"
      ]
    },
    {
      "cell_type": "markdown",
      "metadata": {
        "id": "ORld20MdO5Cr"
      },
      "source": [
        "### 解碼器\n"
      ]
    },
    {
      "cell_type": "code",
      "execution_count": null,
      "metadata": {
        "id": "4nxtlYyVO5Cr",
        "outputId": "587b74cf-b7be-40bc-8b6a-5dcd8a071cb6",
        "colab": {
          "base_uri": "https://localhost:8080/"
        }
      },
      "outputs": [
        {
          "output_type": "stream",
          "name": "stdout",
          "text": [
            "torch.Size([1, 8, 768])\n",
            "BaseModelOutputWithPoolingAndCrossAttentions(last_hidden_state=tensor([[[-0.5190,  0.2387, -0.3949,  ..., -0.0035,  0.0796,  0.2924],\n",
            "         [ 0.5795,  0.4453,  0.0075,  ...,  0.0364,  0.0774,  0.4440],\n",
            "         [ 1.2324, -0.3925,  0.2721,  ..., -0.7919, -0.1087, -0.3817],\n",
            "         [-0.4921, -0.9572, -0.7413,  ..., -0.0015, -0.3351,  0.4957],\n",
            "         [ 0.8211,  0.1658, -0.1855,  ...,  0.0710, -0.6693, -0.3189]]],\n",
            "       grad_fn=<NativeLayerNormBackward0>), pooler_output=tensor([[-8.2991e-01, -3.3579e-01, -5.3743e-01,  6.9344e-01,  4.6962e-01,\n",
            "         -1.6712e-01,  7.5686e-01,  1.5057e-01, -5.3369e-01, -9.9988e-01,\n",
            "         -4.2301e-01,  9.3534e-01,  9.8397e-01,  2.3557e-01,  9.1207e-01,\n",
            "         -6.9858e-01, -5.6143e-01, -6.1538e-01,  2.7067e-01, -3.8682e-01,\n",
            "          6.2639e-01,  9.9945e-01,  9.4961e-02,  2.6180e-01,  3.8694e-01,\n",
            "          9.8186e-01, -6.8193e-01,  9.0472e-01,  9.5478e-01,  6.7263e-01,\n",
            "         -4.1708e-01,  1.2815e-01, -9.9297e-01,  4.7209e-02, -5.9190e-01,\n",
            "         -9.9011e-01,  4.1752e-01, -6.8841e-01,  2.7822e-01,  8.2669e-02,\n",
            "         -9.2436e-01,  1.6388e-01,  9.9968e-01,  1.1050e-03,  5.2164e-01,\n",
            "         -1.5485e-01, -1.0000e+00,  9.2234e-02, -8.8989e-01,  6.7286e-01,\n",
            "          6.7240e-01,  6.4727e-01,  1.6199e-01,  4.7518e-01,  4.7403e-01,\n",
            "         -2.6987e-01, -1.7680e-01,  1.5724e-01, -1.9684e-01, -4.6707e-01,\n",
            "         -6.1293e-01,  3.8658e-01, -7.7401e-01, -8.6267e-01,  8.0041e-01,\n",
            "          2.3009e-01, -9.3604e-02, -3.0093e-01,  4.6857e-02, -1.3195e-01,\n",
            "          7.2922e-01,  1.7589e-01,  3.4818e-01, -7.6980e-01,  4.8630e-02,\n",
            "          9.6422e-02, -5.7094e-01,  1.0000e+00, -6.5411e-01, -9.8673e-01,\n",
            "          5.0265e-01,  1.4860e-01,  3.9712e-01,  2.6428e-01, -2.6819e-01,\n",
            "         -1.0000e+00,  4.2684e-01, -1.7428e-01, -9.9267e-01,  8.4882e-02,\n",
            "          6.8844e-01, -1.7366e-01, -3.8331e-01,  4.7171e-01, -2.5852e-01,\n",
            "         -4.0630e-01, -2.7552e-01, -5.7236e-01, -5.9062e-02, -4.3016e-01,\n",
            "          5.5806e-02, -1.3494e-01, -7.2397e-02, -1.5252e-01,  2.1429e-01,\n",
            "         -4.7366e-01, -4.7630e-01,  1.1098e-01, -1.3635e-01,  5.5558e-01,\n",
            "          1.8160e-01, -3.6638e-01,  3.7076e-01, -9.5932e-01,  6.6278e-01,\n",
            "         -2.1324e-01, -9.8998e-01, -4.3778e-01, -9.9342e-01,  7.1310e-01,\n",
            "         -3.8270e-01, -2.5402e-01,  9.4890e-01,  2.1804e-01,  2.4033e-01,\n",
            "          2.0836e-01, -7.0539e-01, -1.0000e+00, -7.6656e-01, -4.5798e-01,\n",
            "          2.2248e-01, -1.6171e-01, -9.8393e-01, -9.7151e-01,  4.5784e-01,\n",
            "          9.1563e-01, -3.6186e-02,  9.9871e-01, -2.1618e-01,  9.3308e-01,\n",
            "         -5.2225e-03, -5.1523e-01,  3.5614e-01, -2.8115e-01,  6.1946e-01,\n",
            "          1.7747e-01, -5.5381e-01,  2.1746e-01, -4.2021e-01,  1.1727e-01,\n",
            "         -5.6034e-01, -1.3381e-01, -3.9526e-01, -9.2893e-01, -1.7769e-01,\n",
            "          9.3609e-01, -3.4180e-01, -5.7533e-01,  3.2268e-01, -1.5201e-01,\n",
            "         -4.5933e-01,  7.0986e-01,  7.8679e-01,  3.7117e-01, -3.1500e-01,\n",
            "          3.3283e-01, -2.9172e-01,  4.8964e-01, -7.1257e-01,  5.8177e-02,\n",
            "          3.0516e-01, -2.4693e-01, -2.6390e-01, -9.8467e-01, -3.8638e-01,\n",
            "          1.9015e-01,  9.9238e-01,  5.5645e-01,  3.1976e-01,  6.4088e-01,\n",
            "         -2.0997e-01,  8.0361e-01, -9.5851e-01,  9.8452e-01, -2.3549e-01,\n",
            "          1.8095e-01, -2.7705e-01, -1.1566e-01, -8.7112e-01, -3.2674e-01,\n",
            "          7.3544e-01, -6.9583e-01, -8.0340e-01,  5.3328e-02, -3.9273e-01,\n",
            "         -3.0369e-01, -6.1604e-01,  3.5239e-01, -4.2756e-01, -1.8013e-01,\n",
            "          3.4946e-04,  9.2388e-01,  9.3883e-01,  7.9017e-01, -2.2637e-01,\n",
            "          5.3688e-01, -8.9521e-01, -5.7085e-01,  1.5069e-01,  2.5699e-01,\n",
            "          1.8250e-01,  9.9509e-01, -3.3463e-01, -8.3670e-02, -8.8582e-01,\n",
            "         -9.8924e-01, -1.6716e-01, -9.2542e-01, -2.0433e-01, -6.5980e-01,\n",
            "          5.2316e-01, -7.9788e-02, -1.7294e-01,  2.8374e-01, -9.3789e-01,\n",
            "         -7.1240e-01,  5.0908e-01, -3.4298e-01,  1.8769e-01, -2.8457e-01,\n",
            "          8.8235e-01,  6.9506e-01, -5.4880e-01,  6.2520e-01,  9.3235e-01,\n",
            "         -5.2749e-01, -7.7616e-01,  7.5609e-01, -2.6175e-01,  7.0452e-01,\n",
            "         -5.2518e-01,  9.6926e-01,  8.1159e-01,  7.5992e-01, -8.8196e-01,\n",
            "         -2.4538e-01, -8.0059e-01, -6.5694e-02, -1.0189e-01, -6.0738e-01,\n",
            "          5.6021e-01,  3.0969e-01,  4.1090e-01,  8.0866e-01, -5.9343e-01,\n",
            "          9.8452e-01, -8.7141e-01, -9.7110e-01, -6.1845e-01, -1.8488e-01,\n",
            "         -9.9225e-01,  6.5710e-01,  2.2200e-01,  2.8729e-01, -4.5093e-01,\n",
            "         -4.0115e-01, -9.7024e-01,  7.5808e-01,  5.8085e-02,  9.4815e-01,\n",
            "         -9.8198e-02, -9.0649e-01, -4.9630e-01, -9.4962e-01, -9.3922e-02,\n",
            "         -1.3317e-01, -1.4791e-01, -1.9711e-01, -9.4643e-01,  4.7608e-01,\n",
            "          5.6679e-01,  4.5847e-01,  3.1559e-02,  9.9424e-01,  1.0000e+00,\n",
            "          9.7713e-01,  8.9511e-01,  6.9574e-01, -9.9694e-01, -6.2601e-01,\n",
            "          9.9994e-01, -9.7634e-01, -1.0000e+00, -9.2631e-01, -7.2638e-01,\n",
            "          2.8418e-01, -1.0000e+00, -1.1722e-02,  1.7800e-01, -9.1199e-01,\n",
            "          2.3219e-01,  9.8003e-01,  9.8021e-01, -1.0000e+00,  8.1057e-01,\n",
            "          9.0818e-01, -5.3967e-01,  9.4512e-01, -3.4232e-01,  9.6973e-01,\n",
            "          1.4685e-01,  4.6159e-01,  5.0390e-02,  3.3880e-01, -6.6106e-01,\n",
            "         -7.9230e-01, -2.5929e-02, -3.2581e-01,  9.8274e-01,  1.7834e-01,\n",
            "         -7.2009e-01, -8.7900e-01,  5.9275e-01, -2.9467e-01,  2.8737e-02,\n",
            "         -9.5928e-01, -1.3171e-02,  3.1511e-01,  7.9837e-01,  9.3939e-02,\n",
            "          1.3706e-01, -6.0004e-01,  1.4585e-01, -3.7070e-01,  3.6446e-02,\n",
            "          5.5450e-01, -8.8880e-01, -3.6851e-01, -5.8430e-01, -3.8209e-01,\n",
            "          1.3595e-01, -9.6890e-01,  9.6236e-01, -2.5246e-01,  7.1690e-01,\n",
            "          1.0000e+00,  3.9173e-01, -8.2090e-01,  5.7621e-01,  3.2610e-01,\n",
            "         -4.6879e-01,  1.0000e+00,  7.8817e-01, -9.8603e-01, -4.3871e-01,\n",
            "          2.6131e-01, -4.7459e-01, -5.4100e-01,  9.9768e-01, -3.1617e-01,\n",
            "         -3.1422e-01, -2.0026e-01,  9.8946e-01, -9.9456e-01,  9.4721e-01,\n",
            "         -8.5670e-01, -9.7603e-01,  9.6797e-01,  9.3063e-01, -5.8567e-01,\n",
            "         -6.4624e-01,  5.1217e-02,  9.7176e-02,  2.3103e-01, -9.1057e-01,\n",
            "          6.5711e-01,  4.8043e-01, -4.6504e-02,  9.2250e-01, -7.0457e-01,\n",
            "         -4.5829e-01,  3.6204e-01, -4.6299e-01,  2.3373e-01,  6.8349e-01,\n",
            "          4.5333e-01, -1.1528e-01, -6.8627e-02, -2.1775e-01, -6.1347e-01,\n",
            "         -9.6198e-01,  5.4808e-01,  1.0000e+00, -8.1975e-03,  6.3313e-01,\n",
            "         -6.4011e-02,  1.8633e-01, -2.0412e-01,  4.0093e-01,  3.1402e-01,\n",
            "         -3.3602e-01, -6.3257e-01,  5.9399e-01, -9.0497e-01, -9.9342e-01,\n",
            "          6.1852e-01,  1.7318e-01, -2.8446e-01,  9.9994e-01,  3.7038e-01,\n",
            "          1.9779e-01, -1.0545e-02,  9.5516e-01, -3.5020e-02,  4.2860e-01,\n",
            "          4.4639e-01,  9.8371e-01, -2.0979e-01,  5.2891e-01,  7.6202e-01,\n",
            "         -6.4803e-01, -1.8325e-01, -5.9507e-01,  7.9268e-02, -9.5702e-01,\n",
            "          1.7548e-01, -9.6181e-01,  9.6991e-01,  8.2865e-01,  2.8925e-01,\n",
            "          1.2761e-01,  6.7752e-01,  1.0000e+00, -6.4824e-01,  5.9938e-01,\n",
            "         -1.8585e-01,  7.9963e-01, -9.9695e-01, -7.1458e-01, -4.3104e-01,\n",
            "          2.8406e-02, -4.9230e-01, -2.9466e-01,  1.1641e-01, -9.7134e-01,\n",
            "          2.7032e-01,  3.5505e-01, -9.7272e-01, -9.9392e-01,  6.0958e-02,\n",
            "          7.2388e-01,  1.1136e-02, -9.5512e-01, -7.5393e-01, -6.4209e-01,\n",
            "          4.5185e-01, -1.4345e-01, -9.5379e-01,  2.2030e-01, -1.9854e-01,\n",
            "          3.2439e-01,  6.7556e-02,  5.4345e-01,  3.8866e-01,  8.8184e-01,\n",
            "         -5.4938e-01, -3.1143e-01, -3.1322e-02, -8.6462e-01,  8.6971e-01,\n",
            "         -6.8762e-01, -6.7779e-01, -2.7539e-02,  1.0000e+00, -4.5779e-01,\n",
            "          5.6148e-01,  6.5452e-01,  7.0243e-01, -2.0946e-01,  2.1809e-01,\n",
            "          5.1742e-01,  3.0972e-01, -4.6944e-03, -4.8245e-01, -3.8483e-01,\n",
            "         -2.3828e-01,  6.9829e-01,  4.6608e-01, -3.3550e-01,  8.5306e-01,\n",
            "          7.3023e-01,  3.9191e-01, -3.9568e-03, -7.9153e-02,  9.9722e-01,\n",
            "         -2.1456e-01, -2.8317e-02, -3.8632e-01, -1.0000e-01, -3.0165e-01,\n",
            "         -4.9219e-01,  1.0000e+00,  2.9574e-01,  2.2594e-01, -9.9472e-01,\n",
            "         -7.1287e-01, -7.5024e-01,  9.9999e-01,  8.0786e-01, -6.4895e-01,\n",
            "          6.8074e-01,  6.3742e-01, -1.0956e-01,  8.1029e-01, -1.0756e-01,\n",
            "          4.6588e-03,  1.1928e-01, -1.1600e-02,  9.5941e-01, -5.2946e-01,\n",
            "         -9.8258e-01, -5.2490e-01,  3.7663e-01, -9.6511e-01,  9.9846e-01,\n",
            "         -5.0331e-01, -4.5435e-04, -3.3077e-01, -2.1201e-01,  3.2646e-01,\n",
            "         -6.7326e-03, -9.8287e-01, -1.3347e-01,  2.9234e-01,  9.7308e-01,\n",
            "          1.5679e-01, -5.4844e-01, -8.9320e-01,  4.0990e-01,  6.1854e-01,\n",
            "         -6.4802e-01, -9.1470e-01,  9.7121e-01, -9.6928e-01,  7.0413e-01,\n",
            "          1.0000e+00,  3.6329e-01, -3.2063e-01,  2.4563e-01, -3.2744e-01,\n",
            "          1.9246e-01, -5.3137e-01,  7.0296e-01, -9.5095e-01, -2.5944e-01,\n",
            "         -1.4629e-02,  2.8195e-01, -4.7291e-02, -5.4025e-01,  6.7914e-01,\n",
            "          5.6630e-02, -4.4338e-01, -4.6720e-01,  1.1194e-02,  4.0404e-01,\n",
            "          7.9111e-01, -2.0941e-01, -1.2972e-01,  2.2183e-01, -8.1318e-02,\n",
            "         -8.8287e-01, -3.4020e-01, -1.7775e-01, -9.9986e-01,  5.5822e-01,\n",
            "         -1.0000e+00,  2.5730e-01, -3.4208e-01, -1.6139e-01,  8.7999e-01,\n",
            "          6.7218e-01,  4.5507e-01, -7.4115e-01, -4.8669e-01,  7.7846e-01,\n",
            "          7.0886e-01, -3.6005e-01, -4.3285e-01, -5.8041e-01,  4.8101e-02,\n",
            "          1.1436e-02,  6.0889e-02, -4.3615e-01,  7.1845e-01, -1.7781e-01,\n",
            "          1.0000e+00,  2.2958e-01, -7.3329e-01, -9.1891e-01,  1.6980e-01,\n",
            "         -1.5178e-01,  1.0000e+00, -8.1373e-01, -9.5524e-01,  1.5849e-01,\n",
            "         -6.8791e-01, -7.9452e-01,  3.2056e-01,  8.7094e-02, -7.9839e-01,\n",
            "         -8.5531e-01,  8.9102e-01,  8.5118e-01, -4.9507e-01,  5.6945e-01,\n",
            "         -2.7282e-01, -5.4464e-01,  8.1535e-02,  5.5067e-01,  9.8805e-01,\n",
            "          2.7194e-01,  8.7715e-01,  1.9208e-01, -2.5301e-01,  9.6342e-01,\n",
            "          2.9161e-01,  1.8237e-01,  1.7345e-01,  1.0000e+00,  3.8467e-01,\n",
            "         -8.9893e-01, -4.5107e-02, -9.7000e-01, -3.1367e-01, -9.4303e-01,\n",
            "          2.3204e-01,  3.1699e-01,  9.0780e-01, -2.1993e-01,  9.5996e-01,\n",
            "         -2.7767e-01,  7.1469e-03, -6.2855e-01, -1.1477e-01,  3.8994e-01,\n",
            "         -9.2133e-01, -9.8821e-01, -9.8876e-01,  6.0513e-01, -4.0432e-01,\n",
            "          6.9527e-02,  2.4421e-01,  7.0361e-02,  2.8076e-01,  3.6318e-01,\n",
            "         -1.0000e+00,  9.3712e-01,  3.0607e-01,  4.4377e-01,  9.8062e-01,\n",
            "          7.1619e-01,  5.4201e-01,  1.3643e-01, -9.8727e-01, -9.5953e-01,\n",
            "         -3.0969e-01, -2.7543e-01,  6.2360e-01,  6.5789e-01,  8.3749e-01,\n",
            "          4.8929e-01, -4.9271e-01, -3.4968e-01, -1.9067e-01, -8.2789e-01,\n",
            "         -9.9385e-01,  4.5040e-01, -2.5467e-02, -9.3152e-01,  9.5587e-01,\n",
            "         -5.5569e-01, -1.1410e-01,  3.2617e-01, -3.4228e-01,  7.2952e-01,\n",
            "          6.4483e-01,  3.0586e-01,  4.2899e-02,  4.3886e-01,  8.9439e-01,\n",
            "          8.9915e-01,  9.8621e-01, -4.4492e-01,  6.2795e-01, -4.6241e-01,\n",
            "          2.8836e-01,  8.6839e-01, -9.0711e-01,  1.0986e-01,  4.3687e-01,\n",
            "         -8.1681e-02,  2.1128e-01, -2.2497e-01, -9.0208e-01,  6.7804e-01,\n",
            "         -3.7552e-01,  5.2533e-01, -2.9778e-01,  1.6568e-01, -3.1417e-01,\n",
            "         -1.5696e-01, -6.9725e-01, -6.4799e-01,  5.7321e-01,  5.0902e-01,\n",
            "          9.2017e-01,  6.1650e-01, -2.3582e-02, -8.2932e-01, -2.6056e-01,\n",
            "         -2.2805e-02, -9.1504e-01,  7.6246e-01, -9.1200e-02,  4.6674e-01,\n",
            "          5.3029e-01, -1.3624e-02,  8.3729e-01, -3.4542e-01, -2.9016e-01,\n",
            "         -2.1708e-01, -6.8797e-01,  6.5919e-01, -6.8324e-01, -5.5278e-01,\n",
            "         -6.2174e-01,  7.0175e-01,  2.9782e-01,  9.9970e-01, -3.6822e-01,\n",
            "         -6.3923e-01, -3.5090e-01, -4.2436e-01,  2.5821e-01, -3.8964e-01,\n",
            "         -1.0000e+00,  3.0590e-01, -1.6680e-01,  3.5127e-01, -7.3396e-01,\n",
            "          6.0493e-01, -5.6071e-01, -9.5905e-01, -2.5871e-01,  6.3327e-01,\n",
            "          4.6768e-01, -4.5612e-01, -7.4110e-01,  4.2802e-01, -1.3017e-01,\n",
            "          9.2795e-01,  7.3573e-01, -4.1562e-01,  5.8716e-01,  5.7983e-01,\n",
            "         -3.1500e-01, -6.4213e-01,  9.0545e-01]], grad_fn=<TanhBackward0>), hidden_states=None, past_key_values=None, attentions=None, cross_attentions=None)\n"
          ]
        }
      ],
      "source": [
        "from transformers import AutoTokenizer, GPT2Model\n",
        "import torch\n",
        "\n",
        "tokenizer = AutoTokenizer.from_pretrained(\"openai-community/gpt2\")\n",
        "model = GPT2Model.from_pretrained(\"openai-community/gpt2\")\n",
        "\n",
        "inputs = tokenizer(\"Yes, Hello, my dog is cute\", return_tensors=\"pt\")\n",
        "outputs = model(**inputs)\n",
        "\n",
        "last_hidden_states = outputs.last_hidden_state\n",
        "print(last_hidden_states.shape)\n",
        "#print(model)\n",
        "print(output)"
      ]
    },
    {
      "cell_type": "code",
      "execution_count": null,
      "metadata": {
        "id": "jbCtG7i2O5Cr",
        "outputId": "c8d1d957-8b78-4e86-dc02-70d12b5819b4",
        "colab": {
          "base_uri": "https://localhost:8080/",
          "height": 258,
          "referenced_widgets": [
            "25c5509f628b403683c7673adff8625e",
            "0e696df0a4914aee9c87f42136b113a6",
            "408cedc750064e4f8bc03d501c0f148b",
            "c272181ef7314862857792637f6b2473",
            "097252748b96461fb289ab74afa36c0a",
            "5b89283e8a174971ac1616893d5ef257",
            "1c4f445b321c43968d95357abe6c92e5",
            "a9591c12b75345b098e1bab11032a9cb",
            "e2dd5874cf094d45a677092bd40e2b37",
            "6799dd6a77ad4b9fb8b4436bb751b458",
            "9780e36cc20247d0978e39281918ad1d",
            "f2282e5805d64626a454a9285693dcdf",
            "acbedbd58ad841d3adb1f8a825dcb176",
            "f02758063dba4dfc9ac4db9f2cfc1237",
            "e0b166728c564defb46be6545f541dfd",
            "07342bdeaa1a451b8cd9d1679f379bdf",
            "cf6e99878c934341888d5f52737ced2a",
            "23574c96899a4a87bed74f8936d723a5",
            "53ca2de163994040b7d86dadda34802c",
            "b754a970ada64e61bd661f3e3d1c1fd9",
            "fdd1da83cf9f4c1fa7b7a5fd7929414e",
            "7d11f2093a3f43e4a466c55fa62b7308",
            "bd92ac879b374ad099f3555c2195cd9b",
            "30e887eb979942e0bcf45c54427704ea",
            "a402709249db4bdbab6b5d4266e501fa",
            "45e6054110ff47578a57c713a7f53ffb",
            "39f975b6c3504819a7a20e16d082876e",
            "8afd6790b4924ff99d0a124271b4ba1d",
            "ee14fa5c99fa4aea91d35a19403021ed",
            "cca4c9a07bda42d58ecc235072a8623e",
            "7792d825885448caa5177fb30e8fb59a",
            "0bc0204ac86847b88624412e647792cd",
            "af81f058dceb457d9a5410f1dc90a806",
            "626aa243a18f4576a4aaee95e7c20536",
            "f6fa3d623d884d0eb593dc2b69d55c23",
            "e9bfd353a48541ad9634b175a78169bb",
            "fc8cb12ca66342cba3176aa448f5cf04",
            "6ec63fc6275d406883a04ebdbcca2226",
            "1fddbc7caecd4466a19c39440d6f5a01",
            "cee0361854b747c3998311d863c5c047",
            "5abdfa2c81f140dfa311ad7b2117ad42",
            "ea4234cdcd71438a87f5b33c74ff3b55",
            "7b88cf9169044bd88dafda9931aa6776",
            "ce3ff1271a5b49cdaeb75040da11a484",
            "bfea222f154241ec80773982fd9844d0",
            "bb70cb54953a4cdf860b0bd30551239a",
            "bfd5fff5493f43f3b7940b355b76bad2",
            "b1007d82cfc64d53bc229f45084ccd29",
            "c027dcc1790d4ab6960fd8333da8cdde",
            "bb7ce8d34b7445ba88a43d348aad9695",
            "3ea1d707fe1d4bb1beba62167d9a8c7d",
            "4a4c38f913004743b217dfc318619190",
            "ff55f7ee93da4ee5a864ba33ac69fc24",
            "d9f573e735544afda3a2ce55739b20fd",
            "cd4342ba29764d9bbc11ce840d288004",
            "89c23440abaf46228381cb51f2a0d620",
            "f05262a65bad4080b4ad8c2a0e7f04e0",
            "754f3a3191514ad098621200e43bb267",
            "54d6cceb81fb4a76996b3f43d7deea3b",
            "de3791f8a346446c92ccb57b14342126",
            "a3c7b5053fbd4e7b979a6e26ac36cf1e",
            "c03057ebaa9f4cd7a3d20f118d943849",
            "8c3ce8ed0ea74403bf48b04172aa7ca1",
            "a1698de0912a481398d8ecaa9a7012be",
            "d07bd29d9b6740c19ba2b2fa73fa2445",
            "acda884275ee4c4cbc494d11ca095148",
            "a294fe3a827648c9b26dab267ab38fd2",
            "362f467e85534b7e89c88cfc608b724b",
            "14d8e31e5bab4e00858406396ad19e36",
            "c289490599db4357978ca661cc55230c",
            "c08d04099d8f4f15a02324454cbb17df",
            "7d9b515569014f5ca0e0461e461d7d2d",
            "832702182e41473999ed0ad71ce4608f",
            "47deca2a5ea64206b211c62bab0e9e9a",
            "4d20cc1dfa7549ef89d9b457614be588",
            "b0b6a7f0d3854a0ca7d21fe2d6a9dd50",
            "73ca3e57c21643b08cf52191b79d5523"
          ]
        }
      },
      "outputs": [
        {
          "output_type": "display_data",
          "data": {
            "text/plain": [
              "tokenizer_config.json:   0%|          | 0.00/26.0 [00:00<?, ?B/s]"
            ],
            "application/vnd.jupyter.widget-view+json": {
              "version_major": 2,
              "version_minor": 0,
              "model_id": "25c5509f628b403683c7673adff8625e"
            }
          },
          "metadata": {}
        },
        {
          "output_type": "display_data",
          "data": {
            "text/plain": [
              "vocab.json:   0%|          | 0.00/1.04M [00:00<?, ?B/s]"
            ],
            "application/vnd.jupyter.widget-view+json": {
              "version_major": 2,
              "version_minor": 0,
              "model_id": "f2282e5805d64626a454a9285693dcdf"
            }
          },
          "metadata": {}
        },
        {
          "output_type": "display_data",
          "data": {
            "text/plain": [
              "merges.txt:   0%|          | 0.00/456k [00:00<?, ?B/s]"
            ],
            "application/vnd.jupyter.widget-view+json": {
              "version_major": 2,
              "version_minor": 0,
              "model_id": "bd92ac879b374ad099f3555c2195cd9b"
            }
          },
          "metadata": {}
        },
        {
          "output_type": "display_data",
          "data": {
            "text/plain": [
              "tokenizer.json:   0%|          | 0.00/1.36M [00:00<?, ?B/s]"
            ],
            "application/vnd.jupyter.widget-view+json": {
              "version_major": 2,
              "version_minor": 0,
              "model_id": "626aa243a18f4576a4aaee95e7c20536"
            }
          },
          "metadata": {}
        },
        {
          "output_type": "display_data",
          "data": {
            "text/plain": [
              "config.json:   0%|          | 0.00/665 [00:00<?, ?B/s]"
            ],
            "application/vnd.jupyter.widget-view+json": {
              "version_major": 2,
              "version_minor": 0,
              "model_id": "bfea222f154241ec80773982fd9844d0"
            }
          },
          "metadata": {}
        },
        {
          "output_type": "display_data",
          "data": {
            "text/plain": [
              "model.safetensors:   0%|          | 0.00/548M [00:00<?, ?B/s]"
            ],
            "application/vnd.jupyter.widget-view+json": {
              "version_major": 2,
              "version_minor": 0,
              "model_id": "89c23440abaf46228381cb51f2a0d620"
            }
          },
          "metadata": {}
        },
        {
          "output_type": "display_data",
          "data": {
            "text/plain": [
              "generation_config.json:   0%|          | 0.00/124 [00:00<?, ?B/s]"
            ],
            "application/vnd.jupyter.widget-view+json": {
              "version_major": 2,
              "version_minor": 0,
              "model_id": "a294fe3a827648c9b26dab267ab38fd2"
            }
          },
          "metadata": {}
        },
        {
          "output_type": "stream",
          "name": "stdout",
          "text": [
            "Logits shape: torch.Size([1, 9, 50257])\n"
          ]
        }
      ],
      "source": [
        "from transformers import GPT2Tokenizer, GPT2LMHeadModel\n",
        "import torch\n",
        "\n",
        "# 加載預訓練的GPT-2模型（帶有語言模型頭部的版本）和分詞器\n",
        "tokenizer = GPT2Tokenizer.from_pretrained('gpt2')\n",
        "model = GPT2LMHeadModel.from_pretrained('gpt2')\n",
        "\n",
        "# 準備輸入文字\n",
        "text = \"The quick brown fox jumps over the lazy dog\"\n",
        "inputs = tokenizer(text, return_tensors=\"pt\")\n",
        "\n",
        "# 獲取模型輸出\n",
        "with torch.no_grad():\n",
        "    outputs = model(**inputs)\n",
        "\n",
        "# logits 是應用softmax之前的輸出，直接對應於詞彙表的維度\n",
        "logits = outputs.logits\n",
        "\n",
        "# 展示logits的維度\n",
        "# 維度應該是 [批次大小, 序列長度, 詞彙表大小]\n",
        "print(\"Logits shape:\", logits.shape)\n"
      ]
    },
    {
      "cell_type": "markdown",
      "metadata": {
        "id": "5mlwfaoUO5Cs"
      },
      "source": [
        "### 序列到序列"
      ]
    },
    {
      "cell_type": "code",
      "execution_count": null,
      "metadata": {
        "id": "EXtA_MHbO5Cs",
        "outputId": "68b208a0-d002-4092-8843-2a3a87efb71a",
        "colab": {
          "base_uri": "https://localhost:8080/",
          "height": 1000,
          "referenced_widgets": [
            "d0008dcd3c82401092e899618438ecde",
            "c6b21c46c69d4f5b9529cef904b175a2",
            "e516c53a8b304ca0b05d5386ece9701e",
            "e0fab6971f7e4561873206450b532c54",
            "8de55a3d4085477eba8769c6dd3517fc",
            "8a5f24080ec2411eb4537771e3380d32",
            "dfd7d36079104b72ad8a65291c5ede49",
            "5670c945cebb44b79cf9f4b02a115646",
            "4ec83da6a6cc48479cce18413a3350f2",
            "5c2c027fc8cc4ddb884ea3402bb19c2a",
            "d718d5214ecc4c8daf272ee36844816f",
            "a3df46215a9448d99c83237ffa69efde",
            "1deedd3ea24f46f2aaa1451a0a831ffd",
            "69ff8abacc2f4395ae0d83c92239d1f8",
            "c19e26b02ff84fda812005a7fe71f2e3",
            "6a070437343a438aae3c1597caa91c9f",
            "7666a2a7f99a448eb5a0be584bd79076",
            "7fea7186294a4882802ca2a5081580cb",
            "a1f4ee93a5d841dab007e94833c62981",
            "dd1049b5f775452a8b3817186ffbe114",
            "1f04b27c7e2a4d1fac6206bf5d5810fd",
            "d8b81a22bf604565b2e42e9bad665a2f",
            "93513f733a4d4cfc9bdb2587ad4df24b",
            "57e4fb7834614602b660800ad4b47c29",
            "e2bde6f89e92401d915766062f3f8b4e",
            "e6a84e5d40484607a64c95130e37c3f1",
            "d303fd1889b64b0e98d74baae74fa468",
            "e3624b2ea86349eeb0b64a431ef8689d",
            "405817a08b0a4d61a6ea7a217962befc",
            "81846c81236242e6ac45deb9cb67f84b",
            "7f64a50639654463851a8535ebba4b3a",
            "36403f63b1a74f95a63563f9ba3ddea6",
            "9c72a747479d4653a9f1d2496ee9771d",
            "03acb75015da4fc08284eae56e9ad2ed",
            "863b45dc7d514522a1c518db187c0d7f",
            "1c64feeb16314796bf9e48550a393b94",
            "1ac58b6bb65e4761aafb95db653c889c",
            "e0082082d9e74b0ab201f008dedc66c9",
            "8e5c27ff1b5e453e9dae6d3456132731",
            "794703ac6bff4457a0438be4796617b2",
            "0588389bbd7043a7be8c14ab210fa44a",
            "0b03214eee7643d9848c9f3ba7d903e7",
            "e32065c055ea4b789ef378948a056b83",
            "696b9e3b194d4485b56c0d50492f4d71",
            "0caa98eed1ba40538108a2f299118c43",
            "3220339f144c4a64b9e2ea122f47a1c0",
            "c6e3b1ae06ab4a268bc404199e30a9ef",
            "586aed9cc8354bb9ad7bfcb5817d6de8",
            "e65126d0493c46cab07fffc77b2fefb4",
            "ad7430d8e2cd4ea183878c01995e13c8",
            "2cd9edff396649fabf1789d1f3465646",
            "cd84fe616f8249eab2ccbd6ddbfabe6b",
            "c7136283b4894bd9be243736b152c72b",
            "4da3a192404045cd85b4e40405d252cf",
            "f3660aa205c54aa48e5b479649fe37b5"
          ]
        }
      },
      "outputs": [
        {
          "output_type": "display_data",
          "data": {
            "text/plain": [
              "config.json:   0%|          | 0.00/553 [00:00<?, ?B/s]"
            ],
            "application/vnd.jupyter.widget-view+json": {
              "version_major": 2,
              "version_minor": 0,
              "model_id": "d0008dcd3c82401092e899618438ecde"
            }
          },
          "metadata": {}
        },
        {
          "output_type": "display_data",
          "data": {
            "text/plain": [
              "pytorch_model.bin:   0%|          | 0.00/1.20G [00:00<?, ?B/s]"
            ],
            "application/vnd.jupyter.widget-view+json": {
              "version_major": 2,
              "version_minor": 0,
              "model_id": "a3df46215a9448d99c83237ffa69efde"
            }
          },
          "metadata": {}
        },
        {
          "output_type": "display_data",
          "data": {
            "text/plain": [
              "tokenizer_config.json:   0%|          | 0.00/82.0 [00:00<?, ?B/s]"
            ],
            "application/vnd.jupyter.widget-view+json": {
              "version_major": 2,
              "version_minor": 0,
              "model_id": "93513f733a4d4cfc9bdb2587ad4df24b"
            }
          },
          "metadata": {}
        },
        {
          "output_type": "display_data",
          "data": {
            "text/plain": [
              "spiece.model:   0%|          | 0.00/4.31M [00:00<?, ?B/s]"
            ],
            "application/vnd.jupyter.widget-view+json": {
              "version_major": 2,
              "version_minor": 0,
              "model_id": "03acb75015da4fc08284eae56e9ad2ed"
            }
          },
          "metadata": {}
        },
        {
          "output_type": "display_data",
          "data": {
            "text/plain": [
              "special_tokens_map.json:   0%|          | 0.00/99.0 [00:00<?, ?B/s]"
            ],
            "application/vnd.jupyter.widget-view+json": {
              "version_major": 2,
              "version_minor": 0,
              "model_id": "0caa98eed1ba40538108a2f299118c43"
            }
          },
          "metadata": {}
        },
        {
          "output_type": "stream",
          "name": "stderr",
          "text": [
            "You are using the default legacy behaviour of the <class 'transformers.models.t5.tokenization_t5.T5Tokenizer'>. This is expected, and simply means that the `legacy` (previous) behavior will be used so nothing changes for you. If you want to use the new behaviour, set `legacy=False`. This should only be set if you understand what it means, and thoroughly read the reason why this was added as explained in https://github.com/huggingface/transformers/pull/24565\n"
          ]
        },
        {
          "output_type": "stream",
          "name": "stdout",
          "text": [
            "MT5EncoderModel(\n",
            "  (shared): Embedding(250112, 512)\n",
            "  (encoder): MT5Stack(\n",
            "    (embed_tokens): Embedding(250112, 512)\n",
            "    (block): ModuleList(\n",
            "      (0): MT5Block(\n",
            "        (layer): ModuleList(\n",
            "          (0): MT5LayerSelfAttention(\n",
            "            (SelfAttention): MT5Attention(\n",
            "              (q): Linear(in_features=512, out_features=384, bias=False)\n",
            "              (k): Linear(in_features=512, out_features=384, bias=False)\n",
            "              (v): Linear(in_features=512, out_features=384, bias=False)\n",
            "              (o): Linear(in_features=384, out_features=512, bias=False)\n",
            "              (relative_attention_bias): Embedding(32, 6)\n",
            "            )\n",
            "            (layer_norm): MT5LayerNorm()\n",
            "            (dropout): Dropout(p=0.1, inplace=False)\n",
            "          )\n",
            "          (1): MT5LayerFF(\n",
            "            (DenseReluDense): MT5DenseGatedActDense(\n",
            "              (wi_0): Linear(in_features=512, out_features=1024, bias=False)\n",
            "              (wi_1): Linear(in_features=512, out_features=1024, bias=False)\n",
            "              (wo): Linear(in_features=1024, out_features=512, bias=False)\n",
            "              (dropout): Dropout(p=0.1, inplace=False)\n",
            "              (act): NewGELUActivation()\n",
            "            )\n",
            "            (layer_norm): MT5LayerNorm()\n",
            "            (dropout): Dropout(p=0.1, inplace=False)\n",
            "          )\n",
            "        )\n",
            "      )\n",
            "      (1-7): 7 x MT5Block(\n",
            "        (layer): ModuleList(\n",
            "          (0): MT5LayerSelfAttention(\n",
            "            (SelfAttention): MT5Attention(\n",
            "              (q): Linear(in_features=512, out_features=384, bias=False)\n",
            "              (k): Linear(in_features=512, out_features=384, bias=False)\n",
            "              (v): Linear(in_features=512, out_features=384, bias=False)\n",
            "              (o): Linear(in_features=384, out_features=512, bias=False)\n",
            "            )\n",
            "            (layer_norm): MT5LayerNorm()\n",
            "            (dropout): Dropout(p=0.1, inplace=False)\n",
            "          )\n",
            "          (1): MT5LayerFF(\n",
            "            (DenseReluDense): MT5DenseGatedActDense(\n",
            "              (wi_0): Linear(in_features=512, out_features=1024, bias=False)\n",
            "              (wi_1): Linear(in_features=512, out_features=1024, bias=False)\n",
            "              (wo): Linear(in_features=1024, out_features=512, bias=False)\n",
            "              (dropout): Dropout(p=0.1, inplace=False)\n",
            "              (act): NewGELUActivation()\n",
            "            )\n",
            "            (layer_norm): MT5LayerNorm()\n",
            "            (dropout): Dropout(p=0.1, inplace=False)\n",
            "          )\n",
            "        )\n",
            "      )\n",
            "    )\n",
            "    (final_layer_norm): MT5LayerNorm()\n",
            "    (dropout): Dropout(p=0.1, inplace=False)\n",
            "  )\n",
            ")\n"
          ]
        }
      ],
      "source": [
        "from transformers import MT5EncoderModel, T5Tokenizer\n",
        "\n",
        "# 加載模型和分詞器\n",
        "model_name = 'google/mt5-small' # 可以根據需要選擇不同大小的MT5模型\n",
        "model = MT5EncoderModel.from_pretrained(model_name)\n",
        "tokenizer = T5Tokenizer.from_pretrained(model_name)\n",
        "print(model)"
      ]
    },
    {
      "cell_type": "markdown",
      "metadata": {
        "id": "2fj6U6ToO5Cs"
      },
      "source": [
        "### 偏見及問題"
      ]
    },
    {
      "cell_type": "code",
      "execution_count": null,
      "metadata": {
        "id": "Wp0u2HppO5Cs",
        "outputId": "555a7d97-640e-40af-ff25-8f267eeb2c27",
        "colab": {
          "base_uri": "https://localhost:8080/"
        }
      },
      "outputs": [
        {
          "output_type": "stream",
          "name": "stderr",
          "text": [
            "Some weights of the model checkpoint at bert-base-uncased were not used when initializing BertForMaskedLM: ['bert.pooler.dense.bias', 'bert.pooler.dense.weight', 'cls.seq_relationship.bias', 'cls.seq_relationship.weight']\n",
            "- This IS expected if you are initializing BertForMaskedLM from the checkpoint of a model trained on another task or with another architecture (e.g. initializing a BertForSequenceClassification model from a BertForPreTraining model).\n",
            "- This IS NOT expected if you are initializing BertForMaskedLM from the checkpoint of a model that you expect to be exactly identical (initializing a BertForSequenceClassification model from a BertForSequenceClassification model).\n"
          ]
        },
        {
          "output_type": "stream",
          "name": "stdout",
          "text": [
            "['carpenter', 'lawyer', 'farmer', 'businessman', 'doctor']\n",
            "['nurse', 'maid', 'teacher', 'waitress', 'prostitute']\n"
          ]
        }
      ],
      "source": [
        "from transformers import pipeline\n",
        "\n",
        "unmasker = pipeline(\"fill-mask\", model=\"bert-base-uncased\")\n",
        "result = unmasker(\"This man works as a [MASK].\")\n",
        "print([r[\"token_str\"] for r in result])\n",
        "\n",
        "result = unmasker(\"This woman works as a [MASK].\")\n",
        "print([r[\"token_str\"] for r in result])"
      ]
    },
    {
      "cell_type": "code",
      "source": [],
      "metadata": {
        "id": "21utr8LLShgY"
      },
      "execution_count": null,
      "outputs": []
    },
    {
      "cell_type": "markdown",
      "metadata": {
        "id": "Ytvq5LvwVidR"
      },
      "source": [
        "# Processing the data\n",
        "# 使用範例資料集"
      ]
    },
    {
      "cell_type": "markdown",
      "metadata": {
        "id": "GTgriJOFVidU"
      },
      "source": [
        "安裝套件"
      ]
    },
    {
      "cell_type": "code",
      "execution_count": null,
      "metadata": {
        "id": "9lyBgGtSVidU",
        "colab": {
          "base_uri": "https://localhost:8080/"
        },
        "outputId": "39f9016b-e100-4e18-caa0-9b1451f32357"
      },
      "outputs": [
        {
          "output_type": "stream",
          "name": "stdout",
          "text": [
            "Requirement already satisfied: datasets in /usr/local/lib/python3.10/dist-packages (2.19.1)\n",
            "Requirement already satisfied: evaluate in /usr/local/lib/python3.10/dist-packages (0.4.2)\n",
            "Requirement already satisfied: transformers[sentencepiece] in /usr/local/lib/python3.10/dist-packages (4.40.1)\n",
            "Requirement already satisfied: filelock in /usr/local/lib/python3.10/dist-packages (from datasets) (3.14.0)\n",
            "Requirement already satisfied: numpy>=1.17 in /usr/local/lib/python3.10/dist-packages (from datasets) (1.25.2)\n",
            "Requirement already satisfied: pyarrow>=12.0.0 in /usr/local/lib/python3.10/dist-packages (from datasets) (14.0.2)\n",
            "Requirement already satisfied: pyarrow-hotfix in /usr/local/lib/python3.10/dist-packages (from datasets) (0.6)\n",
            "Requirement already satisfied: dill<0.3.9,>=0.3.0 in /usr/local/lib/python3.10/dist-packages (from datasets) (0.3.8)\n",
            "Requirement already satisfied: pandas in /usr/local/lib/python3.10/dist-packages (from datasets) (2.0.3)\n",
            "Requirement already satisfied: requests>=2.19.0 in /usr/local/lib/python3.10/dist-packages (from datasets) (2.31.0)\n",
            "Requirement already satisfied: tqdm>=4.62.1 in /usr/local/lib/python3.10/dist-packages (from datasets) (4.66.4)\n",
            "Requirement already satisfied: xxhash in /usr/local/lib/python3.10/dist-packages (from datasets) (3.4.1)\n",
            "Requirement already satisfied: multiprocess in /usr/local/lib/python3.10/dist-packages (from datasets) (0.70.16)\n",
            "Requirement already satisfied: fsspec[http]<=2024.3.1,>=2023.1.0 in /usr/local/lib/python3.10/dist-packages (from datasets) (2023.6.0)\n",
            "Requirement already satisfied: aiohttp in /usr/local/lib/python3.10/dist-packages (from datasets) (3.9.5)\n",
            "Requirement already satisfied: huggingface-hub>=0.21.2 in /usr/local/lib/python3.10/dist-packages (from datasets) (0.23.0)\n",
            "Requirement already satisfied: packaging in /usr/local/lib/python3.10/dist-packages (from datasets) (24.0)\n",
            "Requirement already satisfied: pyyaml>=5.1 in /usr/local/lib/python3.10/dist-packages (from datasets) (6.0.1)\n",
            "Requirement already satisfied: regex!=2019.12.17 in /usr/local/lib/python3.10/dist-packages (from transformers[sentencepiece]) (2023.12.25)\n",
            "Requirement already satisfied: tokenizers<0.20,>=0.19 in /usr/local/lib/python3.10/dist-packages (from transformers[sentencepiece]) (0.19.1)\n",
            "Requirement already satisfied: safetensors>=0.4.1 in /usr/local/lib/python3.10/dist-packages (from transformers[sentencepiece]) (0.4.3)\n",
            "Requirement already satisfied: sentencepiece!=0.1.92,>=0.1.91 in /usr/local/lib/python3.10/dist-packages (from transformers[sentencepiece]) (0.1.99)\n",
            "Requirement already satisfied: protobuf in /usr/local/lib/python3.10/dist-packages (from transformers[sentencepiece]) (3.20.3)\n",
            "Requirement already satisfied: aiosignal>=1.1.2 in /usr/local/lib/python3.10/dist-packages (from aiohttp->datasets) (1.3.1)\n",
            "Requirement already satisfied: attrs>=17.3.0 in /usr/local/lib/python3.10/dist-packages (from aiohttp->datasets) (23.2.0)\n",
            "Requirement already satisfied: frozenlist>=1.1.1 in /usr/local/lib/python3.10/dist-packages (from aiohttp->datasets) (1.4.1)\n",
            "Requirement already satisfied: multidict<7.0,>=4.5 in /usr/local/lib/python3.10/dist-packages (from aiohttp->datasets) (6.0.5)\n",
            "Requirement already satisfied: yarl<2.0,>=1.0 in /usr/local/lib/python3.10/dist-packages (from aiohttp->datasets) (1.9.4)\n",
            "Requirement already satisfied: async-timeout<5.0,>=4.0 in /usr/local/lib/python3.10/dist-packages (from aiohttp->datasets) (4.0.3)\n",
            "Requirement already satisfied: typing-extensions>=3.7.4.3 in /usr/local/lib/python3.10/dist-packages (from huggingface-hub>=0.21.2->datasets) (4.11.0)\n",
            "Requirement already satisfied: charset-normalizer<4,>=2 in /usr/local/lib/python3.10/dist-packages (from requests>=2.19.0->datasets) (3.3.2)\n",
            "Requirement already satisfied: idna<4,>=2.5 in /usr/local/lib/python3.10/dist-packages (from requests>=2.19.0->datasets) (3.7)\n",
            "Requirement already satisfied: urllib3<3,>=1.21.1 in /usr/local/lib/python3.10/dist-packages (from requests>=2.19.0->datasets) (2.0.7)\n",
            "Requirement already satisfied: certifi>=2017.4.17 in /usr/local/lib/python3.10/dist-packages (from requests>=2.19.0->datasets) (2024.2.2)\n",
            "Requirement already satisfied: python-dateutil>=2.8.2 in /usr/local/lib/python3.10/dist-packages (from pandas->datasets) (2.8.2)\n",
            "Requirement already satisfied: pytz>=2020.1 in /usr/local/lib/python3.10/dist-packages (from pandas->datasets) (2023.4)\n",
            "Requirement already satisfied: tzdata>=2022.1 in /usr/local/lib/python3.10/dist-packages (from pandas->datasets) (2024.1)\n",
            "Requirement already satisfied: six>=1.5 in /usr/local/lib/python3.10/dist-packages (from python-dateutil>=2.8.2->pandas->datasets) (1.16.0)\n"
          ]
        }
      ],
      "source": [
        "!pip install datasets evaluate transformers[sentencepiece]"
      ]
    },
    {
      "cell_type": "markdown",
      "source": [
        "## 載入Huggingface中的資料集\n",
        "- Huggingface中的資料集，透過`Datasets`類別下載\n",
        "- 這邊使用GLUE資料集中的MRPC子資料集作為範例\n",
        "- GLUE 基準是一個學術基準，用於衡量機器學習模型\n",
        "- MRPC資料集是構成GLUE的10個資料集之一，由5801對句子組成，並帶有一個標籤，表示兩句話是否相似\n"
      ],
      "metadata": {
        "id": "JVSrS1Qwe4iS"
      }
    },
    {
      "cell_type": "code",
      "execution_count": null,
      "metadata": {
        "id": "I8riL2jiVidW",
        "outputId": "e5fbfac7-689c-4d2f-ffb1-6f6a2175fc94",
        "colab": {
          "base_uri": "https://localhost:8080/"
        }
      },
      "outputs": [
        {
          "output_type": "execute_result",
          "data": {
            "text/plain": [
              "DatasetDict({\n",
              "    train: Dataset({\n",
              "        features: ['sentence1', 'sentence2', 'label', 'idx'],\n",
              "        num_rows: 3668\n",
              "    })\n",
              "    validation: Dataset({\n",
              "        features: ['sentence1', 'sentence2', 'label', 'idx'],\n",
              "        num_rows: 408\n",
              "    })\n",
              "    test: Dataset({\n",
              "        features: ['sentence1', 'sentence2', 'label', 'idx'],\n",
              "        num_rows: 1725\n",
              "    })\n",
              "})"
            ]
          },
          "metadata": {},
          "execution_count": 4
        }
      ],
      "source": [
        "from datasets import load_dataset\n",
        "\n",
        "raw_datasets = load_dataset(\"glue\", \"mrpc\")\n",
        "raw_datasets"
      ]
    },
    {
      "cell_type": "markdown",
      "source": [
        "得到一個`DatasetDict`包含訓練集、驗證集和測試集的物件。其中每一個都包含幾列 ( sentence1、sentence2、label和idx) 和多行，這些行是每個集合中的元素數量（訓練集中有3668對句子，驗證集中有408對句子，以及1725對句子在測試集中）。\n",
        "\n",
        "此命令下載並快取資料集，預設位於`~/.cache/huggingface/datasets`中"
      ],
      "metadata": {
        "id": "o7_I3lPqfsIb"
      }
    },
    {
      "cell_type": "markdown",
      "source": [
        "透過索引來存取物件中的每對句子`raw_datasets`"
      ],
      "metadata": {
        "id": "3b7dC2cfgBV4"
      }
    },
    {
      "cell_type": "code",
      "execution_count": null,
      "metadata": {
        "id": "Pl72JxZsVidW",
        "outputId": "7fc18be9-3adc-4328-b568-1ea751c2ff2d",
        "colab": {
          "base_uri": "https://localhost:8080/"
        }
      },
      "outputs": [
        {
          "output_type": "execute_result",
          "data": {
            "text/plain": [
              "{'sentence1': 'Amrozi accused his brother , whom he called \" the witness \" , of deliberately distorting his evidence .',\n",
              " 'sentence2': 'Referring to him as only \" the witness \" , Amrozi accused his brother of deliberately distorting his evidence .',\n",
              " 'label': 1,\n",
              " 'idx': 0}"
            ]
          },
          "metadata": {},
          "execution_count": 5
        }
      ],
      "source": [
        "raw_train_dataset = raw_datasets[\"train\"]\n",
        "raw_train_dataset[0]"
      ]
    },
    {
      "cell_type": "markdown",
      "source": [
        "標籤已經是整數，因此不必進行任何預處理。要知道哪個整數對應於哪個標籤，可以用`features`檢查`raw_train_dataset`，會顯示每列的類型。`label`類型為`ClassLabel`，整數到標籤名稱的對應儲存在名稱資料夾中。0對應於`not_equivalent`, 且1對應於`equivalent`."
      ],
      "metadata": {
        "id": "5Jl0a42bgKS-"
      }
    },
    {
      "cell_type": "code",
      "execution_count": null,
      "metadata": {
        "id": "FPCCbIlHVidX",
        "outputId": "86f114c2-6666-480d-95d3-60bf3103c1bd",
        "colab": {
          "base_uri": "https://localhost:8080/"
        }
      },
      "outputs": [
        {
          "output_type": "execute_result",
          "data": {
            "text/plain": [
              "{'sentence1': Value(dtype='string', id=None),\n",
              " 'sentence2': Value(dtype='string', id=None),\n",
              " 'label': ClassLabel(names=['not_equivalent', 'equivalent'], id=None),\n",
              " 'idx': Value(dtype='int32', id=None)}"
            ]
          },
          "metadata": {},
          "execution_count": 6
        }
      ],
      "source": [
        "raw_train_dataset.features"
      ]
    },
    {
      "cell_type": "markdown",
      "source": [
        "為了預處理資料集，我們需要將文字轉換為模型可以理解的數字。這是透過tokenizer完成的。可以向tokenizer提供一個句子或句子列表，因此我們可以直接對每對的所有第一個句子和所有第二個句子進行分詞，如下所示："
      ],
      "metadata": {
        "id": "oxOTCIlqg7H4"
      }
    },
    {
      "cell_type": "code",
      "execution_count": null,
      "metadata": {
        "id": "Sbdmehp3VidX",
        "colab": {
          "base_uri": "https://localhost:8080/",
          "height": 200,
          "referenced_widgets": [
            "5ec7bbb804244b2cbc2d7b61b083ef73",
            "847f8fb5165345a3ac6271145a29fd05",
            "a46e32262fea4c96b1c63e4ea0ffe1e9",
            "c2b9e01fa6a44b21beeb4b124edccbda",
            "1edc1271f343458ebb468b7d3e25bdb7",
            "a0e0830f125b453cb19fed945845fa9c",
            "01eb839a798b4662b5d458386c94f407",
            "9816107f97104d8cb61f4088f44efd8c",
            "93c8da555a8b455fb17bac186658f889",
            "da1a736831ff42a299f6d2155c24264d",
            "d0cf9efc1af94f70bd46bbf20ba93e6f",
            "defc4cf31d1e4584a61bce85d1cb28c3",
            "11cec7e097044da2a8e5120aeed341a4",
            "5dcf5185ed114929aeadede9924b3814",
            "df3eee3a31e448c3bbacfdd824c5dd53",
            "199b934170cc47c0b72d15e30549678e",
            "cb12306fb6ab43978cf2fc35bc5699a9",
            "bae62c6131f1449b9fb9b3b8bc2cd043",
            "654a88a30fb54d27b25723b77d0c22c9",
            "97515ca9245b440f84e40c56d81e963c",
            "d89ebb71490144828350e54e1e4014d6",
            "f36ffabbf495416eb571470496ccb790",
            "1ad47553132e4e6fbafebebd46e6f252",
            "bfedb743b68d40798243b4a04d5f477f",
            "bf7c02febd084f99a267a7b84b20a401",
            "83bc7fdd769a4923bf0511de8a7cca4b",
            "ae27578778614639a987a0509c064c5b",
            "7345152b78f44d7a948313760eadac96",
            "c042a2805fd84091b6b5bb650bfcc22e",
            "2c0762fac10247febea564b29c0ca509",
            "16c7e4f486124ed39e3995441f4af15c",
            "bbc04a80b6f8441c8095c620c3ace75b",
            "7d10d4697efd4983916e975d688308c4",
            "46139e57baf14c8f9123319e27dafb54",
            "91ff1a697089484aa27d422f42db5c1c",
            "92a69f4858594ab0bfbb876dc3afa442",
            "4356021fefc44804a3dc38e7decc6204",
            "6a0074b7cc1440aebb85801d9621e8d2",
            "0ce0075d0c94428d9f3d7be144bab733",
            "891360f013ae4f7bb2faa788a974660c",
            "dbbd7e66354545f88954acef6a225fe6",
            "3027a5712e71402db51d49869faf2bb8",
            "b7aba238abf74625a2a6cdd68b4e257b",
            "20bd0f1aa8d945c1bfd20f0bb8bb5c4e"
          ]
        },
        "outputId": "7bb812b1-6a3f-4072-ed00-47bd927ce237"
      },
      "outputs": [
        {
          "output_type": "stream",
          "name": "stderr",
          "text": [
            "/usr/local/lib/python3.10/dist-packages/huggingface_hub/file_download.py:1132: FutureWarning: `resume_download` is deprecated and will be removed in version 1.0.0. Downloads always resume when possible. If you want to force a new download, use `force_download=True`.\n",
            "  warnings.warn(\n"
          ]
        },
        {
          "output_type": "display_data",
          "data": {
            "text/plain": [
              "tokenizer_config.json:   0%|          | 0.00/48.0 [00:00<?, ?B/s]"
            ],
            "application/vnd.jupyter.widget-view+json": {
              "version_major": 2,
              "version_minor": 0,
              "model_id": "5ec7bbb804244b2cbc2d7b61b083ef73"
            }
          },
          "metadata": {}
        },
        {
          "output_type": "display_data",
          "data": {
            "text/plain": [
              "config.json:   0%|          | 0.00/570 [00:00<?, ?B/s]"
            ],
            "application/vnd.jupyter.widget-view+json": {
              "version_major": 2,
              "version_minor": 0,
              "model_id": "defc4cf31d1e4584a61bce85d1cb28c3"
            }
          },
          "metadata": {}
        },
        {
          "output_type": "display_data",
          "data": {
            "text/plain": [
              "vocab.txt:   0%|          | 0.00/232k [00:00<?, ?B/s]"
            ],
            "application/vnd.jupyter.widget-view+json": {
              "version_major": 2,
              "version_minor": 0,
              "model_id": "1ad47553132e4e6fbafebebd46e6f252"
            }
          },
          "metadata": {}
        },
        {
          "output_type": "display_data",
          "data": {
            "text/plain": [
              "tokenizer.json:   0%|          | 0.00/466k [00:00<?, ?B/s]"
            ],
            "application/vnd.jupyter.widget-view+json": {
              "version_major": 2,
              "version_minor": 0,
              "model_id": "46139e57baf14c8f9123319e27dafb54"
            }
          },
          "metadata": {}
        }
      ],
      "source": [
        "from transformers import AutoTokenizer\n",
        "\n",
        "checkpoint = \"bert-base-uncased\"\n",
        "tokenizer = AutoTokenizer.from_pretrained(checkpoint)\n",
        "tokenized_sentences_1 = tokenizer(raw_datasets[\"train\"][\"sentence1\"])\n",
        "tokenized_sentences_2 = tokenizer(raw_datasets[\"train\"][\"sentence2\"])"
      ]
    },
    {
      "cell_type": "markdown",
      "source": [
        "不能只將兩個序列傳遞給模型並預測這兩個句子是否是相似。我們需要將兩個序列作為一對(pair)處理，並應用適當的預處理。tokenizer可以採用一對序列並按照 BERT 模型期望的方式進行準備"
      ],
      "metadata": {
        "id": "dNmR73mDhLwf"
      }
    },
    {
      "cell_type": "markdown",
      "source": [
        "`input_ids`之外，但我們推遲討論.在這個範例中，這就是告訴模型輸入的哪個部分是第一個句子，哪個部分是第二個句子"
      ],
      "metadata": {
        "id": "2nsG7Di-hv0E"
      }
    },
    {
      "cell_type": "code",
      "execution_count": null,
      "metadata": {
        "id": "ByblYwJFVidY",
        "outputId": "5e9713d1-6f4b-4d71-f770-39e49eb6bd5d",
        "colab": {
          "base_uri": "https://localhost:8080/"
        }
      },
      "outputs": [
        {
          "output_type": "execute_result",
          "data": {
            "text/plain": [
              "{'input_ids': [101, 2023, 2003, 1996, 2034, 6251, 1012, 102, 2023, 2003, 1996, 2117, 2028, 1012, 102], 'token_type_ids': [0, 0, 0, 0, 0, 0, 0, 0, 1, 1, 1, 1, 1, 1, 1], 'attention_mask': [1, 1, 1, 1, 1, 1, 1, 1, 1, 1, 1, 1, 1, 1, 1]}"
            ]
          },
          "metadata": {},
          "execution_count": 8
        }
      ],
      "source": [
        "inputs = tokenizer(\"This is the first sentence.\", \"This is the second one.\")\n",
        "inputs"
      ]
    },
    {
      "cell_type": "code",
      "execution_count": null,
      "metadata": {
        "id": "i_w-Dp0HVidY",
        "outputId": "6ea1641d-5e5d-4fa7-853b-9ea149576f58",
        "colab": {
          "base_uri": "https://localhost:8080/"
        }
      },
      "outputs": [
        {
          "output_type": "execute_result",
          "data": {
            "text/plain": [
              "['[CLS]',\n",
              " 'this',\n",
              " 'is',\n",
              " 'the',\n",
              " 'first',\n",
              " 'sentence',\n",
              " '.',\n",
              " '[SEP]',\n",
              " 'this',\n",
              " 'is',\n",
              " 'the',\n",
              " 'second',\n",
              " 'one',\n",
              " '.',\n",
              " '[SEP]']"
            ]
          },
          "metadata": {},
          "execution_count": 9
        }
      ],
      "source": [
        "tokenizer.convert_ids_to_tokens(inputs[\"input_ids\"])"
      ]
    },
    {
      "cell_type": "markdown",
      "source": [
        "對應輸入部分的`[CLS]`, sentence1 ID 全部為0，而對應剩餘部分的sentence2`[SEP]`類型ID全部為1"
      ],
      "metadata": {
        "id": "-uJd1SqVppq2"
      }
    },
    {
      "cell_type": "markdown",
      "source": [
        "注意，不同的checkpoint，不一定包含`token_type_ids`（如果DistilBERT模型則沒有）。只有當模型知道如何處理它們時才會有，因為預訓練期間已經就已經加入了。不需要擔心`token_type_ids`標記化輸入中是否存在：只要對標記化器和模型使用相同的檢查點即可"
      ],
      "metadata": {
        "id": "57GF8XoUp_oR"
      }
    },
    {
      "cell_type": "markdown",
      "source": [
        "接下來將兩個句子的資料傳給tokenizer進行處理"
      ],
      "metadata": {
        "id": "AYKQk3NFqiex"
      }
    },
    {
      "cell_type": "code",
      "execution_count": null,
      "metadata": {
        "id": "iuQ7vIpMVidY"
      },
      "outputs": [],
      "source": [
        "tokenized_dataset = tokenizer(\n",
        "    raw_datasets[\"train\"][\"sentence1\"],\n",
        "    raw_datasets[\"train\"][\"sentence2\"],\n",
        "    padding=True,\n",
        "    truncation=True,\n",
        ")"
      ]
    },
    {
      "cell_type": "markdown",
      "source": [
        "使用`Dataset.map()`方法。如果需要進行更多的預處理而不僅僅是標記化，這也提供了一些額外的靈活性。此`map()`方法的工作原理是對資料集的每個元素應用一個函數，定義一個對輸入進行標記的函數"
      ],
      "metadata": {
        "id": "zOVN_lkesI3i"
      }
    },
    {
      "cell_type": "code",
      "execution_count": null,
      "metadata": {
        "id": "-GOH7-vkVidY"
      },
      "outputs": [],
      "source": [
        "def tokenize_function(example):\n",
        "    return tokenizer(example[\"sentence1\"], example[\"sentence2\"], truncation=True)"
      ]
    },
    {
      "cell_type": "markdown",
      "source": [
        "函數接受一個字典（就像我們資料集的項目）並傳回一個帶有鍵input_ids、attention_mask和 的新字典token_type_ids。請注意，如果example字典包含多個樣本（每個鍵作為句子列表），它也適用，因為它tokenizer適用於句子對列表，如前所述。這將允許我們batched=True在呼叫中使用該選項map()，這將大大加快標記化速度。它由Tokenizers tokenizer庫中用 Rust 編寫的 tokenizer 支援。這個分詞器可以非常快，但前提是一次大量輸入"
      ],
      "metadata": {
        "id": "94WwEqR2sRR3"
      }
    },
    {
      "cell_type": "code",
      "execution_count": null,
      "metadata": {
        "id": "LNLuviVBVidY",
        "outputId": "6c85b72a-d80d-4fa9-b19a-24a77794f5ea",
        "colab": {
          "base_uri": "https://localhost:8080/",
          "height": 356,
          "referenced_widgets": [
            "49d9b2b6d64e4fefbcc63334ada9881b",
            "05c16c2198eb4c0698e7949a3277c95c",
            "3cbc80e6e4304fd9bb3793b5e60d354c",
            "d7b0d5e96eaf4c989147b0107e013454",
            "9f9e345cec514ecd978c9cf6d132c102",
            "566f0161dd6b463bbc5498e2d7fe10bc",
            "acfef69ce4cd4147a7e814500bc5b3b1",
            "63c88fe3ecb148edb5f9d67601f4ca0d",
            "a03d48eaf00640a7b240ed400ce2327e",
            "51459f0388ca482597a6817b53bcec2f",
            "1a0a4d348cf24f15af20650ddb3a1429",
            "cf58abc813c642329c1bbad8672b9d4c",
            "24874b413a3e42bf9a48d1f0f96771b2",
            "f5c8911dfc1f45d2a8458a979eb93532",
            "e1d82511b804486d9e4cd5ccda6f8960",
            "1628ef134f2d49e0b9880f533d6ed8c2",
            "d3335ba822354357a7549d8cacead5e9",
            "1783c2f2a55748afa31cf631231d2288",
            "84587a8e495f46dc9bba186fb49f95f9",
            "60e9a0e5c3d2403ca94f109b0682f6b9",
            "6ba9fb84177e4079b1461796b648fdc1",
            "15af3f441ca94d5a91deb5dd1b5168d9",
            "c6a375a1129e4e5a81564173e87b6b32",
            "f646ee8a3bff4b88a1c5935b5e2f110f",
            "ef09c8663dd749c997068161faa872b6",
            "6f95af138a8044a0b0af91f9140a06c6",
            "a236dbccf7fc4e51a133ef98fcf4c74e",
            "4fe0946bcd7c40309814b5197832ecea",
            "3cdf8037afc84f68b2e196d7dd765231",
            "026f1eb56f1e420da69fbc6132c2aa0c",
            "9a98863d20564430a79f0a35ceabd7e7",
            "88f2f20df719469db07ab0d0ac42ab0e",
            "48225546700a459db2be256e0f4af104"
          ]
        }
      },
      "outputs": [
        {
          "output_type": "display_data",
          "data": {
            "text/plain": [
              "Map:   0%|          | 0/3668 [00:00<?, ? examples/s]"
            ],
            "application/vnd.jupyter.widget-view+json": {
              "version_major": 2,
              "version_minor": 0,
              "model_id": "49d9b2b6d64e4fefbcc63334ada9881b"
            }
          },
          "metadata": {}
        },
        {
          "output_type": "display_data",
          "data": {
            "text/plain": [
              "Map:   0%|          | 0/408 [00:00<?, ? examples/s]"
            ],
            "application/vnd.jupyter.widget-view+json": {
              "version_major": 2,
              "version_minor": 0,
              "model_id": "cf58abc813c642329c1bbad8672b9d4c"
            }
          },
          "metadata": {}
        },
        {
          "output_type": "display_data",
          "data": {
            "text/plain": [
              "Map:   0%|          | 0/1725 [00:00<?, ? examples/s]"
            ],
            "application/vnd.jupyter.widget-view+json": {
              "version_major": 2,
              "version_minor": 0,
              "model_id": "c6a375a1129e4e5a81564173e87b6b32"
            }
          },
          "metadata": {}
        },
        {
          "output_type": "execute_result",
          "data": {
            "text/plain": [
              "DatasetDict({\n",
              "    train: Dataset({\n",
              "        features: ['sentence1', 'sentence2', 'label', 'idx', 'input_ids', 'token_type_ids', 'attention_mask'],\n",
              "        num_rows: 3668\n",
              "    })\n",
              "    validation: Dataset({\n",
              "        features: ['sentence1', 'sentence2', 'label', 'idx', 'input_ids', 'token_type_ids', 'attention_mask'],\n",
              "        num_rows: 408\n",
              "    })\n",
              "    test: Dataset({\n",
              "        features: ['sentence1', 'sentence2', 'label', 'idx', 'input_ids', 'token_type_ids', 'attention_mask'],\n",
              "        num_rows: 1725\n",
              "    })\n",
              "})"
            ]
          },
          "metadata": {},
          "execution_count": 12
        }
      ],
      "source": [
        "tokenized_datasets = raw_datasets.map(tokenize_function, batched=True)\n",
        "tokenized_datasets"
      ]
    },
    {
      "cell_type": "markdown",
      "source": [
        "在套用預處理函數時，您甚至可以map()透過傳遞num_proc參數來使用多重處理。我們在這裡沒有這樣做，因為Tokenizers 庫已經使用多個線程來更快地標記我們的樣本，但如果您沒有使用此庫支援的快速標記生成器，這可以加快您的預處理速度。如果的預處理函數為我們應用的資料集中的現有鍵傳回新值，我們也可以變更現有欄位。"
      ],
      "metadata": {
        "id": "mKzQp1KRtGrq"
      }
    },
    {
      "cell_type": "markdown",
      "source": [
        "一般將資料送入模型時是一批一批的，如果一次將資料庫的所有資料都做padding或truncate會很浪費時間，每一批資料送入模型再進行處理較好。"
      ],
      "metadata": {
        "id": "5HXW-lUpsi3D"
      }
    },
    {
      "cell_type": "markdown",
      "source": [
        "注意，我們暫時將參數保留在標記化函數中。這是因為將所有樣本填充到最大長度效率不高：最好在建立批次時填充樣本，因為這樣我們只需要填充到該批次中的最大長度，而不是整個資料集。當輸入的長度變化很大時，這可以節省大量時間和處理能力！"
      ],
      "metadata": {
        "id": "2AbUBLkjsxVV"
      }
    },
    {
      "cell_type": "markdown",
      "source": [
        "### 動態填充\n"
      ],
      "metadata": {
        "id": "RSmc5YIZtQf_"
      }
    },
    {
      "cell_type": "markdown",
      "source": [
        "負責將樣本放在批次中的函數稱為collection function。您在建立時可以傳遞的參數DataLoader，預設值是一個函數，將樣本轉換為 PyTorch 張量並連接它們. 因為輸入不會全部有相同的大小。我們故意延遲填充，以便僅在每個批次上根據需要應用它，並避免出現過長的輸入和大量填充。這將大大加快訓練速度\n",
        "\n",
        "為了在實踐中做到這一點，必須定義一個collection function，正確數量的填充應用於批次在一起的資料集的項目。Transformers庫通過`DataCollatorWithPadding`.實例化，它需要一個標記生成器（以了解要使用哪個及模型是否期望填充位於輸入的左側或右側），並將執行所有操作"
      ],
      "metadata": {
        "id": "q7GcifAbtfLj"
      }
    },
    {
      "cell_type": "code",
      "execution_count": null,
      "metadata": {
        "id": "ucPJmbd_VidY"
      },
      "outputs": [],
      "source": [
        "from transformers import DataCollatorWithPadding\n",
        "\n",
        "data_collator = DataCollatorWithPadding(tokenizer=tokenizer)"
      ]
    },
    {
      "cell_type": "markdown",
      "source": [
        "取得訓練集中的前8筆資料，並且將不要的欄位去除(將文字去除，只留下數字欄位，也將idx去掉因為沒用)\n",
        "\n",
        "算出批次8中每一個序列的長度，並且將這些長度放在另一個`list`中"
      ],
      "metadata": {
        "id": "X_zfygdkuD9G"
      }
    },
    {
      "cell_type": "code",
      "execution_count": null,
      "metadata": {
        "id": "HMP8esF2VidY",
        "outputId": "473afb82-3704-4f12-d157-8e16313b262b",
        "colab": {
          "base_uri": "https://localhost:8080/"
        }
      },
      "outputs": [
        {
          "output_type": "execute_result",
          "data": {
            "text/plain": [
              "[50, 59, 47, 67, 59, 50, 62, 32]"
            ]
          },
          "metadata": {},
          "execution_count": 14
        }
      ],
      "source": [
        "samples = tokenized_datasets[\"train\"][:8]\n",
        "samples = {k: v for k, v in samples.items() if k not in [\"idx\", \"sentence1\", \"sentence2\"]}\n",
        "[len(x) for x in samples[\"input_ids\"]]"
      ]
    },
    {
      "cell_type": "markdown",
      "source": [
        "利用定義好的data_collator將每個字pad到最大長度\n"
      ],
      "metadata": {
        "id": "jZgbIVe5uiij"
      }
    },
    {
      "cell_type": "code",
      "execution_count": null,
      "metadata": {
        "id": "U0XwRazUVidZ",
        "outputId": "c31c3b58-1f5f-4be0-9133-2394e3675d69",
        "colab": {
          "base_uri": "https://localhost:8080/"
        }
      },
      "outputs": [
        {
          "output_type": "execute_result",
          "data": {
            "text/plain": [
              "{'input_ids': torch.Size([8, 67]),\n",
              " 'token_type_ids': torch.Size([8, 67]),\n",
              " 'attention_mask': torch.Size([8, 67]),\n",
              " 'labels': torch.Size([8])}"
            ]
          },
          "metadata": {},
          "execution_count": 15
        }
      ],
      "source": [
        "batch = data_collator(samples)\n",
        "{k: v.shape for k, v in batch.items()}"
      ]
    },
    {
      "cell_type": "code",
      "source": [],
      "metadata": {
        "id": "WG6e79zrSq3I"
      },
      "execution_count": null,
      "outputs": []
    },
    {
      "cell_type": "markdown",
      "metadata": {
        "id": "md9CyZx52OE4"
      },
      "source": [
        "# Fine-tuning a model with the Trainer API\n",
        "# 使用Trainer微調模型"
      ]
    },
    {
      "cell_type": "markdown",
      "source": [
        " Transformers 提供了一個`Trainer`類別來**微調**資料集上提供的任何預訓練模型。完成資料預處理工作後，只需執行幾個步驟即可定義Trainer, 準備運行環境`Trainer.train()`"
      ],
      "metadata": {
        "id": "NPq1TS563uwp"
      }
    },
    {
      "cell_type": "markdown",
      "metadata": {
        "id": "84BvV60Q2OE6"
      },
      "source": [
        "安裝套件"
      ]
    },
    {
      "cell_type": "code",
      "execution_count": null,
      "metadata": {
        "id": "8aj8MKXg2OE7",
        "colab": {
          "base_uri": "https://localhost:8080/"
        },
        "outputId": "0cd44ec8-4d8e-4310-b8a6-2b959a1cea29"
      },
      "outputs": [
        {
          "output_type": "stream",
          "name": "stdout",
          "text": [
            "Collecting datasets\n",
            "  Downloading datasets-2.19.1-py3-none-any.whl (542 kB)\n",
            "\u001b[2K     \u001b[90m━━━━━━━━━━━━━━━━━━━━━━━━━━━━━━━━━━━━━━━━\u001b[0m \u001b[32m542.0/542.0 kB\u001b[0m \u001b[31m3.1 MB/s\u001b[0m eta \u001b[36m0:00:00\u001b[0m\n",
            "\u001b[?25hCollecting evaluate\n",
            "  Downloading evaluate-0.4.2-py3-none-any.whl (84 kB)\n",
            "\u001b[2K     \u001b[90m━━━━━━━━━━━━━━━━━━━━━━━━━━━━━━━━━━━━━━━━\u001b[0m \u001b[32m84.1/84.1 kB\u001b[0m \u001b[31m9.2 MB/s\u001b[0m eta \u001b[36m0:00:00\u001b[0m\n",
            "\u001b[?25hRequirement already satisfied: transformers[sentencepiece] in /usr/local/lib/python3.10/dist-packages (4.40.1)\n",
            "Requirement already satisfied: filelock in /usr/local/lib/python3.10/dist-packages (from datasets) (3.14.0)\n",
            "Requirement already satisfied: numpy>=1.17 in /usr/local/lib/python3.10/dist-packages (from datasets) (1.25.2)\n",
            "Requirement already satisfied: pyarrow>=12.0.0 in /usr/local/lib/python3.10/dist-packages (from datasets) (14.0.2)\n",
            "Requirement already satisfied: pyarrow-hotfix in /usr/local/lib/python3.10/dist-packages (from datasets) (0.6)\n",
            "Collecting dill<0.3.9,>=0.3.0 (from datasets)\n",
            "  Downloading dill-0.3.8-py3-none-any.whl (116 kB)\n",
            "\u001b[2K     \u001b[90m━━━━━━━━━━━━━━━━━━━━━━━━━━━━━━━━━━━━━━━━\u001b[0m \u001b[32m116.3/116.3 kB\u001b[0m \u001b[31m8.2 MB/s\u001b[0m eta \u001b[36m0:00:00\u001b[0m\n",
            "\u001b[?25hRequirement already satisfied: pandas in /usr/local/lib/python3.10/dist-packages (from datasets) (2.0.3)\n",
            "Requirement already satisfied: requests>=2.19.0 in /usr/local/lib/python3.10/dist-packages (from datasets) (2.31.0)\n",
            "Requirement already satisfied: tqdm>=4.62.1 in /usr/local/lib/python3.10/dist-packages (from datasets) (4.66.4)\n",
            "Collecting xxhash (from datasets)\n",
            "  Downloading xxhash-3.4.1-cp310-cp310-manylinux_2_17_x86_64.manylinux2014_x86_64.whl (194 kB)\n",
            "\u001b[2K     \u001b[90m━━━━━━━━━━━━━━━━━━━━━━━━━━━━━━━━━━━━━━━━\u001b[0m \u001b[32m194.1/194.1 kB\u001b[0m \u001b[31m12.0 MB/s\u001b[0m eta \u001b[36m0:00:00\u001b[0m\n",
            "\u001b[?25hCollecting multiprocess (from datasets)\n",
            "  Downloading multiprocess-0.70.16-py310-none-any.whl (134 kB)\n",
            "\u001b[2K     \u001b[90m━━━━━━━━━━━━━━━━━━━━━━━━━━━━━━━━━━━━━━━━\u001b[0m \u001b[32m134.8/134.8 kB\u001b[0m \u001b[31m12.9 MB/s\u001b[0m eta \u001b[36m0:00:00\u001b[0m\n",
            "\u001b[?25hRequirement already satisfied: fsspec[http]<=2024.3.1,>=2023.1.0 in /usr/local/lib/python3.10/dist-packages (from datasets) (2023.6.0)\n",
            "Requirement already satisfied: aiohttp in /usr/local/lib/python3.10/dist-packages (from datasets) (3.9.5)\n",
            "Collecting huggingface-hub>=0.21.2 (from datasets)\n",
            "  Downloading huggingface_hub-0.23.0-py3-none-any.whl (401 kB)\n",
            "\u001b[2K     \u001b[90m━━━━━━━━━━━━━━━━━━━━━━━━━━━━━━━━━━━━━━━━\u001b[0m \u001b[32m401.2/401.2 kB\u001b[0m \u001b[31m22.4 MB/s\u001b[0m eta \u001b[36m0:00:00\u001b[0m\n",
            "\u001b[?25hRequirement already satisfied: packaging in /usr/local/lib/python3.10/dist-packages (from datasets) (24.0)\n",
            "Requirement already satisfied: pyyaml>=5.1 in /usr/local/lib/python3.10/dist-packages (from datasets) (6.0.1)\n",
            "Requirement already satisfied: regex!=2019.12.17 in /usr/local/lib/python3.10/dist-packages (from transformers[sentencepiece]) (2023.12.25)\n",
            "Requirement already satisfied: tokenizers<0.20,>=0.19 in /usr/local/lib/python3.10/dist-packages (from transformers[sentencepiece]) (0.19.1)\n",
            "Requirement already satisfied: safetensors>=0.4.1 in /usr/local/lib/python3.10/dist-packages (from transformers[sentencepiece]) (0.4.3)\n",
            "Requirement already satisfied: sentencepiece!=0.1.92,>=0.1.91 in /usr/local/lib/python3.10/dist-packages (from transformers[sentencepiece]) (0.1.99)\n",
            "Requirement already satisfied: protobuf in /usr/local/lib/python3.10/dist-packages (from transformers[sentencepiece]) (3.20.3)\n",
            "Requirement already satisfied: aiosignal>=1.1.2 in /usr/local/lib/python3.10/dist-packages (from aiohttp->datasets) (1.3.1)\n",
            "Requirement already satisfied: attrs>=17.3.0 in /usr/local/lib/python3.10/dist-packages (from aiohttp->datasets) (23.2.0)\n",
            "Requirement already satisfied: frozenlist>=1.1.1 in /usr/local/lib/python3.10/dist-packages (from aiohttp->datasets) (1.4.1)\n",
            "Requirement already satisfied: multidict<7.0,>=4.5 in /usr/local/lib/python3.10/dist-packages (from aiohttp->datasets) (6.0.5)\n",
            "Requirement already satisfied: yarl<2.0,>=1.0 in /usr/local/lib/python3.10/dist-packages (from aiohttp->datasets) (1.9.4)\n",
            "Requirement already satisfied: async-timeout<5.0,>=4.0 in /usr/local/lib/python3.10/dist-packages (from aiohttp->datasets) (4.0.3)\n",
            "Requirement already satisfied: typing-extensions>=3.7.4.3 in /usr/local/lib/python3.10/dist-packages (from huggingface-hub>=0.21.2->datasets) (4.11.0)\n",
            "Requirement already satisfied: charset-normalizer<4,>=2 in /usr/local/lib/python3.10/dist-packages (from requests>=2.19.0->datasets) (3.3.2)\n",
            "Requirement already satisfied: idna<4,>=2.5 in /usr/local/lib/python3.10/dist-packages (from requests>=2.19.0->datasets) (3.7)\n",
            "Requirement already satisfied: urllib3<3,>=1.21.1 in /usr/local/lib/python3.10/dist-packages (from requests>=2.19.0->datasets) (2.0.7)\n",
            "Requirement already satisfied: certifi>=2017.4.17 in /usr/local/lib/python3.10/dist-packages (from requests>=2.19.0->datasets) (2024.2.2)\n",
            "Requirement already satisfied: python-dateutil>=2.8.2 in /usr/local/lib/python3.10/dist-packages (from pandas->datasets) (2.8.2)\n",
            "Requirement already satisfied: pytz>=2020.1 in /usr/local/lib/python3.10/dist-packages (from pandas->datasets) (2023.4)\n",
            "Requirement already satisfied: tzdata>=2022.1 in /usr/local/lib/python3.10/dist-packages (from pandas->datasets) (2024.1)\n",
            "Requirement already satisfied: six>=1.5 in /usr/local/lib/python3.10/dist-packages (from python-dateutil>=2.8.2->pandas->datasets) (1.16.0)\n",
            "Installing collected packages: xxhash, dill, multiprocess, huggingface-hub, datasets, evaluate\n",
            "  Attempting uninstall: huggingface-hub\n",
            "    Found existing installation: huggingface-hub 0.20.3\n",
            "    Uninstalling huggingface-hub-0.20.3:\n",
            "      Successfully uninstalled huggingface-hub-0.20.3\n",
            "Successfully installed datasets-2.19.1 dill-0.3.8 evaluate-0.4.2 huggingface-hub-0.23.0 multiprocess-0.70.16 xxhash-3.4.1\n",
            "Collecting accelerate\n",
            "  Downloading accelerate-0.30.0-py3-none-any.whl (302 kB)\n",
            "\u001b[2K     \u001b[90m━━━━━━━━━━━━━━━━━━━━━━━━━━━━━━━━━━━━━━━━\u001b[0m \u001b[32m302.4/302.4 kB\u001b[0m \u001b[31m1.8 MB/s\u001b[0m eta \u001b[36m0:00:00\u001b[0m\n",
            "\u001b[?25hRequirement already satisfied: numpy>=1.17 in /usr/local/lib/python3.10/dist-packages (from accelerate) (1.25.2)\n",
            "Requirement already satisfied: packaging>=20.0 in /usr/local/lib/python3.10/dist-packages (from accelerate) (24.0)\n",
            "Requirement already satisfied: psutil in /usr/local/lib/python3.10/dist-packages (from accelerate) (5.9.5)\n",
            "Requirement already satisfied: pyyaml in /usr/local/lib/python3.10/dist-packages (from accelerate) (6.0.1)\n",
            "Requirement already satisfied: torch>=1.10.0 in /usr/local/lib/python3.10/dist-packages (from accelerate) (2.2.1+cu121)\n",
            "Requirement already satisfied: huggingface-hub in /usr/local/lib/python3.10/dist-packages (from accelerate) (0.23.0)\n",
            "Requirement already satisfied: safetensors>=0.3.1 in /usr/local/lib/python3.10/dist-packages (from accelerate) (0.4.3)\n",
            "Requirement already satisfied: filelock in /usr/local/lib/python3.10/dist-packages (from torch>=1.10.0->accelerate) (3.14.0)\n",
            "Requirement already satisfied: typing-extensions>=4.8.0 in /usr/local/lib/python3.10/dist-packages (from torch>=1.10.0->accelerate) (4.11.0)\n",
            "Requirement already satisfied: sympy in /usr/local/lib/python3.10/dist-packages (from torch>=1.10.0->accelerate) (1.12)\n",
            "Requirement already satisfied: networkx in /usr/local/lib/python3.10/dist-packages (from torch>=1.10.0->accelerate) (3.3)\n",
            "Requirement already satisfied: jinja2 in /usr/local/lib/python3.10/dist-packages (from torch>=1.10.0->accelerate) (3.1.3)\n",
            "Requirement already satisfied: fsspec in /usr/local/lib/python3.10/dist-packages (from torch>=1.10.0->accelerate) (2023.6.0)\n",
            "Collecting nvidia-cuda-nvrtc-cu12==12.1.105 (from torch>=1.10.0->accelerate)\n",
            "  Using cached nvidia_cuda_nvrtc_cu12-12.1.105-py3-none-manylinux1_x86_64.whl (23.7 MB)\n",
            "Collecting nvidia-cuda-runtime-cu12==12.1.105 (from torch>=1.10.0->accelerate)\n",
            "  Using cached nvidia_cuda_runtime_cu12-12.1.105-py3-none-manylinux1_x86_64.whl (823 kB)\n",
            "Collecting nvidia-cuda-cupti-cu12==12.1.105 (from torch>=1.10.0->accelerate)\n",
            "  Using cached nvidia_cuda_cupti_cu12-12.1.105-py3-none-manylinux1_x86_64.whl (14.1 MB)\n",
            "Collecting nvidia-cudnn-cu12==8.9.2.26 (from torch>=1.10.0->accelerate)\n",
            "  Using cached nvidia_cudnn_cu12-8.9.2.26-py3-none-manylinux1_x86_64.whl (731.7 MB)\n",
            "Collecting nvidia-cublas-cu12==12.1.3.1 (from torch>=1.10.0->accelerate)\n",
            "  Using cached nvidia_cublas_cu12-12.1.3.1-py3-none-manylinux1_x86_64.whl (410.6 MB)\n",
            "Collecting nvidia-cufft-cu12==11.0.2.54 (from torch>=1.10.0->accelerate)\n",
            "  Using cached nvidia_cufft_cu12-11.0.2.54-py3-none-manylinux1_x86_64.whl (121.6 MB)\n",
            "Collecting nvidia-curand-cu12==10.3.2.106 (from torch>=1.10.0->accelerate)\n",
            "  Using cached nvidia_curand_cu12-10.3.2.106-py3-none-manylinux1_x86_64.whl (56.5 MB)\n",
            "Collecting nvidia-cusolver-cu12==11.4.5.107 (from torch>=1.10.0->accelerate)\n",
            "  Using cached nvidia_cusolver_cu12-11.4.5.107-py3-none-manylinux1_x86_64.whl (124.2 MB)\n",
            "Collecting nvidia-cusparse-cu12==12.1.0.106 (from torch>=1.10.0->accelerate)\n",
            "  Using cached nvidia_cusparse_cu12-12.1.0.106-py3-none-manylinux1_x86_64.whl (196.0 MB)\n",
            "Collecting nvidia-nccl-cu12==2.19.3 (from torch>=1.10.0->accelerate)\n",
            "  Using cached nvidia_nccl_cu12-2.19.3-py3-none-manylinux1_x86_64.whl (166.0 MB)\n",
            "Collecting nvidia-nvtx-cu12==12.1.105 (from torch>=1.10.0->accelerate)\n",
            "  Using cached nvidia_nvtx_cu12-12.1.105-py3-none-manylinux1_x86_64.whl (99 kB)\n",
            "Requirement already satisfied: triton==2.2.0 in /usr/local/lib/python3.10/dist-packages (from torch>=1.10.0->accelerate) (2.2.0)\n",
            "Collecting nvidia-nvjitlink-cu12 (from nvidia-cusolver-cu12==11.4.5.107->torch>=1.10.0->accelerate)\n",
            "  Using cached nvidia_nvjitlink_cu12-12.4.127-py3-none-manylinux2014_x86_64.whl (21.1 MB)\n",
            "Requirement already satisfied: requests in /usr/local/lib/python3.10/dist-packages (from huggingface-hub->accelerate) (2.31.0)\n",
            "Requirement already satisfied: tqdm>=4.42.1 in /usr/local/lib/python3.10/dist-packages (from huggingface-hub->accelerate) (4.66.4)\n",
            "Requirement already satisfied: MarkupSafe>=2.0 in /usr/local/lib/python3.10/dist-packages (from jinja2->torch>=1.10.0->accelerate) (2.1.5)\n",
            "Requirement already satisfied: charset-normalizer<4,>=2 in /usr/local/lib/python3.10/dist-packages (from requests->huggingface-hub->accelerate) (3.3.2)\n",
            "Requirement already satisfied: idna<4,>=2.5 in /usr/local/lib/python3.10/dist-packages (from requests->huggingface-hub->accelerate) (3.7)\n",
            "Requirement already satisfied: urllib3<3,>=1.21.1 in /usr/local/lib/python3.10/dist-packages (from requests->huggingface-hub->accelerate) (2.0.7)\n",
            "Requirement already satisfied: certifi>=2017.4.17 in /usr/local/lib/python3.10/dist-packages (from requests->huggingface-hub->accelerate) (2024.2.2)\n",
            "Requirement already satisfied: mpmath>=0.19 in /usr/local/lib/python3.10/dist-packages (from sympy->torch>=1.10.0->accelerate) (1.3.0)\n",
            "Installing collected packages: nvidia-nvtx-cu12, nvidia-nvjitlink-cu12, nvidia-nccl-cu12, nvidia-curand-cu12, nvidia-cufft-cu12, nvidia-cuda-runtime-cu12, nvidia-cuda-nvrtc-cu12, nvidia-cuda-cupti-cu12, nvidia-cublas-cu12, nvidia-cusparse-cu12, nvidia-cudnn-cu12, nvidia-cusolver-cu12, accelerate\n",
            "Successfully installed accelerate-0.30.0 nvidia-cublas-cu12-12.1.3.1 nvidia-cuda-cupti-cu12-12.1.105 nvidia-cuda-nvrtc-cu12-12.1.105 nvidia-cuda-runtime-cu12-12.1.105 nvidia-cudnn-cu12-8.9.2.26 nvidia-cufft-cu12-11.0.2.54 nvidia-curand-cu12-10.3.2.106 nvidia-cusolver-cu12-11.4.5.107 nvidia-cusparse-cu12-12.1.0.106 nvidia-nccl-cu12-2.19.3 nvidia-nvjitlink-cu12-12.4.127 nvidia-nvtx-cu12-12.1.105\n"
          ]
        }
      ],
      "source": [
        "!pip install datasets evaluate transformers[sentencepiece]\n",
        "!pip install accelerate -U"
      ]
    },
    {
      "cell_type": "code",
      "execution_count": null,
      "metadata": {
        "id": "Cju0jFH72OE7",
        "colab": {
          "base_uri": "https://localhost:8080/",
          "height": 521,
          "referenced_widgets": [
            "3f2d648ec439487bac3460cffc4013f7",
            "54f8741f272f477fab92a75a7d650070",
            "b96ec259dcc64811906c0b15037fe428",
            "d3e4bcb2a3f444678a0a83250cf48a4a",
            "3ad6d9ce88b14c0d93c3f290fd79c2ef",
            "2d71be8cf66b47368010e3820e577861",
            "436f2338cc134ea0a638fbca3e50b9f2",
            "e8437ccc2f114b0b9a9fe88b3e8d262f",
            "bc20a55fef7b407396747317eda1fb72",
            "e2055dcbffee4d7685213c77f28eb85a",
            "c8d94aa6ea7c4e58914d6c110a661f65",
            "c269050067f64925818cbe5e685b1ffa",
            "12ec0151ad484714b2ccaae790e07dd2",
            "e6d2f2c84da6449fbcd071838cd3eaa8",
            "8cd6ce45f9004fa5879862453b14371a",
            "7215660c34314f2db2721443096b0116",
            "42b095bcde9341088540ded14b11c54c",
            "07d56d3ee4354f8b84563cf853d6d11d",
            "8ce09cb661a44c39b16f0cfbc205c442",
            "79e02b648f5747f29449d2f566f876c4",
            "4a75e2ca79884dc5a5f97d1e04c06f85",
            "66f04d1704674a9d8a9af0c11e221f0c",
            "a5a4eb1152014f34998bf3b9bc833350",
            "c5fbd8062d134be2a0fa32c8a060edac",
            "dab2f1865a0643149b24631ee398ce27",
            "2378080e7b3e45128b1579f073f80cf2",
            "1231f761538a4a5c8199ec38a47dae3f",
            "f83e6b133e3441e49fadf1dbb37f4a2f",
            "01c49ce7ea2643f7b6d662367e76d87d",
            "46d46c8a8a77421d8250f927f45078d2",
            "5336f7cf55304e5f9c22660efd330c56",
            "e467141fce84434eb07ffcfca424df8a",
            "f74b612c27d24c05b8ed054f87c0521c",
            "aeb5dee96fae404dad8aaba12e24fb0b",
            "9ebffc653e82491eb73075ad86a18a31",
            "395bf49ae239423b8abe9305113785a0",
            "c9a5996b3d684bbb8ab43d90db626549",
            "aa7bc022e1ed488ab27c2b474300c8ca",
            "6f9fff685cfb4717a03c2f631e33ee43",
            "f2defdbbfcf44f4799a49d6b89c34798",
            "782caabfca524fd9a711711a2592f2a0",
            "9ebbe64892d843b88fc5c584da577e15",
            "3b0210632fc940378535d844da23e4c7",
            "ee82cc527a5948e2ac6603985d6d6ea0",
            "2d3fdfbd819f433386ee91d0cf079456",
            "77b58fb8156e4ba29dd385d919d31fa3",
            "a4803feb0c5e43e08f3b2b340eceb44a",
            "3f3b4a15e1c8481a95adba9821013737",
            "b03f681fe90c4763957c563a52c50875",
            "55daf850686b4b8289f2d0f4d1e29ee2",
            "fbed4272253d44f59ec6b2d3afe1134f",
            "030dbf098d1345b7b86df56415f1e1e8",
            "2001e5df72da42569dbb18b3e595e5ca",
            "1444328b8c8a4f258a8487d9a76c0177",
            "314536dfe3e54a4ab601c55818b300b3",
            "10082934c43e4875b2d81330a745b51a",
            "e1a77c801298411daa5f2eabc84fd3b7",
            "81ae98a7445346bab8e3c692185e3c60",
            "6f0506b03a954638803d608d947b1295",
            "435e376249da465089ffd09541ac0d04",
            "5b77fda1b2014116a882ca719589ba52",
            "5c3b4044d17246778110bd309badd7f0",
            "33448980349f402fbfabf634acc2cf58",
            "93e0769c181643519a427b82fcfddea6",
            "eba1e13635454526b3d4fde910f06f1d",
            "1dcbeaf2988946c28d7f46a72815500f",
            "aec1b09c65fb40ebb0489cd79c8c915f",
            "cf19cb952bf14845b84c7667900ecf73",
            "c2c12aa9f000499b8b54e442312d55fc",
            "b548c4ff28b54f6b91d76cda94d9ea44",
            "a7772440974949d4b60a60b20cf74ad9",
            "93722fb637fe4086afb92b5246ca57cc",
            "693a212711a142a186f77ed9be564b76",
            "5c596fd05a4845c7a262d1fd3aaf7c6f",
            "f40eded30c434effaade90c1a30c6abd",
            "49c8be72a20b412ebfb8d200b081d863",
            "09dd7c4662de456dba4e505056cdd7c4",
            "9c24602757374886a9ff36070e153ec6",
            "190ec39f0a9e439bb944482941787062",
            "1a98528408de4999b14d2fa9d1699644",
            "27944a7f4c7c4680a048d54052e2db2a",
            "ffb89431ae69435aa7532da9a4e0f4a0",
            "36a0f73eb6714917ae5896b1a1ada143",
            "02e1ae48380f4f0487e178d283ea03d6",
            "6d8bb1ba62b341d1829e2b005b038c22",
            "ef1c91fd1f3c4cbe842b7f3b108ee55a",
            "ad866f54342f4fd09299064677c432fa",
            "9ec9ede200874b93acb5b5951eb6ddeb",
            "86e5af8a3ac7451d8f7974d6cf85bd87",
            "a4a1a17969d541a7aa8ecc9cb25a8b96",
            "6e67ecf6e45644c4bc379ad45670613c",
            "20aad80f0a1e4d11ad38b8d391370313",
            "ac1b82b8214b4f0f81781618ecad924b",
            "bfab696ba2e7464f88773c878429b3eb",
            "fc04a5e30dba4c52a00db3b68107bc43",
            "f6e8f54a81f74bed9f4aca6b5e3ac4fb",
            "f20bca17b02647399a6474be170e46c0",
            "7aadf385670648b68dd027d485929d9a",
            "dc0a0dbf664f4550afa75586c03f3ca4",
            "e5049463d2bb4941bad9a8bf8c6e9b65",
            "113511ec34c047cb969a8838860e9d97",
            "b011402e6aae459b9643d1878b20859f",
            "63c5e7861f0d4d0f9823153c917f68a4",
            "35a1d37cc99246e8a821a53541114e28",
            "4f8a7acecb53437e846684c1435280fb",
            "62450094000243c8a46aefb99b652931",
            "1520be47fbfe4b15ab5c78b56391f9f4",
            "051b0814d01442549bda44f7930a9211",
            "fa19d71a182c413580942b93e46fd011",
            "5d9ad8a507434f87bea97d738262af4f",
            "ee3cb0b73240462d9ab211e5fc693509",
            "47944d659596425d9170441139f70e84",
            "d48722d7ef664992aee39883b7fb46ec",
            "c04211d3a13a4fbda5d02a3e5daf321a",
            "cc7c1a3d4ba24351b50f5ab52de822b1",
            "b06106edf8b74b3db58b6af04d7a124c",
            "3ecf60d2fa12492696334bba647d0757",
            "45d7240224eb4b5bba325e5051a78e5a",
            "453229ee4fca40b1a615a2862bc5ba23",
            "9473a77d333f4f3498a9cbd984618e2a",
            "da4f74c6f3fc48769c2a22358c799cb5",
            "3fed88d805194ea4b57e272946e37c52",
            "4ffadc003e744e6db41d8a9e2a0eded4",
            "ce498a354dd74ab3be4ed5caaa566061",
            "1f025312140644f486bff655e3735151",
            "632eb99affff4badac1b024dff7b955d",
            "92450954cc994594abbf4f849adeb8a7",
            "d7368bc2c0b845b6ab2f730bcc877aee",
            "01a1265f2c354225b4e7282c602ddb3f",
            "998344bb52b04de983efcc49d13eddd7",
            "8718aa85147247d3bfdd056f31c7a940",
            "1feba1c46eae49068b1e360a80884ed6",
            "85b162fa3edb4121af6d99c833d4f440",
            "957c980abc1b4d2789a4eb1f60367874",
            "6d9975e8d3c3450f8ec750d182bdc551",
            "33bd5132e9344edfa035a509dc5e3b01",
            "ff06b0fa82a14f3ba779cc0c92351abd",
            "afa2303a6ecb496b95a65de6298839e8",
            "0441fe3d7d274348b994dcbd2f6fbc10",
            "e68d230e7a0f4348b27e3e33e723976a",
            "a742e0608c7643de91242519eda8279f",
            "abff72e535474081ac39e1350f0d2331",
            "d81f3b698a67438eb8b75174faa972c7",
            "a9b600d2da5546e5880d3cfaf471e769",
            "5a3682374eae49cfba2c824ff61a9ed5",
            "32168bc206e24588a25b693264bbec89",
            "0c8a6b7ae9f244c4920fc437194f6e0a",
            "8d51278a28c740eda45e4b9813d0851e",
            "4e3d300b6bce40d996cf4abc78533d35",
            "30bf1182965b4412a8ef8f965046ba09",
            "50434042ea6a461081ef999c048f9bbc",
            "0998d288ceb24d0388745e7dd3f35076",
            "4a5f7332903c452393b2547b0dd34a07",
            "f360d6006a234698a9b55b8d5119ab10"
          ]
        },
        "outputId": "ef659909-4963-42f8-fb85-00fe223449f9"
      },
      "outputs": [
        {
          "output_type": "display_data",
          "data": {
            "text/plain": [
              "Downloading readme:   0%|          | 0.00/35.3k [00:00<?, ?B/s]"
            ],
            "application/vnd.jupyter.widget-view+json": {
              "version_major": 2,
              "version_minor": 0,
              "model_id": "3f2d648ec439487bac3460cffc4013f7"
            }
          },
          "metadata": {}
        },
        {
          "output_type": "display_data",
          "data": {
            "text/plain": [
              "Downloading data:   0%|          | 0.00/649k [00:00<?, ?B/s]"
            ],
            "application/vnd.jupyter.widget-view+json": {
              "version_major": 2,
              "version_minor": 0,
              "model_id": "c269050067f64925818cbe5e685b1ffa"
            }
          },
          "metadata": {}
        },
        {
          "output_type": "display_data",
          "data": {
            "text/plain": [
              "Downloading data:   0%|          | 0.00/75.7k [00:00<?, ?B/s]"
            ],
            "application/vnd.jupyter.widget-view+json": {
              "version_major": 2,
              "version_minor": 0,
              "model_id": "a5a4eb1152014f34998bf3b9bc833350"
            }
          },
          "metadata": {}
        },
        {
          "output_type": "display_data",
          "data": {
            "text/plain": [
              "Downloading data:   0%|          | 0.00/308k [00:00<?, ?B/s]"
            ],
            "application/vnd.jupyter.widget-view+json": {
              "version_major": 2,
              "version_minor": 0,
              "model_id": "aeb5dee96fae404dad8aaba12e24fb0b"
            }
          },
          "metadata": {}
        },
        {
          "output_type": "display_data",
          "data": {
            "text/plain": [
              "Generating train split:   0%|          | 0/3668 [00:00<?, ? examples/s]"
            ],
            "application/vnd.jupyter.widget-view+json": {
              "version_major": 2,
              "version_minor": 0,
              "model_id": "2d3fdfbd819f433386ee91d0cf079456"
            }
          },
          "metadata": {}
        },
        {
          "output_type": "display_data",
          "data": {
            "text/plain": [
              "Generating validation split:   0%|          | 0/408 [00:00<?, ? examples/s]"
            ],
            "application/vnd.jupyter.widget-view+json": {
              "version_major": 2,
              "version_minor": 0,
              "model_id": "10082934c43e4875b2d81330a745b51a"
            }
          },
          "metadata": {}
        },
        {
          "output_type": "display_data",
          "data": {
            "text/plain": [
              "Generating test split:   0%|          | 0/1725 [00:00<?, ? examples/s]"
            ],
            "application/vnd.jupyter.widget-view+json": {
              "version_major": 2,
              "version_minor": 0,
              "model_id": "aec1b09c65fb40ebb0489cd79c8c915f"
            }
          },
          "metadata": {}
        },
        {
          "output_type": "stream",
          "name": "stderr",
          "text": [
            "/usr/local/lib/python3.10/dist-packages/huggingface_hub/file_download.py:1132: FutureWarning: `resume_download` is deprecated and will be removed in version 1.0.0. Downloads always resume when possible. If you want to force a new download, use `force_download=True`.\n",
            "  warnings.warn(\n"
          ]
        },
        {
          "output_type": "display_data",
          "data": {
            "text/plain": [
              "tokenizer_config.json:   0%|          | 0.00/48.0 [00:00<?, ?B/s]"
            ],
            "application/vnd.jupyter.widget-view+json": {
              "version_major": 2,
              "version_minor": 0,
              "model_id": "9c24602757374886a9ff36070e153ec6"
            }
          },
          "metadata": {}
        },
        {
          "output_type": "display_data",
          "data": {
            "text/plain": [
              "config.json:   0%|          | 0.00/570 [00:00<?, ?B/s]"
            ],
            "application/vnd.jupyter.widget-view+json": {
              "version_major": 2,
              "version_minor": 0,
              "model_id": "86e5af8a3ac7451d8f7974d6cf85bd87"
            }
          },
          "metadata": {}
        },
        {
          "output_type": "display_data",
          "data": {
            "text/plain": [
              "vocab.txt:   0%|          | 0.00/232k [00:00<?, ?B/s]"
            ],
            "application/vnd.jupyter.widget-view+json": {
              "version_major": 2,
              "version_minor": 0,
              "model_id": "e5049463d2bb4941bad9a8bf8c6e9b65"
            }
          },
          "metadata": {}
        },
        {
          "output_type": "display_data",
          "data": {
            "text/plain": [
              "tokenizer.json:   0%|          | 0.00/466k [00:00<?, ?B/s]"
            ],
            "application/vnd.jupyter.widget-view+json": {
              "version_major": 2,
              "version_minor": 0,
              "model_id": "ee3cb0b73240462d9ab211e5fc693509"
            }
          },
          "metadata": {}
        },
        {
          "output_type": "display_data",
          "data": {
            "text/plain": [
              "Map:   0%|          | 0/3668 [00:00<?, ? examples/s]"
            ],
            "application/vnd.jupyter.widget-view+json": {
              "version_major": 2,
              "version_minor": 0,
              "model_id": "3fed88d805194ea4b57e272946e37c52"
            }
          },
          "metadata": {}
        },
        {
          "output_type": "display_data",
          "data": {
            "text/plain": [
              "Map:   0%|          | 0/408 [00:00<?, ? examples/s]"
            ],
            "application/vnd.jupyter.widget-view+json": {
              "version_major": 2,
              "version_minor": 0,
              "model_id": "85b162fa3edb4121af6d99c833d4f440"
            }
          },
          "metadata": {}
        },
        {
          "output_type": "display_data",
          "data": {
            "text/plain": [
              "Map:   0%|          | 0/1725 [00:00<?, ? examples/s]"
            ],
            "application/vnd.jupyter.widget-view+json": {
              "version_major": 2,
              "version_minor": 0,
              "model_id": "a9b600d2da5546e5880d3cfaf471e769"
            }
          },
          "metadata": {}
        }
      ],
      "source": [
        "from datasets import load_dataset\n",
        "from transformers import AutoTokenizer, DataCollatorWithPadding\n",
        "\n",
        "raw_datasets = load_dataset(\"glue\", \"mrpc\")\n",
        "checkpoint = \"bert-base-uncased\"\n",
        "tokenizer = AutoTokenizer.from_pretrained(checkpoint)\n",
        "\n",
        "\n",
        "def tokenize_function(example):\n",
        "    return tokenizer(example[\"sentence1\"], example[\"sentence2\"], truncation=True)\n",
        "\n",
        "\n",
        "tokenized_datasets = raw_datasets.map(tokenize_function, batched=True)\n",
        "data_collator = DataCollatorWithPadding(tokenizer=tokenizer)"
      ]
    },
    {
      "cell_type": "markdown",
      "source": [
        "### 定義`Trainer`的參數\n",
        "我們定義我們之前的第一步`Trainer`是定義一個類別，其中包含將用於訓練和評估的`TrainingArguments`所有超參數。為求簡單，這邊`Trainer`提供的參數是儲存訓練模型的目錄以及訓練的輪數。對於其餘所有內容，保留預設值，這對於基本的微調應該非常有效。"
      ],
      "metadata": {
        "id": "cEr66md9BWgC"
      }
    },
    {
      "cell_type": "code",
      "execution_count": null,
      "metadata": {
        "id": "695Hdu7z2OE8"
      },
      "outputs": [],
      "source": [
        "from transformers import TrainingArguments\n",
        "\n",
        "training_args = TrainingArguments(\"test-trainer\", num_train_epochs=10)"
      ]
    },
    {
      "cell_type": "markdown",
      "source": [
        "使用`AutoModelForSequenceClassification`有兩個標籤的類別"
      ],
      "metadata": {
        "id": "euE6S2KRC6NZ"
      }
    },
    {
      "cell_type": "code",
      "execution_count": null,
      "metadata": {
        "id": "kMEg7Tay2OE8",
        "colab": {
          "base_uri": "https://localhost:8080/",
          "height": 142,
          "referenced_widgets": [
            "44fc4e13bec94e62a6c0a34d38f55916",
            "186f98d29b9648dc8d08692e16d64f6d",
            "6750b2c204b94168917c30aacaee9198",
            "d79b1612791947f99873da9d7b81b214",
            "a6148340a33c42a08bab1f97c62ace5d",
            "0b3b6e28853c42f2ad5e5c3fb7e5e7cf",
            "ba11c73e80c241359b48504a5eadda60",
            "404c5b6d00994aeb8d738edae224533d",
            "5aa35c8288a443a79dad32663a7f7c7d",
            "815caf9e9f424649b5a81b1cfde2b5e6",
            "5db786733a124ccc89c977b87826868f"
          ]
        },
        "outputId": "b0d64573-cd7b-4523-92cb-b0faae70bdb2"
      },
      "outputs": [
        {
          "output_type": "stream",
          "name": "stderr",
          "text": [
            "/usr/local/lib/python3.10/dist-packages/huggingface_hub/file_download.py:1132: FutureWarning: `resume_download` is deprecated and will be removed in version 1.0.0. Downloads always resume when possible. If you want to force a new download, use `force_download=True`.\n",
            "  warnings.warn(\n"
          ]
        },
        {
          "output_type": "display_data",
          "data": {
            "text/plain": [
              "model.safetensors:   0%|          | 0.00/440M [00:00<?, ?B/s]"
            ],
            "application/vnd.jupyter.widget-view+json": {
              "version_major": 2,
              "version_minor": 0,
              "model_id": "44fc4e13bec94e62a6c0a34d38f55916"
            }
          },
          "metadata": {}
        },
        {
          "output_type": "stream",
          "name": "stderr",
          "text": [
            "Some weights of BertForSequenceClassification were not initialized from the model checkpoint at bert-base-uncased and are newly initialized: ['classifier.bias', 'classifier.weight']\n",
            "You should probably TRAIN this model on a down-stream task to be able to use it for predictions and inference.\n"
          ]
        }
      ],
      "source": [
        "from transformers import AutoModelForSequenceClassification\n",
        "\n",
        "model = AutoModelForSequenceClassification.from_pretrained(checkpoint, num_labels=2)"
      ]
    },
    {
      "cell_type": "markdown",
      "source": [
        "### 說明\n",
        "在實例化這個預訓練模型後會收到一個警告。這是因為BERT沒有在對句子對進行分類的任務上進行預訓練，因此預訓練模型的頭部被丟棄了(bert-base-uncase)，並且加入了一個適合序列分類的新頭部。表示有些權重未被使用（對應於被丟棄的預訓練頭部的那些）以及一些其他權重是隨機初始化的（新頭部）"
      ],
      "metadata": {
        "id": "NwdwdP-hFERI"
      }
    },
    {
      "cell_type": "markdown",
      "source": [
        "### 定義`Trainer`\n",
        "有了模型，就可以傳入建構的所有對象來定義一個訓練器模型、`training_args`、訓練和驗證資料集、`data_collator`和分詞器"
      ],
      "metadata": {
        "id": "vDcNOuWJFeIE"
      }
    },
    {
      "cell_type": "code",
      "execution_count": null,
      "metadata": {
        "id": "4d9isgES2OE8"
      },
      "outputs": [],
      "source": [
        "from transformers import Trainer\n",
        "\n",
        "trainer = Trainer(\n",
        "    model,\n",
        "    training_args,\n",
        "    train_dataset=tokenized_datasets[\"train\"],\n",
        "    eval_dataset=tokenized_datasets[\"validation\"],\n",
        "    data_collator=data_collator,\n",
        "    tokenizer=tokenizer,\n",
        ")"
      ]
    },
    {
      "cell_type": "markdown",
      "source": [
        "### 說明\n",
        "這樣傳遞分詞器時，訓練器使用的預設`data_collator`將是之前定義的`DataCollatorWithPadding`，因此可以跳過`data_collator=data_collator`這一行"
      ],
      "metadata": {
        "id": "PvjNn8H2F445"
      }
    },
    {
      "cell_type": "markdown",
      "source": [
        "### 開始訓練\n",
        "呼叫`Trainer`中的`train()`方法"
      ],
      "metadata": {
        "id": "R-rqrmewGEEy"
      }
    },
    {
      "cell_type": "code",
      "execution_count": null,
      "metadata": {
        "id": "TqWauJqE2OE9",
        "colab": {
          "base_uri": "https://localhost:8080/",
          "height": 394
        },
        "outputId": "d8ff6303-5e30-4a5b-84a0-e0b1645570c1"
      },
      "outputs": [
        {
          "output_type": "display_data",
          "data": {
            "text/plain": [
              "<IPython.core.display.HTML object>"
            ],
            "text/html": [
              "\n",
              "    <div>\n",
              "      \n",
              "      <progress value='4590' max='4590' style='width:300px; height:20px; vertical-align: middle;'></progress>\n",
              "      [4590/4590 11:08, Epoch 10/10]\n",
              "    </div>\n",
              "    <table border=\"1\" class=\"dataframe\">\n",
              "  <thead>\n",
              " <tr style=\"text-align: left;\">\n",
              "      <th>Step</th>\n",
              "      <th>Training Loss</th>\n",
              "    </tr>\n",
              "  </thead>\n",
              "  <tbody>\n",
              "    <tr>\n",
              "      <td>500</td>\n",
              "      <td>0.527900</td>\n",
              "    </tr>\n",
              "    <tr>\n",
              "      <td>1000</td>\n",
              "      <td>0.321000</td>\n",
              "    </tr>\n",
              "    <tr>\n",
              "      <td>1500</td>\n",
              "      <td>0.162500</td>\n",
              "    </tr>\n",
              "    <tr>\n",
              "      <td>2000</td>\n",
              "      <td>0.079200</td>\n",
              "    </tr>\n",
              "    <tr>\n",
              "      <td>2500</td>\n",
              "      <td>0.043800</td>\n",
              "    </tr>\n",
              "    <tr>\n",
              "      <td>3000</td>\n",
              "      <td>0.023700</td>\n",
              "    </tr>\n",
              "    <tr>\n",
              "      <td>3500</td>\n",
              "      <td>0.015000</td>\n",
              "    </tr>\n",
              "    <tr>\n",
              "      <td>4000</td>\n",
              "      <td>0.006000</td>\n",
              "    </tr>\n",
              "    <tr>\n",
              "      <td>4500</td>\n",
              "      <td>0.011700</td>\n",
              "    </tr>\n",
              "  </tbody>\n",
              "</table><p>"
            ]
          },
          "metadata": {}
        },
        {
          "output_type": "execute_result",
          "data": {
            "text/plain": [
              "TrainOutput(global_step=4590, training_loss=0.12971762938989015, metrics={'train_runtime': 671.3162, 'train_samples_per_second': 54.639, 'train_steps_per_second': 6.837, 'total_flos': 1353042435523440.0, 'train_loss': 0.12971762938989015, 'epoch': 10.0})"
            ]
          },
          "metadata": {},
          "execution_count": 6
        }
      ],
      "source": [
        "trainer.train()"
      ]
    },
    {
      "cell_type": "markdown",
      "source": [
        "### 計算模型表現的度量方法\n",
        "- 計算408個預測中，有幾個是和真值一模一樣的"
      ],
      "metadata": {
        "id": "6AU5vSCzwvwL"
      }
    },
    {
      "cell_type": "code",
      "source": [
        "import evaluate\n",
        "import numpy as np\n",
        "\n",
        "predictions = trainer.predict(tokenized_datasets[\"validation\"])\n",
        "preds = np.argmax(predictions.predictions, axis=-1)\n",
        "predictions = trainer.predict(tokenized_datasets[\"validation\"])\n",
        "metric = evaluate.load(\"glue\", \"mrpc\")\n",
        "metric.compute(predictions=preds, references=predictions.label_ids)\n"
      ],
      "metadata": {
        "id": "7axQJKKRwUey",
        "colab": {
          "base_uri": "https://localhost:8080/",
          "height": 35
        },
        "outputId": "a4e7cdaf-c393-4d9b-b964-f1c3f70eb145"
      },
      "execution_count": null,
      "outputs": [
        {
          "output_type": "display_data",
          "data": {
            "text/plain": [
              "<IPython.core.display.HTML object>"
            ],
            "text/html": []
          },
          "metadata": {}
        },
        {
          "output_type": "display_data",
          "data": {
            "text/plain": [
              "<IPython.core.display.HTML object>"
            ],
            "text/html": []
          },
          "metadata": {}
        },
        {
          "output_type": "execute_result",
          "data": {
            "text/plain": [
              "{'accuracy': 0.8357843137254902, 'f1': 0.8838821490467937}"
            ]
          },
          "metadata": {},
          "execution_count": 8
        }
      ]
    },
    {
      "cell_type": "code",
      "source": [],
      "metadata": {
        "id": "KfUk0gjK4H4k"
      },
      "execution_count": null,
      "outputs": []
    },
    {
      "cell_type": "markdown",
      "metadata": {
        "id": "9CXVuEQjSxbr"
      },
      "source": [
        "# Fine-tuning a model with the Trainer Wandb Chinese"
      ]
    },
    {
      "cell_type": "markdown",
      "metadata": {
        "id": "3FWqaF8ESxb8"
      },
      "source": [
        "## 安裝套件"
      ]
    },
    {
      "cell_type": "code",
      "execution_count": null,
      "metadata": {
        "colab": {
          "base_uri": "https://localhost:8080/"
        },
        "outputId": "2667191b-1822-4a00-d3b7-d4f6fefeb8e7",
        "id": "6ZXnONh4Sxb8"
      },
      "outputs": [
        {
          "output_type": "stream",
          "name": "stdout",
          "text": [
            "\u001b[?25l     \u001b[90m━━━━━━━━━━━━━━━━━━━━━━━━━━━━━━━━━━━━━━━━\u001b[0m \u001b[32m0.0/542.0 kB\u001b[0m \u001b[31m?\u001b[0m eta \u001b[36m-:--:--\u001b[0m\r\u001b[2K     \u001b[91m━━━━━━━━━━━━\u001b[0m\u001b[91m╸\u001b[0m\u001b[90m━━━━━━━━━━━━━━━━━━━━━━━━━━━\u001b[0m \u001b[32m174.1/542.0 kB\u001b[0m \u001b[31m4.9 MB/s\u001b[0m eta \u001b[36m0:00:01\u001b[0m\r\u001b[2K     \u001b[91m━━━━━━━━━━━━━━━━━━━━━━━━━━━━━━━━━━━━━━━\u001b[0m\u001b[90m╺\u001b[0m \u001b[32m532.5/542.0 kB\u001b[0m \u001b[31m7.8 MB/s\u001b[0m eta \u001b[36m0:00:01\u001b[0m\r\u001b[2K     \u001b[90m━━━━━━━━━━━━━━━━━━━━━━━━━━━━━━━━━━━━━━━━\u001b[0m \u001b[32m542.0/542.0 kB\u001b[0m \u001b[31m6.1 MB/s\u001b[0m eta \u001b[36m0:00:00\u001b[0m\n",
            "\u001b[2K     \u001b[90m━━━━━━━━━━━━━━━━━━━━━━━━━━━━━━━━━━━━━━━━\u001b[0m \u001b[32m84.1/84.1 kB\u001b[0m \u001b[31m9.3 MB/s\u001b[0m eta \u001b[36m0:00:00\u001b[0m\n",
            "\u001b[2K     \u001b[90m━━━━━━━━━━━━━━━━━━━━━━━━━━━━━━━━━━━━━━━━\u001b[0m \u001b[32m116.3/116.3 kB\u001b[0m \u001b[31m6.8 MB/s\u001b[0m eta \u001b[36m0:00:00\u001b[0m\n",
            "\u001b[2K     \u001b[90m━━━━━━━━━━━━━━━━━━━━━━━━━━━━━━━━━━━━━━━━\u001b[0m \u001b[32m194.1/194.1 kB\u001b[0m \u001b[31m4.5 MB/s\u001b[0m eta \u001b[36m0:00:00\u001b[0m\n",
            "\u001b[2K     \u001b[90m━━━━━━━━━━━━━━━━━━━━━━━━━━━━━━━━━━━━━━━━\u001b[0m \u001b[32m134.8/134.8 kB\u001b[0m \u001b[31m8.0 MB/s\u001b[0m eta \u001b[36m0:00:00\u001b[0m\n",
            "\u001b[2K     \u001b[90m━━━━━━━━━━━━━━━━━━━━━━━━━━━━━━━━━━━━━━━━\u001b[0m \u001b[32m401.2/401.2 kB\u001b[0m \u001b[31m10.9 MB/s\u001b[0m eta \u001b[36m0:00:00\u001b[0m\n",
            "\u001b[2K     \u001b[90m━━━━━━━━━━━━━━━━━━━━━━━━━━━━━━━━━━━━━━━━\u001b[0m \u001b[32m302.4/302.4 kB\u001b[0m \u001b[31m2.0 MB/s\u001b[0m eta \u001b[36m0:00:00\u001b[0m\n",
            "\u001b[2K     \u001b[90m━━━━━━━━━━━━━━━━━━━━━━━━━━━━━━━━━━━━━━━━\u001b[0m \u001b[32m6.7/6.7 MB\u001b[0m \u001b[31m24.0 MB/s\u001b[0m eta \u001b[36m0:00:00\u001b[0m\n",
            "\u001b[2K     \u001b[90m━━━━━━━━━━━━━━━━━━━━━━━━━━━━━━━━━━━━━━━━\u001b[0m \u001b[32m207.3/207.3 kB\u001b[0m \u001b[31m19.8 MB/s\u001b[0m eta \u001b[36m0:00:00\u001b[0m\n",
            "\u001b[2K     \u001b[90m━━━━━━━━━━━━━━━━━━━━━━━━━━━━━━━━━━━━━━━━\u001b[0m \u001b[32m277.3/277.3 kB\u001b[0m \u001b[31m33.5 MB/s\u001b[0m eta \u001b[36m0:00:00\u001b[0m\n",
            "\u001b[2K     \u001b[90m━━━━━━━━━━━━━━━━━━━━━━━━━━━━━━━━━━━━━━━━\u001b[0m \u001b[32m62.7/62.7 kB\u001b[0m \u001b[31m9.0 MB/s\u001b[0m eta \u001b[36m0:00:00\u001b[0m\n",
            "\u001b[?25h"
          ]
        }
      ],
      "source": [
        "!pip install datasets evaluate transformers[sentencepiece] --quiet\n",
        "!pip install accelerate -U --quiet\n",
        "!pip install wandb --quiet"
      ]
    },
    {
      "cell_type": "code",
      "source": [
        "import wandb\n",
        "wandb.login()"
      ],
      "metadata": {
        "colab": {
          "base_uri": "https://localhost:8080/",
          "height": 121
        },
        "id": "9UUoCRFmraXm",
        "outputId": "027f11c6-fa7c-4b28-dc66-8113bb9ff170"
      },
      "execution_count": null,
      "outputs": [
        {
          "output_type": "display_data",
          "data": {
            "text/plain": [
              "<IPython.core.display.Javascript object>"
            ],
            "application/javascript": [
              "\n",
              "        window._wandbApiKey = new Promise((resolve, reject) => {\n",
              "            function loadScript(url) {\n",
              "            return new Promise(function(resolve, reject) {\n",
              "                let newScript = document.createElement(\"script\");\n",
              "                newScript.onerror = reject;\n",
              "                newScript.onload = resolve;\n",
              "                document.body.appendChild(newScript);\n",
              "                newScript.src = url;\n",
              "            });\n",
              "            }\n",
              "            loadScript(\"https://cdn.jsdelivr.net/npm/postmate/build/postmate.min.js\").then(() => {\n",
              "            const iframe = document.createElement('iframe')\n",
              "            iframe.style.cssText = \"width:0;height:0;border:none\"\n",
              "            document.body.appendChild(iframe)\n",
              "            const handshake = new Postmate({\n",
              "                container: iframe,\n",
              "                url: 'https://wandb.ai/authorize'\n",
              "            });\n",
              "            const timeout = setTimeout(() => reject(\"Couldn't auto authenticate\"), 5000)\n",
              "            handshake.then(function(child) {\n",
              "                child.on('authorize', data => {\n",
              "                    clearTimeout(timeout)\n",
              "                    resolve(data)\n",
              "                });\n",
              "            });\n",
              "            })\n",
              "        });\n",
              "    "
            ]
          },
          "metadata": {}
        },
        {
          "output_type": "stream",
          "name": "stderr",
          "text": [
            "\u001b[34m\u001b[1mwandb\u001b[0m: Logging into wandb.ai. (Learn how to deploy a W&B server locally: https://wandb.me/wandb-server)\n",
            "\u001b[34m\u001b[1mwandb\u001b[0m: You can find your API key in your browser here: https://wandb.ai/authorize\n",
            "wandb: Paste an API key from your profile and hit enter, or press ctrl+c to quit:"
          ]
        },
        {
          "name": "stdout",
          "output_type": "stream",
          "text": [
            " ··········\n"
          ]
        },
        {
          "output_type": "stream",
          "name": "stderr",
          "text": [
            "\u001b[34m\u001b[1mwandb\u001b[0m: Appending key for api.wandb.ai to your netrc file: /root/.netrc\n"
          ]
        },
        {
          "output_type": "execute_result",
          "data": {
            "text/plain": [
              "True"
            ]
          },
          "metadata": {},
          "execution_count": 2
        }
      ]
    },
    {
      "cell_type": "code",
      "execution_count": null,
      "metadata": {
        "colab": {
          "base_uri": "https://localhost:8080/",
          "height": 488,
          "referenced_widgets": [
            "ddbc560a9d30474383740906ca1f3a4a",
            "de7e312ccf0141188cc6bbf2048d3236",
            "b755d8b2e55346ae979f40d0f6b36c86",
            "136ea59b736b47ed95def61fea030764",
            "d9ed5ee2a9544ad3ab044785248f3612",
            "a599c4418d044260bca210e66dcd9c43",
            "768d2ca5d4114e6ca5bd4bac41968746",
            "9f6163ce09e04d128ec618b7fe6adf60",
            "ddbf6dc172f249e9873bc8028f4f8afa",
            "8941d364ee5f41feb202161df93cbacf",
            "8c8f80f2422d460e9cddd1f4130ca6a1",
            "f5578e01249e47c8aff4631a61702841",
            "09130eed836b42bab01babbeafdd2aab",
            "f0aa043adff34af698a1dfeb3d13f1c2",
            "494fcb75b8f14ce28c48e99903bd1f03",
            "954ca487e7b246a3ba1f98a980b2c5ab",
            "54d852ec2b0e4488b0682f5a7481d5a2",
            "82506fee66a84ab39d9b0447c0a0b566",
            "f2c632b3c497400f80993a699aaac761",
            "879cedd77a1140a9b0ba5f7ffa5a69e1",
            "da73ad98feaa421b922f38ddf48c2bf7",
            "eb045e40aefd4760b165a1d687c91fb9",
            "d30ec42de7d24f1c8f749eee7b31083e",
            "1c1919775a4a407eb4150f0a48961625",
            "ff46121846cb47059c60cd32330615e6",
            "7058be9b1aad4fb599fc3e795ab18ff3",
            "05d9577d0f53445ba52aa4f55bf319e5",
            "98154cad838d467b80e35fa945a90828",
            "e22a1b2eb124474790550a69da9e736a",
            "d20a64af0d5d440dab2382e468ed2a5c",
            "7ad331af6e8c4ec7bfe5236985f6a058",
            "f7e50a12311544b7bfe8ba0ba759ceb6",
            "e6374472a5c843908310ee6abeb35900",
            "4159208917f14debabbd4ad69f2edfe3",
            "eba33e17adf04b8eb0fa2eccb7806858",
            "9f8f1161a1b74bef9dd35fffc1a388f4",
            "006cecda08de457797985faac3f6cb70",
            "193052285d974f84916005e2ea5190ed",
            "5ffa4b8a6c094d68b80e16e37d0a8b76",
            "1e290c3f3a7e492d9ee54226cda79c2c",
            "25210050494a40909f6a6719284aa560",
            "63e85db7e81846ed82f21c789894e941",
            "c25f002ffd1b40e19a049c570ac6c905",
            "61116cd12a1442fdb5798178eee96ed3",
            "9953052f5ac04092bb15fd42ef83796f",
            "0f2ca0a73e474762a518643e0dd3def6",
            "ec3c59725f3e47fca9c41aa995966d0d",
            "57518768b86c453683df8c5335fea1aa",
            "94c775f7f9f64c79a7c7beba812882fc",
            "e41fc43bc85340de98ca181e1e40d246",
            "55153f86d8474a92a41ac255a4c04cf1",
            "38ecbe1b542d4dc2a9f502cd77cf4eec",
            "f83084b55c6f47afadb261d2ad367129",
            "d76150afe25e4784ad119f9f02bb3425",
            "d7ee6e01bd534da68ba21cee373daff4",
            "17a3f2f9154244bab0e0f750a58dcc25",
            "cb689dcd6e61467e82fd55f6c0620926",
            "ab2064d77578466994060d190ba204ee",
            "a31ec3432af94eb78163e9abb68e5655",
            "c1d2da577a3b4880b19976684a8afe7a",
            "22b8f31ba9f941a59364ffb3009e8d8d",
            "ab3282fda6694fa087cc940bd2bcc1eb",
            "986a030cf2a34f10bec8bf1167666fb4",
            "11b12f0565f849d685e5060c7b90fa26",
            "25013bbe9d3147a4a212f761fb1c726c",
            "12ef19c94b2e418ab95291a159fc8861",
            "fa3e1018a80546b4a51656eb3d1a2934",
            "7be5e2df47d04e9390ad18f1a1c2a01b",
            "6178994be66f43a387d23db91fee96cd",
            "561febf168ea4954924c6e52450b00bf",
            "a7ccbf4dfaff43cc92f0a56dfe7c3e2a",
            "1ae846bb43b343d4910ae6504c9b090a",
            "288f58edade24498aed2f375c16a140f",
            "39d861a78a92409a89b3c8c1cf5e06e9",
            "b9956594c5f248f188e333abc11eb955",
            "e7f39720ea504225bb98683b0eb5c259",
            "1bade559a986466e979bbc911a93202b",
            "ab1522dad5f74d1c9a13209f87dbeb31",
            "60f7ead5bf2e4752b036dc2412cfbb54",
            "5be49b8251a145b0b828efbfd3cc4106",
            "07e4f3c11c3e48abab508dff4c41e491",
            "938f0d175e604444a333af5a3f9712c4",
            "5fa351a00ca64a559d745a12cf14bc51",
            "530be2ccb5de4086ad2e6b2babd9fa4b",
            "b5c2cd85a1e846dbbabff773fa21938a",
            "8b6e0f0118ed44c4bc652e113298dd4a",
            "7c44f6e6520744faa79ac8b3145d7ee8",
            "e04ad04e0c4e41fbbfc8261ae266acd6",
            "7d2b67bc1193440ba56898ccc0d84a75",
            "a95479d1cf724da8b92198765995ed46",
            "deed072a2bbf40ba927de855509cbbc5",
            "61e353683a024a1fb49e42317be5afcd",
            "aac2538f4e194956901759948b83fb57",
            "63456fc0e158478488ef1e21d425700b",
            "aa152c93e9a94c0a8b1c9af438c10eb2",
            "52182cb960a54664bb38ec20507c0882",
            "a89faf0f81a34fc7b4837904f7677d28",
            "94dd2867991a4193a22c09096b293de2",
            "fea242b87c774371b3fca5075aa7c731",
            "f6273bce05d046a5806f9028268ed6db",
            "034dd30a183a4f55b73e686441354320",
            "d84f4d24641347f38d5908540c742bc1",
            "7f58d688a1c443fea29819f3ed14bfb2",
            "69c2750b2f58497b85b4208660498a26",
            "ae1d05ae25b84b3297f3b22f2eecb587",
            "7df1dcf8a6c84bb6989523822b33d4e2",
            "45638baf6fdf452baa8297f4e4aaa704",
            "c1e02a9a5569400897c781903dc9df4f",
            "c06aec3c5bd74a079f176d89d58b8259",
            "710078c5532847439b02fc8f9428aa37",
            "cd639668e20b4bd8875ba77fa08fece4",
            "d8c70ffdd2ba405389285d22ea201d04",
            "2c36204bb0df402c89043d3ac702b193",
            "873ac348f6dd4b7b901097e115b9617d",
            "90e8819289f742608c2c13c6136824c0",
            "5c1c7dd99861471bad1b74a94cb1a8b1",
            "8fcaa77da129431d961df3b6577dec98",
            "e0759f6332a441caa12956fb91872969",
            "7319173fce624e1884560a045a485ff4",
            "08b3b06394db4c688f0f21a35059cd31",
            "9c0bcde1ea7c4c00a710f6936ff8ea17",
            "2a20346e0cd8402da4803b2fed64b41e",
            "9b19b9ece7c941329fcd2858beb242aa",
            "6c2ac3e8b2254bc9b05edf4f511a5de3",
            "c717c2fb8d634972a3bfb4ab03837e96",
            "9a39f65d0e5047fea7a7815ffaacb239",
            "98b61717ee0949a893685ce028b3593c",
            "233c29eb3a624c21b7b89ac34ff60b46",
            "cb0b26a35a7b42829406ea580d22f0bd",
            "1c3397e1d1304653842b07a52de10561",
            "ea7ce69af9b74ca2a8eca5ad8ba5de0e",
            "bbaf08a7180e4e979ee4fe13681288e9",
            "5bd448d1c6354aecb7663c6f71696f18",
            "dd8f2e8170634ccdae937712160b8d5d",
            "43b812a70d73476a9fd56f9fe0078e9f",
            "be25d4ba69f447d080116bfdb749523e",
            "7fe0cd10af2a427da8b90cbb8f1d03e6",
            "9b154adcf69d4f4fa41eb86214ee4c8a",
            "8d5734489f444a38b5635be4b9439472",
            "b2e28e6b58d7450d965c9de3eb4bfca1",
            "af9f5d07f0da4e95bee05fcb79b45de2",
            "443af87ee17545e19cf6555aaac3a6fd",
            "960f23a28558407289dee45d2423f6a4"
          ]
        },
        "outputId": "bfbc8e44-cb72-484c-b936-b4e4ec9f2df3",
        "id": "_YgGATTsSxb9"
      },
      "outputs": [
        {
          "output_type": "display_data",
          "data": {
            "text/plain": [
              "Downloading data:   0%|          | 0.00/3.53M [00:00<?, ?B/s]"
            ],
            "application/vnd.jupyter.widget-view+json": {
              "version_major": 2,
              "version_minor": 0,
              "model_id": "ddbc560a9d30474383740906ca1f3a4a"
            }
          },
          "metadata": {}
        },
        {
          "output_type": "display_data",
          "data": {
            "text/plain": [
              "Downloading data:   0%|          | 0.00/724k [00:00<?, ?B/s]"
            ],
            "application/vnd.jupyter.widget-view+json": {
              "version_major": 2,
              "version_minor": 0,
              "model_id": "f5578e01249e47c8aff4631a61702841"
            }
          },
          "metadata": {}
        },
        {
          "output_type": "display_data",
          "data": {
            "text/plain": [
              "Downloading data:   0%|          | 0.00/1.39M [00:00<?, ?B/s]"
            ],
            "application/vnd.jupyter.widget-view+json": {
              "version_major": 2,
              "version_minor": 0,
              "model_id": "d30ec42de7d24f1c8f749eee7b31083e"
            }
          },
          "metadata": {}
        },
        {
          "output_type": "display_data",
          "data": {
            "text/plain": [
              "Generating train split:   0%|          | 0/12348 [00:00<?, ? examples/s]"
            ],
            "application/vnd.jupyter.widget-view+json": {
              "version_major": 2,
              "version_minor": 0,
              "model_id": "4159208917f14debabbd4ad69f2edfe3"
            }
          },
          "metadata": {}
        },
        {
          "output_type": "display_data",
          "data": {
            "text/plain": [
              "Generating validation split:   0%|          | 0/2591 [00:00<?, ? examples/s]"
            ],
            "application/vnd.jupyter.widget-view+json": {
              "version_major": 2,
              "version_minor": 0,
              "model_id": "9953052f5ac04092bb15fd42ef83796f"
            }
          },
          "metadata": {}
        },
        {
          "output_type": "display_data",
          "data": {
            "text/plain": [
              "Generating test split:   0%|          | 0/4896 [00:00<?, ? examples/s]"
            ],
            "application/vnd.jupyter.widget-view+json": {
              "version_major": 2,
              "version_minor": 0,
              "model_id": "17a3f2f9154244bab0e0f750a58dcc25"
            }
          },
          "metadata": {}
        },
        {
          "output_type": "stream",
          "name": "stderr",
          "text": [
            "/usr/local/lib/python3.10/dist-packages/huggingface_hub/file_download.py:1132: FutureWarning: `resume_download` is deprecated and will be removed in version 1.0.0. Downloads always resume when possible. If you want to force a new download, use `force_download=True`.\n",
            "  warnings.warn(\n"
          ]
        },
        {
          "output_type": "display_data",
          "data": {
            "text/plain": [
              "tokenizer_config.json:   0%|          | 0.00/49.0 [00:00<?, ?B/s]"
            ],
            "application/vnd.jupyter.widget-view+json": {
              "version_major": 2,
              "version_minor": 0,
              "model_id": "fa3e1018a80546b4a51656eb3d1a2934"
            }
          },
          "metadata": {}
        },
        {
          "output_type": "display_data",
          "data": {
            "text/plain": [
              "config.json:   0%|          | 0.00/624 [00:00<?, ?B/s]"
            ],
            "application/vnd.jupyter.widget-view+json": {
              "version_major": 2,
              "version_minor": 0,
              "model_id": "ab1522dad5f74d1c9a13209f87dbeb31"
            }
          },
          "metadata": {}
        },
        {
          "output_type": "display_data",
          "data": {
            "text/plain": [
              "vocab.txt:   0%|          | 0.00/110k [00:00<?, ?B/s]"
            ],
            "application/vnd.jupyter.widget-view+json": {
              "version_major": 2,
              "version_minor": 0,
              "model_id": "7d2b67bc1193440ba56898ccc0d84a75"
            }
          },
          "metadata": {}
        },
        {
          "output_type": "display_data",
          "data": {
            "text/plain": [
              "tokenizer.json:   0%|          | 0.00/269k [00:00<?, ?B/s]"
            ],
            "application/vnd.jupyter.widget-view+json": {
              "version_major": 2,
              "version_minor": 0,
              "model_id": "f6273bce05d046a5806f9028268ed6db"
            }
          },
          "metadata": {}
        },
        {
          "output_type": "display_data",
          "data": {
            "text/plain": [
              "Map:   0%|          | 0/12348 [00:00<?, ? examples/s]"
            ],
            "application/vnd.jupyter.widget-view+json": {
              "version_major": 2,
              "version_minor": 0,
              "model_id": "cd639668e20b4bd8875ba77fa08fece4"
            }
          },
          "metadata": {}
        },
        {
          "output_type": "display_data",
          "data": {
            "text/plain": [
              "Map:   0%|          | 0/2591 [00:00<?, ? examples/s]"
            ],
            "application/vnd.jupyter.widget-view+json": {
              "version_major": 2,
              "version_minor": 0,
              "model_id": "2a20346e0cd8402da4803b2fed64b41e"
            }
          },
          "metadata": {}
        },
        {
          "output_type": "display_data",
          "data": {
            "text/plain": [
              "Map:   0%|          | 0/4896 [00:00<?, ? examples/s]"
            ],
            "application/vnd.jupyter.widget-view+json": {
              "version_major": 2,
              "version_minor": 0,
              "model_id": "5bd448d1c6354aecb7663c6f71696f18"
            }
          },
          "metadata": {}
        }
      ],
      "source": [
        "from datasets import load_dataset\n",
        "from transformers import AutoTokenizer, DataCollatorWithPadding\n",
        "\n",
        "raw_datasets = load_dataset(\"sepidmnorozy/Chinese_sentiment\")\n",
        "checkpoint = \"google-bert/bert-base-chinese\"\n",
        "tokenizer = AutoTokenizer.from_pretrained(checkpoint)\n",
        "\n",
        "\n",
        "def tokenize_function(example):\n",
        "    return tokenizer(example[\"text\"], truncation=True)\n",
        "\n",
        "\n",
        "tokenized_datasets = raw_datasets.map(tokenize_function, batched=True)\n",
        "data_collator = DataCollatorWithPadding(tokenizer=tokenizer)"
      ]
    },
    {
      "cell_type": "markdown",
      "source": [
        "### 定義`Trainer`的參數\n",
        "我們定義我們之前的第一步`Trainer`是定義一個類別，其中包含將用於訓練和評估的`TrainingArguments`所有超參數。為求簡單，這邊`Trainer`提供的參數是儲存訓練模型的目錄以及訓練的輪數。對於其餘所有內容，保留預設值，這對於基本的微調應該非常有效。"
      ],
      "metadata": {
        "id": "tFE23EdlSxb9"
      }
    },
    {
      "cell_type": "code",
      "execution_count": null,
      "metadata": {
        "id": "X5DTSRd-Sxb9"
      },
      "outputs": [],
      "source": [
        "from transformers import TrainingArguments\n",
        "\n",
        "training_args = TrainingArguments(\"test-trainer\", num_train_epochs=3, report_to=\"wandb\")"
      ]
    },
    {
      "cell_type": "markdown",
      "source": [
        "使用`AutoModelForSequenceClassification`有兩個標籤的類別"
      ],
      "metadata": {
        "id": "Ywa2LC9_Sxb9"
      }
    },
    {
      "cell_type": "code",
      "execution_count": null,
      "metadata": {
        "colab": {
          "base_uri": "https://localhost:8080/",
          "height": 138,
          "referenced_widgets": [
            "dc30e1e608ca4e85a25a7a480df8d3bd",
            "6801b64459364b4a8766fe45e4ac9d66",
            "2fb881e88f16440ab94f0c9509abbfec",
            "a5959d12a45743a1acd571c5af81f1c5",
            "7b6291069de14b9fad5faa4a384e0c54",
            "b405f9deff6247b88ba5217ddd41fad8",
            "0d729176407a48d7b8b56588602ef9c8",
            "6967f1c64727442abbc3933e620d067d",
            "d96ddded42ea46dfb27214f8bf304a34",
            "917fa9d5f7d8436a9372520158269634",
            "658a55804b974d629a6e065db3673257"
          ]
        },
        "outputId": "f67c7cb8-8808-452c-e4ab-dc225240d315",
        "id": "XQpnmFE0Sxb9"
      },
      "outputs": [
        {
          "output_type": "stream",
          "name": "stderr",
          "text": [
            "/usr/local/lib/python3.10/dist-packages/huggingface_hub/file_download.py:1132: FutureWarning: `resume_download` is deprecated and will be removed in version 1.0.0. Downloads always resume when possible. If you want to force a new download, use `force_download=True`.\n",
            "  warnings.warn(\n"
          ]
        },
        {
          "output_type": "display_data",
          "data": {
            "text/plain": [
              "model.safetensors:   0%|          | 0.00/412M [00:00<?, ?B/s]"
            ],
            "application/vnd.jupyter.widget-view+json": {
              "version_major": 2,
              "version_minor": 0,
              "model_id": "dc30e1e608ca4e85a25a7a480df8d3bd"
            }
          },
          "metadata": {}
        },
        {
          "output_type": "stream",
          "name": "stderr",
          "text": [
            "Some weights of BertForSequenceClassification were not initialized from the model checkpoint at google-bert/bert-base-chinese and are newly initialized: ['classifier.bias', 'classifier.weight']\n",
            "You should probably TRAIN this model on a down-stream task to be able to use it for predictions and inference.\n"
          ]
        }
      ],
      "source": [
        "from transformers import AutoModelForSequenceClassification\n",
        "\n",
        "model = AutoModelForSequenceClassification.from_pretrained(checkpoint, num_labels=2)"
      ]
    },
    {
      "cell_type": "markdown",
      "source": [
        "### 說明\n",
        "在實例化這個預訓練模型後會收到一個警告。這是因為BERT沒有在對句子對進行分類的任務上進行預訓練，因此預訓練模型的頭部被丟棄了(bert-base-uncase)，並且加入了一個適合序列分類的新頭部。表示有些權重未被使用（對應於被丟棄的預訓練頭部的那些）以及一些其他權重是隨機初始化的（新頭部）"
      ],
      "metadata": {
        "id": "E3ISD5kpSxb9"
      }
    },
    {
      "cell_type": "markdown",
      "source": [
        "### 定義`Trainer`\n",
        "有了模型，就可以傳入建構的所有對象來定義一個訓練器模型、`training_args`、訓練和驗證資料集、`data_collator`和分詞器"
      ],
      "metadata": {
        "id": "50-EOpwQSxb-"
      }
    },
    {
      "cell_type": "code",
      "execution_count": null,
      "metadata": {
        "id": "_JJEOPDYSxb-"
      },
      "outputs": [],
      "source": [
        "from transformers import Trainer\n",
        "\n",
        "trainer = Trainer(\n",
        "    model,\n",
        "    training_args,\n",
        "    train_dataset=tokenized_datasets[\"train\"],\n",
        "    eval_dataset=tokenized_datasets[\"validation\"],\n",
        "    data_collator=data_collator,\n",
        "    tokenizer=tokenizer,\n",
        ")"
      ]
    },
    {
      "cell_type": "markdown",
      "source": [
        "### 說明\n",
        "這樣傳遞分詞器時，訓練器使用的預設`data_collator`將是之前定義的`DataCollatorWithPadding`，因此可以跳過`data_collator=data_collator`這一行"
      ],
      "metadata": {
        "id": "7S3SWDZ2Sxb-"
      }
    },
    {
      "cell_type": "markdown",
      "source": [
        "### 開始訓練\n",
        "呼叫`Trainer`中的`train()`方法"
      ],
      "metadata": {
        "id": "_0VxnfZ1Sxb_"
      }
    },
    {
      "cell_type": "code",
      "execution_count": null,
      "metadata": {
        "colab": {
          "base_uri": "https://localhost:8080/",
          "height": 496
        },
        "outputId": "5fc93e62-f57b-4118-adee-c477255cf90f",
        "id": "-w1kOFlPSxb_"
      },
      "outputs": [
        {
          "output_type": "stream",
          "name": "stderr",
          "text": [
            "\u001b[34m\u001b[1mwandb\u001b[0m: Currently logged in as: \u001b[33mshhuang\u001b[0m (\u001b[33mshhuangmust\u001b[0m). Use \u001b[1m`wandb login --relogin`\u001b[0m to force relogin\n"
          ]
        },
        {
          "output_type": "display_data",
          "data": {
            "text/plain": [
              "<IPython.core.display.HTML object>"
            ],
            "text/html": [
              "Tracking run with wandb version 0.17.0"
            ]
          },
          "metadata": {}
        },
        {
          "output_type": "display_data",
          "data": {
            "text/plain": [
              "<IPython.core.display.HTML object>"
            ],
            "text/html": [
              "Run data is saved locally in <code>/content/wandb/run-20240509_044413-wda3beoj</code>"
            ]
          },
          "metadata": {}
        },
        {
          "output_type": "display_data",
          "data": {
            "text/plain": [
              "<IPython.core.display.HTML object>"
            ],
            "text/html": [
              "Syncing run <strong><a href='https://wandb.ai/shhuangmust/huggingface/runs/wda3beoj' target=\"_blank\">stilted-rain-1</a></strong> to <a href='https://wandb.ai/shhuangmust/huggingface' target=\"_blank\">Weights & Biases</a> (<a href='https://wandb.me/run' target=\"_blank\">docs</a>)<br/>"
            ]
          },
          "metadata": {}
        },
        {
          "output_type": "display_data",
          "data": {
            "text/plain": [
              "<IPython.core.display.HTML object>"
            ],
            "text/html": [
              " View project at <a href='https://wandb.ai/shhuangmust/huggingface' target=\"_blank\">https://wandb.ai/shhuangmust/huggingface</a>"
            ]
          },
          "metadata": {}
        },
        {
          "output_type": "display_data",
          "data": {
            "text/plain": [
              "<IPython.core.display.HTML object>"
            ],
            "text/html": [
              " View run at <a href='https://wandb.ai/shhuangmust/huggingface/runs/wda3beoj' target=\"_blank\">https://wandb.ai/shhuangmust/huggingface/runs/wda3beoj</a>"
            ]
          },
          "metadata": {}
        },
        {
          "output_type": "display_data",
          "data": {
            "text/plain": [
              "<IPython.core.display.HTML object>"
            ],
            "text/html": [
              "\n",
              "    <div>\n",
              "      \n",
              "      <progress value='4632' max='4632' style='width:300px; height:20px; vertical-align: middle;'></progress>\n",
              "      [4632/4632 25:06, Epoch 3/3]\n",
              "    </div>\n",
              "    <table border=\"1\" class=\"dataframe\">\n",
              "  <thead>\n",
              " <tr style=\"text-align: left;\">\n",
              "      <th>Step</th>\n",
              "      <th>Training Loss</th>\n",
              "    </tr>\n",
              "  </thead>\n",
              "  <tbody>\n",
              "    <tr>\n",
              "      <td>500</td>\n",
              "      <td>0.500000</td>\n",
              "    </tr>\n",
              "    <tr>\n",
              "      <td>1000</td>\n",
              "      <td>0.416900</td>\n",
              "    </tr>\n",
              "    <tr>\n",
              "      <td>1500</td>\n",
              "      <td>0.415700</td>\n",
              "    </tr>\n",
              "    <tr>\n",
              "      <td>2000</td>\n",
              "      <td>0.383900</td>\n",
              "    </tr>\n",
              "    <tr>\n",
              "      <td>2500</td>\n",
              "      <td>0.371700</td>\n",
              "    </tr>\n",
              "    <tr>\n",
              "      <td>3000</td>\n",
              "      <td>0.361100</td>\n",
              "    </tr>\n",
              "    <tr>\n",
              "      <td>3500</td>\n",
              "      <td>0.313200</td>\n",
              "    </tr>\n",
              "    <tr>\n",
              "      <td>4000</td>\n",
              "      <td>0.304600</td>\n",
              "    </tr>\n",
              "    <tr>\n",
              "      <td>4500</td>\n",
              "      <td>0.268400</td>\n",
              "    </tr>\n",
              "  </tbody>\n",
              "</table><p>"
            ]
          },
          "metadata": {}
        },
        {
          "output_type": "execute_result",
          "data": {
            "text/plain": [
              "TrainOutput(global_step=4632, training_loss=0.36789816113539514, metrics={'train_runtime': 1511.9504, 'train_samples_per_second': 24.501, 'train_steps_per_second': 3.064, 'total_flos': 3856159738466400.0, 'train_loss': 0.36789816113539514, 'epoch': 3.0})"
            ]
          },
          "metadata": {},
          "execution_count": 7
        }
      ],
      "source": [
        "trainer.train()"
      ]
    },
    {
      "cell_type": "code",
      "source": [
        "trainer.save_model(\"./testmodel\")"
      ],
      "metadata": {
        "id": "nZiGzNVCr6Hz"
      },
      "execution_count": null,
      "outputs": []
    },
    {
      "cell_type": "code",
      "source": [
        "from transformers import pipeline\n",
        "\n",
        "classifier = pipeline(\"sentiment-analysis\", model=\"./testmodel\")\n"
      ],
      "metadata": {
        "id": "Iy26ygWCT1cq"
      },
      "execution_count": null,
      "outputs": []
    },
    {
      "cell_type": "code",
      "source": [
        "classifier(\n",
        "    [\n",
        "        \"真的很棒\",\n",
        "        \"只會來這一次了\",\n",
        "    ]\n",
        ")"
      ],
      "metadata": {
        "colab": {
          "base_uri": "https://localhost:8080/"
        },
        "id": "CpxndZdFrVx5",
        "outputId": "65398dcf-fb4a-4283-99be-ab7441b2b3e9"
      },
      "execution_count": null,
      "outputs": [
        {
          "output_type": "execute_result",
          "data": {
            "text/plain": [
              "[{'label': 'LABEL_1', 'score': 0.998557984828949},\n",
              " {'label': 'LABEL_1', 'score': 0.8165013790130615}]"
            ]
          },
          "metadata": {},
          "execution_count": 10
        }
      ]
    },
    {
      "cell_type": "code",
      "source": [
        "model.config.id2label"
      ],
      "metadata": {
        "colab": {
          "base_uri": "https://localhost:8080/"
        },
        "id": "y7o__oDQuqr1",
        "outputId": "7693084a-f821-45ec-f583-4f5fc8f0d661"
      },
      "execution_count": null,
      "outputs": [
        {
          "output_type": "execute_result",
          "data": {
            "text/plain": [
              "{0: 'LABEL_0', 1: 'LABEL_1'}"
            ]
          },
          "metadata": {},
          "execution_count": 11
        }
      ]
    },
    {
      "cell_type": "code",
      "source": [],
      "metadata": {
        "id": "HHABoI3qS9gQ"
      },
      "execution_count": null,
      "outputs": []
    },
    {
      "cell_type": "markdown",
      "metadata": {
        "id": "VC8StXuEXbAY"
      },
      "source": [
        "# Parameter-Efficient Fine-Tuning (PEFT)\n",
        "- 通過訓練一小組參數，使微調門檻降低，並且讓模型能夠適應和執行新的任務\n",
        "![image.png](data:image/png;base64,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)"
      ]
    },
    {
      "cell_type": "markdown",
      "source": [
        "# 載入用Peft訓練出來的Adapter\n",
        "https://huggingface.co/docs/transformers/main/en/peft"
      ],
      "metadata": {
        "id": "EftzEuhv62gJ"
      }
    },
    {
      "cell_type": "code",
      "source": [
        "!pip install datasets bitsandbytes"
      ],
      "metadata": {
        "colab": {
          "base_uri": "https://localhost:8080/"
        },
        "id": "nqr6XsZKYd8n",
        "outputId": "91abc362-8cd1-4541-cc17-41d17094cec0"
      },
      "execution_count": null,
      "outputs": [
        {
          "output_type": "stream",
          "name": "stdout",
          "text": [
            "Collecting datasets\n",
            "  Downloading datasets-2.19.1-py3-none-any.whl (542 kB)\n",
            "\u001b[2K     \u001b[90m━━━━━━━━━━━━━━━━━━━━━━━━━━━━━━━━━━━━━━━━\u001b[0m \u001b[32m542.0/542.0 kB\u001b[0m \u001b[31m6.5 MB/s\u001b[0m eta \u001b[36m0:00:00\u001b[0m\n",
            "\u001b[?25hCollecting bitsandbytes\n",
            "  Downloading bitsandbytes-0.43.1-py3-none-manylinux_2_24_x86_64.whl (119.8 MB)\n",
            "\u001b[2K     \u001b[90m━━━━━━━━━━━━━━━━━━━━━━━━━━━━━━━━━━━━━━━━\u001b[0m \u001b[32m119.8/119.8 MB\u001b[0m \u001b[31m7.1 MB/s\u001b[0m eta \u001b[36m0:00:00\u001b[0m\n",
            "\u001b[?25hRequirement already satisfied: filelock in /usr/local/lib/python3.10/dist-packages (from datasets) (3.14.0)\n",
            "Requirement already satisfied: numpy>=1.17 in /usr/local/lib/python3.10/dist-packages (from datasets) (1.25.2)\n",
            "Requirement already satisfied: pyarrow>=12.0.0 in /usr/local/lib/python3.10/dist-packages (from datasets) (14.0.2)\n",
            "Requirement already satisfied: pyarrow-hotfix in /usr/local/lib/python3.10/dist-packages (from datasets) (0.6)\n",
            "Collecting dill<0.3.9,>=0.3.0 (from datasets)\n",
            "  Downloading dill-0.3.8-py3-none-any.whl (116 kB)\n",
            "\u001b[2K     \u001b[90m━━━━━━━━━━━━━━━━━━━━━━━━━━━━━━━━━━━━━━━━\u001b[0m \u001b[32m116.3/116.3 kB\u001b[0m \u001b[31m12.9 MB/s\u001b[0m eta \u001b[36m0:00:00\u001b[0m\n",
            "\u001b[?25hRequirement already satisfied: pandas in /usr/local/lib/python3.10/dist-packages (from datasets) (2.0.3)\n",
            "Requirement already satisfied: requests>=2.19.0 in /usr/local/lib/python3.10/dist-packages (from datasets) (2.31.0)\n",
            "Requirement already satisfied: tqdm>=4.62.1 in /usr/local/lib/python3.10/dist-packages (from datasets) (4.66.4)\n",
            "Collecting xxhash (from datasets)\n",
            "  Downloading xxhash-3.4.1-cp310-cp310-manylinux_2_17_x86_64.manylinux2014_x86_64.whl (194 kB)\n",
            "\u001b[2K     \u001b[90m━━━━━━━━━━━━━━━━━━━━━━━━━━━━━━━━━━━━━━━━\u001b[0m \u001b[32m194.1/194.1 kB\u001b[0m \u001b[31m15.1 MB/s\u001b[0m eta \u001b[36m0:00:00\u001b[0m\n",
            "\u001b[?25hCollecting multiprocess (from datasets)\n",
            "  Downloading multiprocess-0.70.16-py310-none-any.whl (134 kB)\n",
            "\u001b[2K     \u001b[90m━━━━━━━━━━━━━━━━━━━━━━━━━━━━━━━━━━━━━━━━\u001b[0m \u001b[32m134.8/134.8 kB\u001b[0m \u001b[31m16.9 MB/s\u001b[0m eta \u001b[36m0:00:00\u001b[0m\n",
            "\u001b[?25hRequirement already satisfied: fsspec[http]<=2024.3.1,>=2023.1.0 in /usr/local/lib/python3.10/dist-packages (from datasets) (2023.6.0)\n",
            "Requirement already satisfied: aiohttp in /usr/local/lib/python3.10/dist-packages (from datasets) (3.9.5)\n",
            "Collecting huggingface-hub>=0.21.2 (from datasets)\n",
            "  Downloading huggingface_hub-0.23.0-py3-none-any.whl (401 kB)\n",
            "\u001b[2K     \u001b[90m━━━━━━━━━━━━━━━━━━━━━━━━━━━━━━━━━━━━━━━━\u001b[0m \u001b[32m401.2/401.2 kB\u001b[0m \u001b[31m27.1 MB/s\u001b[0m eta \u001b[36m0:00:00\u001b[0m\n",
            "\u001b[?25hRequirement already satisfied: packaging in /usr/local/lib/python3.10/dist-packages (from datasets) (24.0)\n",
            "Requirement already satisfied: pyyaml>=5.1 in /usr/local/lib/python3.10/dist-packages (from datasets) (6.0.1)\n",
            "Requirement already satisfied: torch in /usr/local/lib/python3.10/dist-packages (from bitsandbytes) (2.2.1+cu121)\n",
            "Requirement already satisfied: aiosignal>=1.1.2 in /usr/local/lib/python3.10/dist-packages (from aiohttp->datasets) (1.3.1)\n",
            "Requirement already satisfied: attrs>=17.3.0 in /usr/local/lib/python3.10/dist-packages (from aiohttp->datasets) (23.2.0)\n",
            "Requirement already satisfied: frozenlist>=1.1.1 in /usr/local/lib/python3.10/dist-packages (from aiohttp->datasets) (1.4.1)\n",
            "Requirement already satisfied: multidict<7.0,>=4.5 in /usr/local/lib/python3.10/dist-packages (from aiohttp->datasets) (6.0.5)\n",
            "Requirement already satisfied: yarl<2.0,>=1.0 in /usr/local/lib/python3.10/dist-packages (from aiohttp->datasets) (1.9.4)\n",
            "Requirement already satisfied: async-timeout<5.0,>=4.0 in /usr/local/lib/python3.10/dist-packages (from aiohttp->datasets) (4.0.3)\n",
            "Requirement already satisfied: typing-extensions>=3.7.4.3 in /usr/local/lib/python3.10/dist-packages (from huggingface-hub>=0.21.2->datasets) (4.11.0)\n",
            "Requirement already satisfied: charset-normalizer<4,>=2 in /usr/local/lib/python3.10/dist-packages (from requests>=2.19.0->datasets) (3.3.2)\n",
            "Requirement already satisfied: idna<4,>=2.5 in /usr/local/lib/python3.10/dist-packages (from requests>=2.19.0->datasets) (3.7)\n",
            "Requirement already satisfied: urllib3<3,>=1.21.1 in /usr/local/lib/python3.10/dist-packages (from requests>=2.19.0->datasets) (2.0.7)\n",
            "Requirement already satisfied: certifi>=2017.4.17 in /usr/local/lib/python3.10/dist-packages (from requests>=2.19.0->datasets) (2024.2.2)\n",
            "Requirement already satisfied: python-dateutil>=2.8.2 in /usr/local/lib/python3.10/dist-packages (from pandas->datasets) (2.8.2)\n",
            "Requirement already satisfied: pytz>=2020.1 in /usr/local/lib/python3.10/dist-packages (from pandas->datasets) (2023.4)\n",
            "Requirement already satisfied: tzdata>=2022.1 in /usr/local/lib/python3.10/dist-packages (from pandas->datasets) (2024.1)\n",
            "Requirement already satisfied: sympy in /usr/local/lib/python3.10/dist-packages (from torch->bitsandbytes) (1.12)\n",
            "Requirement already satisfied: networkx in /usr/local/lib/python3.10/dist-packages (from torch->bitsandbytes) (3.3)\n",
            "Requirement already satisfied: jinja2 in /usr/local/lib/python3.10/dist-packages (from torch->bitsandbytes) (3.1.3)\n",
            "Collecting nvidia-cuda-nvrtc-cu12==12.1.105 (from torch->bitsandbytes)\n",
            "  Using cached nvidia_cuda_nvrtc_cu12-12.1.105-py3-none-manylinux1_x86_64.whl (23.7 MB)\n",
            "Collecting nvidia-cuda-runtime-cu12==12.1.105 (from torch->bitsandbytes)\n",
            "  Using cached nvidia_cuda_runtime_cu12-12.1.105-py3-none-manylinux1_x86_64.whl (823 kB)\n",
            "Collecting nvidia-cuda-cupti-cu12==12.1.105 (from torch->bitsandbytes)\n",
            "  Using cached nvidia_cuda_cupti_cu12-12.1.105-py3-none-manylinux1_x86_64.whl (14.1 MB)\n",
            "Collecting nvidia-cudnn-cu12==8.9.2.26 (from torch->bitsandbytes)\n",
            "  Using cached nvidia_cudnn_cu12-8.9.2.26-py3-none-manylinux1_x86_64.whl (731.7 MB)\n",
            "Collecting nvidia-cublas-cu12==12.1.3.1 (from torch->bitsandbytes)\n",
            "  Using cached nvidia_cublas_cu12-12.1.3.1-py3-none-manylinux1_x86_64.whl (410.6 MB)\n",
            "Collecting nvidia-cufft-cu12==11.0.2.54 (from torch->bitsandbytes)\n",
            "  Using cached nvidia_cufft_cu12-11.0.2.54-py3-none-manylinux1_x86_64.whl (121.6 MB)\n",
            "Collecting nvidia-curand-cu12==10.3.2.106 (from torch->bitsandbytes)\n",
            "  Using cached nvidia_curand_cu12-10.3.2.106-py3-none-manylinux1_x86_64.whl (56.5 MB)\n",
            "Collecting nvidia-cusolver-cu12==11.4.5.107 (from torch->bitsandbytes)\n",
            "  Using cached nvidia_cusolver_cu12-11.4.5.107-py3-none-manylinux1_x86_64.whl (124.2 MB)\n",
            "Collecting nvidia-cusparse-cu12==12.1.0.106 (from torch->bitsandbytes)\n",
            "  Using cached nvidia_cusparse_cu12-12.1.0.106-py3-none-manylinux1_x86_64.whl (196.0 MB)\n",
            "Collecting nvidia-nccl-cu12==2.19.3 (from torch->bitsandbytes)\n",
            "  Using cached nvidia_nccl_cu12-2.19.3-py3-none-manylinux1_x86_64.whl (166.0 MB)\n",
            "Collecting nvidia-nvtx-cu12==12.1.105 (from torch->bitsandbytes)\n",
            "  Using cached nvidia_nvtx_cu12-12.1.105-py3-none-manylinux1_x86_64.whl (99 kB)\n",
            "Requirement already satisfied: triton==2.2.0 in /usr/local/lib/python3.10/dist-packages (from torch->bitsandbytes) (2.2.0)\n",
            "Collecting nvidia-nvjitlink-cu12 (from nvidia-cusolver-cu12==11.4.5.107->torch->bitsandbytes)\n",
            "  Using cached nvidia_nvjitlink_cu12-12.4.127-py3-none-manylinux2014_x86_64.whl (21.1 MB)\n",
            "Requirement already satisfied: six>=1.5 in /usr/local/lib/python3.10/dist-packages (from python-dateutil>=2.8.2->pandas->datasets) (1.16.0)\n",
            "Requirement already satisfied: MarkupSafe>=2.0 in /usr/local/lib/python3.10/dist-packages (from jinja2->torch->bitsandbytes) (2.1.5)\n",
            "Requirement already satisfied: mpmath>=0.19 in /usr/local/lib/python3.10/dist-packages (from sympy->torch->bitsandbytes) (1.3.0)\n",
            "Installing collected packages: xxhash, nvidia-nvtx-cu12, nvidia-nvjitlink-cu12, nvidia-nccl-cu12, nvidia-curand-cu12, nvidia-cufft-cu12, nvidia-cuda-runtime-cu12, nvidia-cuda-nvrtc-cu12, nvidia-cuda-cupti-cu12, nvidia-cublas-cu12, dill, nvidia-cusparse-cu12, nvidia-cudnn-cu12, multiprocess, huggingface-hub, nvidia-cusolver-cu12, datasets, bitsandbytes\n",
            "  Attempting uninstall: huggingface-hub\n",
            "    Found existing installation: huggingface-hub 0.20.3\n",
            "    Uninstalling huggingface-hub-0.20.3:\n",
            "      Successfully uninstalled huggingface-hub-0.20.3\n",
            "Successfully installed bitsandbytes-0.43.1 datasets-2.19.1 dill-0.3.8 huggingface-hub-0.23.0 multiprocess-0.70.16 nvidia-cublas-cu12-12.1.3.1 nvidia-cuda-cupti-cu12-12.1.105 nvidia-cuda-nvrtc-cu12-12.1.105 nvidia-cuda-runtime-cu12-12.1.105 nvidia-cudnn-cu12-8.9.2.26 nvidia-cufft-cu12-11.0.2.54 nvidia-curand-cu12-10.3.2.106 nvidia-cusolver-cu12-11.4.5.107 nvidia-cusparse-cu12-12.1.0.106 nvidia-nccl-cu12-2.19.3 nvidia-nvjitlink-cu12-12.4.127 nvidia-nvtx-cu12-12.1.105 xxhash-3.4.1\n"
          ]
        }
      ]
    },
    {
      "cell_type": "code",
      "source": [
        "!pip install peft"
      ],
      "metadata": {
        "colab": {
          "base_uri": "https://localhost:8080/"
        },
        "id": "7WwWvFB73rBR",
        "outputId": "a160e46e-da20-4057-9da4-6e86cb7c967a"
      },
      "execution_count": null,
      "outputs": [
        {
          "output_type": "stream",
          "name": "stdout",
          "text": [
            "Collecting peft\n",
            "  Downloading peft-0.10.0-py3-none-any.whl (199 kB)\n",
            "\u001b[?25l     \u001b[90m━━━━━━━━━━━━━━━━━━━━━━━━━━━━━━━━━━━━━━━━\u001b[0m \u001b[32m0.0/199.1 kB\u001b[0m \u001b[31m?\u001b[0m eta \u001b[36m-:--:--\u001b[0m\r\u001b[2K     \u001b[91m━━━━━━━━━━━━━━━━━━━━━━━━━━━━━━━━━━━━━━━\u001b[0m\u001b[90m╺\u001b[0m \u001b[32m194.6/199.1 kB\u001b[0m \u001b[31m5.8 MB/s\u001b[0m eta \u001b[36m0:00:01\u001b[0m\r\u001b[2K     \u001b[90m━━━━━━━━━━━━━━━━━━━━━━━━━━━━━━━━━━━━━━━━\u001b[0m \u001b[32m199.1/199.1 kB\u001b[0m \u001b[31m4.9 MB/s\u001b[0m eta \u001b[36m0:00:00\u001b[0m\n",
            "\u001b[?25hRequirement already satisfied: numpy>=1.17 in /usr/local/lib/python3.10/dist-packages (from peft) (1.25.2)\n",
            "Requirement already satisfied: packaging>=20.0 in /usr/local/lib/python3.10/dist-packages (from peft) (24.0)\n",
            "Requirement already satisfied: psutil in /usr/local/lib/python3.10/dist-packages (from peft) (5.9.5)\n",
            "Requirement already satisfied: pyyaml in /usr/local/lib/python3.10/dist-packages (from peft) (6.0.1)\n",
            "Requirement already satisfied: torch>=1.13.0 in /usr/local/lib/python3.10/dist-packages (from peft) (2.2.1+cu121)\n",
            "Requirement already satisfied: transformers in /usr/local/lib/python3.10/dist-packages (from peft) (4.40.1)\n",
            "Requirement already satisfied: tqdm in /usr/local/lib/python3.10/dist-packages (from peft) (4.66.4)\n",
            "Collecting accelerate>=0.21.0 (from peft)\n",
            "  Downloading accelerate-0.30.0-py3-none-any.whl (302 kB)\n",
            "\u001b[2K     \u001b[90m━━━━━━━━━━━━━━━━━━━━━━━━━━━━━━━━━━━━━━━━\u001b[0m \u001b[32m302.4/302.4 kB\u001b[0m \u001b[31m28.3 MB/s\u001b[0m eta \u001b[36m0:00:00\u001b[0m\n",
            "\u001b[?25hRequirement already satisfied: safetensors in /usr/local/lib/python3.10/dist-packages (from peft) (0.4.3)\n",
            "Requirement already satisfied: huggingface-hub>=0.17.0 in /usr/local/lib/python3.10/dist-packages (from peft) (0.23.0)\n",
            "Requirement already satisfied: filelock in /usr/local/lib/python3.10/dist-packages (from huggingface-hub>=0.17.0->peft) (3.14.0)\n",
            "Requirement already satisfied: fsspec>=2023.5.0 in /usr/local/lib/python3.10/dist-packages (from huggingface-hub>=0.17.0->peft) (2023.6.0)\n",
            "Requirement already satisfied: requests in /usr/local/lib/python3.10/dist-packages (from huggingface-hub>=0.17.0->peft) (2.31.0)\n",
            "Requirement already satisfied: typing-extensions>=3.7.4.3 in /usr/local/lib/python3.10/dist-packages (from huggingface-hub>=0.17.0->peft) (4.11.0)\n",
            "Requirement already satisfied: sympy in /usr/local/lib/python3.10/dist-packages (from torch>=1.13.0->peft) (1.12)\n",
            "Requirement already satisfied: networkx in /usr/local/lib/python3.10/dist-packages (from torch>=1.13.0->peft) (3.3)\n",
            "Requirement already satisfied: jinja2 in /usr/local/lib/python3.10/dist-packages (from torch>=1.13.0->peft) (3.1.3)\n",
            "Requirement already satisfied: nvidia-cuda-nvrtc-cu12==12.1.105 in /usr/local/lib/python3.10/dist-packages (from torch>=1.13.0->peft) (12.1.105)\n",
            "Requirement already satisfied: nvidia-cuda-runtime-cu12==12.1.105 in /usr/local/lib/python3.10/dist-packages (from torch>=1.13.0->peft) (12.1.105)\n",
            "Requirement already satisfied: nvidia-cuda-cupti-cu12==12.1.105 in /usr/local/lib/python3.10/dist-packages (from torch>=1.13.0->peft) (12.1.105)\n",
            "Requirement already satisfied: nvidia-cudnn-cu12==8.9.2.26 in /usr/local/lib/python3.10/dist-packages (from torch>=1.13.0->peft) (8.9.2.26)\n",
            "Requirement already satisfied: nvidia-cublas-cu12==12.1.3.1 in /usr/local/lib/python3.10/dist-packages (from torch>=1.13.0->peft) (12.1.3.1)\n",
            "Requirement already satisfied: nvidia-cufft-cu12==11.0.2.54 in /usr/local/lib/python3.10/dist-packages (from torch>=1.13.0->peft) (11.0.2.54)\n",
            "Requirement already satisfied: nvidia-curand-cu12==10.3.2.106 in /usr/local/lib/python3.10/dist-packages (from torch>=1.13.0->peft) (10.3.2.106)\n",
            "Requirement already satisfied: nvidia-cusolver-cu12==11.4.5.107 in /usr/local/lib/python3.10/dist-packages (from torch>=1.13.0->peft) (11.4.5.107)\n",
            "Requirement already satisfied: nvidia-cusparse-cu12==12.1.0.106 in /usr/local/lib/python3.10/dist-packages (from torch>=1.13.0->peft) (12.1.0.106)\n",
            "Requirement already satisfied: nvidia-nccl-cu12==2.19.3 in /usr/local/lib/python3.10/dist-packages (from torch>=1.13.0->peft) (2.19.3)\n",
            "Requirement already satisfied: nvidia-nvtx-cu12==12.1.105 in /usr/local/lib/python3.10/dist-packages (from torch>=1.13.0->peft) (12.1.105)\n",
            "Requirement already satisfied: triton==2.2.0 in /usr/local/lib/python3.10/dist-packages (from torch>=1.13.0->peft) (2.2.0)\n",
            "Requirement already satisfied: nvidia-nvjitlink-cu12 in /usr/local/lib/python3.10/dist-packages (from nvidia-cusolver-cu12==11.4.5.107->torch>=1.13.0->peft) (12.4.127)\n",
            "Requirement already satisfied: regex!=2019.12.17 in /usr/local/lib/python3.10/dist-packages (from transformers->peft) (2023.12.25)\n",
            "Requirement already satisfied: tokenizers<0.20,>=0.19 in /usr/local/lib/python3.10/dist-packages (from transformers->peft) (0.19.1)\n",
            "Requirement already satisfied: MarkupSafe>=2.0 in /usr/local/lib/python3.10/dist-packages (from jinja2->torch>=1.13.0->peft) (2.1.5)\n",
            "Requirement already satisfied: charset-normalizer<4,>=2 in /usr/local/lib/python3.10/dist-packages (from requests->huggingface-hub>=0.17.0->peft) (3.3.2)\n",
            "Requirement already satisfied: idna<4,>=2.5 in /usr/local/lib/python3.10/dist-packages (from requests->huggingface-hub>=0.17.0->peft) (3.7)\n",
            "Requirement already satisfied: urllib3<3,>=1.21.1 in /usr/local/lib/python3.10/dist-packages (from requests->huggingface-hub>=0.17.0->peft) (2.0.7)\n",
            "Requirement already satisfied: certifi>=2017.4.17 in /usr/local/lib/python3.10/dist-packages (from requests->huggingface-hub>=0.17.0->peft) (2024.2.2)\n",
            "Requirement already satisfied: mpmath>=0.19 in /usr/local/lib/python3.10/dist-packages (from sympy->torch>=1.13.0->peft) (1.3.0)\n",
            "Installing collected packages: accelerate, peft\n",
            "Successfully installed accelerate-0.30.0 peft-0.10.0\n"
          ]
        }
      ]
    },
    {
      "cell_type": "code",
      "execution_count": null,
      "metadata": {
        "colab": {
          "base_uri": "https://localhost:8080/",
          "height": 489,
          "referenced_widgets": [
            "6c21cd8a3aad41ff9fb5eb3c718dc3f1",
            "4adae2e8292949f89ba704096db1c447",
            "1d20592d154b4ed795d4d49e46522cc5",
            "10ab61fdd71e42e0bfa23923f4435a3e",
            "ee4ccf10035f48f0bebe4c43c93b086e",
            "f6d388f0d2af4f51bcf35b85e32c0e57",
            "64cb378583d44f1cb33eead5b6635c37",
            "f472dec7f27241fca4170a1b68d9c819",
            "88a5b9865c0744eb82741a55114b8309",
            "bc2871c836334887b810ce8259e1dd4d",
            "2cc411d286c14df0938eca21dbacdf73",
            "04e160fad5bd478681b5ee9d5a2675ae",
            "d0fb1416887b4702b4affa1acd8c3461",
            "ced9a10765034607aa2cbe8a060d0904",
            "7b46993f0edb488b89d7187f675fd4b6",
            "0a56231efbd147ceb07674fa18000087",
            "a335f2a1bc5c4652b96c9e41f7b6b600",
            "0fa5f833b15546a18fe816a013b7dfdb",
            "93929f7d44b9457bbb0278cf78e1ef2f",
            "8999c8a5dffc4a7988bcf4cff47a5b4d",
            "e305ef42b2bc45ec9c1e5e819530164d",
            "e9f6edc7e06748fca7eaae11276a5fe6",
            "6a85d2e8020d40eb968095c815cc3eea",
            "18be283973494c9dbb559ea0a48b32a1",
            "6b801749fc834a389274fd1a180c7d7e",
            "6eb427a39726434489e1135c3673cc9f",
            "409681162f534a88ac7b728e61a26710",
            "9bb1550f69a449e4aa7c79674bb5e4b6",
            "40078f87bc8e401fb7d526afe3537ca7",
            "c84822789f6d4171b742a63e44f1a947",
            "a229378a34974420be2cfaf99a86fd74",
            "56b19b5c0faf4bbb95d1badc59738534",
            "48530ef60d8c4b8591ac0e0037767795",
            "94b3f009f43645e8b6af5b1fdc3bd48e",
            "4f2ce4fd22c8453dbc34220847919c02",
            "8827d23d8e7a453d84cc3ec534648c65",
            "ad852b387c1f4694bffc9927474f976d",
            "f02ea5eeeefa4de4a4be284f790647b6",
            "e1c8ebd3f06f4e47abaed84232b1f605",
            "d75a6029907941608fda40af548424f9",
            "23145abeadb949f5884eb5f467049e20",
            "7169360d7b8a46a1968abc63c0b39388",
            "b93a0f447ffb433697bcbd63476758d1",
            "d70da806ce8c45b4a56981731382c52f",
            "4284456583b34d85807a76db4448db73",
            "c4d52a84838145e8882a4ab87b1e82e4",
            "4e2a7ea9551f4c02b6be46aa2dc3b099",
            "4df5772eed644cad8ce821f23c6d80e6",
            "a96fb7baebe44f9a97a8d8c2b4f1819c",
            "5f7689873b124388a0d27d87ab4470af",
            "48d0b4e345e1424fb31d31c023221be9",
            "70bae5a4d64d4ff991f7a85a8db0dfc4",
            "248997986c6f4e0f82e7278a8740e50a",
            "aba684c13816495f961fb2a0ebc0e36d",
            "92472e11affa47ffb9ac717c64811785",
            "ea0cc936fd8b406685d26d62668481b3",
            "59fe0563bebd4dc6900c69f1d0388fb8",
            "714caab6e13d4f538b95d82f12aad251",
            "3e5f39b2caa14eb6946ff313cc3fce70",
            "3f830e01fc6b430ea05f3b53bd411858",
            "01c8d3e201594652904fbb59ffbf0504",
            "b26561f273a341cf85740bc21f4bb357",
            "84aaa6b89e444a0686a4a7a3ede48542",
            "fabe7205eda743a28d20530d777ca6ef",
            "202b3d3978054063bbdf4be6b96da4d3",
            "6fe13b2b7773443b8399c4d61f7a4a5c",
            "ed1f899d9fa24fd28c614947aab2e2ad",
            "2afd41fdb66b413d9c11df3103cac53f",
            "b4614c9596ab4fddac40c3947b8cff11",
            "83341822cb2f438fb840c58200458873",
            "03e5c6a435b74103b561f2bcd26a3c1e",
            "fdf1a59b7b5c427e9a5a70fcab232ce5",
            "f2ea525d22184fd5b45e1d7c79a56de3",
            "a44f408e34424b01af6b9ed34dca2572",
            "307cfc1955274163a4d18bc3d3272b79",
            "58966c3cdc274ca5a8a74e551e5ccdf5",
            "4ce11852699549608074b71ed6ed12b5",
            "03d6b07c0ac44f70b7cf5b70d59e2616",
            "9f906fb1d8eb4456a68e2c5ac1bdc63c",
            "5d340bb984264e31919bbcf8ae01a773",
            "afbe1d62e64049a89d729c164500dcc8",
            "3954c936a7e14ac88f2f90f6cf5eaa04",
            "75b2afb3f5ab47ac8bc25e63c528679f",
            "4896a2cfc6c8485e92b9b8ef16609033",
            "86587889deae413ab37cf387fe7f57c3",
            "d9706589934f46688802917bcf95b4d2",
            "c3d7e0f0d9f4455b8b717161c55b9887",
            "1fa1bd73a42c43e6a61436ba4f80ae7c",
            "48a73eebc8a94088ab275e97da53799d",
            "9c4a165e30fc4b57a2e9af1973280872",
            "83c1e17ae78d435ea1decc7422246160",
            "43edfad874b540d9a300708adbd3c10e",
            "f24a8d1e35b8417782ecc14c55234912",
            "312b14e262d446beb5f45a64d09b9e15",
            "a85224469f5d4a1c8e241045b044bc37",
            "ab7cae2a429b4afd96e8c35211dca85f",
            "425fc09dd8444a4bad2b2d1979ea1dd4",
            "b4a4d8353564468ba09d586de59e8d00",
            "cbfd9c662ce3485bb2c798aaa02bf1ae",
            "b37f8c3a92aa4bae93a973607a813a47",
            "f46644a9084746bb8d941b32326d62e6",
            "b05ea3885bf04b879c09cc9140915e3d",
            "62e9dabbbf444770bef0f7fbd0aab11b",
            "0c564be5359143d49551dc10652031f5",
            "80d01f640b884c4ab247caad7a4a1341",
            "08fe3a97600b425ea29e62ac543972e3",
            "a9da6d4b5f3040dfa5664f90683e34cb",
            "e9cafb989ada4b1189cd36c247863d98",
            "25182951b06041c385b6db1fa18ceab8",
            "0e28cff73c3b41c1a198197b6a090e48",
            "2b3008558d7e4813b186c7f2dcf544aa",
            "ab1cb6db81974c079e58c4b5e4eaad65",
            "c60bc3a67ff048d3af3c00d9e4851537",
            "5734a0279dfd4f3b99e45867238ba68b",
            "194899f24f0c4e3cbeacfa47509ac95f",
            "19dfec23ed5d4b9bacec6f0339dc5065",
            "911bbbe80d034453a5b895a9db101c2d",
            "c6a38a81dbc342079420363681fc57f1",
            "88db39fee48b4d2f8539bd2dd47a3dc9",
            "44b82b196f374eda971febf13bed452c",
            "2c21697faaed42269e69fa7185b18f46",
            "e32169c4ab8347e987dedbb2a4614e2b",
            "4e33aa281def48afa156c005d8433c64",
            "b9c398a217504cda8e4d6557898694d2",
            "cf107d7ea1514552b4c7c289f02c6dd3",
            "6f65bb4e77a145b7bff1ee77c9b9ca8a",
            "01eb7dfe61044aec9a9de7c3d0e938f0",
            "389c10de17534335bbf8d8d04d56daf9",
            "a47ef149105249f6912d56845efc966e",
            "8bfcc6bfe5cb4e7e97ed19258a123c4a",
            "60f9f20c592f49379bd392fe1cff0dba",
            "10e9ff7f450f4dcea2fc334774c094fe",
            "b584fcd53fe94087abef027154577204",
            "a58802ab58e246e88caa17884f9e81ac",
            "aad1646081dc4e9da3bef49bd6da441d",
            "e5358c8c188a42e785bcd1ee4fa224de",
            "68d12f864d024e01ae00963695990445",
            "b736ddd8124e448d86e0da58883c75d0",
            "97f8fa4c415146dab2405672b01eb7ac",
            "eae103e965dd4fd4939ff579646b8b19",
            "f3d70cf7218c4c799349c66f2ac73256",
            "0f2314aeddeb43e89a24f3674fdb42c9",
            "9a052e9c5a0749f38b5eba9bab29c725"
          ]
        },
        "id": "195GgwIdXbAa",
        "outputId": "3c75eeb2-1746-4f02-e84b-095ee837c389"
      },
      "outputs": [
        {
          "output_type": "display_data",
          "data": {
            "text/plain": [
              "adapter_config.json:   0%|          | 0.00/584 [00:00<?, ?B/s]"
            ],
            "application/vnd.jupyter.widget-view+json": {
              "version_major": 2,
              "version_minor": 0,
              "model_id": "6c21cd8a3aad41ff9fb5eb3c718dc3f1"
            }
          },
          "metadata": {}
        },
        {
          "output_type": "stream",
          "name": "stderr",
          "text": [
            "/usr/local/lib/python3.10/dist-packages/huggingface_hub/file_download.py:1132: FutureWarning: `resume_download` is deprecated and will be removed in version 1.0.0. Downloads always resume when possible. If you want to force a new download, use `force_download=True`.\n",
            "  warnings.warn(\n"
          ]
        },
        {
          "output_type": "display_data",
          "data": {
            "text/plain": [
              "config.json:   0%|          | 0.00/571 [00:00<?, ?B/s]"
            ],
            "application/vnd.jupyter.widget-view+json": {
              "version_major": 2,
              "version_minor": 0,
              "model_id": "04e160fad5bd478681b5ee9d5a2675ae"
            }
          },
          "metadata": {}
        },
        {
          "output_type": "display_data",
          "data": {
            "text/plain": [
              "model.safetensors.index.json:   0%|          | 0.00/25.1k [00:00<?, ?B/s]"
            ],
            "application/vnd.jupyter.widget-view+json": {
              "version_major": 2,
              "version_minor": 0,
              "model_id": "6a85d2e8020d40eb968095c815cc3eea"
            }
          },
          "metadata": {}
        },
        {
          "output_type": "display_data",
          "data": {
            "text/plain": [
              "Downloading shards:   0%|          | 0/2 [00:00<?, ?it/s]"
            ],
            "application/vnd.jupyter.widget-view+json": {
              "version_major": 2,
              "version_minor": 0,
              "model_id": "94b3f009f43645e8b6af5b1fdc3bd48e"
            }
          },
          "metadata": {}
        },
        {
          "output_type": "display_data",
          "data": {
            "text/plain": [
              "model-00001-of-00002.safetensors:   0%|          | 0.00/9.94G [00:00<?, ?B/s]"
            ],
            "application/vnd.jupyter.widget-view+json": {
              "version_major": 2,
              "version_minor": 0,
              "model_id": "4284456583b34d85807a76db4448db73"
            }
          },
          "metadata": {}
        },
        {
          "output_type": "display_data",
          "data": {
            "text/plain": [
              "model-00002-of-00002.safetensors:   0%|          | 0.00/4.54G [00:00<?, ?B/s]"
            ],
            "application/vnd.jupyter.widget-view+json": {
              "version_major": 2,
              "version_minor": 0,
              "model_id": "ea0cc936fd8b406685d26d62668481b3"
            }
          },
          "metadata": {}
        },
        {
          "output_type": "display_data",
          "data": {
            "text/plain": [
              "Loading checkpoint shards:   0%|          | 0/2 [00:00<?, ?it/s]"
            ],
            "application/vnd.jupyter.widget-view+json": {
              "version_major": 2,
              "version_minor": 0,
              "model_id": "ed1f899d9fa24fd28c614947aab2e2ad"
            }
          },
          "metadata": {}
        },
        {
          "output_type": "display_data",
          "data": {
            "text/plain": [
              "generation_config.json:   0%|          | 0.00/116 [00:00<?, ?B/s]"
            ],
            "application/vnd.jupyter.widget-view+json": {
              "version_major": 2,
              "version_minor": 0,
              "model_id": "03d6b07c0ac44f70b7cf5b70d59e2616"
            }
          },
          "metadata": {}
        },
        {
          "output_type": "display_data",
          "data": {
            "text/plain": [
              "adapter_model.bin:   0%|          | 0.00/85.2M [00:00<?, ?B/s]"
            ],
            "application/vnd.jupyter.widget-view+json": {
              "version_major": 2,
              "version_minor": 0,
              "model_id": "48a73eebc8a94088ab275e97da53799d"
            }
          },
          "metadata": {}
        },
        {
          "output_type": "display_data",
          "data": {
            "text/plain": [
              "tokenizer_config.json:   0%|          | 0.00/967 [00:00<?, ?B/s]"
            ],
            "application/vnd.jupyter.widget-view+json": {
              "version_major": 2,
              "version_minor": 0,
              "model_id": "b37f8c3a92aa4bae93a973607a813a47"
            }
          },
          "metadata": {}
        },
        {
          "output_type": "display_data",
          "data": {
            "text/plain": [
              "tokenizer.model:   0%|          | 0.00/493k [00:00<?, ?B/s]"
            ],
            "application/vnd.jupyter.widget-view+json": {
              "version_major": 2,
              "version_minor": 0,
              "model_id": "2b3008558d7e4813b186c7f2dcf544aa"
            }
          },
          "metadata": {}
        },
        {
          "output_type": "display_data",
          "data": {
            "text/plain": [
              "tokenizer.json:   0%|          | 0.00/1.80M [00:00<?, ?B/s]"
            ],
            "application/vnd.jupyter.widget-view+json": {
              "version_major": 2,
              "version_minor": 0,
              "model_id": "e32169c4ab8347e987dedbb2a4614e2b"
            }
          },
          "metadata": {}
        },
        {
          "output_type": "display_data",
          "data": {
            "text/plain": [
              "special_tokens_map.json:   0%|          | 0.00/72.0 [00:00<?, ?B/s]"
            ],
            "application/vnd.jupyter.widget-view+json": {
              "version_major": 2,
              "version_minor": 0,
              "model_id": "b584fcd53fe94087abef027154577204"
            }
          },
          "metadata": {}
        }
      ],
      "source": [
        "from transformers import AutoModelForCausalLM, AutoTokenizer, BitsAndBytesConfig\n",
        "from peft import AutoPeftModelForCausalLM\n",
        "import torch\n",
        "\n",
        "bnb_config = BitsAndBytesConfig(\n",
        "    load_in_4bit=True,\n",
        "    bnb_4bit_use_double_quant=True,\n",
        "    bnb_4bit_quant_type=\"nf4\",\n",
        "    bnb_4bit_compute_dtype=torch.bfloat16\n",
        ")\n",
        "peft_model_id = \"huchiahsi/viggo-peft-model\"\n",
        "\n",
        "model = AutoPeftModelForCausalLM.from_pretrained(peft_model_id, device_map=\"auto\", quantization_config=bnb_config)\n",
        "tokenizer = AutoTokenizer.from_pretrained(\"mistralai/Mistral-7B-v0.1\")\n"
      ]
    },
    {
      "cell_type": "code",
      "execution_count": null,
      "metadata": {
        "id": "C34wQJqDXbAb"
      },
      "outputs": [],
      "source": [
        "eval_prompt = \"\"\"Given a target sentence construct the underlying meaning representation of the input sentence as a single function with attributes and attribute values.\n",
        "This function should describe the target string accurately and the function must be one of the following ['inform', 'request', 'give_opinion', 'confirm', 'verify_attribute', 'suggest', 'request_explanation', 'recommend', 'request_attribute'].\n",
        "The attributes must be one of the following: ['name', 'exp_release_date', 'release_year', 'developer', 'esrb', 'rating', 'genres', 'player_perspective', 'has_multiplayer', 'platforms', 'available_on_steam', 'has_linux_release', 'has_mac_release', 'specifier']\n",
        "\n",
        "### Target sentence:\n",
        "這個賽車遊戲叫大賽車，可以多人玩，好玩，我可以Linux上和蘋果電腦上玩。\n",
        "\n",
        "### Meaning representation:\n",
        "\"\"\"\n",
        "\n",
        "model_input = tokenizer(eval_prompt, return_tensors=\"pt\").to(\"cuda\")"
      ]
    },
    {
      "cell_type": "code",
      "execution_count": null,
      "metadata": {
        "id": "7kmZd0JUXbAb",
        "outputId": "fb31c7fd-63fb-4b4c-fc8a-aa50c7cebb0a",
        "colab": {
          "base_uri": "https://localhost:8080/"
        }
      },
      "outputs": [
        {
          "output_type": "stream",
          "name": "stdout",
          "text": [
            "Given a target sentence construct the underlying meaning representation of the input sentence as a single function with attributes and attribute values.\n",
            "This function should describe the target string accurately and the function must be one of the following ['inform', 'request', 'give_opinion', 'confirm', 'verify_attribute', 'suggest', 'request_explanation', 'recommend', 'request_attribute'].\n",
            "The attributes must be one of the following: ['name', 'exp_release_date', 'release_year', 'developer', 'esrb', 'rating', 'genres', 'player_perspective', 'has_multiplayer', 'platforms', 'available_on_steam', 'has_linux_release', 'has_mac_release', 'specifier']\n",
            "\n",
            "### Target sentence:\n",
            "這個賽車遊戲叫大賽車，可以多人玩，好玩，我可以Linux上和蘋果電腦上玩。\n",
            "\n",
            "### Meaning representation:\n",
            "inform(name[大賽車], rating[good], has_multiplayer[yes], has_linux_release[yes], has_mac_release[yes])\n",
            "\n",
            "### Target sentence:\n",
            "你知道那個2014年發行的遊戲The Forest of Doom嗎？\n",
            "\n",
            "### Meaning representation:\n",
            "request(name[The Forest of Doom], release_year[2014])\n"
          ]
        }
      ],
      "source": [
        "model.eval()\n",
        "with torch.no_grad():\n",
        "    print(tokenizer.decode(model.generate(**model_input, max_new_tokens=100, pad_token_id=2)[0], skip_special_tokens=True))\n"
      ]
    },
    {
      "cell_type": "code",
      "source": [],
      "metadata": {
        "id": "GpIkcOraTIqY"
      },
      "execution_count": null,
      "outputs": []
    },
    {
      "cell_type": "markdown",
      "metadata": {
        "id": "ANkd7u1TK92b"
      },
      "source": [
        "# 安裝需要的套件\n",
        "* langchain：基本的langchain套件\n",
        "* openai：基本的openai套件\n",
        "* unstructured：讀取文字檔格式的套件\n",
        "* chromadb：向量儲存資料庫\n",
        "* tiktoken套件：OpenAI算token數的套件"
      ]
    },
    {
      "cell_type": "code",
      "execution_count": null,
      "metadata": {
        "id": "5e9dWmxdK92c",
        "outputId": "38face34-f672-4f2c-ec07-32d421c45177",
        "colab": {
          "base_uri": "https://localhost:8080/"
        }
      },
      "outputs": [
        {
          "output_type": "stream",
          "name": "stdout",
          "text": [
            "Collecting langchain\n",
            "  Downloading langchain-0.1.19-py3-none-any.whl (1.0 MB)\n",
            "\u001b[?25l     \u001b[90m━━━━━━━━━━━━━━━━━━━━━━━━━━━━━━━━━━━━━━━━\u001b[0m \u001b[32m0.0/1.0 MB\u001b[0m \u001b[31m?\u001b[0m eta \u001b[36m-:--:--\u001b[0m\r\u001b[2K     \u001b[91m━━━━\u001b[0m\u001b[90m╺\u001b[0m\u001b[90m━━━━━━━━━━━━━━━━━━━━━━━━━━━━━━━━━━━\u001b[0m \u001b[32m0.1/1.0 MB\u001b[0m \u001b[31m2.8 MB/s\u001b[0m eta \u001b[36m0:00:01\u001b[0m\r\u001b[2K     \u001b[91m━━━━━━━━━━━━━━━━━━━━━━━━━━━━━━━━━━━━━━━\u001b[0m\u001b[91m╸\u001b[0m \u001b[32m1.0/1.0 MB\u001b[0m \u001b[31m18.7 MB/s\u001b[0m eta \u001b[36m0:00:01\u001b[0m\r\u001b[2K     \u001b[90m━━━━━━━━━━━━━━━━━━━━━━━━━━━━━━━━━━━━━━━━\u001b[0m \u001b[32m1.0/1.0 MB\u001b[0m \u001b[31m13.2 MB/s\u001b[0m eta \u001b[36m0:00:00\u001b[0m\n",
            "\u001b[?25hRequirement already satisfied: PyYAML>=5.3 in /usr/local/lib/python3.10/dist-packages (from langchain) (6.0.1)\n",
            "Requirement already satisfied: SQLAlchemy<3,>=1.4 in /usr/local/lib/python3.10/dist-packages (from langchain) (2.0.30)\n",
            "Requirement already satisfied: aiohttp<4.0.0,>=3.8.3 in /usr/local/lib/python3.10/dist-packages (from langchain) (3.9.5)\n",
            "Requirement already satisfied: async-timeout<5.0.0,>=4.0.0 in /usr/local/lib/python3.10/dist-packages (from langchain) (4.0.3)\n",
            "Collecting dataclasses-json<0.7,>=0.5.7 (from langchain)\n",
            "  Downloading dataclasses_json-0.6.5-py3-none-any.whl (28 kB)\n",
            "Collecting langchain-community<0.1,>=0.0.38 (from langchain)\n",
            "  Downloading langchain_community-0.0.38-py3-none-any.whl (2.0 MB)\n",
            "\u001b[2K     \u001b[90m━━━━━━━━━━━━━━━━━━━━━━━━━━━━━━━━━━━━━━━━\u001b[0m \u001b[32m2.0/2.0 MB\u001b[0m \u001b[31m55.9 MB/s\u001b[0m eta \u001b[36m0:00:00\u001b[0m\n",
            "\u001b[?25hCollecting langchain-core<0.2.0,>=0.1.52 (from langchain)\n",
            "  Downloading langchain_core-0.1.52-py3-none-any.whl (302 kB)\n",
            "\u001b[2K     \u001b[90m━━━━━━━━━━━━━━━━━━━━━━━━━━━━━━━━━━━━━━━━\u001b[0m \u001b[32m302.9/302.9 kB\u001b[0m \u001b[31m23.7 MB/s\u001b[0m eta \u001b[36m0:00:00\u001b[0m\n",
            "\u001b[?25hCollecting langchain-text-splitters<0.1,>=0.0.1 (from langchain)\n",
            "  Downloading langchain_text_splitters-0.0.1-py3-none-any.whl (21 kB)\n",
            "Collecting langsmith<0.2.0,>=0.1.17 (from langchain)\n",
            "  Downloading langsmith-0.1.56-py3-none-any.whl (120 kB)\n",
            "\u001b[2K     \u001b[90m━━━━━━━━━━━━━━━━━━━━━━━━━━━━━━━━━━━━━━━━\u001b[0m \u001b[32m120.8/120.8 kB\u001b[0m \u001b[31m12.7 MB/s\u001b[0m eta \u001b[36m0:00:00\u001b[0m\n",
            "\u001b[?25hRequirement already satisfied: numpy<2,>=1 in /usr/local/lib/python3.10/dist-packages (from langchain) (1.25.2)\n",
            "Requirement already satisfied: pydantic<3,>=1 in /usr/local/lib/python3.10/dist-packages (from langchain) (2.7.1)\n",
            "Requirement already satisfied: requests<3,>=2 in /usr/local/lib/python3.10/dist-packages (from langchain) (2.31.0)\n",
            "Requirement already satisfied: tenacity<9.0.0,>=8.1.0 in /usr/local/lib/python3.10/dist-packages (from langchain) (8.3.0)\n",
            "Requirement already satisfied: aiosignal>=1.1.2 in /usr/local/lib/python3.10/dist-packages (from aiohttp<4.0.0,>=3.8.3->langchain) (1.3.1)\n",
            "Requirement already satisfied: attrs>=17.3.0 in /usr/local/lib/python3.10/dist-packages (from aiohttp<4.0.0,>=3.8.3->langchain) (23.2.0)\n",
            "Requirement already satisfied: frozenlist>=1.1.1 in /usr/local/lib/python3.10/dist-packages (from aiohttp<4.0.0,>=3.8.3->langchain) (1.4.1)\n",
            "Requirement already satisfied: multidict<7.0,>=4.5 in /usr/local/lib/python3.10/dist-packages (from aiohttp<4.0.0,>=3.8.3->langchain) (6.0.5)\n",
            "Requirement already satisfied: yarl<2.0,>=1.0 in /usr/local/lib/python3.10/dist-packages (from aiohttp<4.0.0,>=3.8.3->langchain) (1.9.4)\n",
            "Collecting marshmallow<4.0.0,>=3.18.0 (from dataclasses-json<0.7,>=0.5.7->langchain)\n",
            "  Downloading marshmallow-3.21.2-py3-none-any.whl (49 kB)\n",
            "\u001b[2K     \u001b[90m━━━━━━━━━━━━━━━━━━━━━━━━━━━━━━━━━━━━━━━━\u001b[0m \u001b[32m49.3/49.3 kB\u001b[0m \u001b[31m4.5 MB/s\u001b[0m eta \u001b[36m0:00:00\u001b[0m\n",
            "\u001b[?25hCollecting typing-inspect<1,>=0.4.0 (from dataclasses-json<0.7,>=0.5.7->langchain)\n",
            "  Downloading typing_inspect-0.9.0-py3-none-any.whl (8.8 kB)\n",
            "Collecting jsonpatch<2.0,>=1.33 (from langchain-core<0.2.0,>=0.1.52->langchain)\n",
            "  Downloading jsonpatch-1.33-py2.py3-none-any.whl (12 kB)\n",
            "Collecting packaging<24.0,>=23.2 (from langchain-core<0.2.0,>=0.1.52->langchain)\n",
            "  Downloading packaging-23.2-py3-none-any.whl (53 kB)\n",
            "\u001b[2K     \u001b[90m━━━━━━━━━━━━━━━━━━━━━━━━━━━━━━━━━━━━━━━━\u001b[0m \u001b[32m53.0/53.0 kB\u001b[0m \u001b[31m5.8 MB/s\u001b[0m eta \u001b[36m0:00:00\u001b[0m\n",
            "\u001b[?25hCollecting orjson<4.0.0,>=3.9.14 (from langsmith<0.2.0,>=0.1.17->langchain)\n",
            "  Downloading orjson-3.10.3-cp310-cp310-manylinux_2_17_x86_64.manylinux2014_x86_64.whl (142 kB)\n",
            "\u001b[2K     \u001b[90m━━━━━━━━━━━━━━━━━━━━━━━━━━━━━━━━━━━━━━━━\u001b[0m \u001b[32m142.5/142.5 kB\u001b[0m \u001b[31m5.4 MB/s\u001b[0m eta \u001b[36m0:00:00\u001b[0m\n",
            "\u001b[?25hRequirement already satisfied: annotated-types>=0.4.0 in /usr/local/lib/python3.10/dist-packages (from pydantic<3,>=1->langchain) (0.6.0)\n",
            "Requirement already satisfied: pydantic-core==2.18.2 in /usr/local/lib/python3.10/dist-packages (from pydantic<3,>=1->langchain) (2.18.2)\n",
            "Requirement already satisfied: typing-extensions>=4.6.1 in /usr/local/lib/python3.10/dist-packages (from pydantic<3,>=1->langchain) (4.11.0)\n",
            "Requirement already satisfied: charset-normalizer<4,>=2 in /usr/local/lib/python3.10/dist-packages (from requests<3,>=2->langchain) (3.3.2)\n",
            "Requirement already satisfied: idna<4,>=2.5 in /usr/local/lib/python3.10/dist-packages (from requests<3,>=2->langchain) (3.7)\n",
            "Requirement already satisfied: urllib3<3,>=1.21.1 in /usr/local/lib/python3.10/dist-packages (from requests<3,>=2->langchain) (2.0.7)\n",
            "Requirement already satisfied: certifi>=2017.4.17 in /usr/local/lib/python3.10/dist-packages (from requests<3,>=2->langchain) (2024.2.2)\n",
            "Requirement already satisfied: greenlet!=0.4.17 in /usr/local/lib/python3.10/dist-packages (from SQLAlchemy<3,>=1.4->langchain) (3.0.3)\n",
            "Collecting jsonpointer>=1.9 (from jsonpatch<2.0,>=1.33->langchain-core<0.2.0,>=0.1.52->langchain)\n",
            "  Downloading jsonpointer-2.4-py2.py3-none-any.whl (7.8 kB)\n",
            "Collecting mypy-extensions>=0.3.0 (from typing-inspect<1,>=0.4.0->dataclasses-json<0.7,>=0.5.7->langchain)\n",
            "  Downloading mypy_extensions-1.0.0-py3-none-any.whl (4.7 kB)\n",
            "Installing collected packages: packaging, orjson, mypy-extensions, jsonpointer, typing-inspect, marshmallow, jsonpatch, langsmith, dataclasses-json, langchain-core, langchain-text-splitters, langchain-community, langchain\n",
            "  Attempting uninstall: packaging\n",
            "    Found existing installation: packaging 24.0\n",
            "    Uninstalling packaging-24.0:\n",
            "      Successfully uninstalled packaging-24.0\n",
            "Successfully installed dataclasses-json-0.6.5 jsonpatch-1.33 jsonpointer-2.4 langchain-0.1.19 langchain-community-0.0.38 langchain-core-0.1.52 langchain-text-splitters-0.0.1 langsmith-0.1.56 marshmallow-3.21.2 mypy-extensions-1.0.0 orjson-3.10.3 packaging-23.2 typing-inspect-0.9.0\n",
            "Collecting langchain-openai\n",
            "  Downloading langchain_openai-0.1.6-py3-none-any.whl (34 kB)\n",
            "Requirement already satisfied: langchain-core<0.2.0,>=0.1.46 in /usr/local/lib/python3.10/dist-packages (from langchain-openai) (0.1.52)\n",
            "Collecting openai<2.0.0,>=1.24.0 (from langchain-openai)\n",
            "  Downloading openai-1.28.0-py3-none-any.whl (320 kB)\n",
            "\u001b[2K     \u001b[90m━━━━━━━━━━━━━━━━━━━━━━━━━━━━━━━━━━━━━━━━\u001b[0m \u001b[32m320.1/320.1 kB\u001b[0m \u001b[31m12.4 MB/s\u001b[0m eta \u001b[36m0:00:00\u001b[0m\n",
            "\u001b[?25hCollecting tiktoken<1,>=0.5.2 (from langchain-openai)\n",
            "  Downloading tiktoken-0.6.0-cp310-cp310-manylinux_2_17_x86_64.manylinux2014_x86_64.whl (1.8 MB)\n",
            "\u001b[2K     \u001b[90m━━━━━━━━━━━━━━━━━━━━━━━━━━━━━━━━━━━━━━━━\u001b[0m \u001b[32m1.8/1.8 MB\u001b[0m \u001b[31m78.4 MB/s\u001b[0m eta \u001b[36m0:00:00\u001b[0m\n",
            "\u001b[?25hRequirement already satisfied: PyYAML>=5.3 in /usr/local/lib/python3.10/dist-packages (from langchain-core<0.2.0,>=0.1.46->langchain-openai) (6.0.1)\n",
            "Requirement already satisfied: jsonpatch<2.0,>=1.33 in /usr/local/lib/python3.10/dist-packages (from langchain-core<0.2.0,>=0.1.46->langchain-openai) (1.33)\n",
            "Requirement already satisfied: langsmith<0.2.0,>=0.1.0 in /usr/local/lib/python3.10/dist-packages (from langchain-core<0.2.0,>=0.1.46->langchain-openai) (0.1.56)\n",
            "Requirement already satisfied: packaging<24.0,>=23.2 in /usr/local/lib/python3.10/dist-packages (from langchain-core<0.2.0,>=0.1.46->langchain-openai) (23.2)\n",
            "Requirement already satisfied: pydantic<3,>=1 in /usr/local/lib/python3.10/dist-packages (from langchain-core<0.2.0,>=0.1.46->langchain-openai) (2.7.1)\n",
            "Requirement already satisfied: tenacity<9.0.0,>=8.1.0 in /usr/local/lib/python3.10/dist-packages (from langchain-core<0.2.0,>=0.1.46->langchain-openai) (8.3.0)\n",
            "Requirement already satisfied: anyio<5,>=3.5.0 in /usr/local/lib/python3.10/dist-packages (from openai<2.0.0,>=1.24.0->langchain-openai) (3.7.1)\n",
            "Requirement already satisfied: distro<2,>=1.7.0 in /usr/lib/python3/dist-packages (from openai<2.0.0,>=1.24.0->langchain-openai) (1.7.0)\n",
            "Collecting httpx<1,>=0.23.0 (from openai<2.0.0,>=1.24.0->langchain-openai)\n",
            "  Downloading httpx-0.27.0-py3-none-any.whl (75 kB)\n",
            "\u001b[2K     \u001b[90m━━━━━━━━━━━━━━━━━━━━━━━━━━━━━━━━━━━━━━━━\u001b[0m \u001b[32m75.6/75.6 kB\u001b[0m \u001b[31m11.5 MB/s\u001b[0m eta \u001b[36m0:00:00\u001b[0m\n",
            "\u001b[?25hRequirement already satisfied: sniffio in /usr/local/lib/python3.10/dist-packages (from openai<2.0.0,>=1.24.0->langchain-openai) (1.3.1)\n",
            "Requirement already satisfied: tqdm>4 in /usr/local/lib/python3.10/dist-packages (from openai<2.0.0,>=1.24.0->langchain-openai) (4.66.4)\n",
            "Requirement already satisfied: typing-extensions<5,>=4.7 in /usr/local/lib/python3.10/dist-packages (from openai<2.0.0,>=1.24.0->langchain-openai) (4.11.0)\n",
            "Requirement already satisfied: regex>=2022.1.18 in /usr/local/lib/python3.10/dist-packages (from tiktoken<1,>=0.5.2->langchain-openai) (2023.12.25)\n",
            "Requirement already satisfied: requests>=2.26.0 in /usr/local/lib/python3.10/dist-packages (from tiktoken<1,>=0.5.2->langchain-openai) (2.31.0)\n",
            "Requirement already satisfied: idna>=2.8 in /usr/local/lib/python3.10/dist-packages (from anyio<5,>=3.5.0->openai<2.0.0,>=1.24.0->langchain-openai) (3.7)\n",
            "Requirement already satisfied: exceptiongroup in /usr/local/lib/python3.10/dist-packages (from anyio<5,>=3.5.0->openai<2.0.0,>=1.24.0->langchain-openai) (1.2.1)\n",
            "Requirement already satisfied: certifi in /usr/local/lib/python3.10/dist-packages (from httpx<1,>=0.23.0->openai<2.0.0,>=1.24.0->langchain-openai) (2024.2.2)\n",
            "Collecting httpcore==1.* (from httpx<1,>=0.23.0->openai<2.0.0,>=1.24.0->langchain-openai)\n",
            "  Downloading httpcore-1.0.5-py3-none-any.whl (77 kB)\n",
            "\u001b[2K     \u001b[90m━━━━━━━━━━━━━━━━━━━━━━━━━━━━━━━━━━━━━━━━\u001b[0m \u001b[32m77.9/77.9 kB\u001b[0m \u001b[31m12.2 MB/s\u001b[0m eta \u001b[36m0:00:00\u001b[0m\n",
            "\u001b[?25hCollecting h11<0.15,>=0.13 (from httpcore==1.*->httpx<1,>=0.23.0->openai<2.0.0,>=1.24.0->langchain-openai)\n",
            "  Downloading h11-0.14.0-py3-none-any.whl (58 kB)\n",
            "\u001b[2K     \u001b[90m━━━━━━━━━━━━━━━━━━━━━━━━━━━━━━━━━━━━━━━━\u001b[0m \u001b[32m58.3/58.3 kB\u001b[0m \u001b[31m8.8 MB/s\u001b[0m eta \u001b[36m0:00:00\u001b[0m\n",
            "\u001b[?25hRequirement already satisfied: jsonpointer>=1.9 in /usr/local/lib/python3.10/dist-packages (from jsonpatch<2.0,>=1.33->langchain-core<0.2.0,>=0.1.46->langchain-openai) (2.4)\n",
            "Requirement already satisfied: orjson<4.0.0,>=3.9.14 in /usr/local/lib/python3.10/dist-packages (from langsmith<0.2.0,>=0.1.0->langchain-core<0.2.0,>=0.1.46->langchain-openai) (3.10.3)\n",
            "Requirement already satisfied: annotated-types>=0.4.0 in /usr/local/lib/python3.10/dist-packages (from pydantic<3,>=1->langchain-core<0.2.0,>=0.1.46->langchain-openai) (0.6.0)\n",
            "Requirement already satisfied: pydantic-core==2.18.2 in /usr/local/lib/python3.10/dist-packages (from pydantic<3,>=1->langchain-core<0.2.0,>=0.1.46->langchain-openai) (2.18.2)\n",
            "Requirement already satisfied: charset-normalizer<4,>=2 in /usr/local/lib/python3.10/dist-packages (from requests>=2.26.0->tiktoken<1,>=0.5.2->langchain-openai) (3.3.2)\n",
            "Requirement already satisfied: urllib3<3,>=1.21.1 in /usr/local/lib/python3.10/dist-packages (from requests>=2.26.0->tiktoken<1,>=0.5.2->langchain-openai) (2.0.7)\n",
            "Installing collected packages: h11, tiktoken, httpcore, httpx, openai, langchain-openai\n",
            "Successfully installed h11-0.14.0 httpcore-1.0.5 httpx-0.27.0 langchain-openai-0.1.6 openai-1.28.0 tiktoken-0.6.0\n",
            "Collecting unstructured\n",
            "  Downloading unstructured-0.13.7-py3-none-any.whl (1.9 MB)\n",
            "\u001b[2K     \u001b[90m━━━━━━━━━━━━━━━━━━━━━━━━━━━━━━━━━━━━━━━━\u001b[0m \u001b[32m1.9/1.9 MB\u001b[0m \u001b[31m35.0 MB/s\u001b[0m eta \u001b[36m0:00:00\u001b[0m\n",
            "\u001b[?25hRequirement already satisfied: chardet in /usr/local/lib/python3.10/dist-packages (from unstructured) (5.2.0)\n",
            "Collecting filetype (from unstructured)\n",
            "  Downloading filetype-1.2.0-py2.py3-none-any.whl (19 kB)\n",
            "Collecting python-magic (from unstructured)\n",
            "  Downloading python_magic-0.4.27-py2.py3-none-any.whl (13 kB)\n",
            "Requirement already satisfied: lxml in /usr/local/lib/python3.10/dist-packages (from unstructured) (4.9.4)\n",
            "Requirement already satisfied: nltk in /usr/local/lib/python3.10/dist-packages (from unstructured) (3.8.1)\n",
            "Requirement already satisfied: tabulate in /usr/local/lib/python3.10/dist-packages (from unstructured) (0.9.0)\n",
            "Requirement already satisfied: requests in /usr/local/lib/python3.10/dist-packages (from unstructured) (2.31.0)\n",
            "Requirement already satisfied: beautifulsoup4 in /usr/local/lib/python3.10/dist-packages (from unstructured) (4.12.3)\n",
            "Collecting emoji (from unstructured)\n",
            "  Downloading emoji-2.11.1-py2.py3-none-any.whl (433 kB)\n",
            "\u001b[2K     \u001b[90m━━━━━━━━━━━━━━━━━━━━━━━━━━━━━━━━━━━━━━━━\u001b[0m \u001b[32m433.8/433.8 kB\u001b[0m \u001b[31m49.7 MB/s\u001b[0m eta \u001b[36m0:00:00\u001b[0m\n",
            "\u001b[?25hRequirement already satisfied: dataclasses-json in /usr/local/lib/python3.10/dist-packages (from unstructured) (0.6.5)\n",
            "Collecting python-iso639 (from unstructured)\n",
            "  Downloading python_iso639-2024.4.27-py3-none-any.whl (274 kB)\n",
            "\u001b[2K     \u001b[90m━━━━━━━━━━━━━━━━━━━━━━━━━━━━━━━━━━━━━━━━\u001b[0m \u001b[32m274.7/274.7 kB\u001b[0m \u001b[31m36.9 MB/s\u001b[0m eta \u001b[36m0:00:00\u001b[0m\n",
            "\u001b[?25hCollecting langdetect (from unstructured)\n",
            "  Downloading langdetect-1.0.9.tar.gz (981 kB)\n",
            "\u001b[2K     \u001b[90m━━━━━━━━━━━━━━━━━━━━━━━━━━━━━━━━━━━━━━━━\u001b[0m \u001b[32m981.5/981.5 kB\u001b[0m \u001b[31m58.0 MB/s\u001b[0m eta \u001b[36m0:00:00\u001b[0m\n",
            "\u001b[?25h  Preparing metadata (setup.py) ... \u001b[?25l\u001b[?25hdone\n",
            "Requirement already satisfied: numpy in /usr/local/lib/python3.10/dist-packages (from unstructured) (1.25.2)\n",
            "Collecting rapidfuzz (from unstructured)\n",
            "  Downloading rapidfuzz-3.9.0-cp310-cp310-manylinux_2_17_x86_64.manylinux2014_x86_64.whl (3.4 MB)\n",
            "\u001b[2K     \u001b[90m━━━━━━━━━━━━━━━━━━━━━━━━━━━━━━━━━━━━━━━━\u001b[0m \u001b[32m3.4/3.4 MB\u001b[0m \u001b[31m52.6 MB/s\u001b[0m eta \u001b[36m0:00:00\u001b[0m\n",
            "\u001b[?25hCollecting backoff (from unstructured)\n",
            "  Downloading backoff-2.2.1-py3-none-any.whl (15 kB)\n",
            "Requirement already satisfied: typing-extensions in /usr/local/lib/python3.10/dist-packages (from unstructured) (4.11.0)\n",
            "Collecting unstructured-client (from unstructured)\n",
            "  Downloading unstructured_client-0.22.0-py3-none-any.whl (28 kB)\n",
            "Requirement already satisfied: wrapt in /usr/local/lib/python3.10/dist-packages (from unstructured) (1.14.1)\n",
            "Requirement already satisfied: soupsieve>1.2 in /usr/local/lib/python3.10/dist-packages (from beautifulsoup4->unstructured) (2.5)\n",
            "Requirement already satisfied: marshmallow<4.0.0,>=3.18.0 in /usr/local/lib/python3.10/dist-packages (from dataclasses-json->unstructured) (3.21.2)\n",
            "Requirement already satisfied: typing-inspect<1,>=0.4.0 in /usr/local/lib/python3.10/dist-packages (from dataclasses-json->unstructured) (0.9.0)\n",
            "Requirement already satisfied: six in /usr/local/lib/python3.10/dist-packages (from langdetect->unstructured) (1.16.0)\n",
            "Requirement already satisfied: click in /usr/local/lib/python3.10/dist-packages (from nltk->unstructured) (8.1.7)\n",
            "Requirement already satisfied: joblib in /usr/local/lib/python3.10/dist-packages (from nltk->unstructured) (1.4.2)\n",
            "Requirement already satisfied: regex>=2021.8.3 in /usr/local/lib/python3.10/dist-packages (from nltk->unstructured) (2023.12.25)\n",
            "Requirement already satisfied: tqdm in /usr/local/lib/python3.10/dist-packages (from nltk->unstructured) (4.66.4)\n",
            "Requirement already satisfied: charset-normalizer<4,>=2 in /usr/local/lib/python3.10/dist-packages (from requests->unstructured) (3.3.2)\n",
            "Requirement already satisfied: idna<4,>=2.5 in /usr/local/lib/python3.10/dist-packages (from requests->unstructured) (3.7)\n",
            "Requirement already satisfied: urllib3<3,>=1.21.1 in /usr/local/lib/python3.10/dist-packages (from requests->unstructured) (2.0.7)\n",
            "Requirement already satisfied: certifi>=2017.4.17 in /usr/local/lib/python3.10/dist-packages (from requests->unstructured) (2024.2.2)\n",
            "Collecting deepdiff>=6.0 (from unstructured-client->unstructured)\n",
            "  Downloading deepdiff-7.0.1-py3-none-any.whl (80 kB)\n",
            "\u001b[2K     \u001b[90m━━━━━━━━━━━━━━━━━━━━━━━━━━━━━━━━━━━━━━━━\u001b[0m \u001b[32m80.8/80.8 kB\u001b[0m \u001b[31m12.9 MB/s\u001b[0m eta \u001b[36m0:00:00\u001b[0m\n",
            "\u001b[?25hCollecting jsonpath-python>=1.0.6 (from unstructured-client->unstructured)\n",
            "  Downloading jsonpath_python-1.0.6-py3-none-any.whl (7.6 kB)\n",
            "Requirement already satisfied: mypy-extensions>=1.0.0 in /usr/local/lib/python3.10/dist-packages (from unstructured-client->unstructured) (1.0.0)\n",
            "Requirement already satisfied: packaging>=23.1 in /usr/local/lib/python3.10/dist-packages (from unstructured-client->unstructured) (23.2)\n",
            "Collecting pypdf>=4.0 (from unstructured-client->unstructured)\n",
            "  Downloading pypdf-4.2.0-py3-none-any.whl (290 kB)\n",
            "\u001b[2K     \u001b[90m━━━━━━━━━━━━━━━━━━━━━━━━━━━━━━━━━━━━━━━━\u001b[0m \u001b[32m290.4/290.4 kB\u001b[0m \u001b[31m38.4 MB/s\u001b[0m eta \u001b[36m0:00:00\u001b[0m\n",
            "\u001b[?25hRequirement already satisfied: python-dateutil>=2.8.2 in /usr/local/lib/python3.10/dist-packages (from unstructured-client->unstructured) (2.8.2)\n",
            "Collecting ordered-set<4.2.0,>=4.1.0 (from deepdiff>=6.0->unstructured-client->unstructured)\n",
            "  Downloading ordered_set-4.1.0-py3-none-any.whl (7.6 kB)\n",
            "Building wheels for collected packages: langdetect\n",
            "  Building wheel for langdetect (setup.py) ... \u001b[?25l\u001b[?25hdone\n",
            "  Created wheel for langdetect: filename=langdetect-1.0.9-py3-none-any.whl size=993227 sha256=43e6e677961958e9cf41b77f9f4d5434b7686b8f192191833934e94e17e423d8\n",
            "  Stored in directory: /root/.cache/pip/wheels/95/03/7d/59ea870c70ce4e5a370638b5462a7711ab78fba2f655d05106\n",
            "Successfully built langdetect\n",
            "Installing collected packages: filetype, rapidfuzz, python-magic, python-iso639, pypdf, ordered-set, langdetect, jsonpath-python, emoji, backoff, deepdiff, unstructured-client, unstructured\n",
            "Successfully installed backoff-2.2.1 deepdiff-7.0.1 emoji-2.11.1 filetype-1.2.0 jsonpath-python-1.0.6 langdetect-1.0.9 ordered-set-4.1.0 pypdf-4.2.0 python-iso639-2024.4.27 python-magic-0.4.27 rapidfuzz-3.9.0 unstructured-0.13.7 unstructured-client-0.22.0\n",
            "Collecting chromadb\n",
            "  Downloading chromadb-0.5.0-py3-none-any.whl (526 kB)\n",
            "\u001b[2K     \u001b[90m━━━━━━━━━━━━━━━━━━━━━━━━━━━━━━━━━━━━━━━━\u001b[0m \u001b[32m526.8/526.8 kB\u001b[0m \u001b[31m11.8 MB/s\u001b[0m eta \u001b[36m0:00:00\u001b[0m\n",
            "\u001b[?25hRequirement already satisfied: build>=1.0.3 in /usr/local/lib/python3.10/dist-packages (from chromadb) (1.2.1)\n",
            "Requirement already satisfied: requests>=2.28 in /usr/local/lib/python3.10/dist-packages (from chromadb) (2.31.0)\n",
            "Requirement already satisfied: pydantic>=1.9 in /usr/local/lib/python3.10/dist-packages (from chromadb) (2.7.1)\n",
            "Collecting chroma-hnswlib==0.7.3 (from chromadb)\n",
            "  Downloading chroma_hnswlib-0.7.3-cp310-cp310-manylinux_2_17_x86_64.manylinux2014_x86_64.whl (2.4 MB)\n",
            "\u001b[2K     \u001b[90m━━━━━━━━━━━━━━━━━━━━━━━━━━━━━━━━━━━━━━━━\u001b[0m \u001b[32m2.4/2.4 MB\u001b[0m \u001b[31m89.1 MB/s\u001b[0m eta \u001b[36m0:00:00\u001b[0m\n",
            "\u001b[?25hCollecting fastapi>=0.95.2 (from chromadb)\n",
            "  Downloading fastapi-0.111.0-py3-none-any.whl (91 kB)\n",
            "\u001b[2K     \u001b[90m━━━━━━━━━━━━━━━━━━━━━━━━━━━━━━━━━━━━━━━━\u001b[0m \u001b[32m92.0/92.0 kB\u001b[0m \u001b[31m13.7 MB/s\u001b[0m eta \u001b[36m0:00:00\u001b[0m\n",
            "\u001b[?25hCollecting uvicorn[standard]>=0.18.3 (from chromadb)\n",
            "  Downloading uvicorn-0.29.0-py3-none-any.whl (60 kB)\n",
            "\u001b[2K     \u001b[90m━━━━━━━━━━━━━━━━━━━━━━━━━━━━━━━━━━━━━━━━\u001b[0m \u001b[32m60.8/60.8 kB\u001b[0m \u001b[31m10.4 MB/s\u001b[0m eta \u001b[36m0:00:00\u001b[0m\n",
            "\u001b[?25hRequirement already satisfied: numpy>=1.22.5 in /usr/local/lib/python3.10/dist-packages (from chromadb) (1.25.2)\n",
            "Collecting posthog>=2.4.0 (from chromadb)\n",
            "  Downloading posthog-3.5.0-py2.py3-none-any.whl (41 kB)\n",
            "\u001b[2K     \u001b[90m━━━━━━━━━━━━━━━━━━━━━━━━━━━━━━━━━━━━━━━━\u001b[0m \u001b[32m41.3/41.3 kB\u001b[0m \u001b[31m6.0 MB/s\u001b[0m eta \u001b[36m0:00:00\u001b[0m\n",
            "\u001b[?25hRequirement already satisfied: typing-extensions>=4.5.0 in /usr/local/lib/python3.10/dist-packages (from chromadb) (4.11.0)\n",
            "Collecting onnxruntime>=1.14.1 (from chromadb)\n",
            "  Downloading onnxruntime-1.17.3-cp310-cp310-manylinux_2_27_x86_64.manylinux_2_28_x86_64.whl (6.8 MB)\n",
            "\u001b[2K     \u001b[90m━━━━━━━━━━━━━━━━━━━━━━━━━━━━━━━━━━━━━━━━\u001b[0m \u001b[32m6.8/6.8 MB\u001b[0m \u001b[31m21.8 MB/s\u001b[0m eta \u001b[36m0:00:00\u001b[0m\n",
            "\u001b[?25hCollecting opentelemetry-api>=1.2.0 (from chromadb)\n",
            "  Downloading opentelemetry_api-1.24.0-py3-none-any.whl (60 kB)\n",
            "\u001b[2K     \u001b[90m━━━━━━━━━━━━━━━━━━━━━━━━━━━━━━━━━━━━━━━━\u001b[0m \u001b[32m60.1/60.1 kB\u001b[0m \u001b[31m9.3 MB/s\u001b[0m eta \u001b[36m0:00:00\u001b[0m\n",
            "\u001b[?25hCollecting opentelemetry-exporter-otlp-proto-grpc>=1.2.0 (from chromadb)\n",
            "  Downloading opentelemetry_exporter_otlp_proto_grpc-1.24.0-py3-none-any.whl (18 kB)\n",
            "Collecting opentelemetry-instrumentation-fastapi>=0.41b0 (from chromadb)\n",
            "  Downloading opentelemetry_instrumentation_fastapi-0.45b0-py3-none-any.whl (11 kB)\n",
            "Collecting opentelemetry-sdk>=1.2.0 (from chromadb)\n",
            "  Downloading opentelemetry_sdk-1.24.0-py3-none-any.whl (106 kB)\n",
            "\u001b[2K     \u001b[90m━━━━━━━━━━━━━━━━━━━━━━━━━━━━━━━━━━━━━━━━\u001b[0m \u001b[32m106.1/106.1 kB\u001b[0m \u001b[31m2.4 MB/s\u001b[0m eta \u001b[36m0:00:00\u001b[0m\n",
            "\u001b[?25hRequirement already satisfied: tokenizers>=0.13.2 in /usr/local/lib/python3.10/dist-packages (from chromadb) (0.19.1)\n",
            "Collecting pypika>=0.48.9 (from chromadb)\n",
            "  Downloading PyPika-0.48.9.tar.gz (67 kB)\n",
            "\u001b[2K     \u001b[90m━━━━━━━━━━━━━━━━━━━━━━━━━━━━━━━━━━━━━━━━\u001b[0m \u001b[32m67.3/67.3 kB\u001b[0m \u001b[31m9.9 MB/s\u001b[0m eta \u001b[36m0:00:00\u001b[0m\n",
            "\u001b[?25h  Installing build dependencies ... \u001b[?25l\u001b[?25hdone\n",
            "  Getting requirements to build wheel ... \u001b[?25l\u001b[?25hdone\n",
            "  Preparing metadata (pyproject.toml) ... \u001b[?25l\u001b[?25hdone\n",
            "Requirement already satisfied: tqdm>=4.65.0 in /usr/local/lib/python3.10/dist-packages (from chromadb) (4.66.4)\n",
            "Collecting overrides>=7.3.1 (from chromadb)\n",
            "  Downloading overrides-7.7.0-py3-none-any.whl (17 kB)\n",
            "Requirement already satisfied: importlib-resources in /usr/local/lib/python3.10/dist-packages (from chromadb) (6.4.0)\n",
            "Requirement already satisfied: grpcio>=1.58.0 in /usr/local/lib/python3.10/dist-packages (from chromadb) (1.63.0)\n",
            "Collecting bcrypt>=4.0.1 (from chromadb)\n",
            "  Downloading bcrypt-4.1.3-cp39-abi3-manylinux_2_28_x86_64.whl (283 kB)\n",
            "\u001b[2K     \u001b[90m━━━━━━━━━━━━━━━━━━━━━━━━━━━━━━━━━━━━━━━━\u001b[0m \u001b[32m283.7/283.7 kB\u001b[0m \u001b[31m34.0 MB/s\u001b[0m eta \u001b[36m0:00:00\u001b[0m\n",
            "\u001b[?25hRequirement already satisfied: typer>=0.9.0 in /usr/local/lib/python3.10/dist-packages (from chromadb) (0.9.4)\n",
            "Collecting kubernetes>=28.1.0 (from chromadb)\n",
            "  Downloading kubernetes-29.0.0-py2.py3-none-any.whl (1.6 MB)\n",
            "\u001b[2K     \u001b[90m━━━━━━━━━━━━━━━━━━━━━━━━━━━━━━━━━━━━━━━━\u001b[0m \u001b[32m1.6/1.6 MB\u001b[0m \u001b[31m75.8 MB/s\u001b[0m eta \u001b[36m0:00:00\u001b[0m\n",
            "\u001b[?25hRequirement already satisfied: tenacity>=8.2.3 in /usr/local/lib/python3.10/dist-packages (from chromadb) (8.3.0)\n",
            "Requirement already satisfied: PyYAML>=6.0.0 in /usr/local/lib/python3.10/dist-packages (from chromadb) (6.0.1)\n",
            "Collecting mmh3>=4.0.1 (from chromadb)\n",
            "  Downloading mmh3-4.1.0-cp310-cp310-manylinux_2_5_x86_64.manylinux1_x86_64.manylinux_2_17_x86_64.manylinux2014_x86_64.whl (67 kB)\n",
            "\u001b[2K     \u001b[90m━━━━━━━━━━━━━━━━━━━━━━━━━━━━━━━━━━━━━━━━\u001b[0m \u001b[32m67.6/67.6 kB\u001b[0m \u001b[31m9.5 MB/s\u001b[0m eta \u001b[36m0:00:00\u001b[0m\n",
            "\u001b[?25hRequirement already satisfied: orjson>=3.9.12 in /usr/local/lib/python3.10/dist-packages (from chromadb) (3.10.3)\n",
            "Requirement already satisfied: packaging>=19.1 in /usr/local/lib/python3.10/dist-packages (from build>=1.0.3->chromadb) (23.2)\n",
            "Requirement already satisfied: pyproject_hooks in /usr/local/lib/python3.10/dist-packages (from build>=1.0.3->chromadb) (1.1.0)\n",
            "Requirement already satisfied: tomli>=1.1.0 in /usr/local/lib/python3.10/dist-packages (from build>=1.0.3->chromadb) (2.0.1)\n",
            "Collecting starlette<0.38.0,>=0.37.2 (from fastapi>=0.95.2->chromadb)\n",
            "  Downloading starlette-0.37.2-py3-none-any.whl (71 kB)\n",
            "\u001b[2K     \u001b[90m━━━━━━━━━━━━━━━━━━━━━━━━━━━━━━━━━━━━━━━━\u001b[0m \u001b[32m71.9/71.9 kB\u001b[0m \u001b[31m10.6 MB/s\u001b[0m eta \u001b[36m0:00:00\u001b[0m\n",
            "\u001b[?25hCollecting fastapi-cli>=0.0.2 (from fastapi>=0.95.2->chromadb)\n",
            "  Downloading fastapi_cli-0.0.3-py3-none-any.whl (9.2 kB)\n",
            "Requirement already satisfied: httpx>=0.23.0 in /usr/local/lib/python3.10/dist-packages (from fastapi>=0.95.2->chromadb) (0.27.0)\n",
            "Requirement already satisfied: jinja2>=2.11.2 in /usr/local/lib/python3.10/dist-packages (from fastapi>=0.95.2->chromadb) (3.1.4)\n",
            "Collecting python-multipart>=0.0.7 (from fastapi>=0.95.2->chromadb)\n",
            "  Downloading python_multipart-0.0.9-py3-none-any.whl (22 kB)\n",
            "Collecting ujson!=4.0.2,!=4.1.0,!=4.2.0,!=4.3.0,!=5.0.0,!=5.1.0,>=4.0.1 (from fastapi>=0.95.2->chromadb)\n",
            "  Downloading ujson-5.9.0-cp310-cp310-manylinux_2_17_x86_64.manylinux2014_x86_64.whl (53 kB)\n",
            "\u001b[2K     \u001b[90m━━━━━━━━━━━━━━━━━━━━━━━━━━━━━━━━━━━━━━━━\u001b[0m \u001b[32m53.2/53.2 kB\u001b[0m \u001b[31m7.7 MB/s\u001b[0m eta \u001b[36m0:00:00\u001b[0m\n",
            "\u001b[?25hCollecting email_validator>=2.0.0 (from fastapi>=0.95.2->chromadb)\n",
            "  Downloading email_validator-2.1.1-py3-none-any.whl (30 kB)\n",
            "Requirement already satisfied: certifi>=14.05.14 in /usr/local/lib/python3.10/dist-packages (from kubernetes>=28.1.0->chromadb) (2024.2.2)\n",
            "Requirement already satisfied: six>=1.9.0 in /usr/local/lib/python3.10/dist-packages (from kubernetes>=28.1.0->chromadb) (1.16.0)\n",
            "Requirement already satisfied: python-dateutil>=2.5.3 in /usr/local/lib/python3.10/dist-packages (from kubernetes>=28.1.0->chromadb) (2.8.2)\n",
            "Requirement already satisfied: google-auth>=1.0.1 in /usr/local/lib/python3.10/dist-packages (from kubernetes>=28.1.0->chromadb) (2.27.0)\n",
            "Requirement already satisfied: websocket-client!=0.40.0,!=0.41.*,!=0.42.*,>=0.32.0 in /usr/local/lib/python3.10/dist-packages (from kubernetes>=28.1.0->chromadb) (1.8.0)\n",
            "Requirement already satisfied: requests-oauthlib in /usr/local/lib/python3.10/dist-packages (from kubernetes>=28.1.0->chromadb) (1.3.1)\n",
            "Requirement already satisfied: oauthlib>=3.2.2 in /usr/local/lib/python3.10/dist-packages (from kubernetes>=28.1.0->chromadb) (3.2.2)\n",
            "Requirement already satisfied: urllib3>=1.24.2 in /usr/local/lib/python3.10/dist-packages (from kubernetes>=28.1.0->chromadb) (2.0.7)\n",
            "Collecting coloredlogs (from onnxruntime>=1.14.1->chromadb)\n",
            "  Downloading coloredlogs-15.0.1-py2.py3-none-any.whl (46 kB)\n",
            "\u001b[2K     \u001b[90m━━━━━━━━━━━━━━━━━━━━━━━━━━━━━━━━━━━━━━━━\u001b[0m \u001b[32m46.0/46.0 kB\u001b[0m \u001b[31m6.5 MB/s\u001b[0m eta \u001b[36m0:00:00\u001b[0m\n",
            "\u001b[?25hRequirement already satisfied: flatbuffers in /usr/local/lib/python3.10/dist-packages (from onnxruntime>=1.14.1->chromadb) (24.3.25)\n",
            "Requirement already satisfied: protobuf in /usr/local/lib/python3.10/dist-packages (from onnxruntime>=1.14.1->chromadb) (3.20.3)\n",
            "Requirement already satisfied: sympy in /usr/local/lib/python3.10/dist-packages (from onnxruntime>=1.14.1->chromadb) (1.12)\n",
            "Collecting deprecated>=1.2.6 (from opentelemetry-api>=1.2.0->chromadb)\n",
            "  Downloading Deprecated-1.2.14-py2.py3-none-any.whl (9.6 kB)\n",
            "Collecting importlib-metadata<=7.0,>=6.0 (from opentelemetry-api>=1.2.0->chromadb)\n",
            "  Downloading importlib_metadata-7.0.0-py3-none-any.whl (23 kB)\n",
            "Requirement already satisfied: googleapis-common-protos~=1.52 in /usr/local/lib/python3.10/dist-packages (from opentelemetry-exporter-otlp-proto-grpc>=1.2.0->chromadb) (1.63.0)\n",
            "Collecting opentelemetry-exporter-otlp-proto-common==1.24.0 (from opentelemetry-exporter-otlp-proto-grpc>=1.2.0->chromadb)\n",
            "  Downloading opentelemetry_exporter_otlp_proto_common-1.24.0-py3-none-any.whl (17 kB)\n",
            "Collecting opentelemetry-proto==1.24.0 (from opentelemetry-exporter-otlp-proto-grpc>=1.2.0->chromadb)\n",
            "  Downloading opentelemetry_proto-1.24.0-py3-none-any.whl (50 kB)\n",
            "\u001b[2K     \u001b[90m━━━━━━━━━━━━━━━━━━━━━━━━━━━━━━━━━━━━━━━━\u001b[0m \u001b[32m50.8/50.8 kB\u001b[0m \u001b[31m7.0 MB/s\u001b[0m eta \u001b[36m0:00:00\u001b[0m\n",
            "\u001b[?25hCollecting opentelemetry-instrumentation-asgi==0.45b0 (from opentelemetry-instrumentation-fastapi>=0.41b0->chromadb)\n",
            "  Downloading opentelemetry_instrumentation_asgi-0.45b0-py3-none-any.whl (14 kB)\n",
            "Collecting opentelemetry-instrumentation==0.45b0 (from opentelemetry-instrumentation-fastapi>=0.41b0->chromadb)\n",
            "  Downloading opentelemetry_instrumentation-0.45b0-py3-none-any.whl (28 kB)\n",
            "Collecting opentelemetry-semantic-conventions==0.45b0 (from opentelemetry-instrumentation-fastapi>=0.41b0->chromadb)\n",
            "  Downloading opentelemetry_semantic_conventions-0.45b0-py3-none-any.whl (36 kB)\n",
            "Collecting opentelemetry-util-http==0.45b0 (from opentelemetry-instrumentation-fastapi>=0.41b0->chromadb)\n",
            "  Downloading opentelemetry_util_http-0.45b0-py3-none-any.whl (6.9 kB)\n",
            "Requirement already satisfied: setuptools>=16.0 in /usr/local/lib/python3.10/dist-packages (from opentelemetry-instrumentation==0.45b0->opentelemetry-instrumentation-fastapi>=0.41b0->chromadb) (67.7.2)\n",
            "Requirement already satisfied: wrapt<2.0.0,>=1.0.0 in /usr/local/lib/python3.10/dist-packages (from opentelemetry-instrumentation==0.45b0->opentelemetry-instrumentation-fastapi>=0.41b0->chromadb) (1.14.1)\n",
            "Collecting asgiref~=3.0 (from opentelemetry-instrumentation-asgi==0.45b0->opentelemetry-instrumentation-fastapi>=0.41b0->chromadb)\n",
            "  Downloading asgiref-3.8.1-py3-none-any.whl (23 kB)\n",
            "Collecting monotonic>=1.5 (from posthog>=2.4.0->chromadb)\n",
            "  Downloading monotonic-1.6-py2.py3-none-any.whl (8.2 kB)\n",
            "Requirement already satisfied: backoff>=1.10.0 in /usr/local/lib/python3.10/dist-packages (from posthog>=2.4.0->chromadb) (2.2.1)\n",
            "Requirement already satisfied: annotated-types>=0.4.0 in /usr/local/lib/python3.10/dist-packages (from pydantic>=1.9->chromadb) (0.6.0)\n",
            "Requirement already satisfied: pydantic-core==2.18.2 in /usr/local/lib/python3.10/dist-packages (from pydantic>=1.9->chromadb) (2.18.2)\n",
            "Requirement already satisfied: charset-normalizer<4,>=2 in /usr/local/lib/python3.10/dist-packages (from requests>=2.28->chromadb) (3.3.2)\n",
            "Requirement already satisfied: idna<4,>=2.5 in /usr/local/lib/python3.10/dist-packages (from requests>=2.28->chromadb) (3.7)\n",
            "Requirement already satisfied: huggingface-hub<1.0,>=0.16.4 in /usr/local/lib/python3.10/dist-packages (from tokenizers>=0.13.2->chromadb) (0.20.3)\n",
            "Requirement already satisfied: click<9.0.0,>=7.1.1 in /usr/local/lib/python3.10/dist-packages (from typer>=0.9.0->chromadb) (8.1.7)\n",
            "Requirement already satisfied: h11>=0.8 in /usr/local/lib/python3.10/dist-packages (from uvicorn[standard]>=0.18.3->chromadb) (0.14.0)\n",
            "Collecting httptools>=0.5.0 (from uvicorn[standard]>=0.18.3->chromadb)\n",
            "  Downloading httptools-0.6.1-cp310-cp310-manylinux_2_5_x86_64.manylinux1_x86_64.manylinux_2_17_x86_64.manylinux2014_x86_64.whl (341 kB)\n",
            "\u001b[2K     \u001b[90m━━━━━━━━━━━━━━━━━━━━━━━━━━━━━━━━━━━━━━━━\u001b[0m \u001b[32m341.4/341.4 kB\u001b[0m \u001b[31m39.2 MB/s\u001b[0m eta \u001b[36m0:00:00\u001b[0m\n",
            "\u001b[?25hCollecting python-dotenv>=0.13 (from uvicorn[standard]>=0.18.3->chromadb)\n",
            "  Downloading python_dotenv-1.0.1-py3-none-any.whl (19 kB)\n",
            "Collecting uvloop!=0.15.0,!=0.15.1,>=0.14.0 (from uvicorn[standard]>=0.18.3->chromadb)\n",
            "  Downloading uvloop-0.19.0-cp310-cp310-manylinux_2_17_x86_64.manylinux2014_x86_64.whl (3.4 MB)\n",
            "\u001b[2K     \u001b[90m━━━━━━━━━━━━━━━━━━━━━━━━━━━━━━━━━━━━━━━━\u001b[0m \u001b[32m3.4/3.4 MB\u001b[0m \u001b[31m73.1 MB/s\u001b[0m eta \u001b[36m0:00:00\u001b[0m\n",
            "\u001b[?25hCollecting watchfiles>=0.13 (from uvicorn[standard]>=0.18.3->chromadb)\n",
            "  Downloading watchfiles-0.21.0-cp310-cp310-manylinux_2_17_x86_64.manylinux2014_x86_64.whl (1.3 MB)\n",
            "\u001b[2K     \u001b[90m━━━━━━━━━━━━━━━━━━━━━━━━━━━━━━━━━━━━━━━━\u001b[0m \u001b[32m1.3/1.3 MB\u001b[0m \u001b[31m55.3 MB/s\u001b[0m eta \u001b[36m0:00:00\u001b[0m\n",
            "\u001b[?25hCollecting websockets>=10.4 (from uvicorn[standard]>=0.18.3->chromadb)\n",
            "  Downloading websockets-12.0-cp310-cp310-manylinux_2_5_x86_64.manylinux1_x86_64.manylinux_2_17_x86_64.manylinux2014_x86_64.whl (130 kB)\n",
            "\u001b[2K     \u001b[90m━━━━━━━━━━━━━━━━━━━━━━━━━━━━━━━━━━━━━━━━\u001b[0m \u001b[32m130.2/130.2 kB\u001b[0m \u001b[31m18.1 MB/s\u001b[0m eta \u001b[36m0:00:00\u001b[0m\n",
            "\u001b[?25hCollecting dnspython>=2.0.0 (from email_validator>=2.0.0->fastapi>=0.95.2->chromadb)\n",
            "  Downloading dnspython-2.6.1-py3-none-any.whl (307 kB)\n",
            "\u001b[2K     \u001b[90m━━━━━━━━━━━━━━━━━━━━━━━━━━━━━━━━━━━━━━━━\u001b[0m \u001b[32m307.7/307.7 kB\u001b[0m \u001b[31m34.7 MB/s\u001b[0m eta \u001b[36m0:00:00\u001b[0m\n",
            "\u001b[?25hCollecting typer>=0.9.0 (from chromadb)\n",
            "  Downloading typer-0.12.3-py3-none-any.whl (47 kB)\n",
            "\u001b[2K     \u001b[90m━━━━━━━━━━━━━━━━━━━━━━━━━━━━━━━━━━━━━━━━\u001b[0m \u001b[32m47.2/47.2 kB\u001b[0m \u001b[31m5.1 MB/s\u001b[0m eta \u001b[36m0:00:00\u001b[0m\n",
            "\u001b[?25hCollecting shellingham>=1.3.0 (from typer>=0.9.0->chromadb)\n",
            "  Downloading shellingham-1.5.4-py2.py3-none-any.whl (9.8 kB)\n",
            "Requirement already satisfied: rich>=10.11.0 in /usr/local/lib/python3.10/dist-packages (from typer>=0.9.0->chromadb) (13.7.1)\n",
            "Requirement already satisfied: cachetools<6.0,>=2.0.0 in /usr/local/lib/python3.10/dist-packages (from google-auth>=1.0.1->kubernetes>=28.1.0->chromadb) (5.3.3)\n",
            "Requirement already satisfied: pyasn1-modules>=0.2.1 in /usr/local/lib/python3.10/dist-packages (from google-auth>=1.0.1->kubernetes>=28.1.0->chromadb) (0.4.0)\n",
            "Requirement already satisfied: rsa<5,>=3.1.4 in /usr/local/lib/python3.10/dist-packages (from google-auth>=1.0.1->kubernetes>=28.1.0->chromadb) (4.9)\n",
            "Requirement already satisfied: anyio in /usr/local/lib/python3.10/dist-packages (from httpx>=0.23.0->fastapi>=0.95.2->chromadb) (3.7.1)\n",
            "Requirement already satisfied: httpcore==1.* in /usr/local/lib/python3.10/dist-packages (from httpx>=0.23.0->fastapi>=0.95.2->chromadb) (1.0.5)\n",
            "Requirement already satisfied: sniffio in /usr/local/lib/python3.10/dist-packages (from httpx>=0.23.0->fastapi>=0.95.2->chromadb) (1.3.1)\n",
            "Requirement already satisfied: filelock in /usr/local/lib/python3.10/dist-packages (from huggingface-hub<1.0,>=0.16.4->tokenizers>=0.13.2->chromadb) (3.14.0)\n",
            "Requirement already satisfied: fsspec>=2023.5.0 in /usr/local/lib/python3.10/dist-packages (from huggingface-hub<1.0,>=0.16.4->tokenizers>=0.13.2->chromadb) (2023.6.0)\n",
            "Requirement already satisfied: zipp>=0.5 in /usr/local/lib/python3.10/dist-packages (from importlib-metadata<=7.0,>=6.0->opentelemetry-api>=1.2.0->chromadb) (3.18.1)\n",
            "Requirement already satisfied: MarkupSafe>=2.0 in /usr/local/lib/python3.10/dist-packages (from jinja2>=2.11.2->fastapi>=0.95.2->chromadb) (2.1.5)\n",
            "Requirement already satisfied: markdown-it-py>=2.2.0 in /usr/local/lib/python3.10/dist-packages (from rich>=10.11.0->typer>=0.9.0->chromadb) (3.0.0)\n",
            "Requirement already satisfied: pygments<3.0.0,>=2.13.0 in /usr/local/lib/python3.10/dist-packages (from rich>=10.11.0->typer>=0.9.0->chromadb) (2.16.1)\n",
            "Collecting humanfriendly>=9.1 (from coloredlogs->onnxruntime>=1.14.1->chromadb)\n",
            "  Downloading humanfriendly-10.0-py2.py3-none-any.whl (86 kB)\n",
            "\u001b[2K     \u001b[90m━━━━━━━━━━━━━━━━━━━━━━━━━━━━━━━━━━━━━━━━\u001b[0m \u001b[32m86.8/86.8 kB\u001b[0m \u001b[31m12.3 MB/s\u001b[0m eta \u001b[36m0:00:00\u001b[0m\n",
            "\u001b[?25hRequirement already satisfied: mpmath>=0.19 in /usr/local/lib/python3.10/dist-packages (from sympy->onnxruntime>=1.14.1->chromadb) (1.3.0)\n",
            "Requirement already satisfied: exceptiongroup in /usr/local/lib/python3.10/dist-packages (from anyio->httpx>=0.23.0->fastapi>=0.95.2->chromadb) (1.2.1)\n",
            "Requirement already satisfied: mdurl~=0.1 in /usr/local/lib/python3.10/dist-packages (from markdown-it-py>=2.2.0->rich>=10.11.0->typer>=0.9.0->chromadb) (0.1.2)\n",
            "Requirement already satisfied: pyasn1<0.7.0,>=0.4.6 in /usr/local/lib/python3.10/dist-packages (from pyasn1-modules>=0.2.1->google-auth>=1.0.1->kubernetes>=28.1.0->chromadb) (0.6.0)\n",
            "Building wheels for collected packages: pypika\n",
            "  Building wheel for pypika (pyproject.toml) ... \u001b[?25l\u001b[?25hdone\n",
            "  Created wheel for pypika: filename=PyPika-0.48.9-py2.py3-none-any.whl size=53724 sha256=e65319dbc375a85787eeae74d09d72fff6e4ff538580fb8c05807fcb6ece8a9e\n",
            "  Stored in directory: /root/.cache/pip/wheels/e1/26/51/d0bffb3d2fd82256676d7ad3003faea3bd6dddc9577af665f4\n",
            "Successfully built pypika\n",
            "Installing collected packages: pypika, monotonic, mmh3, websockets, uvloop, uvicorn, ujson, shellingham, python-multipart, python-dotenv, overrides, opentelemetry-util-http, opentelemetry-semantic-conventions, opentelemetry-proto, importlib-metadata, humanfriendly, httptools, dnspython, deprecated, chroma-hnswlib, bcrypt, asgiref, watchfiles, starlette, posthog, opentelemetry-exporter-otlp-proto-common, opentelemetry-api, email_validator, coloredlogs, typer, opentelemetry-sdk, opentelemetry-instrumentation, onnxruntime, kubernetes, opentelemetry-instrumentation-asgi, opentelemetry-exporter-otlp-proto-grpc, opentelemetry-instrumentation-fastapi, fastapi-cli, fastapi, chromadb\n",
            "  Attempting uninstall: importlib-metadata\n",
            "    Found existing installation: importlib_metadata 7.1.0\n",
            "    Uninstalling importlib_metadata-7.1.0:\n",
            "      Successfully uninstalled importlib_metadata-7.1.0\n",
            "  Attempting uninstall: typer\n",
            "    Found existing installation: typer 0.9.4\n",
            "    Uninstalling typer-0.9.4:\n",
            "      Successfully uninstalled typer-0.9.4\n",
            "\u001b[31mERROR: pip's dependency resolver does not currently take into account all the packages that are installed. This behaviour is the source of the following dependency conflicts.\n",
            "spacy 3.7.4 requires typer<0.10.0,>=0.3.0, but you have typer 0.12.3 which is incompatible.\n",
            "weasel 0.3.4 requires typer<0.10.0,>=0.3.0, but you have typer 0.12.3 which is incompatible.\u001b[0m\u001b[31m\n",
            "\u001b[0mSuccessfully installed asgiref-3.8.1 bcrypt-4.1.3 chroma-hnswlib-0.7.3 chromadb-0.5.0 coloredlogs-15.0.1 deprecated-1.2.14 dnspython-2.6.1 email_validator-2.1.1 fastapi-0.111.0 fastapi-cli-0.0.3 httptools-0.6.1 humanfriendly-10.0 importlib-metadata-7.0.0 kubernetes-29.0.0 mmh3-4.1.0 monotonic-1.6 onnxruntime-1.17.3 opentelemetry-api-1.24.0 opentelemetry-exporter-otlp-proto-common-1.24.0 opentelemetry-exporter-otlp-proto-grpc-1.24.0 opentelemetry-instrumentation-0.45b0 opentelemetry-instrumentation-asgi-0.45b0 opentelemetry-instrumentation-fastapi-0.45b0 opentelemetry-proto-1.24.0 opentelemetry-sdk-1.24.0 opentelemetry-semantic-conventions-0.45b0 opentelemetry-util-http-0.45b0 overrides-7.7.0 posthog-3.5.0 pypika-0.48.9 python-dotenv-1.0.1 python-multipart-0.0.9 shellingham-1.5.4 starlette-0.37.2 typer-0.12.3 ujson-5.9.0 uvicorn-0.29.0 uvloop-0.19.0 watchfiles-0.21.0 websockets-12.0\n",
            "Requirement already satisfied: tiktoken in /usr/local/lib/python3.10/dist-packages (0.6.0)\n",
            "Requirement already satisfied: regex>=2022.1.18 in /usr/local/lib/python3.10/dist-packages (from tiktoken) (2023.12.25)\n",
            "Requirement already satisfied: requests>=2.26.0 in /usr/local/lib/python3.10/dist-packages (from tiktoken) (2.31.0)\n",
            "Requirement already satisfied: charset-normalizer<4,>=2 in /usr/local/lib/python3.10/dist-packages (from requests>=2.26.0->tiktoken) (3.3.2)\n",
            "Requirement already satisfied: idna<4,>=2.5 in /usr/local/lib/python3.10/dist-packages (from requests>=2.26.0->tiktoken) (3.7)\n",
            "Requirement already satisfied: urllib3<3,>=1.21.1 in /usr/local/lib/python3.10/dist-packages (from requests>=2.26.0->tiktoken) (2.0.7)\n",
            "Requirement already satisfied: certifi>=2017.4.17 in /usr/local/lib/python3.10/dist-packages (from requests>=2.26.0->tiktoken) (2024.2.2)\n",
            "Requirement already satisfied: tabulate in /usr/local/lib/python3.10/dist-packages (0.9.0)\n"
          ]
        }
      ],
      "source": [
        "!pip install langchain\n",
        "# !pip install openai\n",
        "!pip install langchain-openai\n",
        "!pip install unstructured\n",
        "!pip install chromadb\n",
        "!pip install tiktoken\n",
        "!pip install tabulate"
      ]
    },
    {
      "cell_type": "markdown",
      "metadata": {
        "id": "DdedMiSsK92d"
      },
      "source": [
        "## 將環境變數讀入"
      ]
    },
    {
      "cell_type": "code",
      "execution_count": null,
      "metadata": {
        "id": "UxT0u_yYK92d"
      },
      "outputs": [],
      "source": [
        "# 導入 ColabSecrets 用戶資料模組\n",
        "from google.colab import userdata\n",
        "\n",
        "# 設置 OpenAI API key\n",
        "import os\n",
        "os.environ[\"OPENAI_API_KEY\"] = userdata.get('OPENAI_API_KEY')"
      ]
    },
    {
      "cell_type": "markdown",
      "metadata": {
        "id": "pU3QjAFZK92d"
      },
      "source": [
        "### 先套用OpenAI的API\n",
        "使用`langchain`中的`OpenAI`套件載入大型語言模型，載入OpenAi模型，並且設定最大輸出長度為1024。此部分會收費"
      ]
    },
    {
      "cell_type": "code",
      "execution_count": null,
      "metadata": {
        "id": "v_LvzHrnK92e",
        "colab": {
          "base_uri": "https://localhost:8080/"
        },
        "outputId": "ba545d48-23b0-4c45-df47-b03777297c2d"
      },
      "outputs": [
        {
          "output_type": "stream",
          "name": "stderr",
          "text": [
            "/usr/local/lib/python3.10/dist-packages/langchain_core/_api/deprecation.py:119: LangChainDeprecationWarning: The class `ChatOpenAI` was deprecated in LangChain 0.0.10 and will be removed in 0.3.0. An updated version of the class exists in the langchain-openai package and should be used instead. To use it run `pip install -U langchain-openai` and import as `from langchain_openai import ChatOpenAI`.\n",
            "  warn_deprecated(\n"
          ]
        }
      ],
      "source": [
        "from langchain.chat_models import ChatOpenAI\n",
        "llm = ChatOpenAI(\n",
        "    model_name=\"gpt-3.5-turbo\",\n",
        "    temperature=0.3,\n",
        "    max_tokens=512,\n",
        "    )"
      ]
    },
    {
      "cell_type": "markdown",
      "source": [
        "### 測試沒有RAG時候的問答"
      ],
      "metadata": {
        "id": "Kryz-tpi3ZTE"
      }
    },
    {
      "cell_type": "code",
      "source": [
        "llm.invoke(\"工專時期第3任校長是誰?\")"
      ],
      "metadata": {
        "id": "k6nBEb9qsgdc",
        "outputId": "6e38b36a-bf70-4876-a32e-4cc602421951",
        "colab": {
          "base_uri": "https://localhost:8080/"
        }
      },
      "execution_count": null,
      "outputs": [
        {
          "output_type": "execute_result",
          "data": {
            "text/plain": [
              "AIMessage(content='工專時期第3任校長是張榮發。', response_metadata={'token_usage': {'completion_tokens': 21, 'prompt_tokens': 23, 'total_tokens': 44}, 'model_name': 'gpt-3.5-turbo', 'system_fingerprint': None, 'finish_reason': 'stop', 'logprobs': None}, id='run-a5656271-13c4-4892-a2a3-689cdae0c6aa-0')"
            ]
          },
          "metadata": {},
          "execution_count": 4
        }
      ]
    },
    {
      "cell_type": "code",
      "source": [
        "llm.invoke(\"明新科技大學的校訓是什麼?\")"
      ],
      "metadata": {
        "id": "FEfGohnT3YAI",
        "colab": {
          "base_uri": "https://localhost:8080/"
        },
        "outputId": "6c872512-ebf8-4494-b44a-ae1557ffe8c7"
      },
      "execution_count": null,
      "outputs": [
        {
          "output_type": "execute_result",
          "data": {
            "text/plain": [
              "AIMessage(content='明新科技大學的校訓是「誠樸勤勉，求實創新」。', response_metadata={'token_usage': {'completion_tokens': 32, 'prompt_tokens': 26, 'total_tokens': 58}, 'model_name': 'gpt-3.5-turbo', 'system_fingerprint': None, 'finish_reason': 'stop', 'logprobs': None}, id='run-f2e24222-b588-42d4-a98f-60a89dc839f5-0')"
            ]
          },
          "metadata": {},
          "execution_count": 5
        }
      ]
    },
    {
      "cell_type": "code",
      "source": [
        "!wget https://raw.githubusercontent.com/zzxx666413/LLM_RAG20240510/master/must.txt"
      ],
      "metadata": {
        "colab": {
          "base_uri": "https://localhost:8080/"
        },
        "id": "3dbfudPJefco",
        "outputId": "19ae2a32-841e-4add-bb68-07a5de65daa6"
      },
      "execution_count": null,
      "outputs": [
        {
          "output_type": "stream",
          "name": "stdout",
          "text": [
            "--2024-05-10 07:44:32--  https://raw.githubusercontent.com/zzxx666413/LLM_RAG20240510/master/must.txt\n",
            "Resolving raw.githubusercontent.com (raw.githubusercontent.com)... 185.199.108.133, 185.199.109.133, 185.199.111.133, ...\n",
            "Connecting to raw.githubusercontent.com (raw.githubusercontent.com)|185.199.108.133|:443... connected.\n",
            "HTTP request sent, awaiting response... 200 OK\n",
            "Length: 26777 (26K) [text/plain]\n",
            "Saving to: ‘must.txt’\n",
            "\n",
            "must.txt            100%[===================>]  26.15K  --.-KB/s    in 0s      \n",
            "\n",
            "2024-05-10 07:44:33 (133 MB/s) - ‘must.txt’ saved [26777/26777]\n",
            "\n"
          ]
        }
      ]
    },
    {
      "cell_type": "code",
      "source": [
        "!wget https://raw.githubusercontent.com/zzxx666413/LLM_RAG20240510/master/2028%E7%B8%BD%E7%B5%B1%E5%80%99%E9%81%B8%E4%BA%BA.txt"
      ],
      "metadata": {
        "colab": {
          "base_uri": "https://localhost:8080/"
        },
        "id": "PS5mplH5etF7",
        "outputId": "b3cccdf2-d170-4fb5-ae2c-1af806aa3509"
      },
      "execution_count": null,
      "outputs": [
        {
          "output_type": "stream",
          "name": "stdout",
          "text": [
            "--2024-05-10 07:54:51--  https://raw.githubusercontent.com/zzxx666413/LLM_RAG20240510/master/2028%E7%B8%BD%E7%B5%B1%E5%80%99%E9%81%B8%E4%BA%BA.txt\n",
            "Resolving raw.githubusercontent.com (raw.githubusercontent.com)... 185.199.110.133, 185.199.109.133, 185.199.111.133, ...\n",
            "Connecting to raw.githubusercontent.com (raw.githubusercontent.com)|185.199.110.133|:443... connected.\n",
            "HTTP request sent, awaiting response... 200 OK\n",
            "Length: 298 [text/plain]\n",
            "Saving to: ‘2028總統候選人.txt’\n",
            "\n",
            "\r2028總統候選人.txt    0%[                    ]       0  --.-KB/s               \r2028總統候選人.txt  100%[===================>]     298  --.-KB/s    in 0s      \n",
            "\n",
            "2024-05-10 07:54:51 (11.6 MB/s) - ‘2028總統候選人.txt’ saved [298/298]\n",
            "\n"
          ]
        }
      ]
    },
    {
      "cell_type": "markdown",
      "metadata": {
        "id": "f_NDQiasK92f"
      },
      "source": [
        "### 建立本機知識庫QA機器人\n",
        "[Document loaders](https://python.langchain.com/docs/modules/data_connection/document_loaders/)"
      ]
    },
    {
      "cell_type": "code",
      "execution_count": null,
      "metadata": {
        "id": "c2KsjlHTK92f",
        "colab": {
          "base_uri": "https://localhost:8080/"
        },
        "outputId": "3dda3282-936e-416b-fe5f-a4285212345f"
      },
      "outputs": [
        {
          "output_type": "stream",
          "name": "stderr",
          "text": [
            "WARNING:unstructured:The MIME type of '/content/must.txt' is 'application/x-wine-extension-ini'. This file type is not currently supported in unstructured.\n",
            "[nltk_data] Downloading package punkt to /root/nltk_data...\n",
            "[nltk_data]   Unzipping tokenizers/punkt.zip.\n",
            "[nltk_data] Downloading package averaged_perceptron_tagger to\n",
            "[nltk_data]     /root/nltk_data...\n",
            "[nltk_data]   Unzipping taggers/averaged_perceptron_tagger.zip.\n",
            "WARNING:langchain_text_splitters.base:Created a chunk of size 153, which is longer than the specified 100\n",
            "WARNING:langchain_text_splitters.base:Created a chunk of size 109, which is longer than the specified 100\n",
            "WARNING:langchain_text_splitters.base:Created a chunk of size 126, which is longer than the specified 100\n",
            "WARNING:langchain_text_splitters.base:Created a chunk of size 124, which is longer than the specified 100\n",
            "WARNING:langchain_text_splitters.base:Created a chunk of size 167, which is longer than the specified 100\n",
            "WARNING:langchain_text_splitters.base:Created a chunk of size 135, which is longer than the specified 100\n",
            "WARNING:langchain_text_splitters.base:Created a chunk of size 118, which is longer than the specified 100\n",
            "WARNING:langchain_text_splitters.base:Created a chunk of size 110, which is longer than the specified 100\n",
            "WARNING:langchain_text_splitters.base:Created a chunk of size 104, which is longer than the specified 100\n",
            "WARNING:langchain_text_splitters.base:Created a chunk of size 149, which is longer than the specified 100\n",
            "WARNING:langchain_text_splitters.base:Created a chunk of size 297, which is longer than the specified 100\n",
            "WARNING:langchain_text_splitters.base:Created a chunk of size 289, which is longer than the specified 100\n",
            "WARNING:langchain_text_splitters.base:Created a chunk of size 188, which is longer than the specified 100\n",
            "WARNING:langchain_text_splitters.base:Created a chunk of size 143, which is longer than the specified 100\n",
            "WARNING:langchain_text_splitters.base:Created a chunk of size 315, which is longer than the specified 100\n",
            "WARNING:langchain_text_splitters.base:Created a chunk of size 175, which is longer than the specified 100\n",
            "/usr/local/lib/python3.10/dist-packages/langchain/chains/retrieval_qa/base.py:289: UserWarning: `VectorDBQA` is deprecated - please use `from langchain.chains import RetrievalQA`\n",
            "  warnings.warn(\n",
            "/usr/local/lib/python3.10/dist-packages/langchain_core/_api/deprecation.py:119: LangChainDeprecationWarning: The method `Chain.__call__` was deprecated in langchain 0.1.0 and will be removed in 0.3.0. Use invoke instead.\n",
            "  warn_deprecated(\n"
          ]
        },
        {
          "output_type": "stream",
          "name": "stdout",
          "text": [
            "工專時期的第三任校長是林世明，任期不詳。\n"
          ]
        }
      ],
      "source": [
        "from langchain_openai import OpenAIEmbeddings\n",
        "from langchain.vectorstores import Chroma\n",
        "from langchain.text_splitter import CharacterTextSplitter\n",
        "from langchain import OpenAI,VectorDBQA\n",
        "from langchain.document_loaders import DirectoryLoader\n",
        "\n",
        "# 載入資料夾中所有TXT檔案\n",
        "loader = DirectoryLoader('/content/', glob='**/*.txt')\n",
        "\n",
        "# 將資料轉成document物佚，每個檔案會為作為一個document\n",
        "documents = loader.load()\n",
        "\n",
        "# 初始化載入器\n",
        "text_splitter = CharacterTextSplitter(chunk_size=100, chunk_overlap=0)\n",
        "\n",
        "# 切割加载的 document\n",
        "split_docs = text_splitter.split_documents(documents)\n",
        "\n",
        "# 初始化 openai 的 embeddings 物件\n",
        "embeddings = OpenAIEmbeddings()\n",
        "\n",
        "# 將 document 透過 openai 的 embeddings 物件計算 embedding向量資料暫時存入 Chroma 向量資料庫用於後續的搜尋\n",
        "docsearch = Chroma.from_documents(split_docs, embeddings)\n",
        "\n",
        "# 建立回答物件\n",
        "qa = VectorDBQA.from_chain_type(llm=llm, chain_type=\"stuff\", vectorstore=docsearch, return_source_documents=True)\n",
        "\n",
        "# 進行回答\n",
        "result = qa({\"query\": \"工專時期第3任校長是誰?\"})\n",
        "print(result['result'])"
      ]
    },
    {
      "cell_type": "code",
      "execution_count": null,
      "metadata": {
        "id": "RH35TKRmK92g",
        "colab": {
          "base_uri": "https://localhost:8080/"
        },
        "outputId": "50345d93-7415-49a6-e663-d11c408b29c9"
      },
      "outputs": [
        {
          "output_type": "stream",
          "name": "stdout",
          "text": [
            "現行明新科技大學之校訓為「堅毅、求新、創造」。\n"
          ]
        }
      ],
      "source": [
        "result = qa({\"query\": \"現行明新科技大學之校訓?\"})\n",
        "print(result['result'])"
      ]
    },
    {
      "cell_type": "markdown",
      "source": [
        "文件分割器的chunk_overlap參數，切分後每個文件裡包含幾個上一個文件結尾的內容，主要作用是為了增加每個文件的上下文關聯。比如chunk_overlap=0時，第一個文件為aaaaaa，第二個為bbbbbb；當chunk_overlap=2時，第一個文件為aaaaaa，第二個為aabbbbbb。"
      ],
      "metadata": {
        "id": "CMESifqj22KL"
      }
    },
    {
      "cell_type": "markdown",
      "metadata": {
        "id": "hiiu3ZiqK92g"
      },
      "source": [
        "## 替模型加入記憶功能\n",
        "「對話記憶體」（ConversationBufferMemory）用於儲存簡單的對話歷史 \\\n",
        "[ConversationBufferMemory](https://python.langchain.com/docs/modules/memory/types/buffer/) \\\n",
        "[memory_management](https://python.langchain.com/docs/use_cases/chatbots/memory_management/)\n"
      ]
    },
    {
      "cell_type": "code",
      "execution_count": null,
      "metadata": {
        "id": "xbWrd1YoK92g"
      },
      "outputs": [],
      "source": [
        "from langchain.chat_models import ChatOpenAI\n",
        "from langchain.prompts import (\n",
        "    ChatPromptTemplate,\n",
        "    MessagesPlaceholder,\n",
        "    SystemMessagePromptTemplate,\n",
        "    HumanMessagePromptTemplate,\n",
        ")\n",
        "from langchain.chains import LLMChain\n",
        "from langchain.memory import ConversationBufferMemory\n",
        "\n",
        "# 建立記憶體實例，開啟 return_messages 是為了將記憶體指定給 chat模型\n",
        "# 而 memory_key則是可以讓我們客制我們取得對話記錄時用的 key 值\n",
        "memory = ConversationBufferMemory(memory_key=\"chat_history\", return_messages=True)\n",
        "\n",
        "# 建立 chat 語言模型\n",
        "# llm_chat = ChatOpenAI()\n",
        "\n",
        "# 提示設計\n",
        "prompt_chat = ChatPromptTemplate(\n",
        "    messages=[\n",
        "        SystemMessagePromptTemplate.from_template(\n",
        "            \"你是一個友善的學習助理，你接下來會跟使用者來對話。\"\n",
        "        ),\n",
        "        # 這裏是一個讓記憶體資料填空的地方。\n",
        "        # 我們也要設定，使用chat_history 來取得對話記錄\n",
        "        MessagesPlaceholder(variable_name=\"chat_history\"),\n",
        "        HumanMessagePromptTemplate.from_template(\"{question}\")\n",
        "    ]\n",
        ")\n",
        "\n",
        "conversation_chat = LLMChain(\n",
        "    llm=llm,\n",
        "    prompt=prompt_chat,\n",
        "    verbose=True,\n",
        "    memory=memory\n",
        ")"
      ]
    },
    {
      "cell_type": "code",
      "execution_count": null,
      "metadata": {
        "id": "Cbzh-3woK92g",
        "colab": {
          "base_uri": "https://localhost:8080/"
        },
        "outputId": "0338e342-9a21-4489-ad7a-30df25bfc257"
      },
      "outputs": [
        {
          "output_type": "stream",
          "name": "stdout",
          "text": [
            "\n",
            "\n",
            "\u001b[1m> Entering new LLMChain chain...\u001b[0m\n",
            "Prompt after formatting:\n",
            "\u001b[32;1m\u001b[1;3mSystem: 你是一個友善的學習助理，你接下來會跟使用者來對話。\n",
            "Human: 你好\u001b[0m\n",
            "\n",
            "\u001b[1m> Finished chain.\u001b[0m\n"
          ]
        },
        {
          "output_type": "execute_result",
          "data": {
            "text/plain": [
              "{'question': '你好',\n",
              " 'chat_history': [HumanMessage(content='你好'),\n",
              "  AIMessage(content='你好！有什麼問題我可以幫助你解答嗎？')],\n",
              " 'text': '你好！有什麼問題我可以幫助你解答嗎？'}"
            ]
          },
          "metadata": {},
          "execution_count": 13
        }
      ],
      "source": [
        "conversation_chat({\n",
        "    'question': '你好'\n",
        "})"
      ]
    },
    {
      "cell_type": "code",
      "execution_count": null,
      "metadata": {
        "id": "srMS_TyXK92g",
        "colab": {
          "base_uri": "https://localhost:8080/"
        },
        "outputId": "484f3a93-94d7-40e5-82f7-78c9ddad23b7"
      },
      "outputs": [
        {
          "output_type": "stream",
          "name": "stdout",
          "text": [
            "\n",
            "\n",
            "\u001b[1m> Entering new LLMChain chain...\u001b[0m\n",
            "Prompt after formatting:\n",
            "\u001b[32;1m\u001b[1;3mSystem: 你是一個友善的學習助理，你接下來會跟使用者來對話。\n",
            "Human: 你好\n",
            "AI: 你好！有什麼問題我可以幫助你解答嗎？\n",
            "Human: 你可以告訴我英國和美國的首都在哪裡嗎?\u001b[0m\n",
            "\n",
            "\u001b[1m> Finished chain.\u001b[0m\n"
          ]
        },
        {
          "output_type": "execute_result",
          "data": {
            "text/plain": [
              "{'question': '你可以告訴我英國和美國的首都在哪裡嗎?',\n",
              " 'chat_history': [HumanMessage(content='你好'),\n",
              "  AIMessage(content='你好！有什麼問題我可以幫助你解答嗎？'),\n",
              "  HumanMessage(content='你可以告訴我英國和美國的首都在哪裡嗎?'),\n",
              "  AIMessage(content='當然可以！英國的首都是倫敦（London），而美國的首都是華盛頓特區（Washington, D.C.）。希望這個資訊對你有幫助！如果有任何其他問題，歡迎隨時問我。')],\n",
              " 'text': '當然可以！英國的首都是倫敦（London），而美國的首都是華盛頓特區（Washington, D.C.）。希望這個資訊對你有幫助！如果有任何其他問題，歡迎隨時問我。'}"
            ]
          },
          "metadata": {},
          "execution_count": 14
        }
      ],
      "source": [
        "conversation_chat({\n",
        "    'question': '你可以告訴我英國和美國的首都在哪裡嗎?'\n",
        "})"
      ]
    },
    {
      "cell_type": "code",
      "source": [
        "#查詢記憶內容\n",
        "print(\"chat_history:\", memory.load_memory_variables({}))"
      ],
      "metadata": {
        "id": "a8Y1dcHLxvFU",
        "colab": {
          "base_uri": "https://localhost:8080/"
        },
        "outputId": "7afd2ee5-2d62-46ca-f929-774c7769e5a2"
      },
      "execution_count": null,
      "outputs": [
        {
          "output_type": "stream",
          "name": "stdout",
          "text": [
            "chat_history: {'chat_history': [HumanMessage(content='你好'), AIMessage(content='你好！有什麼問題我可以幫助你解答嗎？'), HumanMessage(content='你可以告訴我英國和美國的首都在哪裡嗎?'), AIMessage(content='當然可以！英國的首都是倫敦（London），而美國的首都是華盛頓特區（Washington, D.C.）。希望這個資訊對你有幫助！如果有任何其他問題，歡迎隨時問我。')]}\n"
          ]
        }
      ]
    },
    {
      "cell_type": "markdown",
      "metadata": {
        "id": "GZE-HyHAK92h"
      },
      "source": [
        "## 進階記憶功能"
      ]
    },
    {
      "cell_type": "markdown",
      "metadata": {
        "id": "jUyJONY6K92h"
      },
      "source": [
        "##### ConversationBufferWindowMemory 類別\n",
        "直譯為「局部窗口對話記憶體」。它的主要功能是限制在一個局部窗口內保存的對話資訊。由於 token 的運算資源有限且需消耗費用，甚至如果語言模型是我們自己架設的，同樣需要大量的運算資源，因此我們不能讓歷史對話資料無窮無盡地累積。\n",
        "\n",
        "使用ConversationBufferWindowMemory 類別，可以只保存最近的 k 條訊息。"
      ]
    },
    {
      "cell_type": "code",
      "execution_count": null,
      "metadata": {
        "id": "hG2rlNm5K92h",
        "colab": {
          "base_uri": "https://localhost:8080/"
        },
        "outputId": "85f0aa2a-ba53-462a-d807-19b2f665e88c"
      },
      "outputs": [
        {
          "output_type": "execute_result",
          "data": {
            "text/plain": [
              "{'history': 'Human: 這是最新的訊息\\nAI: 只會記錄這個訊息！'}"
            ]
          },
          "metadata": {},
          "execution_count": 16
        }
      ],
      "source": [
        "from langchain.memory import ConversationBufferWindowMemory\n",
        "\n",
        "# 建立 ConversationBufferWindowMemory 實例, k=1 即限制一條訊息\n",
        "memory_buffer_window = ConversationBufferWindowMemory(k=1)\n",
        "\n",
        "# 更新上下文資訊\n",
        "memory_buffer_window.save_context({\"input\": \"你好！\"}, {\"output\": \"什麼事？\"})\n",
        "memory_buffer_window.save_context({\"input\": \"今天天氣真好！\"}, {\"output\": \"我覺得太熱了！\"})\n",
        "memory_buffer_window.save_context({\"input\": \"這是最新的訊息\"}, {\"output\": \"只會記錄這個訊息！\"})\n",
        "# 取得記憶體內儲存的資訊\n",
        "memory_buffer_window.load_memory_variables({})\n",
        "\n",
        "#--- 實際的輸出 ---\n",
        "\n",
        "# {'history': 'Human: 這是最新的訊息\\nAI: 只會記錄這個訊息！'}"
      ]
    },
    {
      "cell_type": "markdown",
      "metadata": {
        "id": "3XQqzWo6K92h"
      },
      "source": [
        "##### 使用 Vector Store 做為儲存後端的記憶單元\n",
        "可以參考 VectorStoreRetrieverMemory 這樣的方法，設計我們的 LLMChain 來擷取背景資料。\n",
        "\n",
        "值得特別提及的是，VectorStoreRetrieverMemory 不只能夠從向量資料庫中檢索相似度資料，它還會在對話過程中將我們的對話記錄保存到向量資料中。"
      ]
    },
    {
      "cell_type": "code",
      "execution_count": null,
      "metadata": {
        "id": "WAtiXWM1K92h",
        "colab": {
          "base_uri": "https://localhost:8080/"
        },
        "outputId": "c05aa4f8-11ad-4dc9-eed3-c45b0806bcb5"
      },
      "outputs": [
        {
          "output_type": "stream",
          "name": "stderr",
          "text": [
            "/usr/local/lib/python3.10/dist-packages/langchain_core/_api/deprecation.py:119: LangChainDeprecationWarning: The class `OpenAIEmbeddings` was deprecated in LangChain 0.0.9 and will be removed in 0.3.0. An updated version of the class exists in the langchain-openai package and should be used instead. To use it run `pip install -U langchain-openai` and import as `from langchain_openai import OpenAIEmbeddings`.\n",
            "  warn_deprecated(\n"
          ]
        },
        {
          "output_type": "stream",
          "name": "stdout",
          "text": [
            "{'history': 'Human: 我最喜歡的運動是游泳\\nAI: 很高興你跟我說分享你的嗜好。'}\n"
          ]
        }
      ],
      "source": [
        "# 下方是建立向量資料庫的部分\n",
        "from langchain.embeddings import OpenAIEmbeddings\n",
        "from langchain.vectorstores import Chroma\n",
        "from langchain.memory import VectorStoreRetrieverMemory\n",
        "\n",
        "db_chroma = Chroma(embedding_function=OpenAIEmbeddings())\n",
        "\n",
        "retriever = db_chroma.as_retriever(search_kwargs=dict(k=1))\n",
        "\n",
        "memory_vs = VectorStoreRetrieverMemory(retriever=retriever, return_messages=True)\n",
        "\n",
        "# 這裏是模擬我們已經有三個對話記錄\n",
        "memory_vs.save_context({\"Human\": \"我最喜歡的食物是披薩\"}, {\"AI\": \"這樣很棒！\"})\n",
        "memory_vs.save_context({\"Human\": \"我最喜歡的運動是游泳\"}, {\"AI\": \"很高興你跟我說分享你的嗜好。\"})\n",
        "memory_vs.save_context({\"Human\": \"我不喜歡上班\"}, {\"AI\": \"瞭解\"})\n",
        "memory_vs.save_context({\"Human\": \"奇奇自助餐很貴\"}, {\"AI\": \"太糟糕了\"})\n",
        "\n",
        "# 使用 load_memory_varialbes 取得使用者問題相似度的歷史資料\n",
        "print(memory_vs.load_memory_variables({\"prompt\": \"我該看什麼運動節目？\"}))\n",
        "# print(memory_vs.load_memory_variables({\"prompt\": \"昂貴的店家\"}))"
      ]
    },
    {
      "cell_type": "markdown",
      "metadata": {
        "id": "61VfZwzvK92h"
      },
      "source": [
        "## 整合"
      ]
    },
    {
      "cell_type": "markdown",
      "source": [
        "[Chain類別](https://python.langchain.com/docs/modules/chains/)"
      ],
      "metadata": {
        "id": "eg7CuDXPKx9b"
      }
    },
    {
      "cell_type": "code",
      "source": [
        "from langchain_openai import OpenAIEmbeddings\n",
        "from langchain.vectorstores import Chroma\n",
        "from langchain.text_splitter import CharacterTextSplitter\n",
        "from langchain.document_loaders import DirectoryLoader\n",
        "from langchain.prompts import PromptTemplate\n",
        "from langchain.chains import ConversationChain\n",
        "from langchain.memory import VectorStoreRetrieverMemory\n",
        "\n",
        "# 載入資料夾中所有TXT檔案\n",
        "loader = DirectoryLoader('/content/', glob='**/*.txt')\n",
        "\n",
        "# 將資料轉成document物佚，每個檔案會為作為一個document\n",
        "documents = loader.load()\n",
        "\n",
        "# 初始化載入器\n",
        "text_splitter = CharacterTextSplitter(chunk_size=100, chunk_overlap=0)\n",
        "\n",
        "# 切割加载的 document\n",
        "split_docs = text_splitter.split_documents(documents)\n",
        "\n",
        "# 初始化 openai 的 embeddings 物件\n",
        "embeddings = OpenAIEmbeddings()\n",
        "\n",
        "# 將 document 透過 openai 的 embeddings 物件計算 embedding向量資料暫時存入 Chroma 向量資料庫用於後續的搜尋\n",
        "\n",
        "docsearch = Chroma.from_documents(split_docs, embeddings)\n",
        "\n",
        "# 建立檢索器\n",
        "retriever = docsearch.as_retriever()\n",
        "\n",
        "# 建立記憶體\n",
        "memory_vs = VectorStoreRetrieverMemory(retriever=retriever, return_messages=True)\n",
        "\n",
        "# 設置預設的prompt\n",
        "DEFAULT_TEMPLATE = \"\"\"\n",
        "你是一個友善的對話機器人，下面歷史記錄是我們曾經的對話。\n",
        "Human 是我，AI 是你。請根據歷史記錄中的資訊來回覆我的新問題。\n",
        "\n",
        "歷史記錄:\n",
        "{history}\n",
        "\n",
        "Human：{input}\n",
        "AI：\n",
        "\"\"\"\n",
        "PROMPT = PromptTemplate(\n",
        "    input_variables=[\"history\", \"input\"], template=DEFAULT_TEMPLATE\n",
        ")\n",
        "conversation_with_memory_vs = ConversationChain(\n",
        "    llm=llm,\n",
        "    prompt=PROMPT,\n",
        "    memory=memory_vs,\n",
        "    # verbose=True,\n",
        "    output_key='AI'\n",
        ")"
      ],
      "metadata": {
        "id": "e2I11VaMwyOq",
        "colab": {
          "base_uri": "https://localhost:8080/"
        },
        "outputId": "e1904d15-e6f4-4fa0-bc69-ab93bbb286c5"
      },
      "execution_count": null,
      "outputs": [
        {
          "output_type": "stream",
          "name": "stderr",
          "text": [
            "WARNING:unstructured:The MIME type of '/content/must.txt' is 'application/x-wine-extension-ini'. This file type is not currently supported in unstructured.\n",
            "WARNING:langchain_text_splitters.base:Created a chunk of size 153, which is longer than the specified 100\n",
            "WARNING:langchain_text_splitters.base:Created a chunk of size 109, which is longer than the specified 100\n",
            "WARNING:langchain_text_splitters.base:Created a chunk of size 126, which is longer than the specified 100\n",
            "WARNING:langchain_text_splitters.base:Created a chunk of size 124, which is longer than the specified 100\n",
            "WARNING:langchain_text_splitters.base:Created a chunk of size 167, which is longer than the specified 100\n",
            "WARNING:langchain_text_splitters.base:Created a chunk of size 135, which is longer than the specified 100\n",
            "WARNING:langchain_text_splitters.base:Created a chunk of size 118, which is longer than the specified 100\n",
            "WARNING:langchain_text_splitters.base:Created a chunk of size 110, which is longer than the specified 100\n",
            "WARNING:langchain_text_splitters.base:Created a chunk of size 104, which is longer than the specified 100\n",
            "WARNING:langchain_text_splitters.base:Created a chunk of size 149, which is longer than the specified 100\n",
            "WARNING:langchain_text_splitters.base:Created a chunk of size 297, which is longer than the specified 100\n",
            "WARNING:langchain_text_splitters.base:Created a chunk of size 289, which is longer than the specified 100\n",
            "WARNING:langchain_text_splitters.base:Created a chunk of size 188, which is longer than the specified 100\n",
            "WARNING:langchain_text_splitters.base:Created a chunk of size 143, which is longer than the specified 100\n",
            "WARNING:langchain_text_splitters.base:Created a chunk of size 315, which is longer than the specified 100\n",
            "WARNING:langchain_text_splitters.base:Created a chunk of size 175, which is longer than the specified 100\n"
          ]
        }
      ]
    },
    {
      "cell_type": "code",
      "source": [
        "conversation_with_memory_vs.predict(input=\"2028總統候選人有誰?\")"
      ],
      "metadata": {
        "id": "oIJ2m1mKy9yI",
        "colab": {
          "base_uri": "https://localhost:8080/",
          "height": 35
        },
        "outputId": "e23c97ae-bdc6-4d41-8b6a-97ca61c25b6b"
      },
      "execution_count": null,
      "outputs": [
        {
          "output_type": "execute_result",
          "data": {
            "text/plain": [
              "'2028年台灣總統候選人包括社恐黨的後藤一里、多利多滋的伊地知虹夏、吃草黨的山田涼和陽光黨的喜多郁代。'"
            ],
            "application/vnd.google.colaboratory.intrinsic+json": {
              "type": "string"
            }
          },
          "metadata": {},
          "execution_count": 19
        }
      ]
    },
    {
      "cell_type": "code",
      "source": [
        "conversation_with_memory_vs.predict(input=\"我的名字叫做Kevin，很高興認識你\")"
      ],
      "metadata": {
        "id": "pT3fpuNZ2KbK",
        "colab": {
          "base_uri": "https://localhost:8080/",
          "height": 35
        },
        "outputId": "524ee532-c3e3-4a52-a473-4d814e7224b8"
      },
      "execution_count": null,
      "outputs": [
        {
          "output_type": "execute_result",
          "data": {
            "text/plain": [
              "'很高興認識你，Kevin！有什麼可以幫助你的嗎？'"
            ],
            "application/vnd.google.colaboratory.intrinsic+json": {
              "type": "string"
            }
          },
          "metadata": {},
          "execution_count": 20
        }
      ]
    },
    {
      "cell_type": "code",
      "source": [
        "conversation_with_memory_vs.predict(input=\"你還記得我叫什麼名字嗎?\")"
      ],
      "metadata": {
        "id": "24NKeK6t2m4p",
        "colab": {
          "base_uri": "https://localhost:8080/",
          "height": 35
        },
        "outputId": "abda1f57-ca04-41ce-f8f5-f794c9318d04"
      },
      "execution_count": null,
      "outputs": [
        {
          "output_type": "execute_result",
          "data": {
            "text/plain": [
              "'是的，你的名字是Kevin。很高興再次和你交流！有什麼可以幫助你的嗎？'"
            ],
            "application/vnd.google.colaboratory.intrinsic+json": {
              "type": "string"
            }
          },
          "metadata": {},
          "execution_count": 21
        }
      ]
    },
    {
      "cell_type": "markdown",
      "metadata": {
        "id": "Wf5KrEb6vrkR"
      },
      "source": [
        "<div class=\"markdown-google-sans\">\n",
        "  <h1>歡迎使用 Colab！</h1>\n",
        "</div>\n",
        "\n",
        "<div class=\"markdown-google-sans\">\n",
        "  <h2>&#40;新功能&#41; 使用 Gemini API</h2>\n",
        "  <ul>\n",
        "  <li><a href=\"https://makersuite.google.com/app/apikey\">Generate a Gemini API key</a></li>\n",
        "  <li><a href=\"https://colab.research.google.com/github/googlecolab/colabtools/blob/main/notebooks/Talk_to_Gemini_with_Google%27s_Speech_to_Text_API.ipynb?utm_medium=link&utm_campaign=gemini\">Talk to Gemini with the Speech-to-Text API</a></li>\n",
        "  <li><a href=\"https://colab.research.google.com/github/google/generative-ai-docs/blob/main/site/en/tutorials/quickstart_colab.ipynb?utm_medium=link&utm_campaign=gemini\">Gemini API: Quickstart with Python</a></li>\n",
        "  <li><a href=\"https://colab.research.google.com/notebooks/snippets/gemini.ipynb?utm_medium=link&utm_campaign=gemini\">Gemini API code sample</a></li>\n",
        "  <li><a href=\"https://colab.research.google.com/github/googlecolab/colabtools/blob/main/notebooks/Learning_with_Gemini_and_ChatGPT.ipynb?utm_medium=link&utm_campaign=gemini\">Compare Gemini with ChatGPT</a></li>  \n",
        "  <li><a href=\"https://colab.google/notebooks/?utm_medium=link&utm_campaign=gemini\">More notebooks</a></li>\n",
        "  </ul>\n",
        "</div>\n"
      ]
    },
    {
      "cell_type": "markdown",
      "metadata": {
        "id": "Nma_JWh-W-IF"
      },
      "source": [
        "如果你已經熟悉 Colab，請觀看這部影片瞭解互動式表格、執行過的程式碼歷史記錄檢視畫面，以及指令區塊面板。\n",
        "\n",
        "<center>\n",
        "  <a href=\"https://www.youtube.com/watch?v=rNgswRZ2C1Y\" target=\"_blank\">\n",
        "  <img alt='顯示 3 項 Google Colab 酷炫功能的影片縮圖' src=\"data:image/png;base64,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\" height=\"188\" width=\"336\">\n",
        "  </a>\n",
        "</center>"
      ]
    },
    {
      "cell_type": "code",
      "execution_count": null,
      "metadata": {
        "id": "zwFnJsE6vjf8"
      },
      "outputs": [],
      "source": []
    },
    {
      "cell_type": "markdown",
      "metadata": {
        "id": "5fCEDCU_qrC0"
      },
      "source": [
        "<div class=\"markdown-google-sans\">\n",
        "  <h2>Colab 是什麼？</h2>\n",
        "</div>\n",
        "\n",
        "Colab &#40;全名為「Colaboratory」&#41; 可讓你在瀏覽器中編寫及執行 Python 程式碼，並具有以下優點：\n",
        "- 不必進行任何設定\n",
        "- 免付費使用 GPU\n",
        "- 輕鬆共用\n",
        "\n",
        "無論你是<strong>學生</strong>、<strong>數據資料學家</strong>或是 <strong>AI 研究人員</strong>，Colab 都能讓你的工作事半功倍。請觀看 <a href=\"https://www.youtube.com/watch?v=inN8seMm7UI\">Colab 的簡介影片</a>瞭解詳情，或是直接瀏覽以下的新手入門說明！"
      ]
    },
    {
      "cell_type": "markdown",
      "metadata": {
        "id": "GJBs_flRovLc"
      },
      "source": [
        "<div class=\"markdown-google-sans\">\n",
        "\n",
        "## <strong>開始使用</strong>\n",
        "</div>\n",
        "\n",
        "你正在閱讀的文件並非靜態網頁，而是名為 <strong>Colab 筆記本</strong>的互動式環境，可讓你撰寫和執行程式碼。\n",
        "\n",
        "舉例來說，以下是包含簡短 Python 指令碼的<strong>程式碼儲存格</strong>，可進行運算、將值儲存至變數中並列印運算結果："
      ]
    },
    {
      "cell_type": "code",
      "execution_count": null,
      "metadata": {
        "colab": {
          "base_uri": "https://localhost:8080/",
          "height": 34
        },
        "id": "gJr_9dXGpJ05",
        "outputId": "9f556d03-ec67-4950-a485-cfdba9ddd14d"
      },
      "outputs": [
        {
          "data": {
            "text/plain": [
              "86400"
            ]
          },
          "execution_count": 0,
          "metadata": {
            "tags": []
          },
          "output_type": "execute_result"
        }
      ],
      "source": [
        "seconds_in_a_day = 24 * 60 * 60\n",
        "seconds_in_a_day"
      ]
    },
    {
      "cell_type": "markdown",
      "metadata": {
        "id": "2fhs6GZ4qFMx"
      },
      "source": [
        "如要執行上方儲存格中的程式碼，請按一下進行選取，再按一下程式碼左側的播放鍵，或是使用鍵盤快速鍵「Command/Ctrl + Enter 鍵」。按一下儲存格即可開始編輯程式碼。\n",
        "\n",
        "在一個儲存格中定義的變數之後可用於其他儲存格："
      ]
    },
    {
      "cell_type": "code",
      "execution_count": null,
      "metadata": {
        "colab": {
          "base_uri": "https://localhost:8080/",
          "height": 34
        },
        "id": "-gE-Ez1qtyIA",
        "outputId": "94cb2224-0edf-457b-90b5-0ac3488d8a97"
      },
      "outputs": [
        {
          "data": {
            "text/plain": [
              "604800"
            ]
          },
          "execution_count": 0,
          "metadata": {
            "tags": []
          },
          "output_type": "execute_result"
        }
      ],
      "source": [
        "seconds_in_a_week = 7 * seconds_in_a_day\n",
        "seconds_in_a_week"
      ]
    },
    {
      "cell_type": "markdown",
      "metadata": {
        "id": "lSrWNr3MuFUS"
      },
      "source": [
        "Colab 筆記本可讓你在單一文件中結合<strong>可執行的程式碼</strong>和 <strong>RTF 格式</strong>，並附帶<strong>圖片</strong>、<strong>HTML</strong>、<strong>LaTeX</strong> 等其他格式的內容。你建立的 Colab 筆記本會儲存到你的 Google 雲端硬碟帳戶中。你可以輕鬆將 Colab 筆記本與同事或朋友共用，讓他們在筆記本上加上註解，或甚至進行編輯。詳情請參閱 <a href=\"/notebooks/basic_features_overview.ipynb\">Colab 總覽</a>。如要建立新的 Colab 筆記本，你可以使用上方的「檔案」選單或以下連結：<a href=\"http://colab.research.google.com#create=true\">建立新的 Colab 筆記本</a>。\n",
        "\n",
        "Colab 筆記本是由 Colab 代管的 Jupyter 筆記本。如要進一步瞭解 Jupyter 專案，請參閱 <a href=\"https://www.jupyter.org\">jupyter.org</a>。"
      ]
    },
    {
      "cell_type": "markdown",
      "metadata": {
        "id": "UdRyKR44dcNI"
      },
      "source": [
        "<div class=\"markdown-google-sans\">\n",
        "\n",
        "## 數據資料學\n",
        "</div>\n",
        "\n",
        "Colab 可讓你充分利用熱門 Python 程式庫的強大功能，對資料進行分析並以視覺化方式呈現。下方的程式碼儲存格使用 <strong>numpy</strong> 來產生一些隨機性資料，並透過 <strong>matplotlib</strong> 將這些資料視覺化。按一下儲存格即可開始編輯程式碼。"
      ]
    },
    {
      "cell_type": "code",
      "execution_count": null,
      "metadata": {
        "colab": {
          "base_uri": "https://localhost:8080/",
          "height": 333
        },
        "id": "C4HZx7Gndbrh",
        "outputId": "b113e0f6-8852-4d53-e054-84689232a454"
      },
      "outputs": [
        {
          "data": {
            "text/markdown": [
              "![Sample Visualization](data:image/png;base64,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)"
            ],
            "text/plain": [
              "<IPython.core.display.Markdown object>"
            ]
          },
          "metadata": {
            "tags": []
          },
          "output_type": "display_data"
        }
      ],
      "source": [
        "import numpy as np\n",
        "import IPython.display as display\n",
        "from matplotlib import pyplot as plt\n",
        "import io\n",
        "import base64\n",
        "\n",
        "ys = 200 + np.random.randn(100)\n",
        "x = [x for x in range(len(ys))]\n",
        "\n",
        "fig = plt.figure(figsize=(4, 3), facecolor='w')\n",
        "plt.plot(x, ys, '-')\n",
        "plt.fill_between(x, ys, 195, where=(ys > 195), facecolor='g', alpha=0.6)\n",
        "plt.title(\"Sample Visualization\", fontsize=10)\n",
        "\n",
        "data = io.BytesIO()\n",
        "plt.savefig(data)\n",
        "image = F\"data:image/png;base64,{base64.b64encode(data.getvalue()).decode()}\"\n",
        "alt = \"Sample Visualization\"\n",
        "display.display(display.Markdown(F\"\"\"![{alt}]({image})\"\"\"))\n",
        "plt.close(fig)"
      ]
    },
    {
      "cell_type": "markdown",
      "metadata": {
        "id": "4_kCnsPUqS6o"
      },
      "source": [
        "你可從自己的 Google 雲端硬碟帳戶 &#40;包括試算表&#41;、GitHub 和許多其他來源，將資料匯入 Colab 筆記本中。如要進一步瞭解如何匯入資料以及將 Colab 用於數據資料學，請參閱下方「<a href=\"#working-with-data\">處理資料</a>」底下的連結。"
      ]
    },
    {
      "cell_type": "markdown",
      "metadata": {
        "id": "OwuxHmxllTwN"
      },
      "source": [
        "<div class=\"markdown-google-sans\">\n",
        "\n",
        "## 機器學習\n",
        "</div>\n",
        "\n",
        "你只需要寫<a href=\"https://colab.research.google.com/github/tensorflow/docs/blob/master/site/en/tutorials/quickstart/beginner.ipynb\">幾行程式碼</a>，即可透過 Colab 匯入圖片資料集、根據圖片資料集訓練圖片分類工具並評估模型。Colab 筆記本可在 Google 的雲端伺服器上執行程式碼，也就是說，您可以充分運用 Google 硬體的強大效能 &#40;包括 <a href=\"#using-accelerated-hardware\">GPU 和 TPU</a>&#41;，而不必在意自己的電腦性能如何，因為你只要使用瀏覽器就可以了。"
      ]
    },
    {
      "cell_type": "markdown",
      "metadata": {
        "id": "ufxBm1yRnruN"
      },
      "source": [
        "Colab 廣泛運用於機器學習社群，相關應用包括：\n",
        "- 開始使用 TensorFlow\n",
        "- 開發及訓練類神經網路\n",
        "- 使用 TPU 進行實驗\n",
        "- 推廣 AI 研究\n",
        "- 建立教學課程\n",
        "\n",
        "如要查看示範機器學習應用程式的範例 Colab 筆記本，請參閱下方的<a href=\"#machine-learning-examples\">機器學習範例</a>。"
      ]
    },
    {
      "cell_type": "markdown",
      "metadata": {
        "id": "-Rh3-Vt9Nev9"
      },
      "source": [
        "<div class=\"markdown-google-sans\">\n",
        "\n",
        "## 其他資源\n",
        "\n",
        "### 在 Colab 中使用筆記本\n",
        "\n",
        "</div>\n",
        "\n",
        "- [Colaboratory 總覽](/notebooks/basic_features_overview.ipynb)\n",
        "- [Markdown 指南](/notebooks/markdown_guide.ipynb)\n",
        "- [匯入程式庫及安裝依附元件](/notebooks/snippets/importing_libraries.ipynb)\n",
        "- [儲存和載入 GitHub 中的筆記本](https://colab.research.google.com/github/googlecolab/colabtools/blob/main/notebooks/colab-github-demo.ipynb)\n",
        "- [互動式表單](/notebooks/forms.ipynb)\n",
        "- [互動式小工具](/notebooks/widgets.ipynb)\n",
        "\n",
        "<div class=\"markdown-google-sans\">\n",
        "\n",
        "<a name=\"working-with-data\"></a>\n",
        "### 處理資料\n",
        "</div>\n",
        "\n",
        "- [載入資料：雲端硬碟、試算表及 Google Cloud Storage](/notebooks/io.ipynb)\n",
        "- [圖表：將資料視覺化](/notebooks/charts.ipynb)\n",
        "- [開始使用 BigQuery](/notebooks/bigquery.ipynb)\n",
        "\n",
        "<div class=\"markdown-google-sans\">\n",
        "\n",
        "### 機器學習密集課程\n",
        "\n",
        "<div>\n",
        "\n",
        "以下是一些 Google 線上機器學習課程的筆記本。詳情請參閱<a href=\"https://developers.google.com/machine-learning/crash-course/\">完整的課程網站</a>。\n",
        "- [Pandas DataFrame 簡介](https://colab.research.google.com/github/google/eng-edu/blob/main/ml/cc/exercises/pandas_dataframe_ultraquick_tutorial.ipynb)\n",
        "- [以 tf.keras 使用合成資料進行線性迴歸](https://colab.research.google.com/github/google/eng-edu/blob/main/ml/cc/exercises/linear_regression_with_synthetic_data.ipynb)\n",
        "\n",
        "<div class=\"markdown-google-sans\">\n",
        "\n",
        "<a name=\"using-accelerated-hardware\"></a>\n",
        "### 使用加速硬體\n",
        "</div>\n",
        "\n",
        "- [搭配 GPU 使用 TensorFlow](/notebooks/gpu.ipynb)\n",
        "- [使用 TPU 的 TensorFlow](/notebooks/tpu.ipynb)"
      ]
    },
    {
      "cell_type": "markdown",
      "metadata": {
        "id": "P-H6Lw1vyNNd"
      },
      "source": [
        "<div class=\"markdown-google-sans\">\n",
        "\n",
        "<a name=\"machine-learning-examples\"></a>\n",
        "\n",
        "### 主要範例\n",
        "\n",
        "</div>\n",
        "\n",
        "- <a href=\"https://colab.research.google.com/github/NVIDIA/NeMo/blob/stable/tutorials/VoiceSwapSample.ipynb\">NeMo Voice Swap</a>：使用 Nvidia 的 NeMo 對話式 AI 工具組將音訊片段中的語音換成電腦產生的語音。\n",
        "\n",
        "- <a href=\"https://tensorflow.org/hub/tutorials/tf2_image_retraining\">重新訓練圖片分類工具</a>：以預先訓練的圖片分類工具為基礎，建立一個分辨花朵的 Keras 模型。\n",
        "- <a href=\"https://tensorflow.org/hub/tutorials/tf2_text_classification\">文字分類</a>：將 IMDB 電影評論分類為<em>正面</em>或<em>負面</em>。\n",
        "- <a href=\"https://tensorflow.org/hub/tutorials/tf2_arbitrary_image_stylization\">風格轉換</a>：運用深度學習轉換圖片的風格。\n",
        "- <a href=\"https://tensorflow.org/hub/tutorials/retrieval_with_tf_hub_universal_encoder_qa\">支援多種語言的 Universal Sentence Encoder 問與答</a>：使用機器學習模型來回答 SQuAD 資料集的問題。\n",
        "- <a href=\"https://tensorflow.org/hub/tutorials/tweening_conv3d\">影片畫面內插</a>：預測影片在第一個與最後一個畫面之間的內容。\n"
      ]
    }
  ],
  "metadata": {
    "colab": {
      "provenance": [],
      "include_colab_link": true
    },
    "kernelspec": {
      "display_name": "Python 3",
      "name": "python3"
    }
  },
  "nbformat": 4,
  "nbformat_minor": 0
}